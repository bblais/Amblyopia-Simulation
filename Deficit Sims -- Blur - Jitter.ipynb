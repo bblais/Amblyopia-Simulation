{
 "cells": [
  {
   "cell_type": "code",
   "execution_count": 1,
   "id": "ca9969d5-c2ab-4898-9bb7-f9eea35eaf96",
   "metadata": {},
   "outputs": [
    {
     "name": "stdout",
     "output_type": "stream",
     "text": [
      "%pylab is deprecated, use %matplotlib inline and import the required libraries.\n",
      "Populating the interactive namespace from numpy and matplotlib\n"
     ]
    }
   ],
   "source": [
    "%pylab inline"
   ]
  },
  {
   "cell_type": "code",
   "execution_count": 2,
   "id": "b0674a12-8b7a-478f-9778-c3c1b79a2a7a",
   "metadata": {},
   "outputs": [
    {
     "name": "stdout",
     "output_type": "stream",
     "text": [
      "Splikes version  0.1.2\n",
      "Plasticnet version  0.1.6\n",
      "macOS-10.16-x86_64-i386-64bit\n",
      "Base Image File: asdf/bbsk081604_all_log2dog.asdf\n"
     ]
    }
   ],
   "source": [
    "from deficit_defs import *"
   ]
  },
  {
   "cell_type": "code",
   "execution_count": 3,
   "id": "103a06c9-ffb3-42f4-beb6-3558e079da91",
   "metadata": {},
   "outputs": [],
   "source": [
    "_debug = False\n",
    "if _debug:\n",
    "    print(\"Debugging\")"
   ]
  },
  {
   "cell_type": "code",
   "execution_count": 4,
   "id": "7e26b3ec-3dd8-4d9b-83da-4b7e08e9a9d4",
   "metadata": {},
   "outputs": [],
   "source": [
    "base='sims/2022-11-03'\n",
    "if not os.path.exists(base):\n",
    "    print(f\"mkdir {base}\")\n",
    "    os.mkdir(base)"
   ]
  },
  {
   "cell_type": "code",
   "execution_count": 12,
   "id": "abf6c5e1-11fd-4efb-81db-0f29ccd65320",
   "metadata": {},
   "outputs": [
    {
     "name": "stdout",
     "output_type": "stream",
     "text": [
      "[0.  0.5 1.  1.5 2.  2.5 3.  3.5 4.  4.5 5.  5.5 6.  6.5 7.  7.5 8. ]\n",
      "[ 0.   2.5  5.   7.5 10.  12.5 15.  17.5 20. ]\n"
     ]
    }
   ],
   "source": [
    "rf_size=19\n",
    "#eta_mat=linspace(1e-7,5e-6,11)\n",
    "eta=2e-6\n",
    "blur_mat=linspace(0,8,17)\n",
    "mu_c_mat=linspace(0,20,9)\n",
    "sigma_c=1\n",
    "\n",
    "print(blur_mat)\n",
    "print(mu_c_mat)\n",
    "number_of_neurons=20\n",
    "number_of_processes=4"
   ]
  },
  {
   "cell_type": "markdown",
   "id": "c62a60ab-f7eb-4aaa-9fd3-79f9010dad3b",
   "metadata": {},
   "source": [
    "## Premake the image files"
   ]
  },
  {
   "cell_type": "code",
   "execution_count": 7,
   "id": "61f73de5-3631-4fd5-8248-7888b69ac0a5",
   "metadata": {},
   "outputs": [],
   "source": [
    "blur_mat=linspace(0,8,17)"
   ]
  },
  {
   "cell_type": "code",
   "execution_count": 8,
   "id": "2e6d570a-cbd5-43ce-afb7-33bba2f5ef49",
   "metadata": {},
   "outputs": [
    {
     "name": "stdout",
     "output_type": "stream",
     "text": [
      "Base Image File: asdf/bbsk081604_all.asdf\n",
      "Using cache_images/cache_images_26c21bb98ee35e2306d1fd04c30276c2.asdf from cache.Using cache_images/cache_images_fcf524b121311f6c8d3021738d0d9176.asdf from cache.Using cache_images/cache_images_84de1df7ec28e9fff71aa008fabc28ab.asdf from cache.Using cache_images/cache_images_9a3a8257f75df7fd8fd5b6731003da35.asdf from cache.Using cache_images/cache_images_dc449597e25b03aa549e59deb9230231.asdf from cache.Using cache_images/cache_images_a5a33890731b1a868baaebecee76c71d.asdf from cache.Using cache_images/cache_images_bfccd490ea9947384e0a7d994f955e3c.asdf from cache.Using cache_images/cache_images_6aedbf5e39e78c1beb4a47361965a2da.asdf from cache.Using cache_images/cache_images_9cead8acc8be7d3720d5d49758a4beba.asdf from cache.Using cache_images/cache_images_61ad4395acceb1fc40934928f3dcc141.asdf from cache.Using cache_images/cache_images_f1b88d5f120a7046b8e62e430edf90ad.asdf from cache.Using cache_images/cache_images_43c7077591f67b05006774599a6b41da.asdf from cache.Using cache_images/cache_images_9966e8eebc524349dd532631b58395b5.asdf from cache.Using cache_images/cache_images_13a990101c3b4398d24c0b3a32857f23.asdf from cache.Using cache_images/cache_images_198d7472cde83309d9148720fbcbf63c.asdf from cache.Using cache_images/cache_images_e580b6b2e63295e3af513c35bd958b11.asdf from cache.Using cache_images/cache_images_2093f6f2dcf07a3e9d1c7b696737414d.asdf from cache.Using cache_images/cache_images_e7f1eeca0873fb374e9a6665d792d08f.asdf from cache."
     ]
    }
   ],
   "source": [
    "base_image_file='asdf/bbsk081604_all.asdf'\n",
    "print(\"Base Image File:\",base_image_file)\n",
    "\n",
    "normal_image=pi5.filtered_images(\n",
    "                                base_image_file,\n",
    "                                {'type':'log2dog','sd1':1,'sd2':3},\n",
    "                                )\n",
    "\n",
    "for blur in blur_mat:\n",
    "\n",
    "    Lfname=pi5.filtered_images(\n",
    "                                base_image_file,\n",
    "                                {'type':'blur','size':blur},\n",
    "                                {'type':'log2dog','sd1':1,'sd2':3},\n",
    "                                )\n",
    "\n",
    "\n"
   ]
  },
  {
   "cell_type": "code",
   "execution_count": 19,
   "id": "83ad531a-f2de-4ac7-9e9c-0ca5a3243ede",
   "metadata": {},
   "outputs": [],
   "source": [
    "def blur_jitter_deficit(blur=[2.5,-1],\n",
    "                        noise=[0.1,.1],\n",
    "                        rf_size=19,eta=2e-6,\n",
    "                        mu_c=0,sigma_c=0,    \n",
    "                        mu_r=0,sigma_r=0,\n",
    "                        number_of_neurons=10,\n",
    "                        total_time=8*day,\n",
    "                        save_interval=1*hour):\n",
    "\n",
    "    \n",
    "    if _debug:\n",
    "        total_time=1*minute\n",
    "        save_interval=1*second\n",
    "        \n",
    "    images=[]\n",
    "    dt=200*ms\n",
    "    \n",
    "    for bv in blur:\n",
    "        if bv<0:\n",
    "            im=pi5.filtered_images(\n",
    "                                base_image_file,\n",
    "                                {'type':'log2dog','sd1':1,'sd2':3},\n",
    "                                )\n",
    "        else:\n",
    "            im=pi5.filtered_images(\n",
    "                                    base_image_file,\n",
    "                                    {'type':'blur','size':bv},\n",
    "                                    {'type':'log2dog','sd1':1,'sd2':3},\n",
    "                                    )\n",
    "        images.append(im)\n",
    "        \n",
    "        \n",
    "    dt=200*ms        \n",
    "    pre1=pn.neurons.natural_images_with_jitter(images[0],\n",
    "                                                rf_size=rf_size,\n",
    "                                                time_between_patterns=dt,\n",
    "                                                sigma_r=0,\n",
    "                                                sigma_c=0,\n",
    "                                                buffer_c=mu_c+2*sigma_c,\n",
    "                                                buffer_r=mu_r+2*sigma_r,\n",
    "                                                verbose=False)\n",
    "\n",
    "    pre2=pn.neurons.natural_images_with_jitter(images[1],\n",
    "                                                rf_size=rf_size,\n",
    "                                                other_channel=pre1,\n",
    "                                                time_between_patterns=dt,\n",
    "                                                mu_r=mu_r,mu_c=mu_c,\n",
    "                                                sigma_r=sigma_r,sigma_c=sigma_c,\n",
    "                                                verbose=False)\n",
    "\n",
    "\n",
    "\n",
    "    sigma=noise\n",
    "    pre1+=pn.neurons.process.add_noise_normal(0,sigma)\n",
    "\n",
    "    sigma=noise\n",
    "    pre2+=pn.neurons.process.add_noise_normal(0,sigma)\n",
    "\n",
    "    pre=pre1+pre2\n",
    "\n",
    "    post=default_post(number_of_neurons)\n",
    "    c=default_bcm(pre,post)\n",
    "    c.eta=eta\n",
    "\n",
    "    sim=pn.simulation(total_time)\n",
    "    sim.dt=dt\n",
    "\n",
    "    sim.monitor(post,['output'],save_interval)\n",
    "    sim.monitor(c,['weights','theta'],save_interval)\n",
    "\n",
    "    sim+=pn.grating_response(print_time=False)\n",
    "\n",
    "    return sim,[pre,post],[c]"
   ]
  },
  {
   "cell_type": "code",
   "execution_count": 20,
   "id": "3ba8ca1d-7f4c-436d-9c2d-8d31629b9046",
   "metadata": {},
   "outputs": [],
   "source": [
    "def run_one(params,overwrite=False):\n",
    "    import plasticnet as pn\n",
    "    count,eta,noise,blur,number_of_neurons,sfname,mu_c,sigma_c=(params.count,params.eta,params.noise,params.blur,\n",
    "                                        params.number_of_neurons,params.sfname,params.mu_c,params.sigma_c)\n",
    "    \n",
    "    if not overwrite and os.path.exists(sfname):\n",
    "        return sfname\n",
    "    \n",
    "    seq=pn.Sequence()\n",
    "\n",
    "    t=16*day\n",
    "    ts=1*hour\n",
    "\n",
    "    # DEBUG\n",
    "    if _debug:\n",
    "        t=1*minute\n",
    "        ts=1*second\n",
    "    \n",
    "    seq+=blur_jitter_deficit(blur=[blur,-1],\n",
    "                                total_time=t,\n",
    "                                noise=noise,eta=eta,number_of_neurons=number_of_neurons,\n",
    "                                mu_c=mu_c,sigma_c=sigma_c,\n",
    "                                save_interval=ts)\n",
    "\n",
    "    \n",
    "    seq.run(display_hash=False)\n",
    "    pn.save(sfname,seq) \n",
    "    \n",
    "    return sfname\n",
    "    \n"
   ]
  },
  {
   "cell_type": "code",
   "execution_count": 21,
   "id": "3e0f6dbc-35da-4238-9d72-2c7976a01978",
   "metadata": {},
   "outputs": [],
   "source": [
    "total_time=8*day\n",
    "real_time=5*60+ 55"
   ]
  },
  {
   "cell_type": "code",
   "execution_count": 26,
   "id": "9d1f3122-be17-49b9-b96e-6b2d0be5a038",
   "metadata": {},
   "outputs": [
    {
     "name": "stdout",
     "output_type": "stream",
     "text": [
      "params(count=0, eta=2e-06, noise=0.0, blur=0.0, number_of_neurons=20, sfname='sims/2022-11-03/deficit 20 neurons logdog 0 eta 0 noise 0 blur 0 mu_c 1 sigma_c.asdf', mu_c=0.0, sigma_c=1)\n",
      "params(count=1, eta=2e-06, noise=0.0, blur=0.5, number_of_neurons=20, sfname='sims/2022-11-03/deficit 20 neurons logdog 0 eta 0 noise 1 blur 0 mu_c 1 sigma_c.asdf', mu_c=0.0, sigma_c=1)\n",
      "params(count=2, eta=2e-06, noise=0.0, blur=1.0, number_of_neurons=20, sfname='sims/2022-11-03/deficit 20 neurons logdog 0 eta 0 noise 2 blur 0 mu_c 1 sigma_c.asdf', mu_c=0.0, sigma_c=1)\n",
      "params(count=3, eta=2e-06, noise=0.0, blur=1.5, number_of_neurons=20, sfname='sims/2022-11-03/deficit 20 neurons logdog 0 eta 0 noise 3 blur 0 mu_c 1 sigma_c.asdf', mu_c=0.0, sigma_c=1)\n",
      "params(count=4, eta=2e-06, noise=0.0, blur=2.0, number_of_neurons=20, sfname='sims/2022-11-03/deficit 20 neurons logdog 0 eta 0 noise 4 blur 0 mu_c 1 sigma_c.asdf', mu_c=0.0, sigma_c=1)\n",
      "[....]\n",
      "params(count=148, eta=2e-06, noise=0.0, blur=6.0, number_of_neurons=20, sfname='sims/2022-11-03/deficit 20 neurons logdog 0 eta 0 noise 12 blur 20 mu_c 1 sigma_c.asdf', mu_c=20.0, sigma_c=1)\n",
      "params(count=149, eta=2e-06, noise=0.0, blur=6.5, number_of_neurons=20, sfname='sims/2022-11-03/deficit 20 neurons logdog 0 eta 0 noise 13 blur 20 mu_c 1 sigma_c.asdf', mu_c=20.0, sigma_c=1)\n",
      "params(count=150, eta=2e-06, noise=0.0, blur=7.0, number_of_neurons=20, sfname='sims/2022-11-03/deficit 20 neurons logdog 0 eta 0 noise 14 blur 20 mu_c 1 sigma_c.asdf', mu_c=20.0, sigma_c=1)\n",
      "params(count=151, eta=2e-06, noise=0.0, blur=7.5, number_of_neurons=20, sfname='sims/2022-11-03/deficit 20 neurons logdog 0 eta 0 noise 15 blur 20 mu_c 1 sigma_c.asdf', mu_c=20.0, sigma_c=1)\n",
      "params(count=152, eta=2e-06, noise=0.0, blur=8.0, number_of_neurons=20, sfname='sims/2022-11-03/deficit 20 neurons logdog 0 eta 0 noise 16 blur 20 mu_c 1 sigma_c.asdf', mu_c=20.0, sigma_c=1)\n",
      "153\n",
      "3 h, 46 m, 18.75 s\n"
     ]
    }
   ],
   "source": [
    "from collections import namedtuple\n",
    "params = namedtuple('params', ['count', 'eta','noise','blur','number_of_neurons','sfname','mu_c','sigma_c'])\n",
    "all_params=[]\n",
    "count=0\n",
    "eta_count=0\n",
    "noise_count=0\n",
    "open_eye_noise=0.0\n",
    "\n",
    "for mu_count,mu_c in enumerate(mu_c_mat):\n",
    "    for blur_count,blur in enumerate(blur_mat):\n",
    "        all_params.append(params(count=count,\n",
    "                         eta=eta,\n",
    "                             blur=blur,\n",
    "                         noise=open_eye_noise,\n",
    "                         number_of_neurons=number_of_neurons,\n",
    "                        sfname=f'{base}/deficit %d neurons logdog %d eta %d noise %d blur %d mu_c %d sigma_c.asdf' % \n",
    "                                 (number_of_neurons,eta_count,noise_count,blur_count,mu_c,sigma_c),\n",
    "                        mu_c=mu_c,\n",
    "                            sigma_c=sigma_c,\n",
    "                                ))\n",
    "        count+=1\n",
    "        \n",
    "for a in all_params[:5]:\n",
    "    print(a)\n",
    "print(\"[....]\")\n",
    "for a in all_params[-5:]:\n",
    "    print(a)\n",
    "\n",
    "print(len(all_params))\n",
    "\n",
    "print(time2str(real_time*len(all_params)/number_of_processes))\n"
   ]
  },
  {
   "cell_type": "code",
   "execution_count": 27,
   "id": "a91842b9-0973-43e8-936b-7175a5e67eab",
   "metadata": {},
   "outputs": [
    {
     "name": "stdout",
     "output_type": "stream",
     "text": [
      "Using cache_images/cache_images_fcf524b121311f6c8d3021738d0d9176.asdf from cache.Using cache_images/cache_images_26c21bb98ee35e2306d1fd04c30276c2.asdf from cache.[.] Sequence Time Elapsed...5 m, 44.02 s\n",
      "CPU times: user 5min 45s, sys: 1.14 s, total: 5min 46s\n",
      "Wall time: 5min 47s\n"
     ]
    },
    {
     "data": {
      "text/plain": [
       "'sims/2022-11-03/deficit 20 neurons logdog 0 eta 0 noise 0 blur 0 mu_c 1 sigma_c.asdf'"
      ]
     },
     "execution_count": 27,
     "metadata": {},
     "output_type": "execute_result"
    }
   ],
   "source": [
    "%%time\n",
    "run_one(all_params[0],overwrite=True)"
   ]
  },
  {
   "cell_type": "code",
   "execution_count": 28,
   "id": "8f8a094e-aed7-45bd-b69d-c10c692f6f59",
   "metadata": {},
   "outputs": [
    {
     "name": "stdout",
     "output_type": "stream",
     "text": [
      "Using cache_images/cache_images_84de1df7ec28e9fff71aa008fabc28ab.asdf from cache.Using cache_images/cache_images_dc449597e25b03aa549e59deb9230231.asdf from cache.Using cache_images/cache_images_43c7077591f67b05006774599a6b41da.asdf from cache.Using cache_images/cache_images_198d7472cde83309d9148720fbcbf63c.asdf from cache.Using cache_images/cache_images_26c21bb98ee35e2306d1fd04c30276c2.asdf from cache.Using cache_images/cache_images_26c21bb98ee35e2306d1fd04c30276c2.asdf from cache.Using cache_images/cache_images_26c21bb98ee35e2306d1fd04c30276c2.asdf from cache.[[[[.] Sequence Time Elapsed...5 m, 47.37 s\n",
      ".] Sequence Time Elapsed...5 m, 47.41 s\n",
      ".] Sequence Time Elapsed...5 m, 47.56 s\n",
      "Using cache_images/cache_images_e580b6b2e63295e3af513c35bd958b11.asdf from cache.Using cache_images/cache_images_26c21bb98ee35e2306d1fd04c30276c2.asdf from cache.[Using cache_images/cache_images_9966e8eebc524349dd532631b58395b5.asdf from cache.Using cache_images/cache_images_26c21bb98ee35e2306d1fd04c30276c2.asdf from cache.[Using cache_images/cache_images_9a3a8257f75df7fd8fd5b6731003da35.asdf from cache.Using cache_images/cache_images_26c21bb98ee35e2306d1fd04c30276c2.asdf from cache.[.] Sequence Time Elapsed...5 m, 51.50 s\n",
      "Using cache_images/cache_images_a5a33890731b1a868baaebecee76c71d.asdf from cache.Using cache_images/cache_images_26c21bb98ee35e2306d1fd04c30276c2.asdf from cache.[.] Sequence Time Elapsed...5 m, 45.56 s\n",
      ".] Sequence Time Elapsed...5 m, 46.91 s\n",
      ".] Sequence Time Elapsed...5 m, 46.93 s\n",
      "Using cache_images/cache_images_dc449597e25b03aa549e59deb9230231.asdf from cache.Using cache_images/cache_images_26c21bb98ee35e2306d1fd04c30276c2.asdf from cache.[Using cache_images/cache_images_2093f6f2dcf07a3e9d1c7b696737414d.asdf from cache.Using cache_images/cache_images_26c21bb98ee35e2306d1fd04c30276c2.asdf from cache.[Using cache_images/cache_images_13a990101c3b4398d24c0b3a32857f23.asdf from cache.Using cache_images/cache_images_26c21bb98ee35e2306d1fd04c30276c2.asdf from cache.[.] Sequence Time Elapsed...5 m, 47.11 s\n",
      "Using cache_images/cache_images_bfccd490ea9947384e0a7d994f955e3c.asdf from cache.Using cache_images/cache_images_26c21bb98ee35e2306d1fd04c30276c2.asdf from cache.[.] Sequence Time Elapsed...5 m, 46.37 s\n",
      ".] Sequence Time Elapsed...5 m, 45.18 s\n",
      ".] Sequence Time Elapsed...5 m, 47.09 s\n",
      "Using cache_images/cache_images_a5a33890731b1a868baaebecee76c71d.asdf from cache.Using cache_images/cache_images_26c21bb98ee35e2306d1fd04c30276c2.asdf from cache.[Using cache_images/cache_images_198d7472cde83309d9148720fbcbf63c.asdf from cache.Using cache_images/cache_images_26c21bb98ee35e2306d1fd04c30276c2.asdf from cache.[.] Sequence Time Elapsed...5 m, 44.74 s\n",
      "Using cache_images/cache_images_e7f1eeca0873fb374e9a6665d792d08f.asdf from cache.Using cache_images/cache_images_26c21bb98ee35e2306d1fd04c30276c2.asdf from cache.[Using cache_images/cache_images_6aedbf5e39e78c1beb4a47361965a2da.asdf from cache.Using cache_images/cache_images_26c21bb98ee35e2306d1fd04c30276c2.asdf from cache.[.] Sequence Time Elapsed...5 m, 45.63 s\n",
      ".] Sequence Time Elapsed...5 m, 46.57 s\n",
      ".] Sequence Time Elapsed...5 m, 47.09 s\n",
      "Using cache_images/cache_images_bfccd490ea9947384e0a7d994f955e3c.asdf from cache.Using cache_images/cache_images_26c21bb98ee35e2306d1fd04c30276c2.asdf from cache.[.] Sequence Time Elapsed...5 m, 45.38 s\n",
      "Using cache_images/cache_images_e580b6b2e63295e3af513c35bd958b11.asdf from cache.Using cache_images/cache_images_26c21bb98ee35e2306d1fd04c30276c2.asdf from cache.[Using cache_images/cache_images_fcf524b121311f6c8d3021738d0d9176.asdf from cache.Using cache_images/cache_images_26c21bb98ee35e2306d1fd04c30276c2.asdf from cache.[Using cache_images/cache_images_9cead8acc8be7d3720d5d49758a4beba.asdf from cache.Using cache_images/cache_images_26c21bb98ee35e2306d1fd04c30276c2.asdf from cache.[.] Sequence Time Elapsed...5 m, 44.65 s\n",
      ".] Sequence Time Elapsed...5 m, 46.44 s\n",
      "Using cache_images/cache_images_6aedbf5e39e78c1beb4a47361965a2da.asdf from cache.Using cache_images/cache_images_26c21bb98ee35e2306d1fd04c30276c2.asdf from cache.[.] Sequence Time Elapsed...5 m, 45.79 s\n",
      ".] Sequence Time Elapsed...5 m, 46.05 s\n",
      "Using cache_images/cache_images_2093f6f2dcf07a3e9d1c7b696737414d.asdf from cache.Using cache_images/cache_images_26c21bb98ee35e2306d1fd04c30276c2.asdf from cache.[Using cache_images/cache_images_84de1df7ec28e9fff71aa008fabc28ab.asdf from cache.Using cache_images/cache_images_26c21bb98ee35e2306d1fd04c30276c2.asdf from cache.[Using cache_images/cache_images_61ad4395acceb1fc40934928f3dcc141.asdf from cache.Using cache_images/cache_images_26c21bb98ee35e2306d1fd04c30276c2.asdf from cache.[.] Sequence Time Elapsed...5 m, 48.45 s\n",
      ".] Sequence Time Elapsed...5 m, 46.39 s\n",
      ".] Sequence Time Elapsed...5 m, 45.73 s\n",
      "Using cache_images/cache_images_9cead8acc8be7d3720d5d49758a4beba.asdf from cache.Using cache_images/cache_images_26c21bb98ee35e2306d1fd04c30276c2.asdf from cache.[Using cache_images/cache_images_e7f1eeca0873fb374e9a6665d792d08f.asdf from cache.Using cache_images/cache_images_26c21bb98ee35e2306d1fd04c30276c2.asdf from cache.[.] Sequence Time Elapsed...5 m, 48.70 s\n",
      "Using cache_images/cache_images_f1b88d5f120a7046b8e62e430edf90ad.asdf from cache.Using cache_images/cache_images_26c21bb98ee35e2306d1fd04c30276c2.asdf from cache.[Using cache_images/cache_images_9a3a8257f75df7fd8fd5b6731003da35.asdf from cache.Using cache_images/cache_images_26c21bb98ee35e2306d1fd04c30276c2.asdf from cache.[.] Sequence Time Elapsed...5 m, 46.30 s\n",
      ".] Sequence Time Elapsed...5 m, 46.64 s\n",
      "Using cache_images/cache_images_fcf524b121311f6c8d3021738d0d9176.asdf from cache.Using cache_images/cache_images_26c21bb98ee35e2306d1fd04c30276c2.asdf from cache.[.] Sequence Time Elapsed...5 m, 50.87 s\n",
      "Using cache_images/cache_images_43c7077591f67b05006774599a6b41da.asdf from cache.Using cache_images/cache_images_26c21bb98ee35e2306d1fd04c30276c2.asdf from cache.[.] Sequence Time Elapsed...5 m, 49.23 s\n",
      "Using cache_images/cache_images_61ad4395acceb1fc40934928f3dcc141.asdf from cache.Using cache_images/cache_images_26c21bb98ee35e2306d1fd04c30276c2.asdf from cache.[Using cache_images/cache_images_dc449597e25b03aa549e59deb9230231.asdf from cache.Using cache_images/cache_images_26c21bb98ee35e2306d1fd04c30276c2.asdf from cache.[.] Sequence Time Elapsed...5 m, 44.93 s\n",
      ".] Sequence Time Elapsed...5 m, 48.56 s\n",
      "Using cache_images/cache_images_9966e8eebc524349dd532631b58395b5.asdf from cache.Using cache_images/cache_images_26c21bb98ee35e2306d1fd04c30276c2.asdf from cache.[.] Sequence Time Elapsed...5 m, 47.57 s\n",
      "Using cache_images/cache_images_84de1df7ec28e9fff71aa008fabc28ab.asdf from cache.Using cache_images/cache_images_26c21bb98ee35e2306d1fd04c30276c2.asdf from cache.[.] Sequence Time Elapsed...5 m, 47.47 s\n",
      "Using cache_images/cache_images_f1b88d5f120a7046b8e62e430edf90ad.asdf from cache.Using cache_images/cache_images_26c21bb98ee35e2306d1fd04c30276c2.asdf from cache.[Using cache_images/cache_images_a5a33890731b1a868baaebecee76c71d.asdf from cache.Using cache_images/cache_images_26c21bb98ee35e2306d1fd04c30276c2.asdf from cache.[.] Sequence Time Elapsed...5 m, 47.26 s\n",
      ".] Sequence Time Elapsed...5 m, 46.06 s\n",
      "Using cache_images/cache_images_13a990101c3b4398d24c0b3a32857f23.asdf from cache.Using cache_images/cache_images_26c21bb98ee35e2306d1fd04c30276c2.asdf from cache.Using cache_images/cache_images_9a3a8257f75df7fd8fd5b6731003da35.asdf from cache.Using cache_images/cache_images_26c21bb98ee35e2306d1fd04c30276c2.asdf from cache.[[.] Sequence Time Elapsed...5 m, 47.19 s\n",
      ".] Sequence Time Elapsed...5 m, 46.95 s\n",
      "Using cache_images/cache_images_6aedbf5e39e78c1beb4a47361965a2da.asdf from cache.Using cache_images/cache_images_26c21bb98ee35e2306d1fd04c30276c2.asdf from cache.[Using cache_images/cache_images_bfccd490ea9947384e0a7d994f955e3c.asdf from cache.Using cache_images/cache_images_26c21bb98ee35e2306d1fd04c30276c2.asdf from cache.[.] Sequence Time Elapsed...5 m, 47.75 s\n",
      ".] Sequence Time Elapsed...5 m, 48.41 s\n",
      "Using cache_images/cache_images_e7f1eeca0873fb374e9a6665d792d08f.asdf from cache.Using cache_images/cache_images_26c21bb98ee35e2306d1fd04c30276c2.asdf from cache.[.] Sequence Time Elapsed...5 m, 47.72 s\n",
      "Using cache_images/cache_images_f1b88d5f120a7046b8e62e430edf90ad.asdf from cache.Using cache_images/cache_images_26c21bb98ee35e2306d1fd04c30276c2.asdf from cache.[.] Sequence Time Elapsed...5 m, 47.64 s\n",
      "Using cache_images/cache_images_9cead8acc8be7d3720d5d49758a4beba.asdf from cache.Using cache_images/cache_images_26c21bb98ee35e2306d1fd04c30276c2.asdf from cache.[Using cache_images/cache_images_9a3a8257f75df7fd8fd5b6731003da35.asdf from cache.Using cache_images/cache_images_26c21bb98ee35e2306d1fd04c30276c2.asdf from cache.[.] Sequence Time Elapsed...5 m, 46.17 s\n",
      ".] Sequence Time Elapsed...5 m, 46.31 s\n",
      ".] Sequence Time Elapsed...5 m, 45.42 s\n",
      "Using cache_images/cache_images_fcf524b121311f6c8d3021738d0d9176.asdf from cache.Using cache_images/cache_images_26c21bb98ee35e2306d1fd04c30276c2.asdf from cache.[Using cache_images/cache_images_43c7077591f67b05006774599a6b41da.asdf from cache.Using cache_images/cache_images_26c21bb98ee35e2306d1fd04c30276c2.asdf from cache.[Using cache_images/cache_images_61ad4395acceb1fc40934928f3dcc141.asdf from cache.Using cache_images/cache_images_26c21bb98ee35e2306d1fd04c30276c2.asdf from cache.[.] Sequence Time Elapsed...5 m, 47.40 s\n",
      "Using cache_images/cache_images_dc449597e25b03aa549e59deb9230231.asdf from cache.Using cache_images/cache_images_26c21bb98ee35e2306d1fd04c30276c2.asdf from cache.[.] Sequence Time Elapsed...5 m, 46.42 s\n",
      ".] Sequence Time Elapsed...5 m, 47.61 s\n",
      "Using cache_images/cache_images_84de1df7ec28e9fff71aa008fabc28ab.asdf from cache.Using cache_images/cache_images_26c21bb98ee35e2306d1fd04c30276c2.asdf from cache.[.] Sequence Time Elapsed...5 m, 46.61 s\n",
      "Using cache_images/cache_images_9966e8eebc524349dd532631b58395b5.asdf from cache.Using cache_images/cache_images_26c21bb98ee35e2306d1fd04c30276c2.asdf from cache.[Using cache_images/cache_images_f1b88d5f120a7046b8e62e430edf90ad.asdf from cache.Using cache_images/cache_images_26c21bb98ee35e2306d1fd04c30276c2.asdf from cache.[.] Sequence Time Elapsed...5 m, 46.09 s\n",
      "Using cache_images/cache_images_a5a33890731b1a868baaebecee76c71d.asdf from cache.Using cache_images/cache_images_26c21bb98ee35e2306d1fd04c30276c2.asdf from cache.[.] Sequence Time Elapsed...5 m, 48.89 s\n",
      ".] Sequence Time Elapsed...5 m, 48.16 s\n",
      ".] Sequence Time Elapsed...5 m, 48.13 s\n",
      "Using cache_images/cache_images_9a3a8257f75df7fd8fd5b6731003da35.asdf from cache.Using cache_images/cache_images_26c21bb98ee35e2306d1fd04c30276c2.asdf from cache.[Using cache_images/cache_images_13a990101c3b4398d24c0b3a32857f23.asdf from cache.Using cache_images/cache_images_26c21bb98ee35e2306d1fd04c30276c2.asdf from cache.[.] Sequence Time Elapsed...5 m, 46.97 s\n",
      "Using cache_images/cache_images_43c7077591f67b05006774599a6b41da.asdf from cache.Using cache_images/cache_images_26c21bb98ee35e2306d1fd04c30276c2.asdf from cache.[Using cache_images/cache_images_bfccd490ea9947384e0a7d994f955e3c.asdf from cache.Using cache_images/cache_images_26c21bb98ee35e2306d1fd04c30276c2.asdf from cache.[.] Sequence Time Elapsed...5 m, 47.58 s\n",
      ".] Sequence Time Elapsed...5 m, 47.04 s\n",
      "Using cache_images/cache_images_dc449597e25b03aa549e59deb9230231.asdf from cache.Using cache_images/cache_images_26c21bb98ee35e2306d1fd04c30276c2.asdf from cache.[.] Sequence Time Elapsed...5 m, 48.33 s\n",
      ".] Sequence Time Elapsed...5 m, 45.73 s\n",
      "Using cache_images/cache_images_198d7472cde83309d9148720fbcbf63c.asdf from cache.Using cache_images/cache_images_26c21bb98ee35e2306d1fd04c30276c2.asdf from cache.[Using cache_images/cache_images_9966e8eebc524349dd532631b58395b5.asdf from cache.Using cache_images/cache_images_26c21bb98ee35e2306d1fd04c30276c2.asdf from cache.[Using cache_images/cache_images_6aedbf5e39e78c1beb4a47361965a2da.asdf from cache.Using cache_images/cache_images_26c21bb98ee35e2306d1fd04c30276c2.asdf from cache.[.] Sequence Time Elapsed...5 m, 46.10 s\n",
      ".] Sequence Time Elapsed...5 m, 48.08 s\n",
      "Using cache_images/cache_images_e580b6b2e63295e3af513c35bd958b11.asdf from cache.Using cache_images/cache_images_26c21bb98ee35e2306d1fd04c30276c2.asdf from cache.[Using cache_images/cache_images_a5a33890731b1a868baaebecee76c71d.asdf from cache.Using cache_images/cache_images_26c21bb98ee35e2306d1fd04c30276c2.asdf from cache.[.] Sequence Time Elapsed...5 m, 48.43 s\n",
      ".] Sequence Time Elapsed...5 m, 48.22 s\n",
      "Using cache_images/cache_images_13a990101c3b4398d24c0b3a32857f23.asdf from cache.Using cache_images/cache_images_26c21bb98ee35e2306d1fd04c30276c2.asdf from cache.[Using cache_images/cache_images_9cead8acc8be7d3720d5d49758a4beba.asdf from cache.Using cache_images/cache_images_26c21bb98ee35e2306d1fd04c30276c2.asdf from cache.[.] Sequence Time Elapsed...5 m, 46.64 s\n",
      ".] Sequence Time Elapsed...5 m, 48.86 s\n",
      "Using cache_images/cache_images_bfccd490ea9947384e0a7d994f955e3c.asdf from cache.Using cache_images/cache_images_26c21bb98ee35e2306d1fd04c30276c2.asdf from cache.[Using cache_images/cache_images_2093f6f2dcf07a3e9d1c7b696737414d.asdf from cache.Using cache_images/cache_images_26c21bb98ee35e2306d1fd04c30276c2.asdf from cache.[.] Sequence Time Elapsed...5 m, 47.53 s\n",
      ".] Sequence Time Elapsed...5 m, 49.97 s\n",
      "Using cache_images/cache_images_198d7472cde83309d9148720fbcbf63c.asdf from cache.Using cache_images/cache_images_26c21bb98ee35e2306d1fd04c30276c2.asdf from cache.[Using cache_images/cache_images_61ad4395acceb1fc40934928f3dcc141.asdf from cache.Using cache_images/cache_images_26c21bb98ee35e2306d1fd04c30276c2.asdf from cache.[.] Sequence Time Elapsed...5 m, 45.96 s\n",
      ".] Sequence Time Elapsed...5 m, 46.05 s\n",
      "Using cache_images/cache_images_6aedbf5e39e78c1beb4a47361965a2da.asdf from cache.Using cache_images/cache_images_26c21bb98ee35e2306d1fd04c30276c2.asdf from cache.[Using cache_images/cache_images_e7f1eeca0873fb374e9a6665d792d08f.asdf from cache.Using cache_images/cache_images_26c21bb98ee35e2306d1fd04c30276c2.asdf from cache.[.] Sequence Time Elapsed...5 m, 47.95 s\n",
      "Using cache_images/cache_images_e580b6b2e63295e3af513c35bd958b11.asdf from cache.Using cache_images/cache_images_26c21bb98ee35e2306d1fd04c30276c2.asdf from cache.[.] Sequence Time Elapsed...5 m, 49.88 s\n",
      "Using cache_images/cache_images_f1b88d5f120a7046b8e62e430edf90ad.asdf from cache.Using cache_images/cache_images_26c21bb98ee35e2306d1fd04c30276c2.asdf from cache.[.] Sequence Time Elapsed...5 m, 48.29 s\n",
      ".] Sequence Time Elapsed...5 m, 46.61 s\n",
      "Using cache_images/cache_images_9cead8acc8be7d3720d5d49758a4beba.asdf from cache.Using cache_images/cache_images_26c21bb98ee35e2306d1fd04c30276c2.asdf from cache.[Using cache_images/cache_images_fcf524b121311f6c8d3021738d0d9176.asdf from cache.Using cache_images/cache_images_26c21bb98ee35e2306d1fd04c30276c2.asdf from cache.[.] Sequence Time Elapsed...5 m, 47.29 s\n",
      "Using cache_images/cache_images_2093f6f2dcf07a3e9d1c7b696737414d.asdf from cache.Using cache_images/cache_images_26c21bb98ee35e2306d1fd04c30276c2.asdf from cache.[.] Sequence Time Elapsed...5 m, 51.06 s\n",
      "Using cache_images/cache_images_43c7077591f67b05006774599a6b41da.asdf from cache.Using cache_images/cache_images_26c21bb98ee35e2306d1fd04c30276c2.asdf from cache.[.] Sequence Time Elapsed...5 m, 49.22 s\n",
      ".] Sequence Time Elapsed...5 m, 49.71 s\n",
      "Using cache_images/cache_images_84de1df7ec28e9fff71aa008fabc28ab.asdf from cache.Using cache_images/cache_images_26c21bb98ee35e2306d1fd04c30276c2.asdf from cache.[Using cache_images/cache_images_61ad4395acceb1fc40934928f3dcc141.asdf from cache.Using cache_images/cache_images_26c21bb98ee35e2306d1fd04c30276c2.asdf from cache.[.] Sequence Time Elapsed...5 m, 47.54 s\n",
      "Using cache_images/cache_images_13a990101c3b4398d24c0b3a32857f23.asdf from cache.Using cache_images/cache_images_26c21bb98ee35e2306d1fd04c30276c2.asdf from cache.[.] Sequence Time Elapsed...5 m, 50.70 s\n",
      "Using cache_images/cache_images_9966e8eebc524349dd532631b58395b5.asdf from cache.Using cache_images/cache_images_26c21bb98ee35e2306d1fd04c30276c2.asdf from cache.[.] Sequence Time Elapsed...5 m, 45.75 s\n",
      ".] Sequence Time Elapsed...5 m, 47.14 s\n",
      "Using cache_images/cache_images_bfccd490ea9947384e0a7d994f955e3c.asdf from cache.Using cache_images/cache_images_26c21bb98ee35e2306d1fd04c30276c2.asdf from cache.[Using cache_images/cache_images_2093f6f2dcf07a3e9d1c7b696737414d.asdf from cache.Using cache_images/cache_images_26c21bb98ee35e2306d1fd04c30276c2.asdf from cache.[.] Sequence Time Elapsed...5 m, 47.11 s\n",
      "Using cache_images/cache_images_198d7472cde83309d9148720fbcbf63c.asdf from cache.Using cache_images/cache_images_26c21bb98ee35e2306d1fd04c30276c2.asdf from cache.[.] Sequence Time Elapsed...5 m, 48.24 s\n",
      "Using cache_images/cache_images_61ad4395acceb1fc40934928f3dcc141.asdf from cache.Using cache_images/cache_images_26c21bb98ee35e2306d1fd04c30276c2.asdf from cache.[.] Sequence Time Elapsed...5 m, 46.43 s\n",
      ".] Sequence Time Elapsed...5 m, 48.99 s\n",
      "Using cache_images/cache_images_e7f1eeca0873fb374e9a6665d792d08f.asdf from cache.Using cache_images/cache_images_26c21bb98ee35e2306d1fd04c30276c2.asdf from cache.[Using cache_images/cache_images_6aedbf5e39e78c1beb4a47361965a2da.asdf from cache.Using cache_images/cache_images_26c21bb98ee35e2306d1fd04c30276c2.asdf from cache.[.] Sequence Time Elapsed...5 m, 47.02 s\n",
      "Using cache_images/cache_images_e580b6b2e63295e3af513c35bd958b11.asdf from cache.Using cache_images/cache_images_26c21bb98ee35e2306d1fd04c30276c2.asdf from cache.[.] Sequence Time Elapsed...5 m, 46.96 s\n",
      "Using cache_images/cache_images_f1b88d5f120a7046b8e62e430edf90ad.asdf from cache.Using cache_images/cache_images_26c21bb98ee35e2306d1fd04c30276c2.asdf from cache.[.] Sequence Time Elapsed...5 m, 47.59 s\n",
      ".] Sequence Time Elapsed...5 m, 48.27 s\n",
      "Using cache_images/cache_images_fcf524b121311f6c8d3021738d0d9176.asdf from cache.Using cache_images/cache_images_26c21bb98ee35e2306d1fd04c30276c2.asdf from cache.[Using cache_images/cache_images_9cead8acc8be7d3720d5d49758a4beba.asdf from cache.Using cache_images/cache_images_26c21bb98ee35e2306d1fd04c30276c2.asdf from cache.[.] Sequence Time Elapsed...5 m, 47.24 s\n",
      "Using cache_images/cache_images_2093f6f2dcf07a3e9d1c7b696737414d.asdf from cache.Using cache_images/cache_images_26c21bb98ee35e2306d1fd04c30276c2.asdf from cache.[.] Sequence Time Elapsed...5 m, 46.11 s\n",
      "Using cache_images/cache_images_43c7077591f67b05006774599a6b41da.asdf from cache.Using cache_images/cache_images_26c21bb98ee35e2306d1fd04c30276c2.asdf from cache.[.] Sequence Time Elapsed...5 m, 45.48 s\n",
      ".] Sequence Time Elapsed...5 m, 47.28 s\n",
      "Using cache_images/cache_images_84de1df7ec28e9fff71aa008fabc28ab.asdf from cache.Using cache_images/cache_images_26c21bb98ee35e2306d1fd04c30276c2.asdf from cache.[Using cache_images/cache_images_61ad4395acceb1fc40934928f3dcc141.asdf from cache.Using cache_images/cache_images_26c21bb98ee35e2306d1fd04c30276c2.asdf from cache.[.] Sequence Time Elapsed...5 m, 47.17 s\n",
      "Using cache_images/cache_images_e7f1eeca0873fb374e9a6665d792d08f.asdf from cache.Using cache_images/cache_images_26c21bb98ee35e2306d1fd04c30276c2.asdf from cache.[.] Sequence Time Elapsed...5 m, 46.64 s\n",
      "Using cache_images/cache_images_9966e8eebc524349dd532631b58395b5.asdf from cache.Using cache_images/cache_images_26c21bb98ee35e2306d1fd04c30276c2.asdf from cache.[.] Sequence Time Elapsed...5 m, 48.52 s\n",
      ".] Sequence Time Elapsed...5 m, 46.82 s\n",
      "Using cache_images/cache_images_9a3a8257f75df7fd8fd5b6731003da35.asdf from cache.Using cache_images/cache_images_26c21bb98ee35e2306d1fd04c30276c2.asdf from cache.[Using cache_images/cache_images_f1b88d5f120a7046b8e62e430edf90ad.asdf from cache.Using cache_images/cache_images_26c21bb98ee35e2306d1fd04c30276c2.asdf from cache.[.] Sequence Time Elapsed...5 m, 54.73 s\n",
      ".] Sequence Time Elapsed...5 m, 47.40 s\n",
      "Using cache_images/cache_images_fcf524b121311f6c8d3021738d0d9176.asdf from cache.Using cache_images/cache_images_26c21bb98ee35e2306d1fd04c30276c2.asdf from cache.[Using cache_images/cache_images_13a990101c3b4398d24c0b3a32857f23.asdf from cache.Using cache_images/cache_images_26c21bb98ee35e2306d1fd04c30276c2.asdf from cache.[.] Sequence Time Elapsed...5 m, 46.91 s\n",
      ".] Sequence Time Elapsed...5 m, 47.65 s\n",
      "Using cache_images/cache_images_dc449597e25b03aa549e59deb9230231.asdf from cache.Using cache_images/cache_images_26c21bb98ee35e2306d1fd04c30276c2.asdf from cache.[Using cache_images/cache_images_43c7077591f67b05006774599a6b41da.asdf from cache.Using cache_images/cache_images_26c21bb98ee35e2306d1fd04c30276c2.asdf from cache.[.] Sequence Time Elapsed...5 m, 48.80 s\n",
      ".] Sequence Time Elapsed...5 m, 46.29 s\n",
      "Using cache_images/cache_images_84de1df7ec28e9fff71aa008fabc28ab.asdf from cache.Using cache_images/cache_images_26c21bb98ee35e2306d1fd04c30276c2.asdf from cache.[Using cache_images/cache_images_198d7472cde83309d9148720fbcbf63c.asdf from cache.Using cache_images/cache_images_26c21bb98ee35e2306d1fd04c30276c2.asdf from cache.[.] Sequence Time Elapsed...5 m, 48.98 s\n",
      ".] Sequence Time Elapsed...5 m, 46.54 s\n",
      "Using cache_images/cache_images_a5a33890731b1a868baaebecee76c71d.asdf from cache.Using cache_images/cache_images_26c21bb98ee35e2306d1fd04c30276c2.asdf from cache.[Using cache_images/cache_images_9966e8eebc524349dd532631b58395b5.asdf from cache.Using cache_images/cache_images_26c21bb98ee35e2306d1fd04c30276c2.asdf from cache.[.] Sequence Time Elapsed...5 m, 46.72 s\n",
      ".] Sequence Time Elapsed...5 m, 50.21 s\n",
      "Using cache_images/cache_images_e580b6b2e63295e3af513c35bd958b11.asdf from cache.Using cache_images/cache_images_26c21bb98ee35e2306d1fd04c30276c2.asdf from cache.[Using cache_images/cache_images_9a3a8257f75df7fd8fd5b6731003da35.asdf from cache.Using cache_images/cache_images_26c21bb98ee35e2306d1fd04c30276c2.asdf from cache.[.] Sequence Time Elapsed...5 m, 46.08 s\n",
      ".] Sequence Time Elapsed...5 m, 46.81 s\n",
      "Using cache_images/cache_images_13a990101c3b4398d24c0b3a32857f23.asdf from cache.Using cache_images/cache_images_26c21bb98ee35e2306d1fd04c30276c2.asdf from cache.[Using cache_images/cache_images_bfccd490ea9947384e0a7d994f955e3c.asdf from cache.Using cache_images/cache_images_26c21bb98ee35e2306d1fd04c30276c2.asdf from cache.[.] Sequence Time Elapsed...5 m, 49.16 s\n",
      ".] Sequence Time Elapsed...5 m, 50.19 s\n",
      "Using cache_images/cache_images_2093f6f2dcf07a3e9d1c7b696737414d.asdf from cache.Using cache_images/cache_images_26c21bb98ee35e2306d1fd04c30276c2.asdf from cache.[Using cache_images/cache_images_dc449597e25b03aa549e59deb9230231.asdf from cache.Using cache_images/cache_images_26c21bb98ee35e2306d1fd04c30276c2.asdf from cache.[.] Sequence Time Elapsed...5 m, 48.87 s\n",
      ".] Sequence Time Elapsed...5 m, 48.58 s\n",
      "Using cache_images/cache_images_198d7472cde83309d9148720fbcbf63c.asdf from cache.Using cache_images/cache_images_26c21bb98ee35e2306d1fd04c30276c2.asdf from cache.[Using cache_images/cache_images_6aedbf5e39e78c1beb4a47361965a2da.asdf from cache.Using cache_images/cache_images_26c21bb98ee35e2306d1fd04c30276c2.asdf from cache.[.] Sequence Time Elapsed...5 m, 47.40 s\n",
      ".] Sequence Time Elapsed...5 m, 47.66 s\n",
      "Using cache_images/cache_images_e7f1eeca0873fb374e9a6665d792d08f.asdf from cache.Using cache_images/cache_images_26c21bb98ee35e2306d1fd04c30276c2.asdf from cache.[Using cache_images/cache_images_a5a33890731b1a868baaebecee76c71d.asdf from cache.Using cache_images/cache_images_26c21bb98ee35e2306d1fd04c30276c2.asdf from cache.[.] Sequence Time Elapsed...5 m, 47.42 s\n",
      ".] Sequence Time Elapsed...5 m, 48.55 s\n",
      "Using cache_images/cache_images_9cead8acc8be7d3720d5d49758a4beba.asdf from cache.Using cache_images/cache_images_26c21bb98ee35e2306d1fd04c30276c2.asdf from cache.[Using cache_images/cache_images_e580b6b2e63295e3af513c35bd958b11.asdf from cache.Using cache_images/cache_images_26c21bb98ee35e2306d1fd04c30276c2.asdf from cache.[.] Sequence Time Elapsed...5 m, 49.03 s\n",
      ".] Sequence Time Elapsed...5 m, 48.47 s\n",
      "Using cache_images/cache_images_fcf524b121311f6c8d3021738d0d9176.asdf from cache.Using cache_images/cache_images_26c21bb98ee35e2306d1fd04c30276c2.asdf from cache.[Using cache_images/cache_images_84de1df7ec28e9fff71aa008fabc28ab.asdf from cache.Using cache_images/cache_images_26c21bb98ee35e2306d1fd04c30276c2.asdf from cache.[.] Sequence Time Elapsed...5 m, 46.44 s\n",
      ".] Sequence Time Elapsed...5 m, 48.11 s\n",
      "Using cache_images/cache_images_9966e8eebc524349dd532631b58395b5.asdf from cache.Using cache_images/cache_images_26c21bb98ee35e2306d1fd04c30276c2.asdf from cache.[Using cache_images/cache_images_a5a33890731b1a868baaebecee76c71d.asdf from cache.Using cache_images/cache_images_26c21bb98ee35e2306d1fd04c30276c2.asdf from cache.[.] Sequence Time Elapsed...5 m, 48.59 s\n",
      ".] Sequence Time Elapsed...5 m, 46.98 s\n",
      "Using cache_images/cache_images_e580b6b2e63295e3af513c35bd958b11.asdf from cache.Using cache_images/cache_images_26c21bb98ee35e2306d1fd04c30276c2.asdf from cache.[Using cache_images/cache_images_9a3a8257f75df7fd8fd5b6731003da35.asdf from cache.Using cache_images/cache_images_26c21bb98ee35e2306d1fd04c30276c2.asdf from cache.[.] Sequence Time Elapsed...5 m, 47.01 s\n",
      ".] Sequence Time Elapsed...5 m, 46.41 s\n",
      "Using cache_images/cache_images_13a990101c3b4398d24c0b3a32857f23.asdf from cache.Using cache_images/cache_images_26c21bb98ee35e2306d1fd04c30276c2.asdf from cache.[Using cache_images/cache_images_bfccd490ea9947384e0a7d994f955e3c.asdf from cache.Using cache_images/cache_images_26c21bb98ee35e2306d1fd04c30276c2.asdf from cache.[.] Sequence Time Elapsed...5 m, 45.82 s\n",
      ".] Sequence Time Elapsed...5 m, 46.20 s\n",
      "Using cache_images/cache_images_2093f6f2dcf07a3e9d1c7b696737414d.asdf from cache.Using cache_images/cache_images_26c21bb98ee35e2306d1fd04c30276c2.asdf from cache.[Using cache_images/cache_images_dc449597e25b03aa549e59deb9230231.asdf from cache.Using cache_images/cache_images_26c21bb98ee35e2306d1fd04c30276c2.asdf from cache.[.] Sequence Time Elapsed...5 m, 46.43 s\n",
      ".] Sequence Time Elapsed...5 m, 46.53 s\n",
      "Using cache_images/cache_images_198d7472cde83309d9148720fbcbf63c.asdf from cache.Using cache_images/cache_images_26c21bb98ee35e2306d1fd04c30276c2.asdf from cache.[Using cache_images/cache_images_6aedbf5e39e78c1beb4a47361965a2da.asdf from cache.Using cache_images/cache_images_26c21bb98ee35e2306d1fd04c30276c2.asdf from cache.[.] Sequence Time Elapsed...5 m, 46.60 s\n",
      "Using cache_images/cache_images_e7f1eeca0873fb374e9a6665d792d08f.asdf from cache.Using cache_images/cache_images_26c21bb98ee35e2306d1fd04c30276c2.asdf from cache.[.] Sequence Time Elapsed...5 m, 48.55 s\n",
      "Using cache_images/cache_images_a5a33890731b1a868baaebecee76c71d.asdf from cache.Using cache_images/cache_images_26c21bb98ee35e2306d1fd04c30276c2.asdf from cache.[.] Sequence Time Elapsed...5 m, 46.81 s\n",
      ".] Sequence Time Elapsed...5 m, 45.51 s\n",
      "Using cache_images/cache_images_e580b6b2e63295e3af513c35bd958b11.asdf from cache.Using cache_images/cache_images_26c21bb98ee35e2306d1fd04c30276c2.asdf from cache.[Using cache_images/cache_images_9cead8acc8be7d3720d5d49758a4beba.asdf from cache.Using cache_images/cache_images_26c21bb98ee35e2306d1fd04c30276c2.asdf from cache.[.] Sequence Time Elapsed...5 m, 46.57 s\n",
      ".] Sequence Time Elapsed...5 m, 45.36 s\n",
      "Using cache_images/cache_images_bfccd490ea9947384e0a7d994f955e3c.asdf from cache.Using cache_images/cache_images_26c21bb98ee35e2306d1fd04c30276c2.asdf from cache.[.] Sequence Time Elapsed...5 m, 37.28 s\n",
      ".] Sequence Time Elapsed...5 m, 37.63 s\n",
      "Using cache_images/cache_images_2093f6f2dcf07a3e9d1c7b696737414d.asdf from cache.Using cache_images/cache_images_26c21bb98ee35e2306d1fd04c30276c2.asdf from cache.[Using cache_images/cache_images_61ad4395acceb1fc40934928f3dcc141.asdf from cache.Using cache_images/cache_images_26c21bb98ee35e2306d1fd04c30276c2.asdf from cache.[.] Sequence Time Elapsed...5 m, 38.78 s\n",
      "Using cache_images/cache_images_6aedbf5e39e78c1beb4a47361965a2da.asdf from cache.Using cache_images/cache_images_26c21bb98ee35e2306d1fd04c30276c2.asdf from cache.[.] Sequence Time Elapsed...5 m, 36.87 s\n",
      ".] Sequence Time Elapsed...5 m, 40.32 s\n",
      "Using cache_images/cache_images_f1b88d5f120a7046b8e62e430edf90ad.asdf from cache.Using cache_images/cache_images_26c21bb98ee35e2306d1fd04c30276c2.asdf from cache.[Using cache_images/cache_images_e7f1eeca0873fb374e9a6665d792d08f.asdf from cache.Using cache_images/cache_images_26c21bb98ee35e2306d1fd04c30276c2.asdf from cache.[.] Sequence Time Elapsed...5 m, 38.73 s\n",
      "Using cache_images/cache_images_9cead8acc8be7d3720d5d49758a4beba.asdf from cache.Using cache_images/cache_images_26c21bb98ee35e2306d1fd04c30276c2.asdf from cache.[.] Sequence Time Elapsed...5 m, 36.44 s\n",
      ".] Sequence Time Elapsed...5 m, 38.70 s\n",
      "Using cache_images/cache_images_fcf524b121311f6c8d3021738d0d9176.asdf from cache.Using cache_images/cache_images_26c21bb98ee35e2306d1fd04c30276c2.asdf from cache.[Using cache_images/cache_images_43c7077591f67b05006774599a6b41da.asdf from cache.Using cache_images/cache_images_26c21bb98ee35e2306d1fd04c30276c2.asdf from cache.[.] Sequence Time Elapsed...5 m, 37.44 s\n",
      "Using cache_images/cache_images_61ad4395acceb1fc40934928f3dcc141.asdf from cache.Using cache_images/cache_images_26c21bb98ee35e2306d1fd04c30276c2.asdf from cache.[.] Sequence Time Elapsed...5 m, 38.33 s\n",
      ".] Sequence Time Elapsed...5 m, 38.52 s\n",
      "Using cache_images/cache_images_84de1df7ec28e9fff71aa008fabc28ab.asdf from cache.Using cache_images/cache_images_26c21bb98ee35e2306d1fd04c30276c2.asdf from cache.[Using cache_images/cache_images_9966e8eebc524349dd532631b58395b5.asdf from cache.Using cache_images/cache_images_26c21bb98ee35e2306d1fd04c30276c2.asdf from cache.[.] Sequence Time Elapsed...5 m, 36.99 s\n",
      "Using cache_images/cache_images_f1b88d5f120a7046b8e62e430edf90ad.asdf from cache.Using cache_images/cache_images_26c21bb98ee35e2306d1fd04c30276c2.asdf from cache.[.] Sequence Time Elapsed...5 m, 37.23 s\n",
      ".] Sequence Time Elapsed...5 m, 38.53 s\n",
      "Using cache_images/cache_images_13a990101c3b4398d24c0b3a32857f23.asdf from cache.Using cache_images/cache_images_26c21bb98ee35e2306d1fd04c30276c2.asdf from cache.[Using cache_images/cache_images_9a3a8257f75df7fd8fd5b6731003da35.asdf from cache.Using cache_images/cache_images_26c21bb98ee35e2306d1fd04c30276c2.asdf from cache.[.] Sequence Time Elapsed...5 m, 35.62 s\n",
      "Using cache_images/cache_images_43c7077591f67b05006774599a6b41da.asdf from cache.Using cache_images/cache_images_26c21bb98ee35e2306d1fd04c30276c2.asdf from cache.[.] Sequence Time Elapsed...5 m, 37.72 s\n",
      ".] Sequence Time Elapsed...5 m, 39.44 s\n",
      "Using cache_images/cache_images_dc449597e25b03aa549e59deb9230231.asdf from cache.Using cache_images/cache_images_26c21bb98ee35e2306d1fd04c30276c2.asdf from cache.[Using cache_images/cache_images_198d7472cde83309d9148720fbcbf63c.asdf from cache.Using cache_images/cache_images_26c21bb98ee35e2306d1fd04c30276c2.asdf from cache.[.] Sequence Time Elapsed...5 m, 38.96 s\n",
      ".] Sequence Time Elapsed...5 m, 20.71 s\n",
      ".] Sequence Time Elapsed...5 m, 21.80 s\n",
      "['sims/2022-11-03/deficit 20 neurons logdog 0 eta 0 noise 0 blur 0 mu_c 1 sigma_c.asdf', 'sims/2022-11-03/deficit 20 neurons logdog 0 eta 0 noise 1 blur 0 mu_c 1 sigma_c.asdf', 'sims/2022-11-03/deficit 20 neurons logdog 0 eta 0 noise 2 blur 0 mu_c 1 sigma_c.asdf', 'sims/2022-11-03/deficit 20 neurons logdog 0 eta 0 noise 3 blur 0 mu_c 1 sigma_c.asdf', 'sims/2022-11-03/deficit 20 neurons logdog 0 eta 0 noise 4 blur 0 mu_c 1 sigma_c.asdf', 'sims/2022-11-03/deficit 20 neurons logdog 0 eta 0 noise 5 blur 0 mu_c 1 sigma_c.asdf', 'sims/2022-11-03/deficit 20 neurons logdog 0 eta 0 noise 6 blur 0 mu_c 1 sigma_c.asdf', 'sims/2022-11-03/deficit 20 neurons logdog 0 eta 0 noise 7 blur 0 mu_c 1 sigma_c.asdf', 'sims/2022-11-03/deficit 20 neurons logdog 0 eta 0 noise 8 blur 0 mu_c 1 sigma_c.asdf', 'sims/2022-11-03/deficit 20 neurons logdog 0 eta 0 noise 9 blur 0 mu_c 1 sigma_c.asdf', 'sims/2022-11-03/deficit 20 neurons logdog 0 eta 0 noise 10 blur 0 mu_c 1 sigma_c.asdf', 'sims/2022-11-03/deficit 20 neurons logdog 0 eta 0 noise 11 blur 0 mu_c 1 sigma_c.asdf', 'sims/2022-11-03/deficit 20 neurons logdog 0 eta 0 noise 12 blur 0 mu_c 1 sigma_c.asdf', 'sims/2022-11-03/deficit 20 neurons logdog 0 eta 0 noise 13 blur 0 mu_c 1 sigma_c.asdf', 'sims/2022-11-03/deficit 20 neurons logdog 0 eta 0 noise 14 blur 0 mu_c 1 sigma_c.asdf', 'sims/2022-11-03/deficit 20 neurons logdog 0 eta 0 noise 15 blur 0 mu_c 1 sigma_c.asdf', 'sims/2022-11-03/deficit 20 neurons logdog 0 eta 0 noise 16 blur 0 mu_c 1 sigma_c.asdf', 'sims/2022-11-03/deficit 20 neurons logdog 0 eta 0 noise 0 blur 2 mu_c 1 sigma_c.asdf', 'sims/2022-11-03/deficit 20 neurons logdog 0 eta 0 noise 1 blur 2 mu_c 1 sigma_c.asdf', 'sims/2022-11-03/deficit 20 neurons logdog 0 eta 0 noise 2 blur 2 mu_c 1 sigma_c.asdf', 'sims/2022-11-03/deficit 20 neurons logdog 0 eta 0 noise 3 blur 2 mu_c 1 sigma_c.asdf', 'sims/2022-11-03/deficit 20 neurons logdog 0 eta 0 noise 4 blur 2 mu_c 1 sigma_c.asdf', 'sims/2022-11-03/deficit 20 neurons logdog 0 eta 0 noise 5 blur 2 mu_c 1 sigma_c.asdf', 'sims/2022-11-03/deficit 20 neurons logdog 0 eta 0 noise 6 blur 2 mu_c 1 sigma_c.asdf', 'sims/2022-11-03/deficit 20 neurons logdog 0 eta 0 noise 7 blur 2 mu_c 1 sigma_c.asdf', 'sims/2022-11-03/deficit 20 neurons logdog 0 eta 0 noise 8 blur 2 mu_c 1 sigma_c.asdf', 'sims/2022-11-03/deficit 20 neurons logdog 0 eta 0 noise 9 blur 2 mu_c 1 sigma_c.asdf', 'sims/2022-11-03/deficit 20 neurons logdog 0 eta 0 noise 10 blur 2 mu_c 1 sigma_c.asdf', 'sims/2022-11-03/deficit 20 neurons logdog 0 eta 0 noise 11 blur 2 mu_c 1 sigma_c.asdf', 'sims/2022-11-03/deficit 20 neurons logdog 0 eta 0 noise 12 blur 2 mu_c 1 sigma_c.asdf', 'sims/2022-11-03/deficit 20 neurons logdog 0 eta 0 noise 13 blur 2 mu_c 1 sigma_c.asdf', 'sims/2022-11-03/deficit 20 neurons logdog 0 eta 0 noise 14 blur 2 mu_c 1 sigma_c.asdf', 'sims/2022-11-03/deficit 20 neurons logdog 0 eta 0 noise 15 blur 2 mu_c 1 sigma_c.asdf', 'sims/2022-11-03/deficit 20 neurons logdog 0 eta 0 noise 16 blur 2 mu_c 1 sigma_c.asdf', 'sims/2022-11-03/deficit 20 neurons logdog 0 eta 0 noise 0 blur 5 mu_c 1 sigma_c.asdf', 'sims/2022-11-03/deficit 20 neurons logdog 0 eta 0 noise 1 blur 5 mu_c 1 sigma_c.asdf', 'sims/2022-11-03/deficit 20 neurons logdog 0 eta 0 noise 2 blur 5 mu_c 1 sigma_c.asdf', 'sims/2022-11-03/deficit 20 neurons logdog 0 eta 0 noise 3 blur 5 mu_c 1 sigma_c.asdf', 'sims/2022-11-03/deficit 20 neurons logdog 0 eta 0 noise 4 blur 5 mu_c 1 sigma_c.asdf', 'sims/2022-11-03/deficit 20 neurons logdog 0 eta 0 noise 5 blur 5 mu_c 1 sigma_c.asdf', 'sims/2022-11-03/deficit 20 neurons logdog 0 eta 0 noise 6 blur 5 mu_c 1 sigma_c.asdf', 'sims/2022-11-03/deficit 20 neurons logdog 0 eta 0 noise 7 blur 5 mu_c 1 sigma_c.asdf', 'sims/2022-11-03/deficit 20 neurons logdog 0 eta 0 noise 8 blur 5 mu_c 1 sigma_c.asdf', 'sims/2022-11-03/deficit 20 neurons logdog 0 eta 0 noise 9 blur 5 mu_c 1 sigma_c.asdf', 'sims/2022-11-03/deficit 20 neurons logdog 0 eta 0 noise 10 blur 5 mu_c 1 sigma_c.asdf', 'sims/2022-11-03/deficit 20 neurons logdog 0 eta 0 noise 11 blur 5 mu_c 1 sigma_c.asdf', 'sims/2022-11-03/deficit 20 neurons logdog 0 eta 0 noise 12 blur 5 mu_c 1 sigma_c.asdf', 'sims/2022-11-03/deficit 20 neurons logdog 0 eta 0 noise 13 blur 5 mu_c 1 sigma_c.asdf', 'sims/2022-11-03/deficit 20 neurons logdog 0 eta 0 noise 14 blur 5 mu_c 1 sigma_c.asdf', 'sims/2022-11-03/deficit 20 neurons logdog 0 eta 0 noise 15 blur 5 mu_c 1 sigma_c.asdf', 'sims/2022-11-03/deficit 20 neurons logdog 0 eta 0 noise 16 blur 5 mu_c 1 sigma_c.asdf', 'sims/2022-11-03/deficit 20 neurons logdog 0 eta 0 noise 0 blur 7 mu_c 1 sigma_c.asdf', 'sims/2022-11-03/deficit 20 neurons logdog 0 eta 0 noise 1 blur 7 mu_c 1 sigma_c.asdf', 'sims/2022-11-03/deficit 20 neurons logdog 0 eta 0 noise 2 blur 7 mu_c 1 sigma_c.asdf', 'sims/2022-11-03/deficit 20 neurons logdog 0 eta 0 noise 3 blur 7 mu_c 1 sigma_c.asdf', 'sims/2022-11-03/deficit 20 neurons logdog 0 eta 0 noise 4 blur 7 mu_c 1 sigma_c.asdf', 'sims/2022-11-03/deficit 20 neurons logdog 0 eta 0 noise 5 blur 7 mu_c 1 sigma_c.asdf', 'sims/2022-11-03/deficit 20 neurons logdog 0 eta 0 noise 6 blur 7 mu_c 1 sigma_c.asdf', 'sims/2022-11-03/deficit 20 neurons logdog 0 eta 0 noise 7 blur 7 mu_c 1 sigma_c.asdf', 'sims/2022-11-03/deficit 20 neurons logdog 0 eta 0 noise 8 blur 7 mu_c 1 sigma_c.asdf', 'sims/2022-11-03/deficit 20 neurons logdog 0 eta 0 noise 9 blur 7 mu_c 1 sigma_c.asdf', 'sims/2022-11-03/deficit 20 neurons logdog 0 eta 0 noise 10 blur 7 mu_c 1 sigma_c.asdf', 'sims/2022-11-03/deficit 20 neurons logdog 0 eta 0 noise 11 blur 7 mu_c 1 sigma_c.asdf', 'sims/2022-11-03/deficit 20 neurons logdog 0 eta 0 noise 12 blur 7 mu_c 1 sigma_c.asdf', 'sims/2022-11-03/deficit 20 neurons logdog 0 eta 0 noise 13 blur 7 mu_c 1 sigma_c.asdf', 'sims/2022-11-03/deficit 20 neurons logdog 0 eta 0 noise 14 blur 7 mu_c 1 sigma_c.asdf', 'sims/2022-11-03/deficit 20 neurons logdog 0 eta 0 noise 15 blur 7 mu_c 1 sigma_c.asdf', 'sims/2022-11-03/deficit 20 neurons logdog 0 eta 0 noise 16 blur 7 mu_c 1 sigma_c.asdf', 'sims/2022-11-03/deficit 20 neurons logdog 0 eta 0 noise 0 blur 10 mu_c 1 sigma_c.asdf', 'sims/2022-11-03/deficit 20 neurons logdog 0 eta 0 noise 1 blur 10 mu_c 1 sigma_c.asdf', 'sims/2022-11-03/deficit 20 neurons logdog 0 eta 0 noise 2 blur 10 mu_c 1 sigma_c.asdf', 'sims/2022-11-03/deficit 20 neurons logdog 0 eta 0 noise 3 blur 10 mu_c 1 sigma_c.asdf', 'sims/2022-11-03/deficit 20 neurons logdog 0 eta 0 noise 4 blur 10 mu_c 1 sigma_c.asdf', 'sims/2022-11-03/deficit 20 neurons logdog 0 eta 0 noise 5 blur 10 mu_c 1 sigma_c.asdf', 'sims/2022-11-03/deficit 20 neurons logdog 0 eta 0 noise 6 blur 10 mu_c 1 sigma_c.asdf', 'sims/2022-11-03/deficit 20 neurons logdog 0 eta 0 noise 7 blur 10 mu_c 1 sigma_c.asdf', 'sims/2022-11-03/deficit 20 neurons logdog 0 eta 0 noise 8 blur 10 mu_c 1 sigma_c.asdf', 'sims/2022-11-03/deficit 20 neurons logdog 0 eta 0 noise 9 blur 10 mu_c 1 sigma_c.asdf', 'sims/2022-11-03/deficit 20 neurons logdog 0 eta 0 noise 10 blur 10 mu_c 1 sigma_c.asdf', 'sims/2022-11-03/deficit 20 neurons logdog 0 eta 0 noise 11 blur 10 mu_c 1 sigma_c.asdf', 'sims/2022-11-03/deficit 20 neurons logdog 0 eta 0 noise 12 blur 10 mu_c 1 sigma_c.asdf', 'sims/2022-11-03/deficit 20 neurons logdog 0 eta 0 noise 13 blur 10 mu_c 1 sigma_c.asdf', 'sims/2022-11-03/deficit 20 neurons logdog 0 eta 0 noise 14 blur 10 mu_c 1 sigma_c.asdf', 'sims/2022-11-03/deficit 20 neurons logdog 0 eta 0 noise 15 blur 10 mu_c 1 sigma_c.asdf', 'sims/2022-11-03/deficit 20 neurons logdog 0 eta 0 noise 16 blur 10 mu_c 1 sigma_c.asdf', 'sims/2022-11-03/deficit 20 neurons logdog 0 eta 0 noise 0 blur 12 mu_c 1 sigma_c.asdf', 'sims/2022-11-03/deficit 20 neurons logdog 0 eta 0 noise 1 blur 12 mu_c 1 sigma_c.asdf', 'sims/2022-11-03/deficit 20 neurons logdog 0 eta 0 noise 2 blur 12 mu_c 1 sigma_c.asdf', 'sims/2022-11-03/deficit 20 neurons logdog 0 eta 0 noise 3 blur 12 mu_c 1 sigma_c.asdf', 'sims/2022-11-03/deficit 20 neurons logdog 0 eta 0 noise 4 blur 12 mu_c 1 sigma_c.asdf', 'sims/2022-11-03/deficit 20 neurons logdog 0 eta 0 noise 5 blur 12 mu_c 1 sigma_c.asdf', 'sims/2022-11-03/deficit 20 neurons logdog 0 eta 0 noise 6 blur 12 mu_c 1 sigma_c.asdf', 'sims/2022-11-03/deficit 20 neurons logdog 0 eta 0 noise 7 blur 12 mu_c 1 sigma_c.asdf', 'sims/2022-11-03/deficit 20 neurons logdog 0 eta 0 noise 8 blur 12 mu_c 1 sigma_c.asdf', 'sims/2022-11-03/deficit 20 neurons logdog 0 eta 0 noise 9 blur 12 mu_c 1 sigma_c.asdf', 'sims/2022-11-03/deficit 20 neurons logdog 0 eta 0 noise 10 blur 12 mu_c 1 sigma_c.asdf', 'sims/2022-11-03/deficit 20 neurons logdog 0 eta 0 noise 11 blur 12 mu_c 1 sigma_c.asdf', 'sims/2022-11-03/deficit 20 neurons logdog 0 eta 0 noise 12 blur 12 mu_c 1 sigma_c.asdf', 'sims/2022-11-03/deficit 20 neurons logdog 0 eta 0 noise 13 blur 12 mu_c 1 sigma_c.asdf', 'sims/2022-11-03/deficit 20 neurons logdog 0 eta 0 noise 14 blur 12 mu_c 1 sigma_c.asdf', 'sims/2022-11-03/deficit 20 neurons logdog 0 eta 0 noise 15 blur 12 mu_c 1 sigma_c.asdf', 'sims/2022-11-03/deficit 20 neurons logdog 0 eta 0 noise 16 blur 12 mu_c 1 sigma_c.asdf', 'sims/2022-11-03/deficit 20 neurons logdog 0 eta 0 noise 0 blur 15 mu_c 1 sigma_c.asdf', 'sims/2022-11-03/deficit 20 neurons logdog 0 eta 0 noise 1 blur 15 mu_c 1 sigma_c.asdf', 'sims/2022-11-03/deficit 20 neurons logdog 0 eta 0 noise 2 blur 15 mu_c 1 sigma_c.asdf', 'sims/2022-11-03/deficit 20 neurons logdog 0 eta 0 noise 3 blur 15 mu_c 1 sigma_c.asdf', 'sims/2022-11-03/deficit 20 neurons logdog 0 eta 0 noise 4 blur 15 mu_c 1 sigma_c.asdf', 'sims/2022-11-03/deficit 20 neurons logdog 0 eta 0 noise 5 blur 15 mu_c 1 sigma_c.asdf', 'sims/2022-11-03/deficit 20 neurons logdog 0 eta 0 noise 6 blur 15 mu_c 1 sigma_c.asdf', 'sims/2022-11-03/deficit 20 neurons logdog 0 eta 0 noise 7 blur 15 mu_c 1 sigma_c.asdf', 'sims/2022-11-03/deficit 20 neurons logdog 0 eta 0 noise 8 blur 15 mu_c 1 sigma_c.asdf', 'sims/2022-11-03/deficit 20 neurons logdog 0 eta 0 noise 9 blur 15 mu_c 1 sigma_c.asdf', 'sims/2022-11-03/deficit 20 neurons logdog 0 eta 0 noise 10 blur 15 mu_c 1 sigma_c.asdf', 'sims/2022-11-03/deficit 20 neurons logdog 0 eta 0 noise 11 blur 15 mu_c 1 sigma_c.asdf', 'sims/2022-11-03/deficit 20 neurons logdog 0 eta 0 noise 12 blur 15 mu_c 1 sigma_c.asdf', 'sims/2022-11-03/deficit 20 neurons logdog 0 eta 0 noise 13 blur 15 mu_c 1 sigma_c.asdf', 'sims/2022-11-03/deficit 20 neurons logdog 0 eta 0 noise 14 blur 15 mu_c 1 sigma_c.asdf', 'sims/2022-11-03/deficit 20 neurons logdog 0 eta 0 noise 15 blur 15 mu_c 1 sigma_c.asdf', 'sims/2022-11-03/deficit 20 neurons logdog 0 eta 0 noise 16 blur 15 mu_c 1 sigma_c.asdf', 'sims/2022-11-03/deficit 20 neurons logdog 0 eta 0 noise 0 blur 17 mu_c 1 sigma_c.asdf', 'sims/2022-11-03/deficit 20 neurons logdog 0 eta 0 noise 1 blur 17 mu_c 1 sigma_c.asdf', 'sims/2022-11-03/deficit 20 neurons logdog 0 eta 0 noise 2 blur 17 mu_c 1 sigma_c.asdf', 'sims/2022-11-03/deficit 20 neurons logdog 0 eta 0 noise 3 blur 17 mu_c 1 sigma_c.asdf', 'sims/2022-11-03/deficit 20 neurons logdog 0 eta 0 noise 4 blur 17 mu_c 1 sigma_c.asdf', 'sims/2022-11-03/deficit 20 neurons logdog 0 eta 0 noise 5 blur 17 mu_c 1 sigma_c.asdf', 'sims/2022-11-03/deficit 20 neurons logdog 0 eta 0 noise 6 blur 17 mu_c 1 sigma_c.asdf', 'sims/2022-11-03/deficit 20 neurons logdog 0 eta 0 noise 7 blur 17 mu_c 1 sigma_c.asdf', 'sims/2022-11-03/deficit 20 neurons logdog 0 eta 0 noise 8 blur 17 mu_c 1 sigma_c.asdf', 'sims/2022-11-03/deficit 20 neurons logdog 0 eta 0 noise 9 blur 17 mu_c 1 sigma_c.asdf', 'sims/2022-11-03/deficit 20 neurons logdog 0 eta 0 noise 10 blur 17 mu_c 1 sigma_c.asdf', 'sims/2022-11-03/deficit 20 neurons logdog 0 eta 0 noise 11 blur 17 mu_c 1 sigma_c.asdf', 'sims/2022-11-03/deficit 20 neurons logdog 0 eta 0 noise 12 blur 17 mu_c 1 sigma_c.asdf', 'sims/2022-11-03/deficit 20 neurons logdog 0 eta 0 noise 13 blur 17 mu_c 1 sigma_c.asdf', 'sims/2022-11-03/deficit 20 neurons logdog 0 eta 0 noise 14 blur 17 mu_c 1 sigma_c.asdf', 'sims/2022-11-03/deficit 20 neurons logdog 0 eta 0 noise 15 blur 17 mu_c 1 sigma_c.asdf', 'sims/2022-11-03/deficit 20 neurons logdog 0 eta 0 noise 16 blur 17 mu_c 1 sigma_c.asdf', 'sims/2022-11-03/deficit 20 neurons logdog 0 eta 0 noise 0 blur 20 mu_c 1 sigma_c.asdf', 'sims/2022-11-03/deficit 20 neurons logdog 0 eta 0 noise 1 blur 20 mu_c 1 sigma_c.asdf', 'sims/2022-11-03/deficit 20 neurons logdog 0 eta 0 noise 2 blur 20 mu_c 1 sigma_c.asdf', 'sims/2022-11-03/deficit 20 neurons logdog 0 eta 0 noise 3 blur 20 mu_c 1 sigma_c.asdf', 'sims/2022-11-03/deficit 20 neurons logdog 0 eta 0 noise 4 blur 20 mu_c 1 sigma_c.asdf', 'sims/2022-11-03/deficit 20 neurons logdog 0 eta 0 noise 5 blur 20 mu_c 1 sigma_c.asdf', 'sims/2022-11-03/deficit 20 neurons logdog 0 eta 0 noise 6 blur 20 mu_c 1 sigma_c.asdf', 'sims/2022-11-03/deficit 20 neurons logdog 0 eta 0 noise 7 blur 20 mu_c 1 sigma_c.asdf', 'sims/2022-11-03/deficit 20 neurons logdog 0 eta 0 noise 8 blur 20 mu_c 1 sigma_c.asdf', 'sims/2022-11-03/deficit 20 neurons logdog 0 eta 0 noise 9 blur 20 mu_c 1 sigma_c.asdf', 'sims/2022-11-03/deficit 20 neurons logdog 0 eta 0 noise 10 blur 20 mu_c 1 sigma_c.asdf', 'sims/2022-11-03/deficit 20 neurons logdog 0 eta 0 noise 11 blur 20 mu_c 1 sigma_c.asdf', 'sims/2022-11-03/deficit 20 neurons logdog 0 eta 0 noise 12 blur 20 mu_c 1 sigma_c.asdf', 'sims/2022-11-03/deficit 20 neurons logdog 0 eta 0 noise 13 blur 20 mu_c 1 sigma_c.asdf', 'sims/2022-11-03/deficit 20 neurons logdog 0 eta 0 noise 14 blur 20 mu_c 1 sigma_c.asdf', 'sims/2022-11-03/deficit 20 neurons logdog 0 eta 0 noise 15 blur 20 mu_c 1 sigma_c.asdf', 'sims/2022-11-03/deficit 20 neurons logdog 0 eta 0 noise 16 blur 20 mu_c 1 sigma_c.asdf']\n"
     ]
    }
   ],
   "source": [
    "pool = Pool(processes=number_of_processes)\n",
    "result = pool.map_async(run_one, all_params)\n",
    "print(result.get())"
   ]
  },
  {
   "cell_type": "code",
   "execution_count": null,
   "id": "a4418d2b-51c5-4a11-a457-7621e668c8d5",
   "metadata": {},
   "outputs": [],
   "source": []
  }
 ],
 "metadata": {
  "kernelspec": {
   "display_name": "Python 3 (ipykernel)",
   "language": "python",
   "name": "python3"
  },
  "language_info": {
   "codemirror_mode": {
    "name": "ipython",
    "version": 3
   },
   "file_extension": ".py",
   "mimetype": "text/x-python",
   "name": "python",
   "nbconvert_exporter": "python",
   "pygments_lexer": "ipython3",
   "version": "3.9.12"
  }
 },
 "nbformat": 4,
 "nbformat_minor": 5
}
