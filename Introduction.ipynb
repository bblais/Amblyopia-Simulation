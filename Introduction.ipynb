{
 "cells": [
  {
   "cell_type": "markdown",
   "id": "28768995-3f34-477b-b2c4-60a9b9551f3a",
   "metadata": {},
   "source": [
    "# Introduction\n",
    "\n"
   ]
  },
  {
   "cell_type": "markdown",
   "id": "af3ebb10-8556-4318-a23c-8ff64142a700",
   "metadata": {},
   "source": [
    "These notes are an exploration of the problem of modeling Amblyopia and its various treatments from an approach using synaptic plasticity models.  The process will involve constructing a simplified mechanism for the development of amblyopic deficits and subsequently modeling both monocular and binocular treatment protocols.  The goal is to understand the dynamics of the recovery from amblyopic deficits for the different treatment protocols, to compare the effectiveness of each protocol, and to explore their limitations.  Ideally we would like to use these models to inform future protocol parameters and perhaps suggest novel treatments for amblyopia.\n",
    "\n",
    "\n",
    "In this part we will explore the clinical basis for amblyopia and its treatments.  In the @sec-models-of-development and @sec-models-of-treatments we will explore the models that are used to describe the deficits from amblyopia and their treatment, respectively. "
   ]
  },
  {
   "cell_type": "code",
   "execution_count": null,
   "id": "0e9a02b9-91a9-4145-bb22-7a06f7da7083",
   "metadata": {},
   "outputs": [],
   "source": []
  }
 ],
 "metadata": {
  "kernelspec": {
   "display_name": "Python 3 (ipykernel)",
   "language": "python",
   "name": "python3"
  },
  "language_info": {
   "codemirror_mode": {
    "name": "ipython",
    "version": 3
   },
   "file_extension": ".py",
   "mimetype": "text/x-python",
   "name": "python",
   "nbconvert_exporter": "python",
   "pygments_lexer": "ipython3",
   "version": "3.9.12"
  }
 },
 "nbformat": 4,
 "nbformat_minor": 5
}
