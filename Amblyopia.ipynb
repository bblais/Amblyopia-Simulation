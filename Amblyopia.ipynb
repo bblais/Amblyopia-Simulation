{
 "cells": [
  {
   "cell_type": "markdown",
   "id": "8e3c38a5-a269-442a-a3a0-e8093876cba9",
   "metadata": {},
   "source": [
    "## What is Amblyopia?"
   ]
  },
  {
   "cell_type": "markdown",
   "id": "09001b04-878e-4e6e-9ef5-026df65cc593",
   "metadata": {},
   "source": [
    "Amblyopia is the most common cause of vision loss in children, caused by refractive errors or misalignment of the eyes [@de2007current].    \n",
    "\n",
    "\n",
    "- Visual acuity\n",
    "- Contrast sensitivity\n",
    "- Color\n",
    "- Depth (Stereopsis)\n",
    "- Motion\n",
    "- Visual fields "
   ]
  },
  {
   "cell_type": "markdown",
   "id": "5d234b68-d5ed-4065-8455-80cf36c40c35",
   "metadata": {},
   "source": [
    "## How is it Treated?\n",
    "\n",
    "The current primary treatment is described in the *Amblyopia Preferred Practice Method* [@wallace2018amblyopia]. Treatments are divided into two broad categories, monocular and binocular treatments. Monocular treatments produce a competition between the two eyes by treating only the fellow eye to that the amblyopic eye recovers.  Binocular treatments seek to stimulate both eyes in such a way that binocular mechanisms can produce a recovery in the amblyopic eye.\n",
    "\n",
    "### Monocular Treatments\n",
    "\n",
    "The most common treatment includes \n",
    "\n",
    "1. the optical correction of significant refractive errors \n",
    "2. patching the dominant eye which forces the visual input to come from only the amblyopic eye. \n",
    "\n",
    "Although patching is the most common method of treatment, other methods are described including pharmacology and technology [@holmes2016randomized; @Kelly_2016; @Holmes_2016; @Li:2015aa;@de2007current; @Gao_2018;  @glaser2002randomized]. These include,\n",
    "\n",
    "3. Pharmacological treatment with atropine drops in the fellow eye\n",
    "\n",
    "Each of these treatments only directly applies to the fellow eye and the amblyopic eye is left untouched. "
   ]
  },
  {
   "cell_type": "markdown",
   "id": "bea459bc-44ea-44a3-889a-4f74ca76edea",
   "metadata": {},
   "source": [
    "### Binocular Treatments\n",
    "\n",
    "There are some treatments which are administered to both eyes, making them binocular treatments.  The one that we will be addressing here use virtual reality headsets[@xiao2020improved; @xiao2022randomized],\n",
    "\n",
    "4. Virtual reality input to both eyes, with contrast modification and/or  dichoptic masks"
   ]
  },
  {
   "cell_type": "markdown",
   "id": "b45ebf56-08e2-4392-8051-491d88600328",
   "metadata": {},
   "source": [
    "## Mechanisms for Amblyopia\n",
    "\n",
    "Since the unequal visual input to the brain can cause alterations in the synaptic pathways leading to a disparity in ocular dominance [@birch2013amblyopia], it is important to understand the possible synaptic effects amblyopia can produce and how potential treatments will either help or hinder the recovery.  "
   ]
  }
 ],
 "metadata": {
  "kernelspec": {
   "display_name": "Python 3 (ipykernel)",
   "language": "python",
   "name": "python3"
  },
  "language_info": {
   "codemirror_mode": {
    "name": "ipython",
    "version": 3
   },
   "file_extension": ".py",
   "mimetype": "text/x-python",
   "name": "python",
   "nbconvert_exporter": "python",
   "pygments_lexer": "ipython3",
   "version": "3.9.12"
  }
 },
 "nbformat": 4,
 "nbformat_minor": 5
}
