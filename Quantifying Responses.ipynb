{
 "cells": [
  {
   "cell_type": "markdown",
   "id": "3cb34dad-585f-4291-9ea5-ae1c84a7e153",
   "metadata": {},
   "source": [
    "## Ocular Dominance Index\n",
    "\n",
    "Simulations are ended when selectivity has been achieved and the responses are stable. From the maximal responses of each eye, $R_{\\text{left}}$ and $R_{\\text{right}}$, individually, we can calculate the ocular dominance index as\n",
    "$$\n",
    "\\text{ODI} \\equiv \\frac{R_{\\text{right}}-R_{\\text{left}}}{R_{\\text{right}}+R_{\\text{left}}}\n",
    "$$\n",
    "The ocular dominance index (ODI) has a value of $\\text{ODI} \\approx 1$ when stimulus to the right-eye (typically the strong eye in the simulations, by convention) yields a maximum neuronal response with little or no contribution from the left-eye.  Likewise, an ocular dominance index (ODI) has a value of $\\text{ODI} \\approx -1$ when stimulus to the left-eye (typically the weak eye, by convention) yields a maximum neuronal response with little or no contribution from the right-eye.  A value of $\\text{ODI} \\approx 0$ represents a purely binocular cell, responding equally to stimulus in either eye.\n",
    "\n",
    ":::{.callout-important}\n",
    "- do an orientation tuning index\n",
    "- do a spatial frequency tuning index\n",
    ":::\n",
    "\n"
   ]
  },
  {
   "cell_type": "code",
   "execution_count": null,
   "id": "28377f63-7234-46bb-b1bb-57043c5e922c",
   "metadata": {},
   "outputs": [],
   "source": []
  }
 ],
 "metadata": {
  "kernelspec": {
   "display_name": "Python 3 (ipykernel)",
   "language": "python",
   "name": "python3"
  },
  "language_info": {
   "codemirror_mode": {
    "name": "ipython",
    "version": 3
   },
   "file_extension": ".py",
   "mimetype": "text/x-python",
   "name": "python",
   "nbconvert_exporter": "python",
   "pygments_lexer": "ipython3",
   "version": "3.9.12"
  }
 },
 "nbformat": 4,
 "nbformat_minor": 5
}
