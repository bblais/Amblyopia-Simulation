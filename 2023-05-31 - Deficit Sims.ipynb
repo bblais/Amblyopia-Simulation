{
 "cells": [
  {
   "cell_type": "code",
   "execution_count": 1,
   "id": "53c7cf2d-5207-4889-ac4b-ef75cfce28e4",
   "metadata": {},
   "outputs": [],
   "source": [
    "%matplotlib inline\n",
    "from pylab import *\n",
    "from mpl_toolkits.axes_grid1 import make_axes_locatable"
   ]
  },
  {
   "cell_type": "code",
   "execution_count": 2,
   "id": "497bada7-c2cf-47dd-9336-bb55a39e9e35",
   "metadata": {},
   "outputs": [
    {
     "name": "stdout",
     "output_type": "stream",
     "text": [
      "Splikes version  0.1.2\n",
      "Plasticnet version  0.1.9\n",
      "macOS-10.16-x86_64-i386-64bit\n"
     ]
    }
   ],
   "source": [
    "from treatment_sims_2023_02_21 import *"
   ]
  },
  {
   "cell_type": "code",
   "execution_count": 3,
   "id": "5d0e6684-eae6-44e5-9a6f-40980b609cb8",
   "metadata": {},
   "outputs": [],
   "source": [
    "def savefig(base):\n",
    "    import matplotlib.pyplot as plt\n",
    "    for fname in [f'Manuscript/resources/{base}.png',f'Manuscript/resources/{base}.svg']:\n",
    "        print(fname)\n",
    "        plt.savefig(fname, bbox_inches='tight')"
   ]
  },
  {
   "cell_type": "code",
   "execution_count": 4,
   "id": "3d77d243-20d8-4357-affc-dacf6e3b59c7",
   "metadata": {},
   "outputs": [
    {
     "name": "stdout",
     "output_type": "stream",
     "text": [
      "mkdir sims/2023-05-31\n"
     ]
    }
   ],
   "source": [
    "base='sims/2023-05-31'\n",
    "if not os.path.exists(base):\n",
    "    print(f\"mkdir {base}\")\n",
    "    os.mkdir(base)"
   ]
  },
  {
   "cell_type": "code",
   "execution_count": 5,
   "id": "ddb95ade-b71b-46a9-9be0-cfd03e6140fc",
   "metadata": {},
   "outputs": [
    {
     "data": {
      "text/plain": [
       "array([ 0.,  1.,  2.,  3.,  4.,  5.,  6.,  7.,  8.,  9., 10., 11., 12.])"
      ]
     },
     "execution_count": 5,
     "metadata": {},
     "output_type": "execute_result"
    }
   ],
   "source": [
    "rf_size=19\n",
    "eta=1e-6\n",
    "number_of_neurons=25\n",
    "number_of_processes=4\n",
    "mu_c_mat=[0,7.5]\n",
    "sigma_c_mat=[0,2]\n",
    "blur_mat=linspace(0,12,13)\n",
    "blur_mat"
   ]
  },
  {
   "cell_type": "code",
   "execution_count": null,
   "id": "c9387a50-9a2b-45e1-a7da-0128dc321689",
   "metadata": {},
   "outputs": [],
   "source": [
    "from collections import namedtuple\n",
    "params = namedtuple('params', ['count', 'eta','noise','blur','number_of_neurons','sfname','mu_c','sigma_c'])\n",
    "all_params=[]\n",
    "count=0\n",
    "eta_count=0\n",
    "noise_count=0\n",
    "open_eye_noise=0.1\n",
    "\n",
    "for mu_count,mu_c in enumerate(mu_c_mat):\n",
    "    for sigma_count,sigma_c in enumerate(sigma_c_mat):\n",
    "        for blur_count,blur in enumerate(blur_mat):\n",
    "        \n",
    "            all_params.append(params(count=count,\n",
    "                         eta=eta,\n",
    "                         noise=open_eye_noise,\n",
    "                         blur=blur,\n",
    "                         number_of_neurons=number_of_neurons,\n",
    "         sfname=f'{base}/deficit {number_of_neurons} neurons {mu_c} mu_c {sigma_c} sigma_c {blur} blur.asdf',\n",
    "                                mu_c=mu_c,sigma_c=sigma_c))\n",
    "\n",
    "        count+=1\n",
    "for a in all_params[:5]:\n",
    "    print(a)\n",
    "print(\"[....]\")\n",
    "for a in all_params[-5:]:\n",
    "    print(a)\n",
    "\n"
   ]
  }
 ],
 "metadata": {
  "kernelspec": {
   "display_name": "Python 3 (ipykernel)",
   "language": "python",
   "name": "python3"
  },
  "language_info": {
   "codemirror_mode": {
    "name": "ipython",
    "version": 3
   },
   "file_extension": ".py",
   "mimetype": "text/x-python",
   "name": "python",
   "nbconvert_exporter": "python",
   "pygments_lexer": "ipython3",
   "version": "3.9.13"
  }
 },
 "nbformat": 4,
 "nbformat_minor": 5
}
