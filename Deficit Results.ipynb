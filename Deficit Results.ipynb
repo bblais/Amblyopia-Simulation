{
 "cells": [
  {
   "cell_type": "markdown",
   "id": "9bc0c25a-b7b3-489b-8750-88ebf30fbd39",
   "metadata": {},
   "source": [
    "## Deficit and Measuring the Effectiveness of a Treatment\n",
    "\n",
    "Figure @fig:y_vs_t_fix_n0 shows the maximum response to oriented stimuli for $n=20$ neurons versus time.  The first 8 days of simulated time define the *deficit* period, where the neurons start in a naïve state with random synaptic weights, and are presented with natural image input blurred in the weak-eye channel as in Section @sec:methods.  Following the deficit, the simulation proceeds into the *fix* period, where the balanced natural image input is restored.  This transition is marked with a red line in Figure @fig:y_vs_t_fix_n0.  We can see only a modest improvement in the deprived-eye responses to the *fix* treatment.  This treatment depends on the noise level presented to the open eye.  In Figure @fig:y_vs_t_fix_n0, that noise level is $\\sigma_n = 0$ whereas in Figure @fig:y_vs_t_fix_n1 the noise level is $\\sigma_n=1$.  Increasing the open-eye noise results in an improved recovery from the deficit.  \n",
    "\n",
    "Figure @fig:ODI_vs_t_fix_n1 shows a measurement of this recovery, using the oculur dominance index described in Section @sec:ocular-dominance-index.  Balance responses result in an $\\text{ODI}=0$.  As the deficit is increased, so the ODI increases toward 1.  After the fix, with high levels of open-eye noise, the neurons nearly all recover from much of their initial deficit -- the ODI nearly returns to $\\text{ODI}=0$.  A simple measure of the effectiveness of the treatment is the *rate* of the recovery of the ODI:\n",
    "\n",
    "$$\n",
    "\\text{recovery rate}=\\frac{ODI_{\\text{deficit}}-ODI_{\\text{treatment}}}{\\text{duration of treatment}}\n",
    "$$\n"
   ]
  },
  {
   "cell_type": "code",
   "execution_count": null,
   "id": "6a59c94b-2b69-40c5-9ee5-6e1536343096",
   "metadata": {},
   "outputs": [],
   "source": []
  }
 ],
 "metadata": {
  "kernelspec": {
   "display_name": "Python 3 (ipykernel)",
   "language": "python",
   "name": "python3"
  },
  "language_info": {
   "codemirror_mode": {
    "name": "ipython",
    "version": 3
   },
   "file_extension": ".py",
   "mimetype": "text/x-python",
   "name": "python",
   "nbconvert_exporter": "python",
   "pygments_lexer": "ipython3",
   "version": "3.9.12"
  }
 },
 "nbformat": 4,
 "nbformat_minor": 5
}
