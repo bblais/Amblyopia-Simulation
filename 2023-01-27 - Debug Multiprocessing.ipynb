{
 "cells": [
  {
   "cell_type": "code",
   "execution_count": 1,
   "id": "117b101d-eacd-40b9-b2dc-eef3f599b004",
   "metadata": {},
   "outputs": [],
   "source": [
    "%matplotlib inline\n",
    "from pylab import *"
   ]
  },
  {
   "cell_type": "code",
   "execution_count": 2,
   "id": "1ff78b54-ea99-4817-94be-478229182e6d",
   "metadata": {},
   "outputs": [
    {
     "name": "stdout",
     "output_type": "stream",
     "text": [
      "Splikes version  0.1.2\n",
      "Plasticnet version  0.1.9\n",
      "macOS-10.16-x86_64-i386-64bit\n",
      "Base Image File: asdf/bbsk081604_all_log2dog.asdf\n"
     ]
    }
   ],
   "source": [
    "from deficit_defs import *"
   ]
  },
  {
   "cell_type": "code",
   "execution_count": 3,
   "id": "3a6a290d-fcaf-495b-b02f-54dccdfb2c3a",
   "metadata": {},
   "outputs": [],
   "source": [
    "_debug = False\n",
    "if _debug:\n",
    "    print(\"Debugging\")"
   ]
  },
  {
   "cell_type": "code",
   "execution_count": 4,
   "id": "26bf52db-8598-47df-855c-a2c60b752e7e",
   "metadata": {},
   "outputs": [],
   "source": [
    "def run_one_deficit_jitter(params,run=True,overwrite=False):\n",
    "    import plasticnet as pn\n",
    "    count,eta,noise,blur,mu_c,sigma_c,number_of_neurons,sfname=(params.count,params.eta,params.noise,\n",
    "                        params.blur,params.mu_c,params.sigma_c,params.number_of_neurons,params.sfname)\n",
    "    \n",
    "    if not overwrite and os.path.exists(sfname):\n",
    "        return sfname\n",
    "    \n",
    "    \n",
    "    seq=pn.Sequence()\n",
    "\n",
    "    t=16*day\n",
    "    ts=1*hour\n",
    "\n",
    "    # DEBUG\n",
    "    if _debug:\n",
    "        t=1*minute\n",
    "        ts=1*second\n",
    "\n",
    "    seq+=blur_jitter_deficit(blur=[blur,-1],\n",
    "                                total_time=t,\n",
    "                                noise=noise,\n",
    "                                eta=eta,number_of_neurons=number_of_neurons,\n",
    "                                mu_c=mu_c,sigma_c=sigma_c,\n",
    "                                save_interval=ts)\n",
    "\n",
    "\n",
    "    if run:\n",
    "        seq.run(display_hash=False)\n",
    "        pn.save(sfname,seq) \n",
    "    \n",
    "    return sfname\n",
    "    "
   ]
  },
  {
   "cell_type": "code",
   "execution_count": 5,
   "id": "e848ab83-aca2-4cde-81e6-e5af8d43f4bd",
   "metadata": {},
   "outputs": [],
   "source": [
    "def to_named_tuple(params_list):\n",
    "    from collections import namedtuple\n",
    "    keys=list(params_list[0].keys())\n",
    "    keys+=['count']\n",
    "    params=namedtuple('params',keys)\n",
    "    \n",
    "    tuples_list=[]\n",
    "    for count,p in enumerate(params_list):\n",
    "        p2=params(count=count,\n",
    "                  **p)\n",
    "        tuples_list.append(p2)\n",
    "        \n",
    "        \n",
    "    return tuples_list"
   ]
  },
  {
   "cell_type": "code",
   "execution_count": 6,
   "id": "1e2f4ff8-5fa9-46cf-8903-71afe9465d05",
   "metadata": {},
   "outputs": [],
   "source": [
    "def make_do_params(all_params,verbose=False):\n",
    "    do_params=[]\n",
    "    for p in all_params:\n",
    "        if os.path.exists(p.sfname):\n",
    "            if verbose:\n",
    "                print(\"Skipping %s...already exists\" % p.sfname)\n",
    "        else:\n",
    "            do_params+=[p]\n",
    "\n",
    "    if verbose:\n",
    "        print(\"%d sims\" % len(do_params))    \n",
    "        if len(do_params)<=15:\n",
    "            print(do_params)\n",
    "        else:\n",
    "            print(do_params[:5],\"...\",do_params[-5:])        \n",
    "    return do_params"
   ]
  },
  {
   "cell_type": "code",
   "execution_count": 7,
   "id": "9c762f99-ce58-41c3-8790-e1fbeebf8a2c",
   "metadata": {},
   "outputs": [],
   "source": [
    "number_of_neurons=25\n",
    "eta=1e-6\n",
    "number_of_processes=4"
   ]
  },
  {
   "cell_type": "code",
   "execution_count": null,
   "id": "a9b8ead2-aec6-414d-84c8-d8d4577f54e2",
   "metadata": {},
   "outputs": [],
   "source": []
  }
 ],
 "metadata": {
  "kernelspec": {
   "display_name": "Python 3 (ipykernel)",
   "language": "python",
   "name": "python3"
  },
  "language_info": {
   "codemirror_mode": {
    "name": "ipython",
    "version": 3
   },
   "file_extension": ".py",
   "mimetype": "text/x-python",
   "name": "python",
   "nbconvert_exporter": "python",
   "pygments_lexer": "ipython3",
   "version": "3.9.13"
  }
 },
 "nbformat": 4,
 "nbformat_minor": 5
}
