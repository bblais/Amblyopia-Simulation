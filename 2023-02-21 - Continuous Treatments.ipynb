{
 "cells": [
  {
   "cell_type": "code",
   "execution_count": 1,
   "id": "66cfe1c9-4f33-4c1b-a52e-7c9fcabf6f5e",
   "metadata": {},
   "outputs": [],
   "source": [
    "%matplotlib inline\n",
    "from pylab import *\n",
    "from mpl_toolkits.axes_grid1 import make_axes_locatable"
   ]
  },
  {
   "cell_type": "code",
   "execution_count": 2,
   "id": "7065f1e9-a3a8-4b7e-b343-4392d630db4a",
   "metadata": {},
   "outputs": [
    {
     "name": "stdout",
     "output_type": "stream",
     "text": [
      "Splikes version  0.1.2\n",
      "Plasticnet version  0.1.9\n",
      "macOS-10.16-x86_64-i386-64bit\n"
     ]
    }
   ],
   "source": [
    "from treatment_sims_2023_02_21 import *"
   ]
  },
  {
   "cell_type": "code",
   "execution_count": 3,
   "id": "3599e68f-2a0e-405f-98ed-b6da493fa4ae",
   "metadata": {},
   "outputs": [],
   "source": [
    "def savefig(base):\n",
    "    import matplotlib.pyplot as plt\n",
    "    for fname in [f'Manuscript/resources/{base}.png',f'Manuscript/resources/{base}.svg']:\n",
    "        print(fname)\n",
    "        plt.savefig(fname, bbox_inches='tight')"
   ]
  },
  {
   "cell_type": "code",
   "execution_count": null,
   "id": "85a299df-d82e-4cac-ad18-68b6338d2665",
   "metadata": {},
   "outputs": [],
   "source": []
  },
  {
   "cell_type": "code",
   "execution_count": 4,
   "id": "79de52df-3cd3-4c47-a059-55ec7e2a2175",
   "metadata": {},
   "outputs": [],
   "source": [
    "base='sims/2023-02-21'\n",
    "if not os.path.exists(base):\n",
    "    print(f\"mkdir {base}\")\n",
    "    os.mkdir(base)"
   ]
  },
  {
   "cell_type": "code",
   "execution_count": 5,
   "id": "118f7053-5db5-49b1-9cd3-9cedfec96daa",
   "metadata": {},
   "outputs": [],
   "source": [
    "rf_size=19\n",
    "eta=2e-6\n",
    "blur=6\n",
    "number_of_neurons=20\n",
    "number_of_processes=4\n",
    "mu_c_mat=[0,7.5]\n",
    "sigma_c_mat=[0,2]"
   ]
  },
  {
   "cell_type": "markdown",
   "id": "1890693e-540d-4214-8400-5361c83dc030",
   "metadata": {},
   "source": [
    "## Make one deficit sim to base the others on"
   ]
  },
  {
   "cell_type": "code",
   "execution_count": 6,
   "id": "2a065617-8861-4af8-a06c-cb6c6dedf958",
   "metadata": {},
   "outputs": [
    {
     "name": "stdout",
     "output_type": "stream",
     "text": [
      "params(count=0, eta=2e-06, noise=0.1, blur=6, number_of_neurons=20, sfname='sims/2023-02-21/deficit 20 neurons 0 mu_c 0 sigma_c.asdf', mu_c=0, sigma_c=0)\n",
      "params(count=1, eta=2e-06, noise=0.1, blur=6, number_of_neurons=20, sfname='sims/2023-02-21/deficit 20 neurons 0 mu_c 2 sigma_c.asdf', mu_c=0, sigma_c=2)\n",
      "params(count=2, eta=2e-06, noise=0.1, blur=6, number_of_neurons=20, sfname='sims/2023-02-21/deficit 20 neurons 7.5 mu_c 0 sigma_c.asdf', mu_c=7.5, sigma_c=0)\n",
      "params(count=3, eta=2e-06, noise=0.1, blur=6, number_of_neurons=20, sfname='sims/2023-02-21/deficit 20 neurons 7.5 mu_c 2 sigma_c.asdf', mu_c=7.5, sigma_c=2)\n",
      "[....]\n",
      "params(count=0, eta=2e-06, noise=0.1, blur=6, number_of_neurons=20, sfname='sims/2023-02-21/deficit 20 neurons 0 mu_c 0 sigma_c.asdf', mu_c=0, sigma_c=0)\n",
      "params(count=1, eta=2e-06, noise=0.1, blur=6, number_of_neurons=20, sfname='sims/2023-02-21/deficit 20 neurons 0 mu_c 2 sigma_c.asdf', mu_c=0, sigma_c=2)\n",
      "params(count=2, eta=2e-06, noise=0.1, blur=6, number_of_neurons=20, sfname='sims/2023-02-21/deficit 20 neurons 7.5 mu_c 0 sigma_c.asdf', mu_c=7.5, sigma_c=0)\n",
      "params(count=3, eta=2e-06, noise=0.1, blur=6, number_of_neurons=20, sfname='sims/2023-02-21/deficit 20 neurons 7.5 mu_c 2 sigma_c.asdf', mu_c=7.5, sigma_c=2)\n"
     ]
    }
   ],
   "source": [
    "from collections import namedtuple\n",
    "params = namedtuple('params', ['count', 'eta','noise','blur','number_of_neurons','sfname','mu_c','sigma_c'])\n",
    "all_params=[]\n",
    "count=0\n",
    "eta_count=0\n",
    "noise_count=0\n",
    "open_eye_noise=0.1\n",
    "\n",
    "for mu_count,mu_c in enumerate(mu_c_mat):\n",
    "    for sigma_count,sigma_c in enumerate(sigma_c_mat):\n",
    "        all_params.append(params(count=count,\n",
    "                         eta=eta,\n",
    "                         noise=open_eye_noise,\n",
    "                         blur=blur,\n",
    "                         number_of_neurons=number_of_neurons,\n",
    "         sfname=f'{base}/deficit {number_of_neurons} neurons {mu_c} mu_c {sigma_c} sigma_c.asdf',\n",
    "                                mu_c=mu_c,sigma_c=sigma_c))\n",
    "\n",
    "        count+=1\n",
    "for a in all_params[:5]:\n",
    "    print(a)\n",
    "print(\"[....]\")\n",
    "for a in all_params[-5:]:\n",
    "    print(a)\n",
    "\n"
   ]
  },
  {
   "cell_type": "code",
   "execution_count": 7,
   "id": "1fb3fea6-ba14-437f-a657-51f4be4065e6",
   "metadata": {},
   "outputs": [],
   "source": [
    "real_time=11*60+ 30"
   ]
  },
  {
   "cell_type": "code",
   "execution_count": 8,
   "id": "2e129865-a239-47c3-abea-c5f3bf882d14",
   "metadata": {},
   "outputs": [
    {
     "name": "stdout",
     "output_type": "stream",
     "text": [
      "0\n",
      "0.00 s\n"
     ]
    }
   ],
   "source": [
    "do_params=make_do_params(all_params)\n",
    "print(len(do_params))\n",
    "print(time2str(real_time*len(do_params)/number_of_processes))"
   ]
  },
  {
   "cell_type": "markdown",
   "id": "ce92f195-6a9f-44ca-838e-d23ab991156a",
   "metadata": {},
   "source": [
    "### premake the images"
   ]
  },
  {
   "cell_type": "code",
   "execution_count": 9,
   "id": "ac96ef26-c3c6-479a-9a1c-fa6f4634d3b2",
   "metadata": {},
   "outputs": [
    {
     "data": {
      "application/vnd.jupyter.widget-view+json": {
       "model_id": "7b7bce093aa441fa9cd4a0ee5d6f5e0f",
       "version_major": 2,
       "version_minor": 0
      },
      "text/plain": [
       "  0%|          | 0/4 [00:00<?, ?it/s]"
      ]
     },
     "metadata": {},
     "output_type": "display_data"
    },
    {
     "name": "stdout",
     "output_type": "stream",
     "text": [
      "Using cache_images/cache_images_33487c39ae14fd4b2e1147c1b93a3055.asdf from cache.Using cache_images/cache_images_c2e0829f3e61ca9a4b271b0f7c2ee1f1.asdf from cache.Using cache_images/cache_images_33487c39ae14fd4b2e1147c1b93a3055.asdf from cache.Using cache_images/cache_images_c2e0829f3e61ca9a4b271b0f7c2ee1f1.asdf from cache.Using cache_images/cache_images_33487c39ae14fd4b2e1147c1b93a3055.asdf from cache.Using cache_images/cache_images_c2e0829f3e61ca9a4b271b0f7c2ee1f1.asdf from cache.Using cache_images/cache_images_33487c39ae14fd4b2e1147c1b93a3055.asdf from cache.Using cache_images/cache_images_c2e0829f3e61ca9a4b271b0f7c2ee1f1.asdf from cache."
     ]
    }
   ],
   "source": [
    "for params in tqdm(all_params):\n",
    "    run_one_deficit(params,run=False,overwrite=False)"
   ]
  },
  {
   "cell_type": "code",
   "execution_count": 9,
   "id": "358af60f-23f1-4f8e-8954-0785f5b7629a",
   "metadata": {},
   "outputs": [],
   "source": [
    "def run_one_deficit(params,overwrite=False):\n",
    "    import plasticnet as pn\n",
    "    \n",
    "    count,eta,noise,blur,number_of_neurons,sfname,mu_c,sigma_c=(params.count,params.eta,params.noise,params.blur,\n",
    "                                        params.number_of_neurons,params.sfname,params.mu_c,params.sigma_c)\n",
    "    \n",
    "    \n",
    "    if not overwrite and os.path.exists(sfname):\n",
    "        return sfname\n",
    "    \n",
    "    seq=pn.Sequence()\n",
    "\n",
    "    t=16*day\n",
    "    ts=1*hour\n",
    "\n",
    "    seq+=blur_jitter_deficit(blur=[blur,-1],\n",
    "                                total_time=t,\n",
    "                                noise=noise,eta=eta,number_of_neurons=number_of_neurons,\n",
    "                                mu_c=mu_c,sigma_c=sigma_c,\n",
    "                                save_interval=ts)\n",
    "\n",
    "    seq.run(display_hash=False)\n",
    "    pn.save(sfname,seq) \n",
    "    \n",
    "    return sfname\n",
    "    \n",
    "    "
   ]
  },
  {
   "cell_type": "markdown",
   "id": "f068433a-5473-4b48-91ad-d402942dd173",
   "metadata": {},
   "source": [
    "### run the sims"
   ]
  },
  {
   "cell_type": "code",
   "execution_count": 12,
   "id": "e5fb343c-5956-4e7f-828d-7b8bd79bfaa5",
   "metadata": {},
   "outputs": [
    {
     "name": "stdout",
     "output_type": "stream",
     "text": [
      "Using cache_images/cache_images_33487c39ae14fd4b2e1147c1b93a3055.asdf from cache.Using cache_images/cache_images_33487c39ae14fd4b2e1147c1b93a3055.asdf from cache.Using cache_images/cache_images_33487c39ae14fd4b2e1147c1b93a3055.asdf from cache.Using cache_images/cache_images_33487c39ae14fd4b2e1147c1b93a3055.asdf from cache.Using cache_images/cache_images_c2e0829f3e61ca9a4b271b0f7c2ee1f1.asdf from cache.Using cache_images/cache_images_c2e0829f3e61ca9a4b271b0f7c2ee1f1.asdf from cache.Using cache_images/cache_images_c2e0829f3e61ca9a4b271b0f7c2ee1f1.asdf from cache.Using cache_images/cache_images_c2e0829f3e61ca9a4b271b0f7c2ee1f1.asdf from cache.[[[[.] Sequence Time Elapsed...9 m, 19.99 s\n",
      ".] Sequence Time Elapsed...9 m, 20.22 s\n",
      ".] Sequence Time Elapsed...9 m, 21.13 s\n",
      ".] Sequence Time Elapsed...9 m, 21.58 s\n",
      "['sims/2023-02-21/deficit 20 neurons 0 mu_c 0 sigma_c.asdf', 'sims/2023-02-21/deficit 20 neurons 0 mu_c 2 sigma_c.asdf', 'sims/2023-02-21/deficit 20 neurons 7.5 mu_c 0 sigma_c.asdf', 'sims/2023-02-21/deficit 20 neurons 7.5 mu_c 2 sigma_c.asdf']\n"
     ]
    }
   ],
   "source": [
    "if do_params:\n",
    "    pool = Pool(processes=number_of_processes)\n",
    "    result = pool.map_async(run_one_deficit, do_params)\n",
    "    print(result.get())"
   ]
  },
  {
   "cell_type": "markdown",
   "id": "172591e0-d5d8-4b06-b0b3-43dbd2705292",
   "metadata": {},
   "source": [
    "## Optical fix\n",
    "\n",
    "This work is in this notebook: 2023-02-19 - Optical Fix.ipynb - except I think I used the wrong images. :-("
   ]
  },
  {
   "cell_type": "code",
   "execution_count": 13,
   "id": "ea5f8fab-64e1-4140-b5d6-84917f36319a",
   "metadata": {},
   "outputs": [],
   "source": [
    "def run_one_continuous_fix_jitter(params,\n",
    "                                  deficit_base_sim='sims/2023-02-21/deficit 20 neurons 7.5 mu_c 2 sigma_c.asdf',\n",
    "                                  overwrite=False):\n",
    "    import plasticnet as pn\n",
    "    count,eta,noise,mu_c,sigma_c,number_of_neurons,sfname=(params.count,params.eta,params.noise,\n",
    "                        params.mu_c,params.sigma_c,params.number_of_neurons,params.sfname)\n",
    "    \n",
    "    if not overwrite and os.path.exists(sfname):\n",
    "        return sfname\n",
    "\n",
    "    seq=pn.Sequence()\n",
    "    \n",
    "    seq+=fix_jitter(total_time=100*hour,\n",
    "             save_interval=20*minute,number_of_neurons=params.number_of_neurons,\n",
    "            mu_c=mu_c,sigma_c=sigma_c,\n",
    "             eta=eta,noise=noise)\n",
    "    seq_load(seq,deficit_base_sim)    \n",
    "\n",
    "    seq.run(display_hash=False)\n",
    "    pn.save(sfname,seq) \n",
    "    \n",
    "    return sfname\n",
    "    "
   ]
  },
  {
   "cell_type": "code",
   "execution_count": 14,
   "id": "b6f488db-6682-4252-815c-2f8a1632aac5",
   "metadata": {},
   "outputs": [
    {
     "name": "stdout",
     "output_type": "stream",
     "text": [
      "11 sims\n",
      "[params(eta=2e-06, number_of_neurons=20, sfname='sims/2023-02-21/continuous fix 20 neurons noise 0.0.asdf', noise=0.0, mu_c=7.5, sigma_c=2, count=0), params(eta=2e-06, number_of_neurons=20, sfname='sims/2023-02-21/continuous fix 20 neurons noise 0.1.asdf', noise=0.1, mu_c=7.5, sigma_c=2, count=1), params(eta=2e-06, number_of_neurons=20, sfname='sims/2023-02-21/continuous fix 20 neurons noise 0.2.asdf', noise=0.2, mu_c=7.5, sigma_c=2, count=2), params(eta=2e-06, number_of_neurons=20, sfname='sims/2023-02-21/continuous fix 20 neurons noise 0.3.asdf', noise=0.30000000000000004, mu_c=7.5, sigma_c=2, count=3), params(eta=2e-06, number_of_neurons=20, sfname='sims/2023-02-21/continuous fix 20 neurons noise 0.4.asdf', noise=0.4, mu_c=7.5, sigma_c=2, count=4), params(eta=2e-06, number_of_neurons=20, sfname='sims/2023-02-21/continuous fix 20 neurons noise 0.5.asdf', noise=0.5, mu_c=7.5, sigma_c=2, count=5), params(eta=2e-06, number_of_neurons=20, sfname='sims/2023-02-21/continuous fix 20 neurons noise 0.6.asdf', noise=0.6000000000000001, mu_c=7.5, sigma_c=2, count=6), params(eta=2e-06, number_of_neurons=20, sfname='sims/2023-02-21/continuous fix 20 neurons noise 0.7.asdf', noise=0.7000000000000001, mu_c=7.5, sigma_c=2, count=7), params(eta=2e-06, number_of_neurons=20, sfname='sims/2023-02-21/continuous fix 20 neurons noise 0.8.asdf', noise=0.8, mu_c=7.5, sigma_c=2, count=8), params(eta=2e-06, number_of_neurons=20, sfname='sims/2023-02-21/continuous fix 20 neurons noise 0.9.asdf', noise=0.9, mu_c=7.5, sigma_c=2, count=9), params(eta=2e-06, number_of_neurons=20, sfname='sims/2023-02-21/continuous fix 20 neurons noise 1.0.asdf', noise=1.0, mu_c=7.5, sigma_c=2, count=10)]\n"
     ]
    }
   ],
   "source": [
    "func=run_one_continuous_fix_jitter\n",
    "\n",
    "noise_mat=linspace(0,1,11)\n",
    "\n",
    "all_params=[]\n",
    "for n,noise in enumerate(noise_mat):\n",
    "    sfname=base+f'/continuous fix {number_of_neurons} neurons noise {noise:.1f}.asdf'\n",
    "    \n",
    "    p=Struct()\n",
    "    p.eta=eta\n",
    "    p.number_of_neurons=number_of_neurons\n",
    "    p.sfname=sfname\n",
    "    \n",
    "    p.noise=noise\n",
    "    p.mu_c=7.5\n",
    "    p.sigma_c=2\n",
    "    \n",
    "    all_params+=[p]\n",
    "\n",
    "all_params=to_named_tuple(all_params)  \n",
    "do_params=make_do_params(all_params,verbose=True)"
   ]
  },
  {
   "cell_type": "code",
   "execution_count": 15,
   "id": "ef178580-f23b-4a51-8a04-644bcb28ee82",
   "metadata": {},
   "outputs": [
    {
     "name": "stdout",
     "output_type": "stream",
     "text": [
      "Using cache_images/cache_images_c2e0829f3e61ca9a4b271b0f7c2ee1f1.asdf from cache.Using cache_images/cache_images_c2e0829f3e61ca9a4b271b0f7c2ee1f1.asdf from cache.Using cache_images/cache_images_c2e0829f3e61ca9a4b271b0f7c2ee1f1.asdf from cache.Using cache_images/cache_images_c2e0829f3e61ca9a4b271b0f7c2ee1f1.asdf from cache.[[[[..] ] Sequence Time Elapsed...1 m, 17.36 s.Sequence Time Elapsed...1 m, 17.36 s\n",
      "] \n",
      "Sequence Time Elapsed...1 m, 17.39 s\n",
      ".] Sequence Time Elapsed...1 m, 17.45 s\n",
      "Using cache_images/cache_images_c2e0829f3e61ca9a4b271b0f7c2ee1f1.asdf from cache.Using cache_images/cache_images_c2e0829f3e61ca9a4b271b0f7c2ee1f1.asdf from cache.Using cache_images/cache_images_c2e0829f3e61ca9a4b271b0f7c2ee1f1.asdf from cache.Using cache_images/cache_images_c2e0829f3e61ca9a4b271b0f7c2ee1f1.asdf from cache.[[[[.] Sequence Time Elapsed...1 m, 19.03 s\n",
      ".] Sequence Time Elapsed...1 m, 19.23 s\n",
      "..] ] Sequence Time Elapsed...1 m, 19.31 sSequence Time Elapsed...1 m, 19.31 s\n",
      "\n",
      "Using cache_images/cache_images_c2e0829f3e61ca9a4b271b0f7c2ee1f1.asdf from cache.Using cache_images/cache_images_c2e0829f3e61ca9a4b271b0f7c2ee1f1.asdf from cache.Using cache_images/cache_images_c2e0829f3e61ca9a4b271b0f7c2ee1f1.asdf from cache.[[[.] Sequence Time Elapsed...1 m, 14.80 s\n",
      ".] Sequence Time Elapsed...1 m, 14.89 s\n",
      ".] Sequence Time Elapsed...1 m, 15.13 s\n",
      "['sims/2023-02-21/continuous fix 20 neurons noise 0.0.asdf', 'sims/2023-02-21/continuous fix 20 neurons noise 0.1.asdf', 'sims/2023-02-21/continuous fix 20 neurons noise 0.2.asdf', 'sims/2023-02-21/continuous fix 20 neurons noise 0.3.asdf', 'sims/2023-02-21/continuous fix 20 neurons noise 0.4.asdf', 'sims/2023-02-21/continuous fix 20 neurons noise 0.5.asdf', 'sims/2023-02-21/continuous fix 20 neurons noise 0.6.asdf', 'sims/2023-02-21/continuous fix 20 neurons noise 0.7.asdf', 'sims/2023-02-21/continuous fix 20 neurons noise 0.8.asdf', 'sims/2023-02-21/continuous fix 20 neurons noise 0.9.asdf', 'sims/2023-02-21/continuous fix 20 neurons noise 1.0.asdf']\n"
     ]
    }
   ],
   "source": [
    "if do_params:\n",
    "    pool = Pool(processes=number_of_processes)\n",
    "    result = pool.map_async(func, do_params)\n",
    "    print(result.get())"
   ]
  },
  {
   "cell_type": "markdown",
   "id": "f8dcaa9b-0898-43aa-8f44-5809cb89aa1c",
   "metadata": {},
   "source": [
    "## Patch"
   ]
  },
  {
   "cell_type": "code",
   "execution_count": 16,
   "id": "b1583e45-850b-47a3-b783-19139267fc33",
   "metadata": {},
   "outputs": [],
   "source": [
    "def run_one_continuous_patch_jitter(params,\n",
    "                                  deficit_base_sim='sims/2023-02-21/deficit 20 neurons 7.5 mu_c 2 sigma_c.asdf',\n",
    "                                  overwrite=False):\n",
    "    import plasticnet as pn\n",
    "    count,eta,noise,mu_c,sigma_c,number_of_neurons,sfname=(params.count,params.eta,params.noise,\n",
    "                        params.mu_c,params.sigma_c,params.number_of_neurons,params.sfname)\n",
    "    \n",
    "    if not overwrite and os.path.exists(sfname):\n",
    "        return sfname\n",
    "\n",
    "    seq=pn.Sequence()\n",
    "\n",
    "    seq+=patch_treatment_jitter(patch_noise=noise,\n",
    "               total_time=100*hour,number_of_neurons=params.number_of_neurons,\n",
    "            mu_c=mu_c,sigma_c=sigma_c,\n",
    "               eta=eta,\n",
    "               save_interval=20*minute)\n",
    "\n",
    "    seq_load(seq,deficit_base_sim)    \n",
    "\n",
    "    seq.run(display_hash=False)\n",
    "    pn.save(sfname,seq) \n",
    "    \n",
    "    return sfname\n",
    "            \n",
    "    "
   ]
  },
  {
   "cell_type": "code",
   "execution_count": 17,
   "id": "149a30de-37cb-4d72-9c92-a1167640b5b7",
   "metadata": {},
   "outputs": [
    {
     "name": "stdout",
     "output_type": "stream",
     "text": [
      "21 sims\n",
      "[params(eta=2e-06, number_of_neurons=20, sfname='sims/2023-02-21/continuous patch 20 neurons noise 0.0.asdf', noise=0.0, mu_c=7.5, sigma_c=2, count=0), params(eta=2e-06, number_of_neurons=20, sfname='sims/2023-02-21/continuous patch 20 neurons noise 0.1.asdf', noise=0.05, mu_c=7.5, sigma_c=2, count=1), params(eta=2e-06, number_of_neurons=20, sfname='sims/2023-02-21/continuous patch 20 neurons noise 0.1.asdf', noise=0.1, mu_c=7.5, sigma_c=2, count=2), params(eta=2e-06, number_of_neurons=20, sfname='sims/2023-02-21/continuous patch 20 neurons noise 0.2.asdf', noise=0.15000000000000002, mu_c=7.5, sigma_c=2, count=3), params(eta=2e-06, number_of_neurons=20, sfname='sims/2023-02-21/continuous patch 20 neurons noise 0.2.asdf', noise=0.2, mu_c=7.5, sigma_c=2, count=4)] ... [params(eta=2e-06, number_of_neurons=20, sfname='sims/2023-02-21/continuous patch 20 neurons noise 0.8.asdf', noise=0.8, mu_c=7.5, sigma_c=2, count=16), params(eta=2e-06, number_of_neurons=20, sfname='sims/2023-02-21/continuous patch 20 neurons noise 0.9.asdf', noise=0.8500000000000001, mu_c=7.5, sigma_c=2, count=17), params(eta=2e-06, number_of_neurons=20, sfname='sims/2023-02-21/continuous patch 20 neurons noise 0.9.asdf', noise=0.9, mu_c=7.5, sigma_c=2, count=18), params(eta=2e-06, number_of_neurons=20, sfname='sims/2023-02-21/continuous patch 20 neurons noise 1.0.asdf', noise=0.9500000000000001, mu_c=7.5, sigma_c=2, count=19), params(eta=2e-06, number_of_neurons=20, sfname='sims/2023-02-21/continuous patch 20 neurons noise 1.0.asdf', noise=1.0, mu_c=7.5, sigma_c=2, count=20)]\n"
     ]
    }
   ],
   "source": [
    "func=run_one_continuous_patch_jitter\n",
    "\n",
    "closed_eye_noise_mat=linspace(0,1,21)\n",
    "\n",
    "all_params=[]\n",
    "for n,noise in enumerate(closed_eye_noise_mat):\n",
    "    sfname=base+f'/continuous patch {number_of_neurons} neurons noise {noise:.1f}.asdf'\n",
    "    \n",
    "    p=Struct()\n",
    "    p.eta=eta\n",
    "    p.number_of_neurons=number_of_neurons\n",
    "    p.sfname=sfname\n",
    "    \n",
    "    p.noise=noise\n",
    "    p.mu_c=7.5\n",
    "    p.sigma_c=2\n",
    "    \n",
    "    all_params+=[p]\n",
    "\n",
    "all_params=to_named_tuple(all_params)  \n",
    "do_params=make_do_params(all_params,verbose=True)"
   ]
  },
  {
   "cell_type": "code",
   "execution_count": 18,
   "id": "dc06d23d-cbd5-44b5-aed8-9096c7977ee7",
   "metadata": {},
   "outputs": [
    {
     "name": "stdout",
     "output_type": "stream",
     "text": [
      "Using cache_images/cache_images_c2e0829f3e61ca9a4b271b0f7c2ee1f1.asdf from cache.Using cache_images/cache_images_c2e0829f3e61ca9a4b271b0f7c2ee1f1.asdf from cache.Using cache_images/cache_images_c2e0829f3e61ca9a4b271b0f7c2ee1f1.asdf from cache.Using cache_images/cache_images_c2e0829f3e61ca9a4b271b0f7c2ee1f1.asdf from cache.[[[[.] Sequence Time Elapsed...2 m, 56.71 s\n",
      ".] ..Sequence Time Elapsed...2 m, 56.74 s] \n",
      "] Sequence Time Elapsed...2 m, 56.76 sSequence Time Elapsed...2 m, 56.76 s\n",
      "\n",
      "Using cache_images/cache_images_c2e0829f3e61ca9a4b271b0f7c2ee1f1.asdf from cache.Using cache_images/cache_images_c2e0829f3e61ca9a4b271b0f7c2ee1f1.asdf from cache.Using cache_images/cache_images_c2e0829f3e61ca9a4b271b0f7c2ee1f1.asdf from cache.Using cache_images/cache_images_c2e0829f3e61ca9a4b271b0f7c2ee1f1.asdf from cache.[[[[.] Sequence Time Elapsed...2 m, 56.31 s\n",
      ".] Sequence Time Elapsed...2 m, 56.47 s\n",
      ".] Sequence Time Elapsed...2 m, 56.57 s\n",
      ".] Sequence Time Elapsed...2 m, 56.84 s\n",
      "Using cache_images/cache_images_c2e0829f3e61ca9a4b271b0f7c2ee1f1.asdf from cache.Using cache_images/cache_images_c2e0829f3e61ca9a4b271b0f7c2ee1f1.asdf from cache.Using cache_images/cache_images_c2e0829f3e61ca9a4b271b0f7c2ee1f1.asdf from cache.[[Using cache_images/cache_images_c2e0829f3e61ca9a4b271b0f7c2ee1f1.asdf from cache.[[.] Sequence Time Elapsed...3 m, 2.13 s\n",
      ".] Sequence Time Elapsed...3 m, 2.64 s\n",
      ".] Sequence Time Elapsed...3 m, 2.77 s\n",
      ".] Sequence Time Elapsed...3 m, 3.10 s\n",
      "Using cache_images/cache_images_c2e0829f3e61ca9a4b271b0f7c2ee1f1.asdf from cache.Using cache_images/cache_images_c2e0829f3e61ca9a4b271b0f7c2ee1f1.asdf from cache.Using cache_images/cache_images_c2e0829f3e61ca9a4b271b0f7c2ee1f1.asdf from cache.[[[Using cache_images/cache_images_c2e0829f3e61ca9a4b271b0f7c2ee1f1.asdf from cache.[.] Sequence Time Elapsed...2 m, 48.59 s\n",
      ".] Sequence Time Elapsed...2 m, 48.91 s.\n",
      "] Sequence Time Elapsed...2 m, 48.92 s\n",
      ".] Sequence Time Elapsed...2 m, 48.77 s\n",
      "Using cache_images/cache_images_c2e0829f3e61ca9a4b271b0f7c2ee1f1.asdf from cache.[Using cache_images/cache_images_c2e0829f3e61ca9a4b271b0f7c2ee1f1.asdf from cache.[.] Sequence Time Elapsed...2 m, 27.29 s\n",
      ".] Sequence Time Elapsed...2 m, 27.74 s\n",
      "['sims/2023-02-21/continuous patch 20 neurons noise 0.0.asdf', 'sims/2023-02-21/continuous patch 20 neurons noise 0.1.asdf', 'sims/2023-02-21/continuous patch 20 neurons noise 0.1.asdf', 'sims/2023-02-21/continuous patch 20 neurons noise 0.2.asdf', 'sims/2023-02-21/continuous patch 20 neurons noise 0.2.asdf', 'sims/2023-02-21/continuous patch 20 neurons noise 0.2.asdf', 'sims/2023-02-21/continuous patch 20 neurons noise 0.3.asdf', 'sims/2023-02-21/continuous patch 20 neurons noise 0.4.asdf', 'sims/2023-02-21/continuous patch 20 neurons noise 0.4.asdf', 'sims/2023-02-21/continuous patch 20 neurons noise 0.5.asdf', 'sims/2023-02-21/continuous patch 20 neurons noise 0.5.asdf', 'sims/2023-02-21/continuous patch 20 neurons noise 0.6.asdf', 'sims/2023-02-21/continuous patch 20 neurons noise 0.6.asdf', 'sims/2023-02-21/continuous patch 20 neurons noise 0.7.asdf', 'sims/2023-02-21/continuous patch 20 neurons noise 0.7.asdf', 'sims/2023-02-21/continuous patch 20 neurons noise 0.8.asdf', 'sims/2023-02-21/continuous patch 20 neurons noise 0.8.asdf', 'sims/2023-02-21/continuous patch 20 neurons noise 0.9.asdf', 'sims/2023-02-21/continuous patch 20 neurons noise 0.9.asdf', 'sims/2023-02-21/continuous patch 20 neurons noise 1.0.asdf', 'sims/2023-02-21/continuous patch 20 neurons noise 1.0.asdf']\n"
     ]
    }
   ],
   "source": [
    "if do_params:\n",
    "    pool = Pool(processes=number_of_processes)\n",
    "    result = pool.map_async(func, do_params)\n",
    "    print(result.get())"
   ]
  },
  {
   "cell_type": "markdown",
   "id": "46129913-5a4e-42d3-a487-86de1f415b46",
   "metadata": {},
   "source": [
    "## Atropine"
   ]
  },
  {
   "cell_type": "code",
   "execution_count": 6,
   "id": "e2cf7c85-868a-4eef-b62e-1b4e2aade182",
   "metadata": {},
   "outputs": [],
   "source": [
    "def run_one_continuous_blur_jitter(params,\n",
    "                                  deficit_base_sim='sims/2023-02-21/deficit 20 neurons 7.5 mu_c 2 sigma_c.asdf',\n",
    "                                   overwrite=False):\n",
    "    import plasticnet as pn\n",
    "    count,blur,eta,noise,mu_c,sigma_c,number_of_neurons,sfname=(params.count,params.blur,params.eta,params.noise,\n",
    "                                        params.mu_c,params.sigma_c,params.number_of_neurons,params.sfname)\n",
    "    \n",
    "    if not overwrite and os.path.exists(sfname):\n",
    "        return sfname\n",
    "    \n",
    "    \n",
    "    seq=pn.Sequence()\n",
    "    seq+=treatment_jitter(blur=blur,\n",
    "                   noise=0.1,\n",
    "                   noise2=noise,  # treated (strong-eye) noise\n",
    "                   total_time=100*hour,number_of_neurons=params.number_of_neurons,\n",
    "                    mu_c=mu_c,sigma_c=sigma_c,\n",
    "                   eta=eta,\n",
    "                   save_interval=20*minute)\n",
    "    \n",
    "    seq_load(seq,deficit_base_sim)    \n",
    "\n",
    "    seq.run(display_hash=False)\n",
    "    pn.save(sfname,seq) \n",
    "    \n",
    "    return sfname\n",
    "    "
   ]
  },
  {
   "cell_type": "code",
   "execution_count": 7,
   "id": "0e648ae0-501d-496d-8c51-7741888959ad",
   "metadata": {},
   "outputs": [
    {
     "name": "stdout",
     "output_type": "stream",
     "text": [
      "Skipping sims/2023-02-21/continuous atropine 20 neurons noise 0.0 blur 0.0.asdf...already exists\n",
      "Skipping sims/2023-02-21/continuous atropine 20 neurons noise 0.1 blur 0.0.asdf...already exists\n",
      "Skipping sims/2023-02-21/continuous atropine 20 neurons noise 0.2 blur 0.0.asdf...already exists\n",
      "Skipping sims/2023-02-21/continuous atropine 20 neurons noise 0.3 blur 0.0.asdf...already exists\n",
      "Skipping sims/2023-02-21/continuous atropine 20 neurons noise 0.4 blur 0.0.asdf...already exists\n",
      "Skipping sims/2023-02-21/continuous atropine 20 neurons noise 0.5 blur 0.0.asdf...already exists\n",
      "Skipping sims/2023-02-21/continuous atropine 20 neurons noise 0.6 blur 0.0.asdf...already exists\n",
      "Skipping sims/2023-02-21/continuous atropine 20 neurons noise 0.7 blur 0.0.asdf...already exists\n",
      "Skipping sims/2023-02-21/continuous atropine 20 neurons noise 0.8 blur 0.0.asdf...already exists\n",
      "Skipping sims/2023-02-21/continuous atropine 20 neurons noise 0.9 blur 0.0.asdf...already exists\n",
      "Skipping sims/2023-02-21/continuous atropine 20 neurons noise 1.0 blur 0.0.asdf...already exists\n",
      "220 sims\n",
      "[params(eta=2e-06, number_of_neurons=20, sfname='sims/2023-02-21/continuous atropine 20 neurons noise 0.0 blur 0.3.asdf', noise=0.0, blur=0.3, mu_c=7.5, sigma_c=2, count=11), params(eta=2e-06, number_of_neurons=20, sfname='sims/2023-02-21/continuous atropine 20 neurons noise 0.1 blur 0.3.asdf', noise=0.1, blur=0.3, mu_c=7.5, sigma_c=2, count=12), params(eta=2e-06, number_of_neurons=20, sfname='sims/2023-02-21/continuous atropine 20 neurons noise 0.2 blur 0.3.asdf', noise=0.2, blur=0.3, mu_c=7.5, sigma_c=2, count=13), params(eta=2e-06, number_of_neurons=20, sfname='sims/2023-02-21/continuous atropine 20 neurons noise 0.3 blur 0.3.asdf', noise=0.30000000000000004, blur=0.3, mu_c=7.5, sigma_c=2, count=14), params(eta=2e-06, number_of_neurons=20, sfname='sims/2023-02-21/continuous atropine 20 neurons noise 0.4 blur 0.3.asdf', noise=0.4, blur=0.3, mu_c=7.5, sigma_c=2, count=15)] ... [params(eta=2e-06, number_of_neurons=20, sfname='sims/2023-02-21/continuous atropine 20 neurons noise 0.6 blur 6.0.asdf', noise=0.6000000000000001, blur=6.0, mu_c=7.5, sigma_c=2, count=226), params(eta=2e-06, number_of_neurons=20, sfname='sims/2023-02-21/continuous atropine 20 neurons noise 0.7 blur 6.0.asdf', noise=0.7000000000000001, blur=6.0, mu_c=7.5, sigma_c=2, count=227), params(eta=2e-06, number_of_neurons=20, sfname='sims/2023-02-21/continuous atropine 20 neurons noise 0.8 blur 6.0.asdf', noise=0.8, blur=6.0, mu_c=7.5, sigma_c=2, count=228), params(eta=2e-06, number_of_neurons=20, sfname='sims/2023-02-21/continuous atropine 20 neurons noise 0.9 blur 6.0.asdf', noise=0.9, blur=6.0, mu_c=7.5, sigma_c=2, count=229), params(eta=2e-06, number_of_neurons=20, sfname='sims/2023-02-21/continuous atropine 20 neurons noise 1.0 blur 6.0.asdf', noise=1.0, blur=6.0, mu_c=7.5, sigma_c=2, count=230)]\n"
     ]
    }
   ],
   "source": [
    "func=run_one_continuous_blur_jitter\n",
    "\n",
    "\n",
    "atropine_blur_mat=linspace(0,6,21)\n",
    "closed_eye_noise_mat=linspace(0,1,11)\n",
    "\n",
    "all_params=[]\n",
    "for b,blur in enumerate(atropine_blur_mat):\n",
    "    for n,noise in enumerate(closed_eye_noise_mat):\n",
    "        sfname=base+f'/continuous atropine {number_of_neurons} neurons noise {noise:.1f} blur {blur:0.1f}.asdf'\n",
    "\n",
    "        p=Struct()\n",
    "        p.eta=eta\n",
    "        p.number_of_neurons=number_of_neurons\n",
    "        p.sfname=sfname\n",
    "\n",
    "        p.noise=noise\n",
    "        p.blur=blur\n",
    "        p.mu_c=7.5\n",
    "        p.sigma_c=2\n",
    "\n",
    "        all_params+=[p]\n",
    "\n",
    "all_params=to_named_tuple(all_params)  \n",
    "do_params=make_do_params(all_params,verbose=True)"
   ]
  },
  {
   "cell_type": "code",
   "execution_count": 8,
   "id": "7be85faa-f00b-4a1a-a059-3962e6a24b12",
   "metadata": {},
   "outputs": [
    {
     "name": "stdout",
     "output_type": "stream",
     "text": [
      "Using cache_images/cache_images_c2e0829f3e61ca9a4b271b0f7c2ee1f1.asdf from cache.Using cache_images/cache_images_c2e0829f3e61ca9a4b271b0f7c2ee1f1.asdf from cache.Using cache_images/cache_images_c2e0829f3e61ca9a4b271b0f7c2ee1f1.asdf from cache.Using cache_images/cache_images_c2e0829f3e61ca9a4b271b0f7c2ee1f1.asdf from cache.Resolution float64 -> uint16\n",
      "Resolution float64 -> uint16\n",
      "Resolution float64 -> uint16\n",
      "[[Resolution float64 -> uint16\n",
      "[[.] Sequence Time Elapsed...1 m, 51.71 s\n",
      ".] Sequence Time Elapsed...1 m, 51.71 s\n",
      ".] Sequence Time Elapsed...1 m, 51.67 s\n",
      "Using cache_images/cache_images_c2e0829f3e61ca9a4b271b0f7c2ee1f1.asdf from cache.[Using cache_images/cache_images_c2e0829f3e61ca9a4b271b0f7c2ee1f1.asdf from cache.[.] Sequence Time Elapsed...1 m, 51.69 s\n",
      "Using cache_images/cache_images_c2e0829f3e61ca9a4b271b0f7c2ee1f1.asdf from cache.[Using cache_images/cache_images_c2e0829f3e61ca9a4b271b0f7c2ee1f1.asdf from cache.[.] Sequence Time Elapsed...1 m, 51.79 s\n",
      ".] Sequence Time Elapsed...1 m, 51.51 s\n",
      ".] Sequence Time Elapsed...1 m, 51.25 s\n",
      "Using cache_images/cache_images_c2e0829f3e61ca9a4b271b0f7c2ee1f1.asdf from cache.[Using cache_images/cache_images_c2e0829f3e61ca9a4b271b0f7c2ee1f1.asdf from cache..] Sequence Time Elapsed...1 m, 51.15 s\n",
      "[Using cache_images/cache_images_c2e0829f3e61ca9a4b271b0f7c2ee1f1.asdf from cache.[Using cache_images/cache_images_c2e0829f3e61ca9a4b271b0f7c2ee1f1.asdf from cache.Resolution float64 -> uint16\n",
      "[.] Sequence Time Elapsed...1 m, 56.01 s\n",
      ".] Sequence Time Elapsed...1 m, 55.96 s\n",
      ".] Sequence Time Elapsed...1 m, 56.04 s\n",
      "Using cache_images/cache_images_c2e0829f3e61ca9a4b271b0f7c2ee1f1.asdf from cache.[Using cache_images/cache_images_c2e0829f3e61ca9a4b271b0f7c2ee1f1.asdf from cache.[Using cache_images/cache_images_c2e0829f3e61ca9a4b271b0f7c2ee1f1.asdf from cache.[.] Sequence Time Elapsed...1 m, 57.39 s\n",
      "Using cache_images/cache_images_c2e0829f3e61ca9a4b271b0f7c2ee1f1.asdf from cache.[.] Sequence Time Elapsed...1 m, 57.68 s\n",
      ".] Sequence Time Elapsed...1 m, 57.47 s\n",
      ".] Sequence Time Elapsed...1 m, 57.09 s\n",
      "Using cache_images/cache_images_c2e0829f3e61ca9a4b271b0f7c2ee1f1.asdf from cache.[Using cache_images/cache_images_c2e0829f3e61ca9a4b271b0f7c2ee1f1.asdf from cache.[Using cache_images/cache_images_c2e0829f3e61ca9a4b271b0f7c2ee1f1.asdf from cache.[.] Sequence Time Elapsed...1 m, 57.54 s\n",
      "Using cache_images/cache_images_c2e0829f3e61ca9a4b271b0f7c2ee1f1.asdf from cache.[.] Sequence Time Elapsed...1 m, 57.50 s\n",
      ".] Sequence Time Elapsed...1 m, 57.75 s\n",
      ".] Sequence Time Elapsed...1 m, 58.02 s\n",
      "Using cache_images/cache_images_c2e0829f3e61ca9a4b271b0f7c2ee1f1.asdf from cache.[Using cache_images/cache_images_c2e0829f3e61ca9a4b271b0f7c2ee1f1.asdf from cache.[Using cache_images/cache_images_c2e0829f3e61ca9a4b271b0f7c2ee1f1.asdf from cache.[.] Sequence Time Elapsed...1 m, 54.84 s\n",
      "Using cache_images/cache_images_c2e0829f3e61ca9a4b271b0f7c2ee1f1.asdf from cache.[.] Sequence Time Elapsed...1 m, 53.02 s\n",
      ".] Sequence Time Elapsed...1 m, 53.30 s\n",
      ".] Sequence Time Elapsed...1 m, 53.07 s\n",
      "Using cache_images/cache_images_c2e0829f3e61ca9a4b271b0f7c2ee1f1.asdf from cache.[Using cache_images/cache_images_c2e0829f3e61ca9a4b271b0f7c2ee1f1.asdf from cache.[Using cache_images/cache_images_c2e0829f3e61ca9a4b271b0f7c2ee1f1.asdf from cache.[.] Sequence Time Elapsed...1 m, 51.60 s\n",
      "Using cache_images/cache_images_c2e0829f3e61ca9a4b271b0f7c2ee1f1.asdf from cache.[.] Sequence Time Elapsed...1 m, 51.25 s\n",
      ".] Sequence Time Elapsed...1 m, 51.50 s\n",
      ".] Sequence Time Elapsed...1 m, 51.83 s\n",
      "Using cache_images/cache_images_c2e0829f3e61ca9a4b271b0f7c2ee1f1.asdf from cache.[Using cache_images/cache_images_c2e0829f3e61ca9a4b271b0f7c2ee1f1.asdf from cache.[Using cache_images/cache_images_c2e0829f3e61ca9a4b271b0f7c2ee1f1.asdf from cache.[.] Sequence Time Elapsed...1 m, 51.58 s\n",
      "Using cache_images/cache_images_c2e0829f3e61ca9a4b271b0f7c2ee1f1.asdf from cache.[.] Sequence Time Elapsed...1 m, 51.58 s\n",
      ".] Sequence Time Elapsed...1 m, 51.41 s\n",
      "Using cache_images/cache_images_c2e0829f3e61ca9a4b271b0f7c2ee1f1.asdf from cache..] Sequence Time Elapsed...1 m, 51.71 s\n",
      "[Using cache_images/cache_images_c2e0829f3e61ca9a4b271b0f7c2ee1f1.asdf from cache.[Using cache_images/cache_images_c2e0829f3e61ca9a4b271b0f7c2ee1f1.asdf from cache.[.] Sequence Time Elapsed...1 m, 51.46 s\n",
      "Using cache_images/cache_images_c2e0829f3e61ca9a4b271b0f7c2ee1f1.asdf from cache.[.] Sequence Time Elapsed...1 m, 51.42 s\n",
      ".] Sequence Time Elapsed...1 m, 51.10 s\n",
      ".] Sequence Time Elapsed...1 m, 50.79 s\n",
      "Using cache_images/cache_images_c2e0829f3e61ca9a4b271b0f7c2ee1f1.asdf from cache.[Using cache_images/cache_images_c2e0829f3e61ca9a4b271b0f7c2ee1f1.asdf from cache.[Using cache_images/cache_images_c2e0829f3e61ca9a4b271b0f7c2ee1f1.asdf from cache.[.] Sequence Time Elapsed...1 m, 52.11 s\n",
      "Using cache_images/cache_images_c2e0829f3e61ca9a4b271b0f7c2ee1f1.asdf from cache.[.] Sequence Time Elapsed...1 m, 52.46 s\n",
      ".] Sequence Time Elapsed...1 m, 51.71 s\n",
      ".] Sequence Time Elapsed...1 m, 51.45 s\n",
      "Using cache_images/cache_images_c2e0829f3e61ca9a4b271b0f7c2ee1f1.asdf from cache.[Using cache_images/cache_images_c2e0829f3e61ca9a4b271b0f7c2ee1f1.asdf from cache.[Using cache_images/cache_images_c2e0829f3e61ca9a4b271b0f7c2ee1f1.asdf from cache.[.] Sequence Time Elapsed...1 m, 51.17 s\n",
      "Using cache_images/cache_images_c2e0829f3e61ca9a4b271b0f7c2ee1f1.asdf from cache.[.] Sequence Time Elapsed...1 m, 50.95 s\n",
      ".] Sequence Time Elapsed...1 m, 51.69 s\n",
      ".] Sequence Time Elapsed...1 m, 50.73 s\n",
      "Using cache_images/cache_images_c2e0829f3e61ca9a4b271b0f7c2ee1f1.asdf from cache.[Using cache_images/cache_images_c2e0829f3e61ca9a4b271b0f7c2ee1f1.asdf from cache.[Using cache_images/cache_images_c2e0829f3e61ca9a4b271b0f7c2ee1f1.asdf from cache.[.] Sequence Time Elapsed...1 m, 52.00 s\n",
      "Using cache_images/cache_images_c2e0829f3e61ca9a4b271b0f7c2ee1f1.asdf from cache.[.] Sequence Time Elapsed...1 m, 52.09 s\n",
      ".] Sequence Time Elapsed...1 m, 52.20 s\n",
      ".] Sequence Time Elapsed...1 m, 52.83 s\n",
      "Using cache_images/cache_images_c2e0829f3e61ca9a4b271b0f7c2ee1f1.asdf from cache.[Using cache_images/cache_images_c2e0829f3e61ca9a4b271b0f7c2ee1f1.asdf from cache.Using cache_images/cache_images_c2e0829f3e61ca9a4b271b0f7c2ee1f1.asdf from cache.[[.] Sequence Time Elapsed...1 m, 51.69 s\n",
      "Using cache_images/cache_images_c2e0829f3e61ca9a4b271b0f7c2ee1f1.asdf from cache.[.] Sequence Time Elapsed...1 m, 50.82 s\n",
      ".] Sequence Time Elapsed...1 m, 50.35 s\n",
      ".] Sequence Time Elapsed...1 m, 50.67 s\n",
      "Using cache_images/cache_images_c2e0829f3e61ca9a4b271b0f7c2ee1f1.asdf from cache.[Using cache_images/cache_images_c2e0829f3e61ca9a4b271b0f7c2ee1f1.asdf from cache.[Using cache_images/cache_images_c2e0829f3e61ca9a4b271b0f7c2ee1f1.asdf from cache.[.] Sequence Time Elapsed...1 m, 51.03 s\n",
      "Using cache_images/cache_images_c2e0829f3e61ca9a4b271b0f7c2ee1f1.asdf from cache..] Sequence Time Elapsed...1 m, 51.35 s\n",
      ".] Sequence Time Elapsed...1 m, 51.12 s\n",
      ".] Sequence Time Elapsed...1 m, 51.31 s\n",
      "Using cache_images/cache_images_c2e0829f3e61ca9a4b271b0f7c2ee1f1.asdf from cache.Using cache_images/cache_images_c2e0829f3e61ca9a4b271b0f7c2ee1f1.asdf from cache.Using cache_images/cache_images_c2e0829f3e61ca9a4b271b0f7c2ee1f1.asdf from cache.Resolution float64 -> uint16\n",
      "[Resolution float64 -> uint16\n",
      "[Resolution float64 -> uint16\n",
      "[Resolution float64 -> uint16\n",
      "[.] Sequence Time Elapsed...1 m, 52.27 s\n",
      "Using cache_images/cache_images_c2e0829f3e61ca9a4b271b0f7c2ee1f1.asdf from cache..] Sequence Time Elapsed...1 m, 50.37 s\n",
      "Using cache_images/cache_images_c2e0829f3e61ca9a4b271b0f7c2ee1f1.asdf from cache.[.] Sequence Time Elapsed...1 m, 49.58 s\n",
      "Using cache_images/cache_images_c2e0829f3e61ca9a4b271b0f7c2ee1f1.asdf from cache.[.] Sequence Time Elapsed...1 m, 49.78 s\n",
      "Using cache_images/cache_images_c2e0829f3e61ca9a4b271b0f7c2ee1f1.asdf from cache.[Resolution float64 -> uint16\n",
      "[.] Sequence Time Elapsed...1 m, 50.99 s\n",
      "Using cache_images/cache_images_c2e0829f3e61ca9a4b271b0f7c2ee1f1.asdf from cache..] Sequence Time Elapsed...1 m, 50.37 s\n",
      "[Using cache_images/cache_images_c2e0829f3e61ca9a4b271b0f7c2ee1f1.asdf from cache.[.] Sequence Time Elapsed...1 m, 50.44 s\n",
      "Using cache_images/cache_images_c2e0829f3e61ca9a4b271b0f7c2ee1f1.asdf from cache.[.] Sequence Time Elapsed...1 m, 49.42 s\n",
      "Using cache_images/cache_images_c2e0829f3e61ca9a4b271b0f7c2ee1f1.asdf from cache..] Sequence Time Elapsed...1 m, 49.30 s\n",
      "Using cache_images/cache_images_c2e0829f3e61ca9a4b271b0f7c2ee1f1.asdf from cache..] Sequence Time Elapsed...1 m, 49.18 s\n",
      "[Using cache_images/cache_images_c2e0829f3e61ca9a4b271b0f7c2ee1f1.asdf from cache.[.] Sequence Time Elapsed...1 m, 49.27 s\n",
      "Using cache_images/cache_images_c2e0829f3e61ca9a4b271b0f7c2ee1f1.asdf from cache.[Resolution float64 -> uint16\n",
      "[.] Sequence Time Elapsed...1 m, 50.28 s\n",
      ".] Sequence Time Elapsed...1 m, 49.61 s\n",
      "Using cache_images/cache_images_c2e0829f3e61ca9a4b271b0f7c2ee1f1.asdf from cache.[Using cache_images/cache_images_c2e0829f3e61ca9a4b271b0f7c2ee1f1.asdf from cache.[.] Sequence Time Elapsed...1 m, 50.24 s\n",
      "Using cache_images/cache_images_c2e0829f3e61ca9a4b271b0f7c2ee1f1.asdf from cache.[.] Sequence Time Elapsed...1 m, 49.95 s\n",
      "Using cache_images/cache_images_c2e0829f3e61ca9a4b271b0f7c2ee1f1.asdf from cache.[.] Sequence Time Elapsed...1 m, 49.18 s\n",
      ".] Sequence Time Elapsed...1 m, 49.17 s\n",
      "Using cache_images/cache_images_c2e0829f3e61ca9a4b271b0f7c2ee1f1.asdf from cache.[Using cache_images/cache_images_c2e0829f3e61ca9a4b271b0f7c2ee1f1.asdf from cache.[.] Sequence Time Elapsed...1 m, 49.54 s\n",
      "Using cache_images/cache_images_c2e0829f3e61ca9a4b271b0f7c2ee1f1.asdf from cache.[.] Sequence Time Elapsed...1 m, 49.37 s\n",
      "Using cache_images/cache_images_c2e0829f3e61ca9a4b271b0f7c2ee1f1.asdf from cache.[.] Sequence Time Elapsed...1 m, 49.93 s\n",
      ".] Sequence Time Elapsed...1 m, 49.78 s\n",
      "Using cache_images/cache_images_c2e0829f3e61ca9a4b271b0f7c2ee1f1.asdf from cache.[Using cache_images/cache_images_c2e0829f3e61ca9a4b271b0f7c2ee1f1.asdf from cache.[.] Sequence Time Elapsed...1 m, 49.94 s\n",
      "Using cache_images/cache_images_c2e0829f3e61ca9a4b271b0f7c2ee1f1.asdf from cache.[.] Sequence Time Elapsed...1 m, 49.62 s\n",
      "Using cache_images/cache_images_c2e0829f3e61ca9a4b271b0f7c2ee1f1.asdf from cache.[.] Sequence Time Elapsed...1 m, 49.98 s\n",
      ".] Sequence Time Elapsed...1 m, 49.43 s\n",
      "Using cache_images/cache_images_c2e0829f3e61ca9a4b271b0f7c2ee1f1.asdf from cache.[Using cache_images/cache_images_c2e0829f3e61ca9a4b271b0f7c2ee1f1.asdf from cache.[.] Sequence Time Elapsed...1 m, 49.66 s\n",
      "Using cache_images/cache_images_c2e0829f3e61ca9a4b271b0f7c2ee1f1.asdf from cache.[.] Sequence Time Elapsed...1 m, 49.40 s\n",
      "Using cache_images/cache_images_c2e0829f3e61ca9a4b271b0f7c2ee1f1.asdf from cache.[.] Sequence Time Elapsed...1 m, 49.87 s\n",
      ".] Sequence Time Elapsed...1 m, 49.95 s\n",
      "Using cache_images/cache_images_c2e0829f3e61ca9a4b271b0f7c2ee1f1.asdf from cache.[Using cache_images/cache_images_c2e0829f3e61ca9a4b271b0f7c2ee1f1.asdf from cache.[.] Sequence Time Elapsed...1 m, 50.26 s\n",
      "Using cache_images/cache_images_c2e0829f3e61ca9a4b271b0f7c2ee1f1.asdf from cache.[.] Sequence Time Elapsed...1 m, 49.47 s\n",
      "Using cache_images/cache_images_c2e0829f3e61ca9a4b271b0f7c2ee1f1.asdf from cache.[.] Sequence Time Elapsed...1 m, 49.79 s\n",
      ".] Sequence Time Elapsed...1 m, 50.29 s\n",
      "Using cache_images/cache_images_c2e0829f3e61ca9a4b271b0f7c2ee1f1.asdf from cache.[Using cache_images/cache_images_c2e0829f3e61ca9a4b271b0f7c2ee1f1.asdf from cache.[.] Sequence Time Elapsed...1 m, 49.51 s\n",
      "Using cache_images/cache_images_c2e0829f3e61ca9a4b271b0f7c2ee1f1.asdf from cache.[.] Sequence Time Elapsed...1 m, 49.54 s\n",
      "Using cache_images/cache_images_c2e0829f3e61ca9a4b271b0f7c2ee1f1.asdf from cache.[.] Sequence Time Elapsed...1 m, 49.42 s\n",
      ".] Sequence Time Elapsed...1 m, 49.23 s\n",
      "Using cache_images/cache_images_c2e0829f3e61ca9a4b271b0f7c2ee1f1.asdf from cache.[Using cache_images/cache_images_c2e0829f3e61ca9a4b271b0f7c2ee1f1.asdf from cache.[.] Sequence Time Elapsed...1 m, 49.17 s\n",
      "Using cache_images/cache_images_c2e0829f3e61ca9a4b271b0f7c2ee1f1.asdf from cache.[.] Sequence Time Elapsed...1 m, 48.73 s\n",
      "Using cache_images/cache_images_c2e0829f3e61ca9a4b271b0f7c2ee1f1.asdf from cache.[.] Sequence Time Elapsed...1 m, 49.99 s\n",
      ".] Sequence Time Elapsed...1 m, 49.90 s\n",
      "Using cache_images/cache_images_c2e0829f3e61ca9a4b271b0f7c2ee1f1.asdf from cache.[Using cache_images/cache_images_c2e0829f3e61ca9a4b271b0f7c2ee1f1.asdf from cache.[.] Sequence Time Elapsed...1 m, 49.83 s\n",
      "Using cache_images/cache_images_c2e0829f3e61ca9a4b271b0f7c2ee1f1.asdf from cache.[.] Sequence Time Elapsed...1 m, 49.74 s\n",
      "Using cache_images/cache_images_c2e0829f3e61ca9a4b271b0f7c2ee1f1.asdf from cache.[.] Sequence Time Elapsed...1 m, 49.36 s\n",
      ".] Sequence Time Elapsed...1 m, 49.39 s\n",
      "Using cache_images/cache_images_c2e0829f3e61ca9a4b271b0f7c2ee1f1.asdf from cache.[Using cache_images/cache_images_c2e0829f3e61ca9a4b271b0f7c2ee1f1.asdf from cache.[.] Sequence Time Elapsed...1 m, 49.33 s\n",
      "Using cache_images/cache_images_c2e0829f3e61ca9a4b271b0f7c2ee1f1.asdf from cache.[.] Sequence Time Elapsed...1 m, 49.62 s\n",
      "Using cache_images/cache_images_c2e0829f3e61ca9a4b271b0f7c2ee1f1.asdf from cache.[.] Sequence Time Elapsed...1 m, 49.63 s\n",
      ".] Sequence Time Elapsed...1 m, 49.42 s\n",
      "Using cache_images/cache_images_c2e0829f3e61ca9a4b271b0f7c2ee1f1.asdf from cache.[Using cache_images/cache_images_c2e0829f3e61ca9a4b271b0f7c2ee1f1.asdf from cache.[.] Sequence Time Elapsed...1 m, 50.11 s\n",
      "Using cache_images/cache_images_c2e0829f3e61ca9a4b271b0f7c2ee1f1.asdf from cache.[.] Sequence Time Elapsed...1 m, 49.64 s\n",
      "Using cache_images/cache_images_c2e0829f3e61ca9a4b271b0f7c2ee1f1.asdf from cache.[.] Sequence Time Elapsed...1 m, 49.91 s\n",
      ".] Sequence Time Elapsed...1 m, 49.25 s\n",
      "Using cache_images/cache_images_c2e0829f3e61ca9a4b271b0f7c2ee1f1.asdf from cache.Using cache_images/cache_images_c2e0829f3e61ca9a4b271b0f7c2ee1f1.asdf from cache..] Sequence Time Elapsed...1 m, 49.43 s\n",
      "Using cache_images/cache_images_c2e0829f3e61ca9a4b271b0f7c2ee1f1.asdf from cache..] Sequence Time Elapsed...1 m, 49.28 s\n",
      "Using cache_images/cache_images_c2e0829f3e61ca9a4b271b0f7c2ee1f1.asdf from cache.Resolution float64 -> uint16\n",
      "[Resolution float64 -> uint16\n",
      "[Resolution float64 -> uint16\n",
      "[Resolution float64 -> uint16\n",
      "[.] Sequence Time Elapsed...1 m, 49.70 s\n",
      "Using cache_images/cache_images_c2e0829f3e61ca9a4b271b0f7c2ee1f1.asdf from cache.[.] Sequence Time Elapsed...1 m, 49.64 s\n",
      "Using cache_images/cache_images_c2e0829f3e61ca9a4b271b0f7c2ee1f1.asdf from cache.[.] Sequence Time Elapsed...1 m, 49.50 s\n",
      "Using cache_images/cache_images_c2e0829f3e61ca9a4b271b0f7c2ee1f1.asdf from cache.[.] Sequence Time Elapsed...1 m, 49.22 s\n",
      "Using cache_images/cache_images_c2e0829f3e61ca9a4b271b0f7c2ee1f1.asdf from cache.[.] Sequence Time Elapsed...1 m, 49.43 s\n",
      "Using cache_images/cache_images_c2e0829f3e61ca9a4b271b0f7c2ee1f1.asdf from cache.[.] Sequence Time Elapsed...1 m, 49.09 s\n",
      "Using cache_images/cache_images_c2e0829f3e61ca9a4b271b0f7c2ee1f1.asdf from cache.[.] Sequence Time Elapsed...1 m, 49.63 s\n",
      "Using cache_images/cache_images_c2e0829f3e61ca9a4b271b0f7c2ee1f1.asdf from cache..] Sequence Time Elapsed...1 m, 49.43 s\n",
      "Using cache_images/cache_images_c2e0829f3e61ca9a4b271b0f7c2ee1f1.asdf from cache.[.] Sequence Time Elapsed...1 m, 49.67 s\n",
      "Using cache_images/cache_images_c2e0829f3e61ca9a4b271b0f7c2ee1f1.asdf from cache.[.] Sequence Time Elapsed...1 m, 49.85 s\n",
      "Using cache_images/cache_images_c2e0829f3e61ca9a4b271b0f7c2ee1f1.asdf from cache.[Resolution float64 -> uint16\n",
      "[.] Sequence Time Elapsed...1 m, 49.82 s\n",
      "Using cache_images/cache_images_c2e0829f3e61ca9a4b271b0f7c2ee1f1.asdf from cache..] Sequence Time Elapsed...1 m, 49.52 s\n",
      "Using cache_images/cache_images_c2e0829f3e61ca9a4b271b0f7c2ee1f1.asdf from cache.[.] Sequence Time Elapsed...1 m, 49.54 s\n",
      "Using cache_images/cache_images_c2e0829f3e61ca9a4b271b0f7c2ee1f1.asdf from cache.[.] Sequence Time Elapsed...1 m, 49.47 s\n",
      "Resolution float64 -> uint16\n",
      "Using cache_images/cache_images_c2e0829f3e61ca9a4b271b0f7c2ee1f1.asdf from cache.[[.] Sequence Time Elapsed...1 m, 49.77 s\n",
      "Using cache_images/cache_images_c2e0829f3e61ca9a4b271b0f7c2ee1f1.asdf from cache.[.] Sequence Time Elapsed...1 m, 49.27 s\n",
      "Using cache_images/cache_images_c2e0829f3e61ca9a4b271b0f7c2ee1f1.asdf from cache.[.] Sequence Time Elapsed...1 m, 50.26 s\n",
      ".] Sequence Time Elapsed...1 m, 49.47 s\n",
      "Using cache_images/cache_images_c2e0829f3e61ca9a4b271b0f7c2ee1f1.asdf from cache.Using cache_images/cache_images_c2e0829f3e61ca9a4b271b0f7c2ee1f1.asdf from cache.[[.] Sequence Time Elapsed...1 m, 49.58 s\n",
      "Using cache_images/cache_images_c2e0829f3e61ca9a4b271b0f7c2ee1f1.asdf from cache.[.] Sequence Time Elapsed...1 m, 49.16 s\n",
      "Using cache_images/cache_images_c2e0829f3e61ca9a4b271b0f7c2ee1f1.asdf from cache.[.] Sequence Time Elapsed...1 m, 49.26 s\n",
      ".] Sequence Time Elapsed...1 m, 49.75 s\n",
      "Using cache_images/cache_images_c2e0829f3e61ca9a4b271b0f7c2ee1f1.asdf from cache.[Using cache_images/cache_images_c2e0829f3e61ca9a4b271b0f7c2ee1f1.asdf from cache.[.] Sequence Time Elapsed...1 m, 50.52 s\n",
      "Using cache_images/cache_images_c2e0829f3e61ca9a4b271b0f7c2ee1f1.asdf from cache.[.] Sequence Time Elapsed...1 m, 49.68 s\n",
      "Using cache_images/cache_images_c2e0829f3e61ca9a4b271b0f7c2ee1f1.asdf from cache.[.] .Sequence Time Elapsed...1 m, 50.07 s] \n",
      "Sequence Time Elapsed...1 m, 49.76 s\n",
      "Using cache_images/cache_images_c2e0829f3e61ca9a4b271b0f7c2ee1f1.asdf from cache.Using cache_images/cache_images_c2e0829f3e61ca9a4b271b0f7c2ee1f1.asdf from cache.[[.] Sequence Time Elapsed...1 m, 50.08 s\n",
      "Using cache_images/cache_images_c2e0829f3e61ca9a4b271b0f7c2ee1f1.asdf from cache.[.] Sequence Time Elapsed...1 m, 49.56 s\n",
      "Using cache_images/cache_images_c2e0829f3e61ca9a4b271b0f7c2ee1f1.asdf from cache.[.] Sequence Time Elapsed...1 m, 49.10 s\n",
      ".] Sequence Time Elapsed...1 m, 49.90 s\n",
      "Using cache_images/cache_images_c2e0829f3e61ca9a4b271b0f7c2ee1f1.asdf from cache.[Using cache_images/cache_images_c2e0829f3e61ca9a4b271b0f7c2ee1f1.asdf from cache.[.] Sequence Time Elapsed...1 m, 49.79 s\n",
      "Using cache_images/cache_images_c2e0829f3e61ca9a4b271b0f7c2ee1f1.asdf from cache.[.] Sequence Time Elapsed...1 m, 49.95 s\n",
      "Using cache_images/cache_images_c2e0829f3e61ca9a4b271b0f7c2ee1f1.asdf from cache.[.] Sequence Time Elapsed...1 m, 49.87 s\n",
      ".] Sequence Time Elapsed...1 m, 49.38 s\n",
      "Using cache_images/cache_images_c2e0829f3e61ca9a4b271b0f7c2ee1f1.asdf from cache.[Using cache_images/cache_images_c2e0829f3e61ca9a4b271b0f7c2ee1f1.asdf from cache.[.] Sequence Time Elapsed...1 m, 49.55 s\n",
      "Using cache_images/cache_images_c2e0829f3e61ca9a4b271b0f7c2ee1f1.asdf from cache.[.] Sequence Time Elapsed...1 m, 50.11 s\n",
      "Using cache_images/cache_images_c2e0829f3e61ca9a4b271b0f7c2ee1f1.asdf from cache.[.] Sequence Time Elapsed...1 m, 49.10 s\n",
      ".] Sequence Time Elapsed...1 m, 49.39 s\n",
      "Using cache_images/cache_images_c2e0829f3e61ca9a4b271b0f7c2ee1f1.asdf from cache.[Using cache_images/cache_images_c2e0829f3e61ca9a4b271b0f7c2ee1f1.asdf from cache.[.] Sequence Time Elapsed...1 m, 49.86 s\n",
      "Using cache_images/cache_images_c2e0829f3e61ca9a4b271b0f7c2ee1f1.asdf from cache.[.] Sequence Time Elapsed...1 m, 49.58 s\n",
      "Using cache_images/cache_images_c2e0829f3e61ca9a4b271b0f7c2ee1f1.asdf from cache.[.] Sequence Time Elapsed...1 m, 49.69 s\n",
      ".] Sequence Time Elapsed...1 m, 49.41 s\n",
      "Using cache_images/cache_images_c2e0829f3e61ca9a4b271b0f7c2ee1f1.asdf from cache.[Using cache_images/cache_images_c2e0829f3e61ca9a4b271b0f7c2ee1f1.asdf from cache.[.] Sequence Time Elapsed...1 m, 49.45 s\n",
      "Using cache_images/cache_images_c2e0829f3e61ca9a4b271b0f7c2ee1f1.asdf from cache.[.] Sequence Time Elapsed...1 m, 49.61 s\n",
      "Using cache_images/cache_images_c2e0829f3e61ca9a4b271b0f7c2ee1f1.asdf from cache.[.] Sequence Time Elapsed...1 m, 49.20 s\n",
      ".] Sequence Time Elapsed...1 m, 50.14 s\n",
      "Using cache_images/cache_images_c2e0829f3e61ca9a4b271b0f7c2ee1f1.asdf from cache.[Using cache_images/cache_images_c2e0829f3e61ca9a4b271b0f7c2ee1f1.asdf from cache.[.] Sequence Time Elapsed...1 m, 49.47 s\n",
      "Using cache_images/cache_images_c2e0829f3e61ca9a4b271b0f7c2ee1f1.asdf from cache.[.] Sequence Time Elapsed...1 m, 49.48 s\n",
      "Using cache_images/cache_images_c2e0829f3e61ca9a4b271b0f7c2ee1f1.asdf from cache.[.] Sequence Time Elapsed...1 m, 49.34 s\n",
      ".] Sequence Time Elapsed...1 m, 49.61 s\n",
      "Using cache_images/cache_images_c2e0829f3e61ca9a4b271b0f7c2ee1f1.asdf from cache.[Using cache_images/cache_images_c2e0829f3e61ca9a4b271b0f7c2ee1f1.asdf from cache.[.] Sequence Time Elapsed...1 m, 49.93 s\n",
      "Using cache_images/cache_images_c2e0829f3e61ca9a4b271b0f7c2ee1f1.asdf from cache..] Sequence Time Elapsed...1 m, 49.42 s\n",
      "Using cache_images/cache_images_c2e0829f3e61ca9a4b271b0f7c2ee1f1.asdf from cache..] Sequence Time Elapsed...1 m, 49.45 s\n",
      ".] Sequence Time Elapsed...1 m, 49.57 s\n",
      "Using cache_images/cache_images_c2e0829f3e61ca9a4b271b0f7c2ee1f1.asdf from cache.[Using cache_images/cache_images_c2e0829f3e61ca9a4b271b0f7c2ee1f1.asdf from cache.Resolution float64 -> uint16\n",
      "[.] Sequence Time Elapsed...1 m, 49.37 s\n",
      "Using cache_images/cache_images_c2e0829f3e61ca9a4b271b0f7c2ee1f1.asdf from cache.Resolution float64 -> uint16\n",
      "[Resolution float64 -> uint16\n",
      "[.] Sequence Time Elapsed...1 m, 50.24 s\n",
      "Using cache_images/cache_images_c2e0829f3e61ca9a4b271b0f7c2ee1f1.asdf from cache.[.] Sequence Time Elapsed...1 m, 49.32 s\n",
      "Using cache_images/cache_images_c2e0829f3e61ca9a4b271b0f7c2ee1f1.asdf from cache.[.] Sequence Time Elapsed...1 m, 49.96 s\n",
      "Using cache_images/cache_images_c2e0829f3e61ca9a4b271b0f7c2ee1f1.asdf from cache.[Resolution float64 -> uint16\n",
      "[.] Sequence Time Elapsed...1 m, 49.91 s\n",
      "Using cache_images/cache_images_c2e0829f3e61ca9a4b271b0f7c2ee1f1.asdf from cache.[.] Sequence Time Elapsed...1 m, 49.67 s\n",
      "Using cache_images/cache_images_c2e0829f3e61ca9a4b271b0f7c2ee1f1.asdf from cache.[.] Sequence Time Elapsed...1 m, 49.97 s\n",
      "Using cache_images/cache_images_c2e0829f3e61ca9a4b271b0f7c2ee1f1.asdf from cache.[.] Sequence Time Elapsed...1 m, 49.50 s\n",
      "Using cache_images/cache_images_c2e0829f3e61ca9a4b271b0f7c2ee1f1.asdf from cache.[.] Sequence Time Elapsed...1 m, 50.39 s\n",
      "Using cache_images/cache_images_c2e0829f3e61ca9a4b271b0f7c2ee1f1.asdf from cache.[.] Sequence Time Elapsed...1 m, 50.16 s\n",
      "Using cache_images/cache_images_c2e0829f3e61ca9a4b271b0f7c2ee1f1.asdf from cache.[.] Sequence Time Elapsed...1 m, 49.71 s\n",
      "Using cache_images/cache_images_c2e0829f3e61ca9a4b271b0f7c2ee1f1.asdf from cache..] Sequence Time Elapsed...1 m, 49.59 s\n",
      "Using cache_images/cache_images_c2e0829f3e61ca9a4b271b0f7c2ee1f1.asdf from cache..] Sequence Time Elapsed...1 m, 48.94 s\n",
      "Using cache_images/cache_images_c2e0829f3e61ca9a4b271b0f7c2ee1f1.asdf from cache.[.] Sequence Time Elapsed...1 m, 49.05 s\n",
      "Using cache_images/cache_images_c2e0829f3e61ca9a4b271b0f7c2ee1f1.asdf from cache.[Resolution float64 -> uint16\n",
      "[Resolution float64 -> uint16\n",
      "[.] Sequence Time Elapsed...1 m, 49.62 s\n",
      "Using cache_images/cache_images_c2e0829f3e61ca9a4b271b0f7c2ee1f1.asdf from cache.[.] Sequence Time Elapsed...1 m, 49.97 s\n",
      "Using cache_images/cache_images_c2e0829f3e61ca9a4b271b0f7c2ee1f1.asdf from cache.[.] Sequence Time Elapsed...1 m, 49.94 s\n",
      "Using cache_images/cache_images_c2e0829f3e61ca9a4b271b0f7c2ee1f1.asdf from cache.[.] Sequence Time Elapsed...1 m, 49.96 s\n",
      "Using cache_images/cache_images_c2e0829f3e61ca9a4b271b0f7c2ee1f1.asdf from cache.[.] Sequence Time Elapsed...1 m, 49.95 s\n",
      "Using cache_images/cache_images_c2e0829f3e61ca9a4b271b0f7c2ee1f1.asdf from cache.[.] Sequence Time Elapsed...1 m, 49.83 s\n",
      "Using cache_images/cache_images_c2e0829f3e61ca9a4b271b0f7c2ee1f1.asdf from cache.[.] Sequence Time Elapsed...1 m, 50.17 s\n",
      "Using cache_images/cache_images_c2e0829f3e61ca9a4b271b0f7c2ee1f1.asdf from cache.[.] Sequence Time Elapsed...1 m, 50.21 s\n",
      "Using cache_images/cache_images_c2e0829f3e61ca9a4b271b0f7c2ee1f1.asdf from cache.[.] Sequence Time Elapsed...1 m, 49.70 s\n",
      "Using cache_images/cache_images_c2e0829f3e61ca9a4b271b0f7c2ee1f1.asdf from cache.[.] Sequence Time Elapsed...1 m, 49.53 s\n",
      "Using cache_images/cache_images_c2e0829f3e61ca9a4b271b0f7c2ee1f1.asdf from cache.[.] Sequence Time Elapsed...1 m, 50.48 s\n",
      "Using cache_images/cache_images_c2e0829f3e61ca9a4b271b0f7c2ee1f1.asdf from cache.[.] Sequence Time Elapsed...1 m, 49.54 s\n",
      "Using cache_images/cache_images_c2e0829f3e61ca9a4b271b0f7c2ee1f1.asdf from cache.[.] Sequence Time Elapsed...1 m, 49.67 s\n",
      "Using cache_images/cache_images_c2e0829f3e61ca9a4b271b0f7c2ee1f1.asdf from cache.[.] Sequence Time Elapsed...1 m, 49.79 s\n",
      "Using cache_images/cache_images_c2e0829f3e61ca9a4b271b0f7c2ee1f1.asdf from cache.[.] Sequence Time Elapsed...1 m, 49.77 s\n",
      "Using cache_images/cache_images_c2e0829f3e61ca9a4b271b0f7c2ee1f1.asdf from cache.[.] Sequence Time Elapsed...1 m, 49.85 s\n",
      "Using cache_images/cache_images_c2e0829f3e61ca9a4b271b0f7c2ee1f1.asdf from cache.[.] Sequence Time Elapsed...1 m, 49.55 s\n",
      "Using cache_images/cache_images_c2e0829f3e61ca9a4b271b0f7c2ee1f1.asdf from cache.[.] Sequence Time Elapsed...1 m, 49.42 s\n",
      "Using cache_images/cache_images_c2e0829f3e61ca9a4b271b0f7c2ee1f1.asdf from cache.[.] Sequence Time Elapsed...1 m, 49.84 s\n",
      "Using cache_images/cache_images_c2e0829f3e61ca9a4b271b0f7c2ee1f1.asdf from cache.[.] Sequence Time Elapsed...1 m, 49.61 s\n",
      "Using cache_images/cache_images_c2e0829f3e61ca9a4b271b0f7c2ee1f1.asdf from cache.[.] Sequence Time Elapsed...1 m, 50.13 s\n",
      "Using cache_images/cache_images_c2e0829f3e61ca9a4b271b0f7c2ee1f1.asdf from cache.[.] Sequence Time Elapsed...1 m, 49.66 s\n",
      "Using cache_images/cache_images_c2e0829f3e61ca9a4b271b0f7c2ee1f1.asdf from cache.[.] Sequence Time Elapsed...1 m, 49.78 s\n",
      "Using cache_images/cache_images_c2e0829f3e61ca9a4b271b0f7c2ee1f1.asdf from cache.[.] Sequence Time Elapsed...1 m, 49.48 s\n",
      "Using cache_images/cache_images_c2e0829f3e61ca9a4b271b0f7c2ee1f1.asdf from cache.[.] Sequence Time Elapsed...1 m, 49.92 s\n",
      "Using cache_images/cache_images_c2e0829f3e61ca9a4b271b0f7c2ee1f1.asdf from cache.[.] Sequence Time Elapsed...1 m, 50.01 s\n",
      "Using cache_images/cache_images_c2e0829f3e61ca9a4b271b0f7c2ee1f1.asdf from cache.[.] Sequence Time Elapsed...1 m, 49.94 s\n",
      "Using cache_images/cache_images_c2e0829f3e61ca9a4b271b0f7c2ee1f1.asdf from cache.[.] Sequence Time Elapsed...1 m, 50.18 s\n",
      "Using cache_images/cache_images_c2e0829f3e61ca9a4b271b0f7c2ee1f1.asdf from cache.[.] Sequence Time Elapsed...1 m, 50.23 s\n",
      "Using cache_images/cache_images_c2e0829f3e61ca9a4b271b0f7c2ee1f1.asdf from cache.[.] Sequence Time Elapsed...1 m, 49.52 s\n",
      "Using cache_images/cache_images_c2e0829f3e61ca9a4b271b0f7c2ee1f1.asdf from cache.[.] Sequence Time Elapsed...1 m, 50.42 s\n",
      "Using cache_images/cache_images_c2e0829f3e61ca9a4b271b0f7c2ee1f1.asdf from cache.[.] Sequence Time Elapsed...1 m, 49.60 s\n",
      "Using cache_images/cache_images_c2e0829f3e61ca9a4b271b0f7c2ee1f1.asdf from cache.[.] Sequence Time Elapsed...1 m, 49.74 s\n",
      "Using cache_images/cache_images_c2e0829f3e61ca9a4b271b0f7c2ee1f1.asdf from cache.[.] Sequence Time Elapsed...1 m, 49.55 s\n",
      "Using cache_images/cache_images_c2e0829f3e61ca9a4b271b0f7c2ee1f1.asdf from cache.[.] Sequence Time Elapsed...1 m, 50.07 s\n",
      "Using cache_images/cache_images_c2e0829f3e61ca9a4b271b0f7c2ee1f1.asdf from cache.[.] Sequence Time Elapsed...1 m, 49.34 s\n",
      "Using cache_images/cache_images_c2e0829f3e61ca9a4b271b0f7c2ee1f1.asdf from cache.[.] Sequence Time Elapsed...1 m, 49.40 s\n",
      ".] Sequence Time Elapsed...1 m, 49.10 s\n",
      ".] Sequence Time Elapsed...1 m, 44.94 s\n",
      ".] Sequence Time Elapsed...1 m, 44.56 s\n",
      "Using cache_images/cache_images_c2e0829f3e61ca9a4b271b0f7c2ee1f1.asdf from cache.[.] Sequence Time Elapsed...1 m, 36.37 s\n",
      "Using cache_images/cache_images_c2e0829f3e61ca9a4b271b0f7c2ee1f1.asdf from cache.[.] Sequence Time Elapsed...1 m, 34.42 s\n",
      "['sims/2023-02-21/continuous atropine 20 neurons noise 0.0 blur 0.3.asdf', 'sims/2023-02-21/continuous atropine 20 neurons noise 0.1 blur 0.3.asdf', 'sims/2023-02-21/continuous atropine 20 neurons noise 0.2 blur 0.3.asdf', 'sims/2023-02-21/continuous atropine 20 neurons noise 0.3 blur 0.3.asdf', 'sims/2023-02-21/continuous atropine 20 neurons noise 0.4 blur 0.3.asdf', 'sims/2023-02-21/continuous atropine 20 neurons noise 0.5 blur 0.3.asdf', 'sims/2023-02-21/continuous atropine 20 neurons noise 0.6 blur 0.3.asdf', 'sims/2023-02-21/continuous atropine 20 neurons noise 0.7 blur 0.3.asdf', 'sims/2023-02-21/continuous atropine 20 neurons noise 0.8 blur 0.3.asdf', 'sims/2023-02-21/continuous atropine 20 neurons noise 0.9 blur 0.3.asdf', 'sims/2023-02-21/continuous atropine 20 neurons noise 1.0 blur 0.3.asdf', 'sims/2023-02-21/continuous atropine 20 neurons noise 0.0 blur 0.6.asdf', 'sims/2023-02-21/continuous atropine 20 neurons noise 0.1 blur 0.6.asdf', 'sims/2023-02-21/continuous atropine 20 neurons noise 0.2 blur 0.6.asdf', 'sims/2023-02-21/continuous atropine 20 neurons noise 0.3 blur 0.6.asdf', 'sims/2023-02-21/continuous atropine 20 neurons noise 0.4 blur 0.6.asdf', 'sims/2023-02-21/continuous atropine 20 neurons noise 0.5 blur 0.6.asdf', 'sims/2023-02-21/continuous atropine 20 neurons noise 0.6 blur 0.6.asdf', 'sims/2023-02-21/continuous atropine 20 neurons noise 0.7 blur 0.6.asdf', 'sims/2023-02-21/continuous atropine 20 neurons noise 0.8 blur 0.6.asdf', 'sims/2023-02-21/continuous atropine 20 neurons noise 0.9 blur 0.6.asdf', 'sims/2023-02-21/continuous atropine 20 neurons noise 1.0 blur 0.6.asdf', 'sims/2023-02-21/continuous atropine 20 neurons noise 0.0 blur 0.9.asdf', 'sims/2023-02-21/continuous atropine 20 neurons noise 0.1 blur 0.9.asdf', 'sims/2023-02-21/continuous atropine 20 neurons noise 0.2 blur 0.9.asdf', 'sims/2023-02-21/continuous atropine 20 neurons noise 0.3 blur 0.9.asdf', 'sims/2023-02-21/continuous atropine 20 neurons noise 0.4 blur 0.9.asdf', 'sims/2023-02-21/continuous atropine 20 neurons noise 0.5 blur 0.9.asdf', 'sims/2023-02-21/continuous atropine 20 neurons noise 0.6 blur 0.9.asdf', 'sims/2023-02-21/continuous atropine 20 neurons noise 0.7 blur 0.9.asdf', 'sims/2023-02-21/continuous atropine 20 neurons noise 0.8 blur 0.9.asdf', 'sims/2023-02-21/continuous atropine 20 neurons noise 0.9 blur 0.9.asdf', 'sims/2023-02-21/continuous atropine 20 neurons noise 1.0 blur 0.9.asdf', 'sims/2023-02-21/continuous atropine 20 neurons noise 0.0 blur 1.2.asdf', 'sims/2023-02-21/continuous atropine 20 neurons noise 0.1 blur 1.2.asdf', 'sims/2023-02-21/continuous atropine 20 neurons noise 0.2 blur 1.2.asdf', 'sims/2023-02-21/continuous atropine 20 neurons noise 0.3 blur 1.2.asdf', 'sims/2023-02-21/continuous atropine 20 neurons noise 0.4 blur 1.2.asdf', 'sims/2023-02-21/continuous atropine 20 neurons noise 0.5 blur 1.2.asdf', 'sims/2023-02-21/continuous atropine 20 neurons noise 0.6 blur 1.2.asdf', 'sims/2023-02-21/continuous atropine 20 neurons noise 0.7 blur 1.2.asdf', 'sims/2023-02-21/continuous atropine 20 neurons noise 0.8 blur 1.2.asdf', 'sims/2023-02-21/continuous atropine 20 neurons noise 0.9 blur 1.2.asdf', 'sims/2023-02-21/continuous atropine 20 neurons noise 1.0 blur 1.2.asdf', 'sims/2023-02-21/continuous atropine 20 neurons noise 0.0 blur 1.5.asdf', 'sims/2023-02-21/continuous atropine 20 neurons noise 0.1 blur 1.5.asdf', 'sims/2023-02-21/continuous atropine 20 neurons noise 0.2 blur 1.5.asdf', 'sims/2023-02-21/continuous atropine 20 neurons noise 0.3 blur 1.5.asdf', 'sims/2023-02-21/continuous atropine 20 neurons noise 0.4 blur 1.5.asdf', 'sims/2023-02-21/continuous atropine 20 neurons noise 0.5 blur 1.5.asdf', 'sims/2023-02-21/continuous atropine 20 neurons noise 0.6 blur 1.5.asdf', 'sims/2023-02-21/continuous atropine 20 neurons noise 0.7 blur 1.5.asdf', 'sims/2023-02-21/continuous atropine 20 neurons noise 0.8 blur 1.5.asdf', 'sims/2023-02-21/continuous atropine 20 neurons noise 0.9 blur 1.5.asdf', 'sims/2023-02-21/continuous atropine 20 neurons noise 1.0 blur 1.5.asdf', 'sims/2023-02-21/continuous atropine 20 neurons noise 0.0 blur 1.8.asdf', 'sims/2023-02-21/continuous atropine 20 neurons noise 0.1 blur 1.8.asdf', 'sims/2023-02-21/continuous atropine 20 neurons noise 0.2 blur 1.8.asdf', 'sims/2023-02-21/continuous atropine 20 neurons noise 0.3 blur 1.8.asdf', 'sims/2023-02-21/continuous atropine 20 neurons noise 0.4 blur 1.8.asdf', 'sims/2023-02-21/continuous atropine 20 neurons noise 0.5 blur 1.8.asdf', 'sims/2023-02-21/continuous atropine 20 neurons noise 0.6 blur 1.8.asdf', 'sims/2023-02-21/continuous atropine 20 neurons noise 0.7 blur 1.8.asdf', 'sims/2023-02-21/continuous atropine 20 neurons noise 0.8 blur 1.8.asdf', 'sims/2023-02-21/continuous atropine 20 neurons noise 0.9 blur 1.8.asdf', 'sims/2023-02-21/continuous atropine 20 neurons noise 1.0 blur 1.8.asdf', 'sims/2023-02-21/continuous atropine 20 neurons noise 0.0 blur 2.1.asdf', 'sims/2023-02-21/continuous atropine 20 neurons noise 0.1 blur 2.1.asdf', 'sims/2023-02-21/continuous atropine 20 neurons noise 0.2 blur 2.1.asdf', 'sims/2023-02-21/continuous atropine 20 neurons noise 0.3 blur 2.1.asdf', 'sims/2023-02-21/continuous atropine 20 neurons noise 0.4 blur 2.1.asdf', 'sims/2023-02-21/continuous atropine 20 neurons noise 0.5 blur 2.1.asdf', 'sims/2023-02-21/continuous atropine 20 neurons noise 0.6 blur 2.1.asdf', 'sims/2023-02-21/continuous atropine 20 neurons noise 0.7 blur 2.1.asdf', 'sims/2023-02-21/continuous atropine 20 neurons noise 0.8 blur 2.1.asdf', 'sims/2023-02-21/continuous atropine 20 neurons noise 0.9 blur 2.1.asdf', 'sims/2023-02-21/continuous atropine 20 neurons noise 1.0 blur 2.1.asdf', 'sims/2023-02-21/continuous atropine 20 neurons noise 0.0 blur 2.4.asdf', 'sims/2023-02-21/continuous atropine 20 neurons noise 0.1 blur 2.4.asdf', 'sims/2023-02-21/continuous atropine 20 neurons noise 0.2 blur 2.4.asdf', 'sims/2023-02-21/continuous atropine 20 neurons noise 0.3 blur 2.4.asdf', 'sims/2023-02-21/continuous atropine 20 neurons noise 0.4 blur 2.4.asdf', 'sims/2023-02-21/continuous atropine 20 neurons noise 0.5 blur 2.4.asdf', 'sims/2023-02-21/continuous atropine 20 neurons noise 0.6 blur 2.4.asdf', 'sims/2023-02-21/continuous atropine 20 neurons noise 0.7 blur 2.4.asdf', 'sims/2023-02-21/continuous atropine 20 neurons noise 0.8 blur 2.4.asdf', 'sims/2023-02-21/continuous atropine 20 neurons noise 0.9 blur 2.4.asdf', 'sims/2023-02-21/continuous atropine 20 neurons noise 1.0 blur 2.4.asdf', 'sims/2023-02-21/continuous atropine 20 neurons noise 0.0 blur 2.7.asdf', 'sims/2023-02-21/continuous atropine 20 neurons noise 0.1 blur 2.7.asdf', 'sims/2023-02-21/continuous atropine 20 neurons noise 0.2 blur 2.7.asdf', 'sims/2023-02-21/continuous atropine 20 neurons noise 0.3 blur 2.7.asdf', 'sims/2023-02-21/continuous atropine 20 neurons noise 0.4 blur 2.7.asdf', 'sims/2023-02-21/continuous atropine 20 neurons noise 0.5 blur 2.7.asdf', 'sims/2023-02-21/continuous atropine 20 neurons noise 0.6 blur 2.7.asdf', 'sims/2023-02-21/continuous atropine 20 neurons noise 0.7 blur 2.7.asdf', 'sims/2023-02-21/continuous atropine 20 neurons noise 0.8 blur 2.7.asdf', 'sims/2023-02-21/continuous atropine 20 neurons noise 0.9 blur 2.7.asdf', 'sims/2023-02-21/continuous atropine 20 neurons noise 1.0 blur 2.7.asdf', 'sims/2023-02-21/continuous atropine 20 neurons noise 0.0 blur 3.0.asdf', 'sims/2023-02-21/continuous atropine 20 neurons noise 0.1 blur 3.0.asdf', 'sims/2023-02-21/continuous atropine 20 neurons noise 0.2 blur 3.0.asdf', 'sims/2023-02-21/continuous atropine 20 neurons noise 0.3 blur 3.0.asdf', 'sims/2023-02-21/continuous atropine 20 neurons noise 0.4 blur 3.0.asdf', 'sims/2023-02-21/continuous atropine 20 neurons noise 0.5 blur 3.0.asdf', 'sims/2023-02-21/continuous atropine 20 neurons noise 0.6 blur 3.0.asdf', 'sims/2023-02-21/continuous atropine 20 neurons noise 0.7 blur 3.0.asdf', 'sims/2023-02-21/continuous atropine 20 neurons noise 0.8 blur 3.0.asdf', 'sims/2023-02-21/continuous atropine 20 neurons noise 0.9 blur 3.0.asdf', 'sims/2023-02-21/continuous atropine 20 neurons noise 1.0 blur 3.0.asdf', 'sims/2023-02-21/continuous atropine 20 neurons noise 0.0 blur 3.3.asdf', 'sims/2023-02-21/continuous atropine 20 neurons noise 0.1 blur 3.3.asdf', 'sims/2023-02-21/continuous atropine 20 neurons noise 0.2 blur 3.3.asdf', 'sims/2023-02-21/continuous atropine 20 neurons noise 0.3 blur 3.3.asdf', 'sims/2023-02-21/continuous atropine 20 neurons noise 0.4 blur 3.3.asdf', 'sims/2023-02-21/continuous atropine 20 neurons noise 0.5 blur 3.3.asdf', 'sims/2023-02-21/continuous atropine 20 neurons noise 0.6 blur 3.3.asdf', 'sims/2023-02-21/continuous atropine 20 neurons noise 0.7 blur 3.3.asdf', 'sims/2023-02-21/continuous atropine 20 neurons noise 0.8 blur 3.3.asdf', 'sims/2023-02-21/continuous atropine 20 neurons noise 0.9 blur 3.3.asdf', 'sims/2023-02-21/continuous atropine 20 neurons noise 1.0 blur 3.3.asdf', 'sims/2023-02-21/continuous atropine 20 neurons noise 0.0 blur 3.6.asdf', 'sims/2023-02-21/continuous atropine 20 neurons noise 0.1 blur 3.6.asdf', 'sims/2023-02-21/continuous atropine 20 neurons noise 0.2 blur 3.6.asdf', 'sims/2023-02-21/continuous atropine 20 neurons noise 0.3 blur 3.6.asdf', 'sims/2023-02-21/continuous atropine 20 neurons noise 0.4 blur 3.6.asdf', 'sims/2023-02-21/continuous atropine 20 neurons noise 0.5 blur 3.6.asdf', 'sims/2023-02-21/continuous atropine 20 neurons noise 0.6 blur 3.6.asdf', 'sims/2023-02-21/continuous atropine 20 neurons noise 0.7 blur 3.6.asdf', 'sims/2023-02-21/continuous atropine 20 neurons noise 0.8 blur 3.6.asdf', 'sims/2023-02-21/continuous atropine 20 neurons noise 0.9 blur 3.6.asdf', 'sims/2023-02-21/continuous atropine 20 neurons noise 1.0 blur 3.6.asdf', 'sims/2023-02-21/continuous atropine 20 neurons noise 0.0 blur 3.9.asdf', 'sims/2023-02-21/continuous atropine 20 neurons noise 0.1 blur 3.9.asdf', 'sims/2023-02-21/continuous atropine 20 neurons noise 0.2 blur 3.9.asdf', 'sims/2023-02-21/continuous atropine 20 neurons noise 0.3 blur 3.9.asdf', 'sims/2023-02-21/continuous atropine 20 neurons noise 0.4 blur 3.9.asdf', 'sims/2023-02-21/continuous atropine 20 neurons noise 0.5 blur 3.9.asdf', 'sims/2023-02-21/continuous atropine 20 neurons noise 0.6 blur 3.9.asdf', 'sims/2023-02-21/continuous atropine 20 neurons noise 0.7 blur 3.9.asdf', 'sims/2023-02-21/continuous atropine 20 neurons noise 0.8 blur 3.9.asdf', 'sims/2023-02-21/continuous atropine 20 neurons noise 0.9 blur 3.9.asdf', 'sims/2023-02-21/continuous atropine 20 neurons noise 1.0 blur 3.9.asdf', 'sims/2023-02-21/continuous atropine 20 neurons noise 0.0 blur 4.2.asdf', 'sims/2023-02-21/continuous atropine 20 neurons noise 0.1 blur 4.2.asdf', 'sims/2023-02-21/continuous atropine 20 neurons noise 0.2 blur 4.2.asdf', 'sims/2023-02-21/continuous atropine 20 neurons noise 0.3 blur 4.2.asdf', 'sims/2023-02-21/continuous atropine 20 neurons noise 0.4 blur 4.2.asdf', 'sims/2023-02-21/continuous atropine 20 neurons noise 0.5 blur 4.2.asdf', 'sims/2023-02-21/continuous atropine 20 neurons noise 0.6 blur 4.2.asdf', 'sims/2023-02-21/continuous atropine 20 neurons noise 0.7 blur 4.2.asdf', 'sims/2023-02-21/continuous atropine 20 neurons noise 0.8 blur 4.2.asdf', 'sims/2023-02-21/continuous atropine 20 neurons noise 0.9 blur 4.2.asdf', 'sims/2023-02-21/continuous atropine 20 neurons noise 1.0 blur 4.2.asdf', 'sims/2023-02-21/continuous atropine 20 neurons noise 0.0 blur 4.5.asdf', 'sims/2023-02-21/continuous atropine 20 neurons noise 0.1 blur 4.5.asdf', 'sims/2023-02-21/continuous atropine 20 neurons noise 0.2 blur 4.5.asdf', 'sims/2023-02-21/continuous atropine 20 neurons noise 0.3 blur 4.5.asdf', 'sims/2023-02-21/continuous atropine 20 neurons noise 0.4 blur 4.5.asdf', 'sims/2023-02-21/continuous atropine 20 neurons noise 0.5 blur 4.5.asdf', 'sims/2023-02-21/continuous atropine 20 neurons noise 0.6 blur 4.5.asdf', 'sims/2023-02-21/continuous atropine 20 neurons noise 0.7 blur 4.5.asdf', 'sims/2023-02-21/continuous atropine 20 neurons noise 0.8 blur 4.5.asdf', 'sims/2023-02-21/continuous atropine 20 neurons noise 0.9 blur 4.5.asdf', 'sims/2023-02-21/continuous atropine 20 neurons noise 1.0 blur 4.5.asdf', 'sims/2023-02-21/continuous atropine 20 neurons noise 0.0 blur 4.8.asdf', 'sims/2023-02-21/continuous atropine 20 neurons noise 0.1 blur 4.8.asdf', 'sims/2023-02-21/continuous atropine 20 neurons noise 0.2 blur 4.8.asdf', 'sims/2023-02-21/continuous atropine 20 neurons noise 0.3 blur 4.8.asdf', 'sims/2023-02-21/continuous atropine 20 neurons noise 0.4 blur 4.8.asdf', 'sims/2023-02-21/continuous atropine 20 neurons noise 0.5 blur 4.8.asdf', 'sims/2023-02-21/continuous atropine 20 neurons noise 0.6 blur 4.8.asdf', 'sims/2023-02-21/continuous atropine 20 neurons noise 0.7 blur 4.8.asdf', 'sims/2023-02-21/continuous atropine 20 neurons noise 0.8 blur 4.8.asdf', 'sims/2023-02-21/continuous atropine 20 neurons noise 0.9 blur 4.8.asdf', 'sims/2023-02-21/continuous atropine 20 neurons noise 1.0 blur 4.8.asdf', 'sims/2023-02-21/continuous atropine 20 neurons noise 0.0 blur 5.1.asdf', 'sims/2023-02-21/continuous atropine 20 neurons noise 0.1 blur 5.1.asdf', 'sims/2023-02-21/continuous atropine 20 neurons noise 0.2 blur 5.1.asdf', 'sims/2023-02-21/continuous atropine 20 neurons noise 0.3 blur 5.1.asdf', 'sims/2023-02-21/continuous atropine 20 neurons noise 0.4 blur 5.1.asdf', 'sims/2023-02-21/continuous atropine 20 neurons noise 0.5 blur 5.1.asdf', 'sims/2023-02-21/continuous atropine 20 neurons noise 0.6 blur 5.1.asdf', 'sims/2023-02-21/continuous atropine 20 neurons noise 0.7 blur 5.1.asdf', 'sims/2023-02-21/continuous atropine 20 neurons noise 0.8 blur 5.1.asdf', 'sims/2023-02-21/continuous atropine 20 neurons noise 0.9 blur 5.1.asdf', 'sims/2023-02-21/continuous atropine 20 neurons noise 1.0 blur 5.1.asdf', 'sims/2023-02-21/continuous atropine 20 neurons noise 0.0 blur 5.4.asdf', 'sims/2023-02-21/continuous atropine 20 neurons noise 0.1 blur 5.4.asdf', 'sims/2023-02-21/continuous atropine 20 neurons noise 0.2 blur 5.4.asdf', 'sims/2023-02-21/continuous atropine 20 neurons noise 0.3 blur 5.4.asdf', 'sims/2023-02-21/continuous atropine 20 neurons noise 0.4 blur 5.4.asdf', 'sims/2023-02-21/continuous atropine 20 neurons noise 0.5 blur 5.4.asdf', 'sims/2023-02-21/continuous atropine 20 neurons noise 0.6 blur 5.4.asdf', 'sims/2023-02-21/continuous atropine 20 neurons noise 0.7 blur 5.4.asdf', 'sims/2023-02-21/continuous atropine 20 neurons noise 0.8 blur 5.4.asdf', 'sims/2023-02-21/continuous atropine 20 neurons noise 0.9 blur 5.4.asdf', 'sims/2023-02-21/continuous atropine 20 neurons noise 1.0 blur 5.4.asdf', 'sims/2023-02-21/continuous atropine 20 neurons noise 0.0 blur 5.7.asdf', 'sims/2023-02-21/continuous atropine 20 neurons noise 0.1 blur 5.7.asdf', 'sims/2023-02-21/continuous atropine 20 neurons noise 0.2 blur 5.7.asdf', 'sims/2023-02-21/continuous atropine 20 neurons noise 0.3 blur 5.7.asdf', 'sims/2023-02-21/continuous atropine 20 neurons noise 0.4 blur 5.7.asdf', 'sims/2023-02-21/continuous atropine 20 neurons noise 0.5 blur 5.7.asdf', 'sims/2023-02-21/continuous atropine 20 neurons noise 0.6 blur 5.7.asdf', 'sims/2023-02-21/continuous atropine 20 neurons noise 0.7 blur 5.7.asdf', 'sims/2023-02-21/continuous atropine 20 neurons noise 0.8 blur 5.7.asdf', 'sims/2023-02-21/continuous atropine 20 neurons noise 0.9 blur 5.7.asdf', 'sims/2023-02-21/continuous atropine 20 neurons noise 1.0 blur 5.7.asdf', 'sims/2023-02-21/continuous atropine 20 neurons noise 0.0 blur 6.0.asdf', 'sims/2023-02-21/continuous atropine 20 neurons noise 0.1 blur 6.0.asdf', 'sims/2023-02-21/continuous atropine 20 neurons noise 0.2 blur 6.0.asdf', 'sims/2023-02-21/continuous atropine 20 neurons noise 0.3 blur 6.0.asdf', 'sims/2023-02-21/continuous atropine 20 neurons noise 0.4 blur 6.0.asdf', 'sims/2023-02-21/continuous atropine 20 neurons noise 0.5 blur 6.0.asdf', 'sims/2023-02-21/continuous atropine 20 neurons noise 0.6 blur 6.0.asdf', 'sims/2023-02-21/continuous atropine 20 neurons noise 0.7 blur 6.0.asdf', 'sims/2023-02-21/continuous atropine 20 neurons noise 0.8 blur 6.0.asdf', 'sims/2023-02-21/continuous atropine 20 neurons noise 0.9 blur 6.0.asdf', 'sims/2023-02-21/continuous atropine 20 neurons noise 1.0 blur 6.0.asdf']\n"
     ]
    }
   ],
   "source": [
    "if do_params:\n",
    "    pool = Pool(processes=number_of_processes)\n",
    "    result = pool.map_async(func, do_params)\n",
    "    print(result.get())"
   ]
  },
  {
   "cell_type": "markdown",
   "id": "e0d70dcb-cf7f-477f-b1f8-765410b088cf",
   "metadata": {},
   "source": [
    "## Contrast"
   ]
  },
  {
   "cell_type": "code",
   "execution_count": 9,
   "id": "76df4cd1-8599-4862-a275-83889a3f2cea",
   "metadata": {},
   "outputs": [],
   "source": [
    "def run_one_continuous_mask_jitter(params,\n",
    "                                  deficit_base_sim='sims/2023-02-21/deficit 20 neurons 7.5 mu_c 2 sigma_c.asdf',\n",
    "                                   overwrite=False):\n",
    "    import plasticnet as pn\n",
    "    count,eta,contrast,mask,f,mu_c,sigma_c,number_of_neurons,sfname=(params.count,params.eta,params.contrast,params.mask,params.f,\n",
    "                                        params.mu_c,params.sigma_c,params.number_of_neurons,params.sfname)\n",
    "    \n",
    "    if not overwrite and os.path.exists(sfname):\n",
    "        return sfname\n",
    "\n",
    "    \n",
    "    seq=pn.Sequence()\n",
    "\n",
    "    seq+=treatment_jitter(f=f,\n",
    "                   mask=mask,\n",
    "                   contrast=contrast,\n",
    "                   total_time=100*hour,\n",
    "                   eta=eta,\n",
    "                    mu_c=mu_c,sigma_c=sigma_c,\n",
    "                   save_interval=20*minute)\n",
    "    seq_load(seq,deficit_base_sim)    \n",
    "\n",
    "    seq.run(display_hash=False)\n",
    "    pn.save(sfname,seq) \n",
    "\n",
    "    \n",
    "    return sfname\n",
    "    \n",
    "    \n"
   ]
  },
  {
   "cell_type": "code",
   "execution_count": 10,
   "id": "3f137798-a184-46b8-8be1-2fde4e3a4536",
   "metadata": {},
   "outputs": [
    {
     "name": "stdout",
     "output_type": "stream",
     "text": [
      "11 sims\n",
      "[params(eta=2e-06, number_of_neurons=20, sfname='sims/2023-02-21/continuous contrast 20 neurons contrast 0.0.asdf', contrast=0.0, mask=0, f=10.0, mu_c=7.5, sigma_c=2, count=0), params(eta=2e-06, number_of_neurons=20, sfname='sims/2023-02-21/continuous contrast 20 neurons contrast 0.1.asdf', contrast=0.1, mask=0, f=10.0, mu_c=7.5, sigma_c=2, count=1), params(eta=2e-06, number_of_neurons=20, sfname='sims/2023-02-21/continuous contrast 20 neurons contrast 0.2.asdf', contrast=0.2, mask=0, f=10.0, mu_c=7.5, sigma_c=2, count=2), params(eta=2e-06, number_of_neurons=20, sfname='sims/2023-02-21/continuous contrast 20 neurons contrast 0.3.asdf', contrast=0.30000000000000004, mask=0, f=10.0, mu_c=7.5, sigma_c=2, count=3), params(eta=2e-06, number_of_neurons=20, sfname='sims/2023-02-21/continuous contrast 20 neurons contrast 0.4.asdf', contrast=0.4, mask=0, f=10.0, mu_c=7.5, sigma_c=2, count=4), params(eta=2e-06, number_of_neurons=20, sfname='sims/2023-02-21/continuous contrast 20 neurons contrast 0.5.asdf', contrast=0.5, mask=0, f=10.0, mu_c=7.5, sigma_c=2, count=5), params(eta=2e-06, number_of_neurons=20, sfname='sims/2023-02-21/continuous contrast 20 neurons contrast 0.6.asdf', contrast=0.6000000000000001, mask=0, f=10.0, mu_c=7.5, sigma_c=2, count=6), params(eta=2e-06, number_of_neurons=20, sfname='sims/2023-02-21/continuous contrast 20 neurons contrast 0.7.asdf', contrast=0.7000000000000001, mask=0, f=10.0, mu_c=7.5, sigma_c=2, count=7), params(eta=2e-06, number_of_neurons=20, sfname='sims/2023-02-21/continuous contrast 20 neurons contrast 0.8.asdf', contrast=0.8, mask=0, f=10.0, mu_c=7.5, sigma_c=2, count=8), params(eta=2e-06, number_of_neurons=20, sfname='sims/2023-02-21/continuous contrast 20 neurons contrast 0.9.asdf', contrast=0.9, mask=0, f=10.0, mu_c=7.5, sigma_c=2, count=9), params(eta=2e-06, number_of_neurons=20, sfname='sims/2023-02-21/continuous contrast 20 neurons contrast 1.0.asdf', contrast=1.0, mask=0, f=10.0, mu_c=7.5, sigma_c=2, count=10)]\n"
     ]
    }
   ],
   "source": [
    "func=run_one_continuous_mask_jitter\n",
    "\n",
    "\n",
    "contrast_mat=linspace(0,1,11)\n",
    "mask_mat=array([0,1])\n",
    "f_mat=array([10,30,50,70,90])\n",
    "\n",
    "\n",
    "all_params=[]\n",
    "for c,contrast in enumerate(contrast_mat):\n",
    "    sfname=base+f'/continuous contrast {number_of_neurons} neurons contrast {contrast:.1f}.asdf'\n",
    "\n",
    "    p=Struct()\n",
    "    p.eta=eta\n",
    "    p.number_of_neurons=number_of_neurons\n",
    "    p.sfname=sfname\n",
    "\n",
    "    p.contrast=contrast\n",
    "    p.mask=0\n",
    "    p.f=10. # not used when mask=0\n",
    "    p.mu_c=7.5\n",
    "    p.sigma_c=2\n",
    "\n",
    "    all_params+=[p]\n",
    "\n",
    "all_params=to_named_tuple(all_params)  \n",
    "do_params=make_do_params(all_params,verbose=True)"
   ]
  },
  {
   "cell_type": "code",
   "execution_count": 11,
   "id": "4616ff6c-a9f8-4a58-ba75-fbe28809577f",
   "metadata": {},
   "outputs": [
    {
     "name": "stdout",
     "output_type": "stream",
     "text": [
      "Using cache_images/cache_images_c2e0829f3e61ca9a4b271b0f7c2ee1f1.asdf from cache.Using cache_images/cache_images_c2e0829f3e61ca9a4b271b0f7c2ee1f1.asdf from cache.Using cache_images/cache_images_c2e0829f3e61ca9a4b271b0f7c2ee1f1.asdf from cache.Using cache_images/cache_images_c2e0829f3e61ca9a4b271b0f7c2ee1f1.asdf from cache.[[[[.] Sequence Time Elapsed...1 m, 48.68 s\n",
      ".] Sequence Time Elapsed...1 m, 48.71 s\n",
      ".] Sequence Time Elapsed...1 m, 48.79 s\n",
      ".] Sequence Time Elapsed...1 m, 49.39 s\n",
      "Using cache_images/cache_images_c2e0829f3e61ca9a4b271b0f7c2ee1f1.asdf from cache.Using cache_images/cache_images_c2e0829f3e61ca9a4b271b0f7c2ee1f1.asdf from cache.Using cache_images/cache_images_c2e0829f3e61ca9a4b271b0f7c2ee1f1.asdf from cache.[[[Using cache_images/cache_images_c2e0829f3e61ca9a4b271b0f7c2ee1f1.asdf from cache.[.] Sequence Time Elapsed...1 m, 48.41 s\n",
      ".] Sequence Time Elapsed...1 m, 48.45 s\n",
      ".] Sequence Time Elapsed...1 m, 48.60 s\n",
      ".] Sequence Time Elapsed...1 m, 48.28 s\n",
      "Using cache_images/cache_images_c2e0829f3e61ca9a4b271b0f7c2ee1f1.asdf from cache.Using cache_images/cache_images_c2e0829f3e61ca9a4b271b0f7c2ee1f1.asdf from cache.Using cache_images/cache_images_c2e0829f3e61ca9a4b271b0f7c2ee1f1.asdf from cache.[[[.] Sequence Time Elapsed...1 m, 46.08 s\n",
      "..] ] Sequence Time Elapsed...1 m, 46.26 s\n",
      "Sequence Time Elapsed...1 m, 46.16 s\n",
      "['sims/2023-02-21/continuous contrast 20 neurons contrast 0.0.asdf', 'sims/2023-02-21/continuous contrast 20 neurons contrast 0.1.asdf', 'sims/2023-02-21/continuous contrast 20 neurons contrast 0.2.asdf', 'sims/2023-02-21/continuous contrast 20 neurons contrast 0.3.asdf', 'sims/2023-02-21/continuous contrast 20 neurons contrast 0.4.asdf', 'sims/2023-02-21/continuous contrast 20 neurons contrast 0.5.asdf', 'sims/2023-02-21/continuous contrast 20 neurons contrast 0.6.asdf', 'sims/2023-02-21/continuous contrast 20 neurons contrast 0.7.asdf', 'sims/2023-02-21/continuous contrast 20 neurons contrast 0.8.asdf', 'sims/2023-02-21/continuous contrast 20 neurons contrast 0.9.asdf', 'sims/2023-02-21/continuous contrast 20 neurons contrast 1.0.asdf']\n"
     ]
    }
   ],
   "source": [
    "if do_params:\n",
    "    pool = Pool(processes=number_of_processes)\n",
    "    result = pool.map_async(func, do_params)\n",
    "    print(result.get())"
   ]
  },
  {
   "cell_type": "markdown",
   "id": "f73bbac5-427f-4341-87a0-9b690f1ca468",
   "metadata": {},
   "source": [
    "## Contrast with Mask"
   ]
  },
  {
   "cell_type": "code",
   "execution_count": 12,
   "id": "9ab12417-0b51-4c6f-87c0-ebfdc14be68d",
   "metadata": {},
   "outputs": [
    {
     "name": "stdout",
     "output_type": "stream",
     "text": [
      "55 sims\n",
      "[params(eta=2e-06, number_of_neurons=20, sfname='sims/2023-02-21/continuous contrast 20 neurons contrast 0.0 mask f 10.asdf', contrast=0.0, mask=1, f=10, mu_c=7.5, sigma_c=2, count=0), params(eta=2e-06, number_of_neurons=20, sfname='sims/2023-02-21/continuous contrast 20 neurons contrast 0.0 mask f 30.asdf', contrast=0.0, mask=1, f=30, mu_c=7.5, sigma_c=2, count=1), params(eta=2e-06, number_of_neurons=20, sfname='sims/2023-02-21/continuous contrast 20 neurons contrast 0.0 mask f 50.asdf', contrast=0.0, mask=1, f=50, mu_c=7.5, sigma_c=2, count=2), params(eta=2e-06, number_of_neurons=20, sfname='sims/2023-02-21/continuous contrast 20 neurons contrast 0.0 mask f 70.asdf', contrast=0.0, mask=1, f=70, mu_c=7.5, sigma_c=2, count=3), params(eta=2e-06, number_of_neurons=20, sfname='sims/2023-02-21/continuous contrast 20 neurons contrast 0.0 mask f 90.asdf', contrast=0.0, mask=1, f=90, mu_c=7.5, sigma_c=2, count=4)] ... [params(eta=2e-06, number_of_neurons=20, sfname='sims/2023-02-21/continuous contrast 20 neurons contrast 1.0 mask f 10.asdf', contrast=1.0, mask=1, f=10, mu_c=7.5, sigma_c=2, count=50), params(eta=2e-06, number_of_neurons=20, sfname='sims/2023-02-21/continuous contrast 20 neurons contrast 1.0 mask f 30.asdf', contrast=1.0, mask=1, f=30, mu_c=7.5, sigma_c=2, count=51), params(eta=2e-06, number_of_neurons=20, sfname='sims/2023-02-21/continuous contrast 20 neurons contrast 1.0 mask f 50.asdf', contrast=1.0, mask=1, f=50, mu_c=7.5, sigma_c=2, count=52), params(eta=2e-06, number_of_neurons=20, sfname='sims/2023-02-21/continuous contrast 20 neurons contrast 1.0 mask f 70.asdf', contrast=1.0, mask=1, f=70, mu_c=7.5, sigma_c=2, count=53), params(eta=2e-06, number_of_neurons=20, sfname='sims/2023-02-21/continuous contrast 20 neurons contrast 1.0 mask f 90.asdf', contrast=1.0, mask=1, f=90, mu_c=7.5, sigma_c=2, count=54)]\n"
     ]
    }
   ],
   "source": [
    "func=run_one_continuous_mask_jitter\n",
    "\n",
    "\n",
    "contrast_mat=linspace(0,1,11)\n",
    "mask_mat=array([0,1])\n",
    "f_mat=array([10,30,50,70,90])\n",
    "\n",
    "\n",
    "all_params=[]\n",
    "for c,contrast in enumerate(contrast_mat):\n",
    "    for fi,f in enumerate(f_mat):\n",
    "        sfname=base+f'/continuous contrast {number_of_neurons} neurons contrast {contrast:.1f} mask f {f}.asdf'\n",
    "\n",
    "        p=Struct()\n",
    "        p.eta=eta\n",
    "        p.number_of_neurons=number_of_neurons\n",
    "        p.sfname=sfname\n",
    "\n",
    "        p.contrast=contrast\n",
    "        p.mask=1\n",
    "        p.f=f # not used when mask=0\n",
    "        p.mu_c=7.5\n",
    "        p.sigma_c=2\n",
    "\n",
    "        all_params+=[p]\n",
    "\n",
    "all_params=to_named_tuple(all_params)  \n",
    "do_params=make_do_params(all_params,verbose=True)"
   ]
  },
  {
   "cell_type": "code",
   "execution_count": 13,
   "id": "ddcb93ea-d5d0-4526-a5fa-9b079becff4f",
   "metadata": {},
   "outputs": [
    {
     "name": "stdout",
     "output_type": "stream",
     "text": [
      " [#############################100% (ETA: 0.0 s)#############################]\n",
      "Resolution float64 -> uint16\n",
      "[Resolution float64 -> uint16\n",
      "[.] Sequence Time Elapsed...1 m, 50.21 s\n",
      ".] Sequence Time Elapsed...1 m, 50.01 s\n",
      "Using cache_images/cache_images_c2e0829f3e61ca9a4b271b0f7c2ee1f1.asdf from cache.Using cache_images/cache_images_c2e0829f3e61ca9a4b271b0f7c2ee1f1.asdf from cache.[[.] Sequence Time Elapsed...1 m, 50.11 s\n",
      "Using cache_images/cache_images_c2e0829f3e61ca9a4b271b0f7c2ee1f1.asdf from cache.[.] Sequence Time Elapsed...1 m, 49.86 s\n",
      "Using cache_images/cache_images_c2e0829f3e61ca9a4b271b0f7c2ee1f1.asdf from cache.[.] Sequence Time Elapsed...1 m, 48.79 s\n",
      ".] Sequence Time Elapsed...1 m, 49.05 s\n",
      "Using cache_images/cache_images_c2e0829f3e61ca9a4b271b0f7c2ee1f1.asdf from cache.[Using cache_images/cache_images_c2e0829f3e61ca9a4b271b0f7c2ee1f1.asdf from cache.[.] Sequence Time Elapsed...1 m, 49.27 s\n",
      "Using cache_images/cache_images_c2e0829f3e61ca9a4b271b0f7c2ee1f1.asdf from cache.[.] Sequence Time Elapsed...1 m, 48.88 s\n",
      "Using cache_images/cache_images_c2e0829f3e61ca9a4b271b0f7c2ee1f1.asdf from cache.[.] Sequence Time Elapsed...1 m, 49.29 s\n",
      ".] Sequence Time Elapsed...1 m, 49.46 s\n",
      "Using cache_images/cache_images_c2e0829f3e61ca9a4b271b0f7c2ee1f1.asdf from cache.[Using cache_images/cache_images_c2e0829f3e61ca9a4b271b0f7c2ee1f1.asdf from cache.[.] Sequence Time Elapsed...1 m, 49.43 s\n",
      "Using cache_images/cache_images_c2e0829f3e61ca9a4b271b0f7c2ee1f1.asdf from cache.[.] Sequence Time Elapsed...1 m, 49.15 s\n",
      "Using cache_images/cache_images_c2e0829f3e61ca9a4b271b0f7c2ee1f1.asdf from cache.[.] Sequence Time Elapsed...1 m, 49.47 s\n",
      ".] Sequence Time Elapsed...1 m, 49.08 s\n",
      "Using cache_images/cache_images_c2e0829f3e61ca9a4b271b0f7c2ee1f1.asdf from cache.Using cache_images/cache_images_c2e0829f3e61ca9a4b271b0f7c2ee1f1.asdf from cache.[[.] Sequence Time Elapsed...1 m, 49.00 s\n",
      "Using cache_images/cache_images_c2e0829f3e61ca9a4b271b0f7c2ee1f1.asdf from cache.[.] Sequence Time Elapsed...1 m, 48.91 s\n",
      "Using cache_images/cache_images_c2e0829f3e61ca9a4b271b0f7c2ee1f1.asdf from cache.[.] Sequence Time Elapsed...1 m, 48.93 s\n",
      ".] Sequence Time Elapsed...1 m, 49.30 s\n",
      "Using cache_images/cache_images_c2e0829f3e61ca9a4b271b0f7c2ee1f1.asdf from cache.[Using cache_images/cache_images_c2e0829f3e61ca9a4b271b0f7c2ee1f1.asdf from cache.[.] Sequence Time Elapsed...1 m, 49.26 s\n",
      "Using cache_images/cache_images_c2e0829f3e61ca9a4b271b0f7c2ee1f1.asdf from cache.[.] Sequence Time Elapsed...1 m, 49.38 s\n",
      "Using cache_images/cache_images_c2e0829f3e61ca9a4b271b0f7c2ee1f1.asdf from cache.[.] Sequence Time Elapsed...1 m, 49.47 s\n",
      ".] Sequence Time Elapsed...1 m, 49.73 s\n",
      "Using cache_images/cache_images_c2e0829f3e61ca9a4b271b0f7c2ee1f1.asdf from cache.[Using cache_images/cache_images_c2e0829f3e61ca9a4b271b0f7c2ee1f1.asdf from cache.[.] Sequence Time Elapsed...1 m, 49.07 s\n",
      "Using cache_images/cache_images_c2e0829f3e61ca9a4b271b0f7c2ee1f1.asdf from cache.[.] Sequence Time Elapsed...1 m, 49.76 s\n",
      "Using cache_images/cache_images_c2e0829f3e61ca9a4b271b0f7c2ee1f1.asdf from cache.[.] Sequence Time Elapsed...1 m, 51.13 s\n",
      ".] Sequence Time Elapsed...1 m, 51.23 s\n",
      "Using cache_images/cache_images_c2e0829f3e61ca9a4b271b0f7c2ee1f1.asdf from cache.[Using cache_images/cache_images_c2e0829f3e61ca9a4b271b0f7c2ee1f1.asdf from cache.[.] Sequence Time Elapsed...1 m, 51.85 s\n",
      "Using cache_images/cache_images_c2e0829f3e61ca9a4b271b0f7c2ee1f1.asdf from cache.[.] Sequence Time Elapsed...1 m, 52.36 s\n",
      "Using cache_images/cache_images_c2e0829f3e61ca9a4b271b0f7c2ee1f1.asdf from cache.[.] Sequence Time Elapsed...1 m, 51.09 s\n",
      ".] Sequence Time Elapsed...1 m, 51.10 s\n",
      "Using cache_images/cache_images_c2e0829f3e61ca9a4b271b0f7c2ee1f1.asdf from cache.[Using cache_images/cache_images_c2e0829f3e61ca9a4b271b0f7c2ee1f1.asdf from cache.[.] Sequence Time Elapsed...1 m, 50.77 s\n",
      "Using cache_images/cache_images_c2e0829f3e61ca9a4b271b0f7c2ee1f1.asdf from cache.[.] Sequence Time Elapsed...1 m, 51.30 s\n",
      "Using cache_images/cache_images_c2e0829f3e61ca9a4b271b0f7c2ee1f1.asdf from cache.[.] Sequence Time Elapsed...1 m, 50.63 s\n",
      ".] Sequence Time Elapsed...1 m, 50.42 s\n",
      "Using cache_images/cache_images_c2e0829f3e61ca9a4b271b0f7c2ee1f1.asdf from cache.[Using cache_images/cache_images_c2e0829f3e61ca9a4b271b0f7c2ee1f1.asdf from cache.[.] Sequence Time Elapsed...1 m, 50.53 s\n",
      "Using cache_images/cache_images_c2e0829f3e61ca9a4b271b0f7c2ee1f1.asdf from cache.[.] Sequence Time Elapsed...1 m, 49.50 s\n",
      "Using cache_images/cache_images_c2e0829f3e61ca9a4b271b0f7c2ee1f1.asdf from cache.[.] Sequence Time Elapsed...1 m, 49.32 s\n",
      ".] Sequence Time Elapsed...1 m, 48.84 s\n",
      "Using cache_images/cache_images_c2e0829f3e61ca9a4b271b0f7c2ee1f1.asdf from cache.[Using cache_images/cache_images_c2e0829f3e61ca9a4b271b0f7c2ee1f1.asdf from cache.[.] Sequence Time Elapsed...1 m, 49.48 s\n",
      "Using cache_images/cache_images_c2e0829f3e61ca9a4b271b0f7c2ee1f1.asdf from cache.[.] Sequence Time Elapsed...1 m, 49.65 s\n",
      ".] Sequence Time Elapsed...1 m, 47.20 s\n",
      ".] Sequence Time Elapsed...1 m, 47.05 s\n",
      "Using cache_images/cache_images_c2e0829f3e61ca9a4b271b0f7c2ee1f1.asdf from cache.Using cache_images/cache_images_c2e0829f3e61ca9a4b271b0f7c2ee1f1.asdf from cache.[[.] Sequence Time Elapsed...1 m, 46.74 s\n",
      ".] Sequence Time Elapsed...1 m, 42.75 s\n",
      ".] Sequence Time Elapsed...1 m, 43.08 s\n",
      "Using cache_images/cache_images_c2e0829f3e61ca9a4b271b0f7c2ee1f1.asdf from cache.Using cache_images/cache_images_c2e0829f3e61ca9a4b271b0f7c2ee1f1.asdf from cache.[[.] Sequence Time Elapsed...1 m, 41.55 s\n",
      ".] Sequence Time Elapsed...1 m, 41.82 s\n",
      "Using cache_images/cache_images_c2e0829f3e61ca9a4b271b0f7c2ee1f1.asdf from cache.[.] Sequence Time Elapsed...1 m, 34.14 s\n",
      "['sims/2023-02-21/continuous contrast 20 neurons contrast 0.0 mask f 10.asdf', 'sims/2023-02-21/continuous contrast 20 neurons contrast 0.0 mask f 30.asdf', 'sims/2023-02-21/continuous contrast 20 neurons contrast 0.0 mask f 50.asdf', 'sims/2023-02-21/continuous contrast 20 neurons contrast 0.0 mask f 70.asdf', 'sims/2023-02-21/continuous contrast 20 neurons contrast 0.0 mask f 90.asdf', 'sims/2023-02-21/continuous contrast 20 neurons contrast 0.1 mask f 10.asdf', 'sims/2023-02-21/continuous contrast 20 neurons contrast 0.1 mask f 30.asdf', 'sims/2023-02-21/continuous contrast 20 neurons contrast 0.1 mask f 50.asdf', 'sims/2023-02-21/continuous contrast 20 neurons contrast 0.1 mask f 70.asdf', 'sims/2023-02-21/continuous contrast 20 neurons contrast 0.1 mask f 90.asdf', 'sims/2023-02-21/continuous contrast 20 neurons contrast 0.2 mask f 10.asdf', 'sims/2023-02-21/continuous contrast 20 neurons contrast 0.2 mask f 30.asdf', 'sims/2023-02-21/continuous contrast 20 neurons contrast 0.2 mask f 50.asdf', 'sims/2023-02-21/continuous contrast 20 neurons contrast 0.2 mask f 70.asdf', 'sims/2023-02-21/continuous contrast 20 neurons contrast 0.2 mask f 90.asdf', 'sims/2023-02-21/continuous contrast 20 neurons contrast 0.3 mask f 10.asdf', 'sims/2023-02-21/continuous contrast 20 neurons contrast 0.3 mask f 30.asdf', 'sims/2023-02-21/continuous contrast 20 neurons contrast 0.3 mask f 50.asdf', 'sims/2023-02-21/continuous contrast 20 neurons contrast 0.3 mask f 70.asdf', 'sims/2023-02-21/continuous contrast 20 neurons contrast 0.3 mask f 90.asdf', 'sims/2023-02-21/continuous contrast 20 neurons contrast 0.4 mask f 10.asdf', 'sims/2023-02-21/continuous contrast 20 neurons contrast 0.4 mask f 30.asdf', 'sims/2023-02-21/continuous contrast 20 neurons contrast 0.4 mask f 50.asdf', 'sims/2023-02-21/continuous contrast 20 neurons contrast 0.4 mask f 70.asdf', 'sims/2023-02-21/continuous contrast 20 neurons contrast 0.4 mask f 90.asdf', 'sims/2023-02-21/continuous contrast 20 neurons contrast 0.5 mask f 10.asdf', 'sims/2023-02-21/continuous contrast 20 neurons contrast 0.5 mask f 30.asdf', 'sims/2023-02-21/continuous contrast 20 neurons contrast 0.5 mask f 50.asdf', 'sims/2023-02-21/continuous contrast 20 neurons contrast 0.5 mask f 70.asdf', 'sims/2023-02-21/continuous contrast 20 neurons contrast 0.5 mask f 90.asdf', 'sims/2023-02-21/continuous contrast 20 neurons contrast 0.6 mask f 10.asdf', 'sims/2023-02-21/continuous contrast 20 neurons contrast 0.6 mask f 30.asdf', 'sims/2023-02-21/continuous contrast 20 neurons contrast 0.6 mask f 50.asdf', 'sims/2023-02-21/continuous contrast 20 neurons contrast 0.6 mask f 70.asdf', 'sims/2023-02-21/continuous contrast 20 neurons contrast 0.6 mask f 90.asdf', 'sims/2023-02-21/continuous contrast 20 neurons contrast 0.7 mask f 10.asdf', 'sims/2023-02-21/continuous contrast 20 neurons contrast 0.7 mask f 30.asdf', 'sims/2023-02-21/continuous contrast 20 neurons contrast 0.7 mask f 50.asdf', 'sims/2023-02-21/continuous contrast 20 neurons contrast 0.7 mask f 70.asdf', 'sims/2023-02-21/continuous contrast 20 neurons contrast 0.7 mask f 90.asdf', 'sims/2023-02-21/continuous contrast 20 neurons contrast 0.8 mask f 10.asdf', 'sims/2023-02-21/continuous contrast 20 neurons contrast 0.8 mask f 30.asdf', 'sims/2023-02-21/continuous contrast 20 neurons contrast 0.8 mask f 50.asdf', 'sims/2023-02-21/continuous contrast 20 neurons contrast 0.8 mask f 70.asdf', 'sims/2023-02-21/continuous contrast 20 neurons contrast 0.8 mask f 90.asdf', 'sims/2023-02-21/continuous contrast 20 neurons contrast 0.9 mask f 10.asdf', 'sims/2023-02-21/continuous contrast 20 neurons contrast 0.9 mask f 30.asdf', 'sims/2023-02-21/continuous contrast 20 neurons contrast 0.9 mask f 50.asdf', 'sims/2023-02-21/continuous contrast 20 neurons contrast 0.9 mask f 70.asdf', 'sims/2023-02-21/continuous contrast 20 neurons contrast 0.9 mask f 90.asdf', 'sims/2023-02-21/continuous contrast 20 neurons contrast 1.0 mask f 10.asdf', 'sims/2023-02-21/continuous contrast 20 neurons contrast 1.0 mask f 30.asdf', 'sims/2023-02-21/continuous contrast 20 neurons contrast 1.0 mask f 50.asdf', 'sims/2023-02-21/continuous contrast 20 neurons contrast 1.0 mask f 70.asdf', 'sims/2023-02-21/continuous contrast 20 neurons contrast 1.0 mask f 90.asdf']\n"
     ]
    }
   ],
   "source": [
    "if do_params:\n",
    "    pool = Pool(processes=number_of_processes)\n",
    "    result = pool.map_async(func, do_params)\n",
    "    print(result.get())"
   ]
  },
  {
   "cell_type": "code",
   "execution_count": null,
   "id": "c79b0033-0ef3-45ef-9cdc-573a2c6e91ee",
   "metadata": {},
   "outputs": [],
   "source": []
  }
 ],
 "metadata": {
  "kernelspec": {
   "display_name": "Python 3 (ipykernel)",
   "language": "python",
   "name": "python3"
  },
  "language_info": {
   "codemirror_mode": {
    "name": "ipython",
    "version": 3
   },
   "file_extension": ".py",
   "mimetype": "text/x-python",
   "name": "python",
   "nbconvert_exporter": "python",
   "pygments_lexer": "ipython3",
   "version": "3.9.13"
  }
 },
 "nbformat": 4,
 "nbformat_minor": 5
}
