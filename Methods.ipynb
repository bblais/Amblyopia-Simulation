{
 "cells": [
  {
   "cell_type": "markdown",
   "id": "1f4c2c0d-8bfd-4179-9470-e0cbfbfb89de",
   "metadata": {},
   "source": [
    "# Methods"
   ]
  },
  {
   "cell_type": "markdown",
   "id": "7a314c59-343f-4404-aff0-c3b8eb1eef5b",
   "metadata": {},
   "source": [
    "In this paper we use a specific model of neural plasticity, the BCM model[@BCM82], to describe the dynamics of the recovery from amblyopia under a number of treatment protocols. "
   ]
  },
  {
   "cell_type": "code",
   "execution_count": null,
   "id": "8c58076a-cb25-46dd-b3ec-1dad9e32c002",
   "metadata": {},
   "outputs": [],
   "source": []
  }
 ],
 "metadata": {
  "kernelspec": {
   "display_name": "Python 3 (ipykernel)",
   "language": "python",
   "name": "python3"
  },
  "language_info": {
   "codemirror_mode": {
    "name": "ipython",
    "version": 3
   },
   "file_extension": ".py",
   "mimetype": "text/x-python",
   "name": "python",
   "nbconvert_exporter": "python",
   "pygments_lexer": "ipython3",
   "version": "3.9.12"
  }
 },
 "nbformat": 4,
 "nbformat_minor": 5
}
