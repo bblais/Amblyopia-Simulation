{
 "cells": [
  {
   "cell_type": "markdown",
   "id": "ebca28a8-d6fc-4e74-8417-7e96bc5451ef",
   "metadata": {},
   "source": [
    "shouldn't the contrast=1 case with no mask be identical to the optical fix?"
   ]
  },
  {
   "cell_type": "code",
   "execution_count": 1,
   "id": "9285c565-e5dc-449a-9533-711681a3397e",
   "metadata": {},
   "outputs": [],
   "source": [
    "%matplotlib inline\n",
    "from pylab import *\n",
    "from mpl_toolkits.axes_grid1 import make_axes_locatable"
   ]
  },
  {
   "cell_type": "code",
   "execution_count": 2,
   "id": "3eb65b00-6135-4be7-8c23-3321b2f50897",
   "metadata": {},
   "outputs": [
    {
     "name": "stdout",
     "output_type": "stream",
     "text": [
      "Splikes version  0.1.2\n",
      "Plasticnet version  0.1.9\n",
      "macOS-10.16-x86_64-i386-64bit\n"
     ]
    }
   ],
   "source": [
    "from treatment_sims_2023_06_02 import *"
   ]
  },
  {
   "cell_type": "code",
   "execution_count": 3,
   "id": "9fb785b0-b480-4e8f-9c4a-fa7b11777af4",
   "metadata": {},
   "outputs": [],
   "source": [
    "base='sims/2023-06-26'\n",
    "deficit_base='sims/2023-06-02'\n",
    "if not os.path.exists(base):\n",
    "    print(f\"mkdir {base}\")\n",
    "    os.mkdir(base)"
   ]
  },
  {
   "cell_type": "code",
   "execution_count": null,
   "id": "0eb35bb2-4690-45d7-b373-48a43c991ea0",
   "metadata": {},
   "outputs": [],
   "source": []
  }
 ],
 "metadata": {
  "kernelspec": {
   "display_name": "Python 3 (ipykernel)",
   "language": "python",
   "name": "python3"
  },
  "language_info": {
   "codemirror_mode": {
    "name": "ipython",
    "version": 3
   },
   "file_extension": ".py",
   "mimetype": "text/x-python",
   "name": "python",
   "nbconvert_exporter": "python",
   "pygments_lexer": "ipython3",
   "version": "3.9.13"
  }
 },
 "nbformat": 4,
 "nbformat_minor": 5
}
