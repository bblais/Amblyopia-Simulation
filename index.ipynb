{
 "cells": [
  {
   "cell_type": "markdown",
   "id": "0a7f17b6-ba5a-4112-ad61-8c7add3c13a6",
   "metadata": {},
   "source": [
    "# Preface {.unnumbered}\n",
    "\n",
    "These notes are produced with Quarto. (<https://quarto.org/docs/books>)\n",
    "\n",
    "## Software Installation {.unnumbered}\n",
    "\n",
    "The software is Python-based with parts written in Cython.  \n",
    "\n",
    "- Download the Anaconda Distribution of Python: https://www.anaconda.com/products/individual#downloads.  \n",
    "- Download and extract the *PlasticNet* package at: https://github.com/bblais/Plasticnet/archive/refs/heads/master.zip\n",
    "- Run the script `install.py`\n",
    "\n",
    "## Printable Versions {.unnumbered}\n",
    "\n",
    "Printable versions of this report can be found on the GitHub site for this project,\n",
    "\n",
    "- [Microsoft Word version](https://github.com/bblais/Amblyopia-Simulation/raw/main/docs/Comparing-Treatments-for-Amblyopia-with-a-Synaptic-Plasticity-Model.docx)\n",
    "- [PDF version](https://github.com/bblais/Amblyopia-Simulation/raw/main/docs/Comparing-Treatments-for-Amblyopia-with-a-Synaptic-Plasticity-Model.pdf)"
   ]
  },
  {
   "cell_type": "code",
   "execution_count": null,
   "id": "043ac21b-3f91-4a2b-b2e1-ecec79d9f1cf",
   "metadata": {},
   "outputs": [],
   "source": []
  }
 ],
 "metadata": {
  "kernelspec": {
   "display_name": "Python 3 (ipykernel)",
   "language": "python",
   "name": "python3"
  },
  "language_info": {
   "codemirror_mode": {
    "name": "ipython",
    "version": 3
   },
   "file_extension": ".py",
   "mimetype": "text/x-python",
   "name": "python",
   "nbconvert_exporter": "python",
   "pygments_lexer": "ipython3",
   "version": "3.9.12"
  }
 },
 "nbformat": 4,
 "nbformat_minor": 5
}
