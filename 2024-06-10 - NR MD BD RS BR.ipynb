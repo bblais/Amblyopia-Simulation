{
 "cells": [
  {
   "cell_type": "code",
   "execution_count": 1,
   "id": "e784c5a4-6ab0-4428-9dc2-c242cff56232",
   "metadata": {},
   "outputs": [],
   "source": [
    "%matplotlib inline\n",
    "from pylab import *"
   ]
  },
  {
   "cell_type": "code",
   "execution_count": 2,
   "id": "b3cf765b-5011-4b59-b94a-ca732ea18ce7",
   "metadata": {},
   "outputs": [
    {
     "name": "stdout",
     "output_type": "stream",
     "text": [
      "Splikes version  0.1.4\n",
      "Plasticnet version  0.1.12\n",
      "macOS-15.3-arm64-arm-64bit\n",
      "Base Image File: asdf/bbsk081604_all_scale2.asdf\n"
     ]
    }
   ],
   "source": [
    "from deficit_defs import *"
   ]
  },
  {
   "cell_type": "code",
   "execution_count": 3,
   "id": "aafbfe4d-7e74-4bef-be73-c37f56e2cd9d",
   "metadata": {},
   "outputs": [
    {
     "name": "stderr",
     "output_type": "stream",
     "text": [
      "2025-02-16 15:19:59,227\tINFO worker.py:1816 -- Started a local Ray instance.\n"
     ]
    },
    {
     "data": {
      "application/vnd.jupyter.widget-view+json": {
       "model_id": "d9c13c684c2847689e5b35679c5f7ccb",
       "version_major": 2,
       "version_minor": 0
      },
      "text/html": [
       "<div class=\"lm-Widget p-Widget lm-Panel p-Panel jp-Cell-outputWrapper\">\n",
       "    <div style=\"margin-left: 50px;display: flex;flex-direction: row;align-items: center\">\n",
       "        <div class=\"jp-RenderedHTMLCommon\" style=\"display: flex; flex-direction: row;\">\n",
       "  <svg viewBox=\"0 0 567 224\" fill=\"none\" xmlns=\"http://www.w3.org/2000/svg\" style=\"height: 3em;\">\n",
       "    <g clip-path=\"url(#clip0_4338_178347)\">\n",
       "        <path d=\"M341.29 165.561H355.29L330.13 129.051C345.63 123.991 354.21 112.051 354.21 94.2307C354.21 71.3707 338.72 58.1807 311.88 58.1807H271V165.561H283.27V131.661H311.8C314.25 131.661 316.71 131.501 319.01 131.351L341.25 165.561H341.29ZM283.29 119.851V70.0007H311.82C331.3 70.0007 342.34 78.2907 342.34 94.5507C342.34 111.271 331.34 119.861 311.82 119.861L283.29 119.851ZM451.4 138.411L463.4 165.561H476.74L428.74 58.1807H416L367.83 165.561H380.83L392.83 138.411H451.4ZM446.19 126.601H398L422 72.1407L446.24 126.601H446.19ZM526.11 128.741L566.91 58.1807H554.35L519.99 114.181L485.17 58.1807H472.44L514.01 129.181V165.541H526.13V128.741H526.11Z\" fill=\"var(--jp-ui-font-color0)\"/>\n",
       "        <path d=\"M82.35 104.44C84.0187 97.8827 87.8248 92.0678 93.1671 87.9146C98.5094 83.7614 105.083 81.5067 111.85 81.5067C118.617 81.5067 125.191 83.7614 130.533 87.9146C135.875 92.0678 139.681 97.8827 141.35 104.44H163.75C164.476 101.562 165.622 98.8057 167.15 96.2605L127.45 56.5605C121.071 60.3522 113.526 61.6823 106.235 60.3005C98.9443 58.9187 92.4094 54.9203 87.8602 49.0574C83.3109 43.1946 81.0609 35.8714 81.5332 28.4656C82.0056 21.0599 85.1679 14.0819 90.4252 8.8446C95.6824 3.60726 102.672 0.471508 110.08 0.0272655C117.487 -0.416977 124.802 1.86091 130.647 6.4324C136.493 11.0039 140.467 17.5539 141.821 24.8501C143.175 32.1463 141.816 39.6859 138 46.0505L177.69 85.7505C182.31 82.9877 187.58 81.4995 192.962 81.4375C198.345 81.3755 203.648 82.742 208.33 85.3976C213.012 88.0532 216.907 91.9029 219.616 96.5544C222.326 101.206 223.753 106.492 223.753 111.875C223.753 117.258 222.326 122.545 219.616 127.197C216.907 131.848 213.012 135.698 208.33 138.353C203.648 141.009 198.345 142.375 192.962 142.313C187.58 142.251 182.31 140.763 177.69 138L138 177.7C141.808 184.071 143.155 191.614 141.79 198.91C140.424 206.205 136.44 212.75 130.585 217.313C124.731 221.875 117.412 224.141 110.004 223.683C102.596 223.226 95.6103 220.077 90.3621 214.828C85.1139 209.58 81.9647 202.595 81.5072 195.187C81.0497 187.779 83.3154 180.459 87.878 174.605C92.4405 168.751 98.9853 164.766 106.281 163.401C113.576 162.035 121.119 163.383 127.49 167.19L167.19 127.49C165.664 124.941 164.518 122.182 163.79 119.3H141.39C139.721 125.858 135.915 131.673 130.573 135.826C125.231 139.98 118.657 142.234 111.89 142.234C105.123 142.234 98.5494 139.98 93.2071 135.826C87.8648 131.673 84.0587 125.858 82.39 119.3H60C58.1878 126.495 53.8086 132.78 47.6863 136.971C41.5641 141.163 34.1211 142.972 26.7579 142.059C19.3947 141.146 12.6191 137.574 7.70605 132.014C2.79302 126.454 0.0813599 119.29 0.0813599 111.87C0.0813599 104.451 2.79302 97.2871 7.70605 91.7272C12.6191 86.1673 19.3947 82.5947 26.7579 81.6817C34.1211 80.7686 41.5641 82.5781 47.6863 86.7696C53.8086 90.9611 58.1878 97.2456 60 104.44H82.35ZM100.86 204.32C103.407 206.868 106.759 208.453 110.345 208.806C113.93 209.159 117.527 208.258 120.522 206.256C123.517 204.254 125.725 201.276 126.771 197.828C127.816 194.38 127.633 190.677 126.253 187.349C124.874 184.021 122.383 181.274 119.205 179.577C116.027 177.88 112.359 177.337 108.826 178.042C105.293 178.746 102.113 180.654 99.8291 183.44C97.5451 186.226 96.2979 189.718 96.3 193.32C96.2985 195.364 96.7006 197.388 97.4831 199.275C98.2656 201.163 99.4132 202.877 100.86 204.32ZM204.32 122.88C206.868 120.333 208.453 116.981 208.806 113.396C209.159 109.811 208.258 106.214 206.256 103.219C204.254 100.223 201.275 98.0151 197.827 96.97C194.38 95.9249 190.676 96.1077 187.348 97.4873C184.02 98.8669 181.274 101.358 179.577 104.536C177.879 107.714 177.337 111.382 178.041 114.915C178.746 118.448 180.653 121.627 183.439 123.911C186.226 126.195 189.717 127.443 193.32 127.44C195.364 127.443 197.388 127.042 199.275 126.259C201.163 125.476 202.878 124.328 204.32 122.88ZM122.88 19.4205C120.333 16.8729 116.981 15.2876 113.395 14.9347C109.81 14.5817 106.213 15.483 103.218 17.4849C100.223 19.4868 98.0146 22.4654 96.9696 25.9131C95.9245 29.3608 96.1073 33.0642 97.4869 36.3922C98.8665 39.7202 101.358 42.4668 104.535 44.1639C107.713 45.861 111.381 46.4036 114.914 45.6992C118.447 44.9949 121.627 43.0871 123.911 40.301C126.195 37.515 127.442 34.0231 127.44 30.4205C127.44 28.3772 127.038 26.3539 126.255 24.4664C125.473 22.5788 124.326 20.8642 122.88 19.4205ZM19.42 100.86C16.8725 103.408 15.2872 106.76 14.9342 110.345C14.5813 113.93 15.4826 117.527 17.4844 120.522C19.4863 123.518 22.4649 125.726 25.9127 126.771C29.3604 127.816 33.0638 127.633 36.3918 126.254C39.7198 124.874 42.4664 122.383 44.1635 119.205C45.8606 116.027 46.4032 112.359 45.6988 108.826C44.9944 105.293 43.0866 102.114 40.3006 99.8296C37.5145 97.5455 34.0227 96.2983 30.42 96.3005C26.2938 96.3018 22.337 97.9421 19.42 100.86ZM100.86 100.86C98.3125 103.408 96.7272 106.76 96.3742 110.345C96.0213 113.93 96.9226 117.527 98.9244 120.522C100.926 123.518 103.905 125.726 107.353 126.771C110.8 127.816 114.504 127.633 117.832 126.254C121.16 124.874 123.906 122.383 125.604 119.205C127.301 116.027 127.843 112.359 127.139 108.826C126.434 105.293 124.527 102.114 121.741 99.8296C118.955 97.5455 115.463 96.2983 111.86 96.3005C109.817 96.299 107.793 96.701 105.905 97.4835C104.018 98.2661 102.303 99.4136 100.86 100.86Z\" fill=\"#00AEEF\"/>\n",
       "    </g>\n",
       "    <defs>\n",
       "        <clipPath id=\"clip0_4338_178347\">\n",
       "            <rect width=\"566.93\" height=\"223.75\" fill=\"white\"/>\n",
       "        </clipPath>\n",
       "    </defs>\n",
       "  </svg>\n",
       "</div>\n",
       "\n",
       "        <table class=\"jp-RenderedHTMLCommon\" style=\"border-collapse: collapse;color: var(--jp-ui-font-color1);font-size: var(--jp-ui-font-size1);\">\n",
       "    <tr>\n",
       "        <td style=\"text-align: left\"><b>Python version:</b></td>\n",
       "        <td style=\"text-align: left\"><b>3.12.6</b></td>\n",
       "    </tr>\n",
       "    <tr>\n",
       "        <td style=\"text-align: left\"><b>Ray version:</b></td>\n",
       "        <td style=\"text-align: left\"><b>2.38.0</b></td>\n",
       "    </tr>\n",
       "    \n",
       "</table>\n",
       "\n",
       "    </div>\n",
       "</div>\n"
      ],
      "text/plain": [
       "RayContext(dashboard_url='', python_version='3.12.6', ray_version='2.38.0', ray_commit='385ee466260ef3cd218d5e372aef5d39338b7b94')"
      ]
     },
     "execution_count": 3,
     "metadata": {},
     "output_type": "execute_result"
    },
    {
     "name": "stdout",
     "output_type": "stream",
     "text": [
      "\u001b[36m(pid=55961)\u001b[0m Splikes version  0.1.4\n",
      "\u001b[36m(pid=55961)\u001b[0m Plasticnet version  0.1.12\n",
      "\u001b[36m(pid=55961)\u001b[0m macOS-15.3-arm64-arm-64bit\n",
      "\u001b[36m(pid=55961)\u001b[0m Base Image File: asdf/bbsk081604_all_scale2.asdf\n",
      "\u001b[36m(run_one_bd pid=55961)\u001b[0m Using cache_images/cache_images_f6d484251bbeda8699ed0b15303a996c.asdf from cache.Using cache_images/cache_images_f6d484251bbeda8699ed0b15303a996c.asdf from cache.Using cache_images/cache_images_f6d484251bbeda8699ed0b15303a996c.asdf from cache.Using cache_images/cache_images_f6d484251bbeda8699ed0b15303a996c.asdf from cache.:task_name:run_one_bd\n",
      "\u001b[36m(run_one_bd pid=55961)\u001b[0m Using cache_images/cache_images_f6d484251bbeda8699ed0b15303a996c.asdf from cache.Using cache_images/cache_images_f6d484251bbeda8699ed0b15303a996c.asdf from cache.Using cache_images/cache_images_f6d484251bbeda8699ed0b15303a996c.asdf from cache.Using cache_images/cache_images_f6d484251bbeda8699ed0b15303a996c.asdf from cache.:task_name:run_one_bd\n",
      "\u001b[36m(run_one_bd pid=55961)\u001b[0m Using cache_images/cache_images_f6d484251bbeda8699ed0b15303a996c.asdf from cache.Using cache_images/cache_images_f6d484251bbeda8699ed0b15303a996c.asdf from cache.Using cache_images/cache_images_f6d484251bbeda8699ed0b15303a996c.asdf from cache.Using cache_images/cache_images_f6d484251bbeda8699ed0b15303a996c.asdf from cache.:task_name:run_one_bd\n",
      "\u001b[36m(run_one_bd pid=55961)\u001b[0m Using cache_images/cache_images_f6d484251bbeda8699ed0b15303a996c.asdf from cache.Using cache_images/cache_images_f6d484251bbeda8699ed0b15303a996c.asdf from cache.Using cache_images/cache_images_f6d484251bbeda8699ed0b15303a996c.asdf from cache.Using cache_images/cache_images_f6d484251bbeda8699ed0b15303a996c.asdf from cache.:task_name:run_one_bd\n",
      "\u001b[36m(run_one_bd pid=55961)\u001b[0m Using cache_images/cache_images_f6d484251bbeda8699ed0b15303a996c.asdf from cache.Using cache_images/cache_images_f6d484251bbeda8699ed0b15303a996c.asdf from cache.Using cache_images/cache_images_f6d484251bbeda8699ed0b15303a996c.asdf from cache.Using cache_images/cache_images_f6d484251bbeda8699ed0b15303a996c.asdf from cache.:task_name:run_one_bd\n",
      "\u001b[36m(run_one_bd pid=55961)\u001b[0m Using cache_images/cache_images_f6d484251bbeda8699ed0b15303a996c.asdf from cache.Using cache_images/cache_images_f6d484251bbeda8699ed0b15303a996c.asdf from cache.Using cache_images/cache_images_f6d484251bbeda8699ed0b15303a996c.asdf from cache.Using cache_images/cache_images_f6d484251bbeda8699ed0b15303a996c.asdf from cache.\n",
      "\u001b[36m(run_one_bd pid=55961)\u001b[0m Using cache_images/cache_images_f6d484251bbeda8699ed0b15303a996c.asdf from cache.Using cache_images/cache_images_f6d484251bbeda8699ed0b15303a996c.asdf from cache.Using cache_images/cache_images_f6d484251bbeda8699ed0b15303a996c.asdf from cache.Using cache_images/cache_images_f6d484251bbeda8699ed0b15303a996c.asdf from cache.:task_name:run_one_bd\n",
      "\u001b[36m(run_one_bd pid=55961)\u001b[0m Using cache_images/cache_images_f6d484251bbeda8699ed0b15303a996c.asdf from cache.Using cache_images/cache_images_f6d484251bbeda8699ed0b15303a996c.asdf from cache.Using cache_images/cache_images_f6d484251bbeda8699ed0b15303a996c.asdf from cache.Using cache_images/cache_images_f6d484251bbeda8699ed0b15303a996c.asdf from cache.:task_name:run_one_bd\n",
      "\u001b[36m(run_one_bd pid=55961)\u001b[0m Using cache_images/cache_images_f6d484251bbeda8699ed0b15303a996c.asdf from cache.Using cache_images/cache_images_f6d484251bbeda8699ed0b15303a996c.asdf from cache.Using cache_images/cache_images_f6d484251bbeda8699ed0b15303a996c.asdf from cache.Using cache_images/cache_images_f6d484251bbeda8699ed0b15303a996c.asdf from cache.:task_name:run_one_bd\n",
      "\u001b[36m(run_one_bd pid=55961)\u001b[0m Using cache_images/cache_images_f6d484251bbeda8699ed0b15303a996c.asdf from cache.Using cache_images/cache_images_f6d484251bbeda8699ed0b15303a996c.asdf from cache.Using cache_images/cache_images_f6d484251bbeda8699ed0b15303a996c.asdf from cache.Using cache_images/cache_images_f6d484251bbeda8699ed0b15303a996c.asdf from cache.:task_name:run_one_bd\n",
      "\u001b[36m(run_one_bd pid=55961)\u001b[0m Using cache_images/cache_images_f6d484251bbeda8699ed0b15303a996c.asdf from cache.Using cache_images/cache_images_f6d484251bbeda8699ed0b15303a996c.asdf from cache.Using cache_images/cache_images_f6d484251bbeda8699ed0b15303a996c.asdf from cache.Using cache_images/cache_images_f6d484251bbeda8699ed0b15303a996c.asdf from cache.\n",
      "\u001b[36m(run_one_rs pid=55961)\u001b[0m Using cache_images/cache_images_f6d484251bbeda8699ed0b15303a996c.asdf from cache.Using cache_images/cache_images_f6d484251bbeda8699ed0b15303a996c.asdf from cache.Using cache_images/cache_images_f6d484251bbeda8699ed0b15303a996c.asdf from cache.Using cache_images/cache_images_f6d484251bbeda8699ed0b15303a996c.asdf from cache.Using cache_images/cache_images_f6d484251bbeda8699ed0b15303a996c.asdf from cache.Using cache_images/cache_images_f6d484251bbeda8699ed0b15303a996c.asdf from cache.:task_name:run_one_rs\n",
      "\u001b[36m(run_one_rs pid=55961)\u001b[0m Using cache_images/cache_images_f6d484251bbeda8699ed0b15303a996c.asdf from cache.Using cache_images/cache_images_f6d484251bbeda8699ed0b15303a996c.asdf from cache.Using cache_images/cache_images_f6d484251bbeda8699ed0b15303a996c.asdf from cache.Using cache_images/cache_images_f6d484251bbeda8699ed0b15303a996c.asdf from cache.Using cache_images/cache_images_f6d484251bbeda8699ed0b15303a996c.asdf from cache.Using cache_images/cache_images_f6d484251bbeda8699ed0b15303a996c.asdf from cache.:task_name:run_one_rs\n",
      "\u001b[36m(run_one_rs pid=55961)\u001b[0m Using cache_images/cache_images_f6d484251bbeda8699ed0b15303a996c.asdf from cache.Using cache_images/cache_images_f6d484251bbeda8699ed0b15303a996c.asdf from cache.Using cache_images/cache_images_f6d484251bbeda8699ed0b15303a996c.asdf from cache.Using cache_images/cache_images_f6d484251bbeda8699ed0b15303a996c.asdf from cache.Using cache_images/cache_images_f6d484251bbeda8699ed0b15303a996c.asdf from cache.Using cache_images/cache_images_f6d484251bbeda8699ed0b15303a996c.asdf from cache.:task_name:run_one_rs\n",
      "\u001b[36m(run_one_rs pid=55961)\u001b[0m Using cache_images/cache_images_f6d484251bbeda8699ed0b15303a996c.asdf from cache.Using cache_images/cache_images_f6d484251bbeda8699ed0b15303a996c.asdf from cache.Using cache_images/cache_images_f6d484251bbeda8699ed0b15303a996c.asdf from cache.Using cache_images/cache_images_f6d484251bbeda8699ed0b15303a996c.asdf from cache.Using cache_images/cache_images_f6d484251bbeda8699ed0b15303a996c.asdf from cache.Using cache_images/cache_images_f6d484251bbeda8699ed0b15303a996c.asdf from cache.:task_name:run_one_rs\n",
      "\u001b[36m(run_one_rs pid=55961)\u001b[0m Using cache_images/cache_images_f6d484251bbeda8699ed0b15303a996c.asdf from cache.Using cache_images/cache_images_f6d484251bbeda8699ed0b15303a996c.asdf from cache.Using cache_images/cache_images_f6d484251bbeda8699ed0b15303a996c.asdf from cache.Using cache_images/cache_images_f6d484251bbeda8699ed0b15303a996c.asdf from cache.Using cache_images/cache_images_f6d484251bbeda8699ed0b15303a996c.asdf from cache.Using cache_images/cache_images_f6d484251bbeda8699ed0b15303a996c.asdf from cache.:task_name:run_one_rs\n",
      "\u001b[36m(run_one_rs pid=55961)\u001b[0m Using cache_images/cache_images_f6d484251bbeda8699ed0b15303a996c.asdf from cache.Using cache_images/cache_images_f6d484251bbeda8699ed0b15303a996c.asdf from cache.Using cache_images/cache_images_f6d484251bbeda8699ed0b15303a996c.asdf from cache.Using cache_images/cache_images_f6d484251bbeda8699ed0b15303a996c.asdf from cache.Using cache_images/cache_images_f6d484251bbeda8699ed0b15303a996c.asdf from cache.Using cache_images/cache_images_f6d484251bbeda8699ed0b15303a996c.asdf from cache.:task_name:run_one_rs\n",
      "\u001b[36m(run_one_rs pid=55961)\u001b[0m Using cache_images/cache_images_f6d484251bbeda8699ed0b15303a996c.asdf from cache.Using cache_images/cache_images_f6d484251bbeda8699ed0b15303a996c.asdf from cache.Using cache_images/cache_images_f6d484251bbeda8699ed0b15303a996c.asdf from cache.Using cache_images/cache_images_f6d484251bbeda8699ed0b15303a996c.asdf from cache.Using cache_images/cache_images_f6d484251bbeda8699ed0b15303a996c.asdf from cache.Using cache_images/cache_images_f6d484251bbeda8699ed0b15303a996c.asdf from cache.:task_name:run_one_rs\n",
      "\u001b[36m(run_one_rs pid=55961)\u001b[0m Using cache_images/cache_images_f6d484251bbeda8699ed0b15303a996c.asdf from cache.Using cache_images/cache_images_f6d484251bbeda8699ed0b15303a996c.asdf from cache.Using cache_images/cache_images_f6d484251bbeda8699ed0b15303a996c.asdf from cache.Using cache_images/cache_images_f6d484251bbeda8699ed0b15303a996c.asdf from cache.Using cache_images/cache_images_f6d484251bbeda8699ed0b15303a996c.asdf from cache.Using cache_images/cache_images_f6d484251bbeda8699ed0b15303a996c.asdf from cache.:task_name:run_one_rs\n",
      "\u001b[36m(run_one_rs pid=55961)\u001b[0m Using cache_images/cache_images_f6d484251bbeda8699ed0b15303a996c.asdf from cache.Using cache_images/cache_images_f6d484251bbeda8699ed0b15303a996c.asdf from cache.Using cache_images/cache_images_f6d484251bbeda8699ed0b15303a996c.asdf from cache.Using cache_images/cache_images_f6d484251bbeda8699ed0b15303a996c.asdf from cache.Using cache_images/cache_images_f6d484251bbeda8699ed0b15303a996c.asdf from cache.Using cache_images/cache_images_f6d484251bbeda8699ed0b15303a996c.asdf from cache.:task_name:run_one_rs\n",
      "\u001b[36m(run_one_rs pid=55961)\u001b[0m Using cache_images/cache_images_f6d484251bbeda8699ed0b15303a996c.asdf from cache.Using cache_images/cache_images_f6d484251bbeda8699ed0b15303a996c.asdf from cache.Using cache_images/cache_images_f6d484251bbeda8699ed0b15303a996c.asdf from cache.Using cache_images/cache_images_f6d484251bbeda8699ed0b15303a996c.asdf from cache.Using cache_images/cache_images_f6d484251bbeda8699ed0b15303a996c.asdf from cache.Using cache_images/cache_images_f6d484251bbeda8699ed0b15303a996c.asdf from cache.:task_name:run_one_rs\n",
      "\u001b[36m(run_one_rs pid=55961)\u001b[0m Using cache_images/cache_images_f6d484251bbeda8699ed0b15303a996c.asdf from cache.Using cache_images/cache_images_f6d484251bbeda8699ed0b15303a996c.asdf from cache.Using cache_images/cache_images_f6d484251bbeda8699ed0b15303a996c.asdf from cache.Using cache_images/cache_images_f6d484251bbeda8699ed0b15303a996c.asdf from cache.Using cache_images/cache_images_f6d484251bbeda8699ed0b15303a996c.asdf from cache.Using cache_images/cache_images_f6d484251bbeda8699ed0b15303a996c.asdf from cache.\n",
      "\u001b[36m(run_one_rs pid=55961)\u001b[0m Using cache_images/cache_images_f6d484251bbeda8699ed0b15303a996c.asdf from cache.Using cache_images/cache_images_f6d484251bbeda8699ed0b15303a996c.asdf from cache.Using cache_images/cache_images_f6d484251bbeda8699ed0b15303a996c.asdf from cache.Using cache_images/cache_images_f6d484251bbeda8699ed0b15303a996c.asdf from cache.Using cache_images/cache_images_f6d484251bbeda8699ed0b15303a996c.asdf from cache.Using cache_images/cache_images_f6d484251bbeda8699ed0b15303a996c.asdf from cache.[\n",
      "\u001b[36m(pid=55959)\u001b[0m Splikes version  0.1.4\n",
      "\u001b[36m(pid=55959)\u001b[0m Plasticnet version  0.1.12\n",
      "\u001b[36m(pid=55959)\u001b[0m macOS-15.3-arm64-arm-64bit\n",
      "\u001b[36m(pid=55958)\u001b[0m macOS-15.3-arm64-arm-64bit\n",
      "\u001b[36m(pid=55959)\u001b[0m Base Image File: asdf/bbsk081604_all_scale2.asdf\n",
      "\u001b[36m(run_one_rs pid=55958)\u001b[0m .\n",
      "\u001b[36m(run_one_rs pid=55958)\u001b[0m Using cache_images/cache_images_f6d484251bbeda8699ed0b15303a996c.asdf from cache.Using cache_images/cache_images_f6d484251bbeda8699ed0b15303a996c.asdf from cache.Using cache_images/cache_images_f6d484251bbeda8699ed0b15303a996c.asdf from cache.Using cache_images/cache_images_f6d484251bbeda8699ed0b15303a996c.asdf from cache.Using cache_images/cache_images_f6d484251bbeda8699ed0b15303a996c.asdf from cache.Using cache_images/cache_images_f6d484251bbeda8699ed0b15303a996c.asdf from cache.[\u001b[32m [repeated 2x across cluster] (Ray deduplicates logs by default. Set RAY_DEDUP_LOGS=0 to disable log deduplication, or see https://docs.ray.io/en/master/ray-observability/user-guides/configure-logging.html#log-deduplication for more options.)\u001b[0m\n",
      "\u001b[36m(pid=55958)\u001b[0m Splikes version  0.1.4\n",
      "\u001b[36m(pid=55958)\u001b[0m Plasticnet version  0.1.12\n",
      "\u001b[36m(pid=55958)\u001b[0m Base Image File: asdf/bbsk081604_all_scale2.asdf\n",
      "\u001b[36m(run_one_rs pid=55958)\u001b[0m .\u001b[32m [repeated 3x across cluster]\u001b[0m\n",
      "\u001b[36m(run_one_rs pid=55959)\u001b[0m .] Sequence Time Elapsed...18 m, 27.83 s\n",
      "\u001b[36m(run_one_rs pid=55959)\u001b[0m .\u001b[32m [repeated 2x across cluster]\u001b[0m\n"
     ]
    }
   ],
   "source": [
    "import ray \n",
    "number_of_processes=8\n",
    "ray.init(num_cpus=number_of_processes)"
   ]
  },
  {
   "cell_type": "code",
   "execution_count": 4,
   "id": "9b16f39e-446a-4330-ae4f-aef9b96336af",
   "metadata": {},
   "outputs": [],
   "source": [
    "base='sims/2024-06-10'\n",
    "if not os.path.exists(base):\n",
    "    print(f\"mkdir {base}\")\n",
    "    os.mkdir(base)"
   ]
  },
  {
   "cell_type": "code",
   "execution_count": 5,
   "id": "07fbbaf2-6927-4e8f-8ca6-b5287841f9a9",
   "metadata": {},
   "outputs": [],
   "source": [
    "def deprivation_jitter(blur=[-1,-1],\n",
    "            noise=[0.1,0.1],\n",
    "              scale=[1,1],\n",
    "              rf_size=19,\n",
    "           number_of_neurons=10,\n",
    "            mu_c=0,sigma_c=0,    \n",
    "            mu_r=0,sigma_r=0,\n",
    "           total_time=8*day,\n",
    "           save_interval=1*hour,_debug=False):\n",
    "\n",
    "    if _debug:\n",
    "        total_time=1*minute\n",
    "        save_interval=1*second\n",
    "\n",
    "        \n",
    "    images=[]\n",
    "    for bv in blur:\n",
    "        if bv<=0:\n",
    "            im=pi5.filtered_images(\n",
    "                                base_image_file,\n",
    "                                {'type':'dog','sd1':1,'sd2':3},\n",
    "                                {'type':'norm'},\n",
    "                                )\n",
    "        else:\n",
    "            im=pi5.filtered_images(\n",
    "                                    base_image_file,\n",
    "                                    {'type':'blur','size':bv},\n",
    "                                    {'type':'dog','sd1':1,'sd2':3},\n",
    "                                    {'type':'norm'},\n",
    "                                    )\n",
    "        images.append(im)\n",
    "                \n",
    "        \n",
    "        \n",
    "        \n",
    "    dt=200*ms      \n",
    "    eta=2e-6\n",
    "    pre1=pn.neurons.natural_images_with_jitter(images[0],\n",
    "                                                rf_size=rf_size,\n",
    "                                                time_between_patterns=dt,\n",
    "                                                sigma_r=0,\n",
    "                                                sigma_c=0,\n",
    "                                                verbose=False)\n",
    "\n",
    "    pre2=pn.neurons.natural_images_with_jitter(images[1],\n",
    "                                                rf_size=rf_size,\n",
    "                                                other_channel=pre1,\n",
    "                                                time_between_patterns=dt,\n",
    "                                                mu_r=mu_r,mu_c=mu_c,\n",
    "                                                sigma_r=sigma_r,sigma_c=sigma_c,\n",
    "                                                verbose=False)\n",
    "\n",
    "    if scale[0]!=1:\n",
    "        pre1+=pn.neurons.process.scale_shift(scale[0],0)\n",
    "\n",
    "    if scale[1]!=1:\n",
    "        pre2+=pn.neurons.process.scale_shift(scale[1],0)\n",
    "    \n",
    "    pre1+=pn.neurons.process.add_noise_normal(0,noise[0])\n",
    "    pre2+=pn.neurons.process.add_noise_normal(0,noise[1])\n",
    "\n",
    "    \n",
    "    \n",
    "    \n",
    "    pre=pre1+pre2\n",
    "\n",
    "    post=default_post(number_of_neurons)\n",
    "    c=default_bcm(pre,post)\n",
    "    c.eta=eta\n",
    "\n",
    "    sim=pn.simulation(total_time)\n",
    "    sim.dt=dt\n",
    "\n",
    "    sim.monitor(post,['output'],save_interval)\n",
    "    sim.monitor(c,['weights','theta'],save_interval)\n",
    "\n",
    "    sim+=pn.grating_response(print_time=False)\n",
    "\n",
    "    return sim,[pre,post],[c]"
   ]
  },
  {
   "cell_type": "code",
   "execution_count": 6,
   "id": "a190860a-6fcb-43ca-b989-37de9df47077",
   "metadata": {},
   "outputs": [],
   "source": [
    "@ray.remote\n",
    "def run_one_nr(params,overwrite=False,run=True,_debug=False):\n",
    "    import plasticnet as pn\n",
    "    count,noise1,noise2,scale1,scale2,blur1,blur2,number_of_neurons,sfname,mu_c,sigma_c=(\n",
    "        params.count,params.noise1,params.noise2,\n",
    "        params.scale1,params.scale2,\n",
    "        params.blur1,params.blur2,\n",
    "        params.number_of_neurons,params.sfname,params.mu_c,params.sigma_c)\n",
    "    \n",
    "    if not overwrite and os.path.exists(sfname):\n",
    "        return sfname\n",
    "    \n",
    "    seq=pn.Sequence()\n",
    "\n",
    "    t=16*day*2\n",
    "    ts=1*hour\n",
    "\n",
    "    # DEBUG\n",
    "    if _debug:\n",
    "        t=1*minute\n",
    "        ts=1*second\n",
    "    \n",
    "    seq+=deprivation_jitter(blur=[blur1,blur2],\n",
    "            total_time=t,\n",
    "            scale=[scale1,scale2],\n",
    "            noise=[noise1,noise2],\n",
    "            number_of_neurons=number_of_neurons,\n",
    "            mu_c=mu_c,sigma_c=sigma_c,\n",
    "            save_interval=ts)\n",
    "\n",
    "    if run:\n",
    "        seq.run(display_hash=False)\n",
    "        pn.save(sfname,seq) \n",
    "    \n",
    "    return sfname\n",
    "    "
   ]
  },
  {
   "cell_type": "code",
   "execution_count": 7,
   "id": "5903a8d8-8bac-422c-8f7b-b25c16c670ac",
   "metadata": {},
   "outputs": [
    {
     "data": {
      "text/plain": [
       "array([0. , 0.1, 0.2, 0.3, 0.4, 0.5, 0.6, 0.7, 0.8, 0.9, 1. , 1.1, 1.2,\n",
       "       1.3, 1.4, 1.5, 1.6, 1.7, 1.8, 1.9, 2. ])"
      ]
     },
     "execution_count": 7,
     "metadata": {},
     "output_type": "execute_result"
    }
   ],
   "source": [
    "noise_mat=linspace(0,2,21)\n",
    "noise_mat"
   ]
  },
  {
   "cell_type": "code",
   "execution_count": 8,
   "id": "93dd9515-d662-4b90-ba8a-9009fae97920",
   "metadata": {},
   "outputs": [
    {
     "name": "stdout",
     "output_type": "stream",
     "text": [
      "params(count=0, noise1=0.0, noise2=0.0, blur1=-1, blur2=-1, number_of_neurons=20, scale1=1, scale2=1, sfname='sims/2024-06-10/nr 20 neurons dog 0.asdf', mu_c=0, sigma_c=0)\n",
      "params(count=1, noise1=0.2, noise2=0.2, blur1=-1, blur2=-1, number_of_neurons=20, scale1=1, scale2=1, sfname='sims/2024-06-10/nr 20 neurons dog 1.asdf', mu_c=0, sigma_c=0)\n",
      "params(count=2, noise1=0.4, noise2=0.4, blur1=-1, blur2=-1, number_of_neurons=20, scale1=1, scale2=1, sfname='sims/2024-06-10/nr 20 neurons dog 2.asdf', mu_c=0, sigma_c=0)\n",
      "params(count=3, noise1=0.6000000000000001, noise2=0.6000000000000001, blur1=-1, blur2=-1, number_of_neurons=20, scale1=1, scale2=1, sfname='sims/2024-06-10/nr 20 neurons dog 3.asdf', mu_c=0, sigma_c=0)\n",
      "params(count=4, noise1=0.8, noise2=0.8, blur1=-1, blur2=-1, number_of_neurons=20, scale1=1, scale2=1, sfname='sims/2024-06-10/nr 20 neurons dog 4.asdf', mu_c=0, sigma_c=0)\n",
      "[....]\n",
      "params(count=6, noise1=1.2000000000000002, noise2=1.2000000000000002, blur1=-1, blur2=-1, number_of_neurons=20, scale1=1, scale2=1, sfname='sims/2024-06-10/nr 20 neurons dog 6.asdf', mu_c=0, sigma_c=0)\n",
      "params(count=7, noise1=1.4000000000000001, noise2=1.4000000000000001, blur1=-1, blur2=-1, number_of_neurons=20, scale1=1, scale2=1, sfname='sims/2024-06-10/nr 20 neurons dog 7.asdf', mu_c=0, sigma_c=0)\n",
      "params(count=8, noise1=1.6, noise2=1.6, blur1=-1, blur2=-1, number_of_neurons=20, scale1=1, scale2=1, sfname='sims/2024-06-10/nr 20 neurons dog 8.asdf', mu_c=0, sigma_c=0)\n",
      "params(count=9, noise1=1.8, noise2=1.8, blur1=-1, blur2=-1, number_of_neurons=20, scale1=1, scale2=1, sfname='sims/2024-06-10/nr 20 neurons dog 9.asdf', mu_c=0, sigma_c=0)\n",
      "params(count=10, noise1=2.0, noise2=2.0, blur1=-1, blur2=-1, number_of_neurons=20, scale1=1, scale2=1, sfname='sims/2024-06-10/nr 20 neurons dog 10.asdf', mu_c=0, sigma_c=0)\n",
      "11\n"
     ]
    }
   ],
   "source": [
    "from collections import namedtuple\n",
    "params = namedtuple('params', \n",
    "                    ['count', 'noise1','noise2',\n",
    "                     'blur1','blur2','number_of_neurons',\n",
    "                     'scale1','scale2',\n",
    "                     'sfname','mu_c','sigma_c'])\n",
    "all_params=[]\n",
    "count=0\n",
    "\n",
    "number_of_neurons=20\n",
    "noise_mat=linspace(0,2,11)\n",
    "sigma_c=0\n",
    "blur_mat=linspace(-1,13,15)\n",
    "\n",
    "for noise_count,noise in enumerate(noise_mat):\n",
    "    all_params.append(params(count=count,\n",
    "\n",
    "         noise1=noise,\n",
    "         noise2=noise,\n",
    "\n",
    "         blur1=-1,\n",
    "         blur2=-1,\n",
    "         scale1=1,\n",
    "         scale2=1,\n",
    "         mu_c=0,\n",
    "         sigma_c=0,\n",
    "         number_of_neurons=number_of_neurons,\n",
    "\n",
    "        sfname=f'{base}/nr %d neurons dog %d.asdf' % \n",
    "                 (number_of_neurons,noise_count),\n",
    "                ))\n",
    "        \n",
    "    count+=1\n",
    "        \n",
    "for a in all_params[:5]:\n",
    "    print(a)\n",
    "print(\"[....]\")\n",
    "for a in all_params[-5:]:\n",
    "    print(a)\n",
    "\n",
    "print(len(all_params))\n"
   ]
  },
  {
   "cell_type": "code",
   "execution_count": 9,
   "id": "d2149f97-5cfe-468f-b1f8-00e53f56a0d7",
   "metadata": {},
   "outputs": [
    {
     "data": {
      "text/plain": [
       "0"
      ]
     },
     "execution_count": 9,
     "metadata": {},
     "output_type": "execute_result"
    }
   ],
   "source": [
    "do_params=make_do_params(all_params)\n",
    "len(do_params)"
   ]
  },
  {
   "cell_type": "code",
   "execution_count": 10,
   "id": "b0e63568-e2f7-4375-a270-c813970aa88c",
   "metadata": {},
   "outputs": [],
   "source": [
    "func=run_one_nr"
   ]
  },
  {
   "cell_type": "code",
   "execution_count": 11,
   "id": "6fb78f88-8df6-480d-a52c-4e2ad62c6947",
   "metadata": {},
   "outputs": [
    {
     "data": {
      "application/vnd.jupyter.widget-view+json": {
       "model_id": "6b6d3493714e4deb8a8462973c8a04d7",
       "version_major": 2,
       "version_minor": 0
      },
      "text/plain": [
       "  0%|          | 0/11 [00:00<?, ?it/s]"
      ]
     },
     "metadata": {},
     "output_type": "display_data"
    },
    {
     "name": "stdout",
     "output_type": "stream",
     "text": [
      "sims/2024-06-10/nr 20 neurons dog 0.asdf\n",
      "sims/2024-06-10/nr 20 neurons dog 1.asdf\n",
      "sims/2024-06-10/nr 20 neurons dog 2.asdf\n",
      "sims/2024-06-10/nr 20 neurons dog 3.asdf\n",
      "sims/2024-06-10/nr 20 neurons dog 4.asdf\n",
      "sims/2024-06-10/nr 20 neurons dog 5.asdf\n",
      "sims/2024-06-10/nr 20 neurons dog 6.asdf\n",
      "sims/2024-06-10/nr 20 neurons dog 7.asdf\n",
      "sims/2024-06-10/nr 20 neurons dog 8.asdf\n",
      "sims/2024-06-10/nr 20 neurons dog 9.asdf\n",
      "sims/2024-06-10/nr 20 neurons dog 10.asdf\n"
     ]
    }
   ],
   "source": [
    "### premake the images\n",
    "for params in tqdm(all_params):\n",
    "    result=func.remote(params,run=False,overwrite=True)\n",
    "    sfname=ray.get(result)\n",
    "    print(sfname)"
   ]
  },
  {
   "cell_type": "code",
   "execution_count": 12,
   "id": "002f8f59-3232-4c6d-bc36-977667ac21d9",
   "metadata": {},
   "outputs": [
    {
     "name": "stdout",
     "output_type": "stream",
     "text": [
      "CPU times: user 163 ms, sys: 166 ms, total: 329 ms\n",
      "Wall time: 5min 44s\n"
     ]
    }
   ],
   "source": [
    "%%time\n",
    "results = [func.remote(all_params[0],overwrite=True)]\n",
    "sfnames=ray.get(results)"
   ]
  },
  {
   "cell_type": "code",
   "execution_count": 13,
   "id": "7112f5ec-3eef-442d-a1bc-b243b9ddfc85",
   "metadata": {},
   "outputs": [
    {
     "name": "stdout",
     "output_type": "stream",
     "text": [
      "7 m, 42.00 s\n"
     ]
    }
   ],
   "source": [
    "real_time=5*60+ 36\n",
    "print(time2str(real_time*len(do_params)/number_of_processes))"
   ]
  },
  {
   "cell_type": "code",
   "execution_count": 14,
   "id": "f615035b-0854-4c0b-9700-b3bddd6b351c",
   "metadata": {},
   "outputs": [],
   "source": [
    "results = [func.remote(p) for p in do_params]\n",
    "sfnames=ray.get(results)"
   ]
  },
  {
   "cell_type": "markdown",
   "id": "d3f80cd8-2d17-43a7-a1e9-d5fcd4ddb38f",
   "metadata": {},
   "source": [
    "# MD"
   ]
  },
  {
   "cell_type": "code",
   "execution_count": 10,
   "id": "7e2bbfa3-895a-4344-971b-2db1f3303239",
   "metadata": {},
   "outputs": [],
   "source": [
    "@ray.remote\n",
    "def run_one_md(params,overwrite=False,run=True,_debug=False):\n",
    "    import plasticnet as pn\n",
    "    count,noise1,noise2,scale1,scale2,blur1,blur2,number_of_neurons,sfname,mu_c,sigma_c=(\n",
    "        params.count,params.noise1,params.noise2,\n",
    "        params.scale1,params.scale2,\n",
    "        params.blur1,params.blur2,\n",
    "        params.number_of_neurons,params.sfname,params.mu_c,params.sigma_c)\n",
    "    \n",
    "    if not overwrite and os.path.exists(sfname):\n",
    "        return sfname\n",
    "    \n",
    "    seq=pn.Sequence()\n",
    "\n",
    "    t=16*day*2\n",
    "    ts=1*hour\n",
    "\n",
    "    # DEBUG\n",
    "    if _debug:\n",
    "        t=1*minute\n",
    "        ts=1*second\n",
    "    \n",
    "    seq+=deprivation_jitter(blur=[blur1,blur2],\n",
    "            total_time=t,\n",
    "            scale=[1,1],\n",
    "            noise=[noise2,noise2],\n",
    "            number_of_neurons=number_of_neurons,\n",
    "            mu_c=mu_c,sigma_c=sigma_c,\n",
    "            save_interval=ts)\n",
    "\n",
    "    seq+=deprivation_jitter(blur=[blur1,blur2],\n",
    "            total_time=t,\n",
    "            scale=[scale1,scale2],\n",
    "            noise=[noise1,noise2],\n",
    "            number_of_neurons=number_of_neurons,\n",
    "            mu_c=mu_c,sigma_c=sigma_c,\n",
    "            save_interval=ts)\n",
    "\n",
    "    if run:\n",
    "        seq.run(display_hash=False)\n",
    "        pn.save(sfname,seq) \n",
    "    \n",
    "    return sfname\n",
    "    "
   ]
  },
  {
   "cell_type": "code",
   "execution_count": 11,
   "id": "c7e5f39e-b9a6-4533-8250-975840ffa88b",
   "metadata": {},
   "outputs": [
    {
     "name": "stdout",
     "output_type": "stream",
     "text": [
      "params(count=0, noise1=0.0, noise2=0.1, blur1=-1, blur2=-1, number_of_neurons=20, scale1=0, scale2=1, sfname='sims/2024-06-10/md 20 neurons dog 0.asdf', mu_c=0, sigma_c=0)\n",
      "params(count=1, noise1=0.2, noise2=0.1, blur1=-1, blur2=-1, number_of_neurons=20, scale1=0, scale2=1, sfname='sims/2024-06-10/md 20 neurons dog 1.asdf', mu_c=0, sigma_c=0)\n",
      "params(count=2, noise1=0.4, noise2=0.1, blur1=-1, blur2=-1, number_of_neurons=20, scale1=0, scale2=1, sfname='sims/2024-06-10/md 20 neurons dog 2.asdf', mu_c=0, sigma_c=0)\n",
      "params(count=3, noise1=0.6000000000000001, noise2=0.1, blur1=-1, blur2=-1, number_of_neurons=20, scale1=0, scale2=1, sfname='sims/2024-06-10/md 20 neurons dog 3.asdf', mu_c=0, sigma_c=0)\n",
      "params(count=4, noise1=0.8, noise2=0.1, blur1=-1, blur2=-1, number_of_neurons=20, scale1=0, scale2=1, sfname='sims/2024-06-10/md 20 neurons dog 4.asdf', mu_c=0, sigma_c=0)\n",
      "[....]\n",
      "params(count=6, noise1=1.2000000000000002, noise2=0.1, blur1=-1, blur2=-1, number_of_neurons=20, scale1=0, scale2=1, sfname='sims/2024-06-10/md 20 neurons dog 6.asdf', mu_c=0, sigma_c=0)\n",
      "params(count=7, noise1=1.4000000000000001, noise2=0.1, blur1=-1, blur2=-1, number_of_neurons=20, scale1=0, scale2=1, sfname='sims/2024-06-10/md 20 neurons dog 7.asdf', mu_c=0, sigma_c=0)\n",
      "params(count=8, noise1=1.6, noise2=0.1, blur1=-1, blur2=-1, number_of_neurons=20, scale1=0, scale2=1, sfname='sims/2024-06-10/md 20 neurons dog 8.asdf', mu_c=0, sigma_c=0)\n",
      "params(count=9, noise1=1.8, noise2=0.1, blur1=-1, blur2=-1, number_of_neurons=20, scale1=0, scale2=1, sfname='sims/2024-06-10/md 20 neurons dog 9.asdf', mu_c=0, sigma_c=0)\n",
      "params(count=10, noise1=2.0, noise2=0.1, blur1=-1, blur2=-1, number_of_neurons=20, scale1=0, scale2=1, sfname='sims/2024-06-10/md 20 neurons dog 10.asdf', mu_c=0, sigma_c=0)\n",
      "11\n"
     ]
    }
   ],
   "source": [
    "from collections import namedtuple\n",
    "params = namedtuple('params', \n",
    "                    ['count', 'noise1','noise2',\n",
    "                     'blur1','blur2','number_of_neurons',\n",
    "                     'scale1','scale2',\n",
    "                     'sfname','mu_c','sigma_c'])\n",
    "all_params=[]\n",
    "count=0\n",
    "\n",
    "number_of_neurons=20\n",
    "noise_mat=linspace(0,2,11)\n",
    "sigma_c=0\n",
    "blur_mat=linspace(-1,13,15)\n",
    "\n",
    "for noise_count,noise in enumerate(noise_mat):\n",
    "    all_params.append(params(count=count,\n",
    "\n",
    "         noise1=noise,\n",
    "         noise2=0.1,\n",
    "\n",
    "         blur1=-1,\n",
    "         blur2=-1,\n",
    "         scale1=0,\n",
    "         scale2=1,\n",
    "         mu_c=0,\n",
    "         sigma_c=0,\n",
    "         number_of_neurons=number_of_neurons,\n",
    "\n",
    "        sfname=f'{base}/md %d neurons dog %d.asdf' % \n",
    "                 (number_of_neurons,noise_count),\n",
    "                ))\n",
    "        \n",
    "    count+=1\n",
    "        \n",
    "for a in all_params[:5]:\n",
    "    print(a)\n",
    "print(\"[....]\")\n",
    "for a in all_params[-5:]:\n",
    "    print(a)\n",
    "\n",
    "print(len(all_params))\n"
   ]
  },
  {
   "cell_type": "code",
   "execution_count": 12,
   "id": "9b0a339e-68f2-477d-89b2-67bd77a2b60b",
   "metadata": {},
   "outputs": [
    {
     "name": "stdout",
     "output_type": "stream",
     "text": [
      "0\n"
     ]
    }
   ],
   "source": [
    "do_params=make_do_params(all_params)\n",
    "print(len(do_params))\n",
    "func=run_one_md"
   ]
  },
  {
   "cell_type": "code",
   "execution_count": 18,
   "id": "47c4493f-86e1-4819-8183-3ddb6267f0e3",
   "metadata": {},
   "outputs": [
    {
     "data": {
      "application/vnd.jupyter.widget-view+json": {
       "model_id": "2a73b0fa44f84cf19d005683c444df66",
       "version_major": 2,
       "version_minor": 0
      },
      "text/plain": [
       "  0%|          | 0/11 [00:00<?, ?it/s]"
      ]
     },
     "metadata": {},
     "output_type": "display_data"
    },
    {
     "name": "stdout",
     "output_type": "stream",
     "text": [
      "sims/2024-06-10/md 20 neurons dog 0.asdf\n",
      "sims/2024-06-10/md 20 neurons dog 1.asdf\n",
      "sims/2024-06-10/md 20 neurons dog 2.asdf\n",
      "sims/2024-06-10/md 20 neurons dog 3.asdf\n",
      "sims/2024-06-10/md 20 neurons dog 4.asdf\n",
      "sims/2024-06-10/md 20 neurons dog 5.asdf\n",
      "sims/2024-06-10/md 20 neurons dog 6.asdf\n",
      "sims/2024-06-10/md 20 neurons dog 7.asdf\n",
      "sims/2024-06-10/md 20 neurons dog 8.asdf\n",
      "sims/2024-06-10/md 20 neurons dog 9.asdf\n",
      "sims/2024-06-10/md 20 neurons dog 10.asdf\n"
     ]
    }
   ],
   "source": [
    "### premake the images\n",
    "for params in tqdm(all_params):\n",
    "    result=func.remote(params,run=False,overwrite=True)\n",
    "    sfname=ray.get(result)\n",
    "    print(sfname)"
   ]
  },
  {
   "cell_type": "code",
   "execution_count": 19,
   "id": "e3f27004-7a70-4a4f-8268-037b5c310140",
   "metadata": {},
   "outputs": [],
   "source": [
    "results = [func.remote(p) for p in do_params]\n",
    "sfnames=ray.get(results)"
   ]
  },
  {
   "cell_type": "markdown",
   "id": "4eba668b-d1fc-43f1-ae4d-c2b993b09879",
   "metadata": {},
   "source": [
    "# BD"
   ]
  },
  {
   "cell_type": "code",
   "execution_count": 13,
   "id": "835771da-502a-432e-9832-0bbc12cd9874",
   "metadata": {},
   "outputs": [],
   "source": [
    "@ray.remote\n",
    "def run_one_bd(params,overwrite=False,run=True,_debug=False):\n",
    "    import plasticnet as pn\n",
    "    count,noise1,noise2,scale1,scale2,blur1,blur2,number_of_neurons,sfname,mu_c,sigma_c=(\n",
    "        params.count,params.noise1,params.noise2,\n",
    "        params.scale1,params.scale2,\n",
    "        params.blur1,params.blur2,\n",
    "        params.number_of_neurons,params.sfname,params.mu_c,params.sigma_c)\n",
    "    \n",
    "    if not overwrite and os.path.exists(sfname):\n",
    "        return sfname\n",
    "    \n",
    "    seq=pn.Sequence()\n",
    "\n",
    "    t=16*day*2\n",
    "    ts=1*hour\n",
    "\n",
    "    # DEBUG\n",
    "    if _debug:\n",
    "        t=1*minute\n",
    "        ts=1*second\n",
    "    \n",
    "    seq+=deprivation_jitter(blur=[blur1,blur2],\n",
    "            total_time=t,\n",
    "            scale=[1,1],\n",
    "            noise=[noise2,noise2],\n",
    "            number_of_neurons=number_of_neurons,\n",
    "            mu_c=mu_c,sigma_c=sigma_c,\n",
    "            save_interval=ts)\n",
    "\n",
    "    seq+=deprivation_jitter(blur=[blur1,blur2],\n",
    "            total_time=t,\n",
    "            scale=[scale1,scale2],\n",
    "            noise=[noise1,noise1],\n",
    "            number_of_neurons=number_of_neurons,\n",
    "            mu_c=mu_c,sigma_c=sigma_c,\n",
    "            save_interval=ts)\n",
    "\n",
    "    if run:\n",
    "        seq.run(display_hash=False)\n",
    "        pn.save(sfname,seq) \n",
    "    \n",
    "    return sfname\n",
    "    "
   ]
  },
  {
   "cell_type": "code",
   "execution_count": 14,
   "id": "103330d8-7fce-4981-a071-6fd3fe0d84ff",
   "metadata": {},
   "outputs": [
    {
     "name": "stdout",
     "output_type": "stream",
     "text": [
      "params(count=0, noise1=0.0, noise2=0.1, blur1=-1, blur2=-1, number_of_neurons=20, scale1=0, scale2=0, sfname='sims/2024-06-10/bd 20 neurons dog 0.asdf', mu_c=0, sigma_c=0)\n",
      "params(count=1, noise1=0.2, noise2=0.1, blur1=-1, blur2=-1, number_of_neurons=20, scale1=0, scale2=0, sfname='sims/2024-06-10/bd 20 neurons dog 1.asdf', mu_c=0, sigma_c=0)\n",
      "params(count=2, noise1=0.4, noise2=0.1, blur1=-1, blur2=-1, number_of_neurons=20, scale1=0, scale2=0, sfname='sims/2024-06-10/bd 20 neurons dog 2.asdf', mu_c=0, sigma_c=0)\n",
      "params(count=3, noise1=0.6000000000000001, noise2=0.1, blur1=-1, blur2=-1, number_of_neurons=20, scale1=0, scale2=0, sfname='sims/2024-06-10/bd 20 neurons dog 3.asdf', mu_c=0, sigma_c=0)\n",
      "params(count=4, noise1=0.8, noise2=0.1, blur1=-1, blur2=-1, number_of_neurons=20, scale1=0, scale2=0, sfname='sims/2024-06-10/bd 20 neurons dog 4.asdf', mu_c=0, sigma_c=0)\n",
      "[....]\n",
      "params(count=6, noise1=1.2000000000000002, noise2=0.1, blur1=-1, blur2=-1, number_of_neurons=20, scale1=0, scale2=0, sfname='sims/2024-06-10/bd 20 neurons dog 6.asdf', mu_c=0, sigma_c=0)\n",
      "params(count=7, noise1=1.4000000000000001, noise2=0.1, blur1=-1, blur2=-1, number_of_neurons=20, scale1=0, scale2=0, sfname='sims/2024-06-10/bd 20 neurons dog 7.asdf', mu_c=0, sigma_c=0)\n",
      "params(count=8, noise1=1.6, noise2=0.1, blur1=-1, blur2=-1, number_of_neurons=20, scale1=0, scale2=0, sfname='sims/2024-06-10/bd 20 neurons dog 8.asdf', mu_c=0, sigma_c=0)\n",
      "params(count=9, noise1=1.8, noise2=0.1, blur1=-1, blur2=-1, number_of_neurons=20, scale1=0, scale2=0, sfname='sims/2024-06-10/bd 20 neurons dog 9.asdf', mu_c=0, sigma_c=0)\n",
      "params(count=10, noise1=2.0, noise2=0.1, blur1=-1, blur2=-1, number_of_neurons=20, scale1=0, scale2=0, sfname='sims/2024-06-10/bd 20 neurons dog 10.asdf', mu_c=0, sigma_c=0)\n",
      "11\n",
      "0\n"
     ]
    }
   ],
   "source": [
    "from collections import namedtuple\n",
    "params = namedtuple('params', \n",
    "                    ['count', 'noise1','noise2',\n",
    "                     'blur1','blur2','number_of_neurons',\n",
    "                     'scale1','scale2',\n",
    "                     'sfname','mu_c','sigma_c'])\n",
    "all_params=[]\n",
    "count=0\n",
    "\n",
    "number_of_neurons=20\n",
    "noise_mat=linspace(0,2,11)\n",
    "sigma_c=0\n",
    "blur_mat=linspace(-1,13,15)\n",
    "\n",
    "for noise_count,noise in enumerate(noise_mat):\n",
    "    all_params.append(params(count=count,\n",
    "\n",
    "         noise1=noise,\n",
    "         noise2=0.1,\n",
    "\n",
    "         blur1=-1,\n",
    "         blur2=-1,\n",
    "         scale1=0,\n",
    "         scale2=0,\n",
    "         mu_c=0,\n",
    "         sigma_c=0,\n",
    "         number_of_neurons=number_of_neurons,\n",
    "\n",
    "        sfname=f'{base}/bd %d neurons dog %d.asdf' % \n",
    "                 (number_of_neurons,noise_count),\n",
    "                ))\n",
    "        \n",
    "    count+=1\n",
    "        \n",
    "for a in all_params[:5]:\n",
    "    print(a)\n",
    "print(\"[....]\")\n",
    "for a in all_params[-5:]:\n",
    "    print(a)\n",
    "\n",
    "print(len(all_params))\n",
    "\n",
    "\n",
    "do_params=make_do_params(all_params)\n",
    "print(len(do_params))\n",
    "func=run_one_bd"
   ]
  },
  {
   "cell_type": "code",
   "execution_count": 15,
   "id": "a0a1d7b7-e3d4-40fb-90c3-49f1c70c6ef6",
   "metadata": {},
   "outputs": [
    {
     "data": {
      "application/vnd.jupyter.widget-view+json": {
       "model_id": "909b50360799484296452a48481fa86e",
       "version_major": 2,
       "version_minor": 0
      },
      "text/plain": [
       "  0%|          | 0/11 [00:00<?, ?it/s]"
      ]
     },
     "metadata": {},
     "output_type": "display_data"
    },
    {
     "name": "stdout",
     "output_type": "stream",
     "text": [
      "sims/2024-06-10/bd 20 neurons dog 0.asdf\n",
      "sims/2024-06-10/bd 20 neurons dog 1.asdf\n",
      "sims/2024-06-10/bd 20 neurons dog 2.asdf\n",
      "sims/2024-06-10/bd 20 neurons dog 3.asdf\n",
      "sims/2024-06-10/bd 20 neurons dog 4.asdf\n",
      "sims/2024-06-10/bd 20 neurons dog 5.asdf\n",
      "sims/2024-06-10/bd 20 neurons dog 6.asdf\n",
      "sims/2024-06-10/bd 20 neurons dog 7.asdf\n",
      "sims/2024-06-10/bd 20 neurons dog 8.asdf\n",
      "sims/2024-06-10/bd 20 neurons dog 9.asdf\n",
      "sims/2024-06-10/bd 20 neurons dog 10.asdf\n"
     ]
    }
   ],
   "source": [
    "### premake the images\n",
    "for params in tqdm(all_params):\n",
    "    result=func.remote(params,run=False,overwrite=True)\n",
    "    sfname=ray.get(result)\n",
    "    print(sfname)"
   ]
  },
  {
   "cell_type": "code",
   "execution_count": 23,
   "id": "60a316f6-dc17-4b29-a960-2d1b9cc7abd4",
   "metadata": {},
   "outputs": [],
   "source": [
    "results = [func.remote(p) for p in do_params]\n",
    "sfnames=ray.get(results)"
   ]
  },
  {
   "cell_type": "markdown",
   "id": "73e4abb3-4745-48d3-a49e-01537f4fbadc",
   "metadata": {},
   "source": [
    "# RS"
   ]
  },
  {
   "cell_type": "code",
   "execution_count": 16,
   "id": "1bf10570-5306-440e-91ed-fd59b7882373",
   "metadata": {},
   "outputs": [],
   "source": [
    "@ray.remote\n",
    "def run_one_rs(params,overwrite=False,run=True,_debug=False):\n",
    "    import plasticnet as pn\n",
    "    count,noise1,noise2,scale1,scale2,blur1,blur2,number_of_neurons,sfname,mu_c,sigma_c=(\n",
    "        params.count,params.noise1,params.noise2,\n",
    "        params.scale1,params.scale2,\n",
    "        params.blur1,params.blur2,\n",
    "        params.number_of_neurons,params.sfname,params.mu_c,params.sigma_c)\n",
    "    \n",
    "    if not overwrite and os.path.exists(sfname):\n",
    "        return sfname\n",
    "    \n",
    "    seq=pn.Sequence()\n",
    "\n",
    "    t=16*day*2\n",
    "    ts=1*hour\n",
    "\n",
    "    # DEBUG\n",
    "    if _debug:\n",
    "        t=1*minute\n",
    "        ts=1*second\n",
    "    \n",
    "    seq+=deprivation_jitter(blur=[blur1,blur2],\n",
    "            total_time=t,\n",
    "            scale=[1,1],\n",
    "            noise=[noise1,noise1],\n",
    "            number_of_neurons=number_of_neurons,\n",
    "            mu_c=mu_c,sigma_c=sigma_c,\n",
    "            save_interval=ts)\n",
    "\n",
    "    seq+=deprivation_jitter(blur=[blur1,blur2],\n",
    "            total_time=t,\n",
    "            scale=[0,1],\n",
    "            noise=[noise2,noise1],\n",
    "            number_of_neurons=number_of_neurons,\n",
    "            mu_c=mu_c,sigma_c=sigma_c,\n",
    "            save_interval=ts)\n",
    "\n",
    "    seq+=deprivation_jitter(blur=[blur1,blur2],\n",
    "            total_time=t,\n",
    "            scale=[scale1,scale2],\n",
    "            noise=[noise1,noise2],\n",
    "            number_of_neurons=number_of_neurons,\n",
    "            mu_c=mu_c,sigma_c=sigma_c,\n",
    "            save_interval=ts)\n",
    "\n",
    "    if run:\n",
    "        seq.run(display_hash=False)\n",
    "        pn.save(sfname,seq) \n",
    "    \n",
    "    return sfname\n",
    "    "
   ]
  },
  {
   "cell_type": "code",
   "execution_count": 17,
   "id": "134abb66-4aaa-4095-a894-9c943642a2f5",
   "metadata": {},
   "outputs": [
    {
     "name": "stdout",
     "output_type": "stream",
     "text": [
      "params(count=0, noise1=0.1, noise2=0.0, blur1=-1, blur2=-1, number_of_neurons=20, scale1=1, scale2=0, sfname='sims/2024-06-10/rs 20 neurons dog 0.asdf', mu_c=0, sigma_c=0)\n",
      "params(count=1, noise1=0.1, noise2=0.2, blur1=-1, blur2=-1, number_of_neurons=20, scale1=1, scale2=0, sfname='sims/2024-06-10/rs 20 neurons dog 1.asdf', mu_c=0, sigma_c=0)\n",
      "params(count=2, noise1=0.1, noise2=0.4, blur1=-1, blur2=-1, number_of_neurons=20, scale1=1, scale2=0, sfname='sims/2024-06-10/rs 20 neurons dog 2.asdf', mu_c=0, sigma_c=0)\n",
      "params(count=3, noise1=0.1, noise2=0.6000000000000001, blur1=-1, blur2=-1, number_of_neurons=20, scale1=1, scale2=0, sfname='sims/2024-06-10/rs 20 neurons dog 3.asdf', mu_c=0, sigma_c=0)\n",
      "params(count=4, noise1=0.1, noise2=0.8, blur1=-1, blur2=-1, number_of_neurons=20, scale1=1, scale2=0, sfname='sims/2024-06-10/rs 20 neurons dog 4.asdf', mu_c=0, sigma_c=0)\n",
      "[....]\n",
      "params(count=6, noise1=0.1, noise2=1.2000000000000002, blur1=-1, blur2=-1, number_of_neurons=20, scale1=1, scale2=0, sfname='sims/2024-06-10/rs 20 neurons dog 6.asdf', mu_c=0, sigma_c=0)\n",
      "params(count=7, noise1=0.1, noise2=1.4000000000000001, blur1=-1, blur2=-1, number_of_neurons=20, scale1=1, scale2=0, sfname='sims/2024-06-10/rs 20 neurons dog 7.asdf', mu_c=0, sigma_c=0)\n",
      "params(count=8, noise1=0.1, noise2=1.6, blur1=-1, blur2=-1, number_of_neurons=20, scale1=1, scale2=0, sfname='sims/2024-06-10/rs 20 neurons dog 8.asdf', mu_c=0, sigma_c=0)\n",
      "params(count=9, noise1=0.1, noise2=1.8, blur1=-1, blur2=-1, number_of_neurons=20, scale1=1, scale2=0, sfname='sims/2024-06-10/rs 20 neurons dog 9.asdf', mu_c=0, sigma_c=0)\n",
      "params(count=10, noise1=0.1, noise2=2.0, blur1=-1, blur2=-1, number_of_neurons=20, scale1=1, scale2=0, sfname='sims/2024-06-10/rs 20 neurons dog 10.asdf', mu_c=0, sigma_c=0)\n",
      "11\n",
      "0\n"
     ]
    }
   ],
   "source": [
    "from collections import namedtuple\n",
    "params = namedtuple('params', \n",
    "                    ['count', 'noise1','noise2',\n",
    "                     'blur1','blur2','number_of_neurons',\n",
    "                     'scale1','scale2',\n",
    "                     'sfname','mu_c','sigma_c'])\n",
    "all_params=[]\n",
    "count=0\n",
    "\n",
    "number_of_neurons=20\n",
    "noise_mat=linspace(0,2,11)\n",
    "sigma_c=0\n",
    "blur_mat=linspace(-1,13,15)\n",
    "\n",
    "for noise_count,noise in enumerate(noise_mat):\n",
    "    all_params.append(params(count=count,\n",
    "\n",
    "         noise1=0.1,\n",
    "         noise2=noise,\n",
    "\n",
    "         blur1=-1,\n",
    "         blur2=-1,\n",
    "         scale1=1,\n",
    "         scale2=0,\n",
    "         mu_c=0,\n",
    "         sigma_c=0,\n",
    "         number_of_neurons=number_of_neurons,\n",
    "\n",
    "        sfname=f'{base}/rs %d neurons dog %d.asdf' % \n",
    "                 (number_of_neurons,noise_count),\n",
    "                ))\n",
    "        \n",
    "    count+=1\n",
    "        \n",
    "for a in all_params[:5]:\n",
    "    print(a)\n",
    "print(\"[....]\")\n",
    "for a in all_params[-5:]:\n",
    "    print(a)\n",
    "\n",
    "print(len(all_params))\n",
    "\n",
    "\n",
    "do_params=make_do_params(all_params)\n",
    "print(len(do_params))\n",
    "func=run_one_rs"
   ]
  },
  {
   "cell_type": "code",
   "execution_count": 26,
   "id": "3f66fd23-1c6c-45bc-934e-b71c5974f5ed",
   "metadata": {},
   "outputs": [
    {
     "data": {
      "application/vnd.jupyter.widget-view+json": {
       "model_id": "34b73b702bfd416ea5f9b52f1c93f462",
       "version_major": 2,
       "version_minor": 0
      },
      "text/plain": [
       "  0%|          | 0/11 [00:00<?, ?it/s]"
      ]
     },
     "metadata": {},
     "output_type": "display_data"
    },
    {
     "name": "stdout",
     "output_type": "stream",
     "text": [
      "sims/2024-06-10/rs 20 neurons dog 0.asdf\n",
      "sims/2024-06-10/rs 20 neurons dog 1.asdf\n",
      "sims/2024-06-10/rs 20 neurons dog 2.asdf\n",
      "sims/2024-06-10/rs 20 neurons dog 3.asdf\n",
      "sims/2024-06-10/rs 20 neurons dog 4.asdf\n",
      "sims/2024-06-10/rs 20 neurons dog 5.asdf\n",
      "sims/2024-06-10/rs 20 neurons dog 6.asdf\n",
      "sims/2024-06-10/rs 20 neurons dog 7.asdf\n",
      "sims/2024-06-10/rs 20 neurons dog 8.asdf\n",
      "sims/2024-06-10/rs 20 neurons dog 9.asdf\n",
      "sims/2024-06-10/rs 20 neurons dog 10.asdf\n"
     ]
    }
   ],
   "source": [
    "### premake the images\n",
    "for params in tqdm(all_params):\n",
    "    result=func.remote(params,run=False,overwrite=True)\n",
    "    sfname=ray.get(result)\n",
    "    print(sfname)"
   ]
  },
  {
   "cell_type": "code",
   "execution_count": 27,
   "id": "a1546259-d9e0-4b5d-b5be-c3f59a8c01dd",
   "metadata": {},
   "outputs": [],
   "source": [
    "results = [func.remote(p) for p in do_params]\n",
    "sfnames=ray.get(results)"
   ]
  },
  {
   "cell_type": "markdown",
   "id": "9a3ca5e5-ca81-4c40-ab45-a6f76b5bb5ed",
   "metadata": {},
   "source": [
    "# BR"
   ]
  },
  {
   "cell_type": "code",
   "execution_count": 18,
   "id": "990b33e6-67ca-45df-a96c-830300b477e5",
   "metadata": {},
   "outputs": [],
   "source": [
    "@ray.remote\n",
    "def run_one_br(params,overwrite=False,run=True,_debug=False):\n",
    "    import plasticnet as pn\n",
    "    count,noise1,noise2,scale1,scale2,blur1,blur2,number_of_neurons,sfname,mu_c,sigma_c=(\n",
    "        params.count,params.noise1,params.noise2,\n",
    "        params.scale1,params.scale2,\n",
    "        params.blur1,params.blur2,\n",
    "        params.number_of_neurons,params.sfname,params.mu_c,params.sigma_c)\n",
    "    \n",
    "    if not overwrite and os.path.exists(sfname):\n",
    "        return sfname\n",
    "    \n",
    "    seq=pn.Sequence()\n",
    "\n",
    "    t=16*day*2\n",
    "    ts=1*hour\n",
    "\n",
    "    # DEBUG\n",
    "    if _debug:\n",
    "        t=1*minute\n",
    "        ts=1*second\n",
    "    \n",
    "    seq+=deprivation_jitter(blur=[blur1,blur2],\n",
    "            total_time=t,\n",
    "            scale=[1,1],\n",
    "            noise=[noise2,noise2],\n",
    "            number_of_neurons=number_of_neurons,\n",
    "            mu_c=mu_c,sigma_c=sigma_c,\n",
    "            save_interval=ts)\n",
    "\n",
    "    seq+=deprivation_jitter(blur=[blur1,blur2],\n",
    "            total_time=t,\n",
    "            scale=[0,1],\n",
    "            noise=[noise1,noise2],\n",
    "            number_of_neurons=number_of_neurons,\n",
    "            mu_c=mu_c,sigma_c=sigma_c,\n",
    "            save_interval=ts)\n",
    "\n",
    "    seq+=deprivation_jitter(blur=[blur1,blur2],\n",
    "            total_time=t,\n",
    "            scale=[scale1,scale2],\n",
    "            noise=[noise2,noise2],\n",
    "            number_of_neurons=number_of_neurons,\n",
    "            mu_c=mu_c,sigma_c=sigma_c,\n",
    "            save_interval=ts)\n",
    "\n",
    "    if run:\n",
    "        seq.run(display_hash=False)\n",
    "        pn.save(sfname,seq) \n",
    "    \n",
    "    return sfname\n",
    "    "
   ]
  },
  {
   "cell_type": "code",
   "execution_count": 19,
   "id": "db199c32-b03c-4fe5-8279-42688d264162",
   "metadata": {},
   "outputs": [
    {
     "name": "stdout",
     "output_type": "stream",
     "text": [
      "params(count=0, noise1=0.0, noise2=0.0, blur1=-1, blur2=-1, number_of_neurons=20, scale1=1, scale2=1, sfname='sims/2024-06-10/br 20 neurons dog 0.asdf', mu_c=0, sigma_c=0)\n",
      "params(count=1, noise1=0.2, noise2=0.2, blur1=-1, blur2=-1, number_of_neurons=20, scale1=1, scale2=1, sfname='sims/2024-06-10/br 20 neurons dog 1.asdf', mu_c=0, sigma_c=0)\n",
      "params(count=2, noise1=0.4, noise2=0.4, blur1=-1, blur2=-1, number_of_neurons=20, scale1=1, scale2=1, sfname='sims/2024-06-10/br 20 neurons dog 2.asdf', mu_c=0, sigma_c=0)\n",
      "params(count=3, noise1=0.6000000000000001, noise2=0.6000000000000001, blur1=-1, blur2=-1, number_of_neurons=20, scale1=1, scale2=1, sfname='sims/2024-06-10/br 20 neurons dog 3.asdf', mu_c=0, sigma_c=0)\n",
      "params(count=4, noise1=0.8, noise2=0.8, blur1=-1, blur2=-1, number_of_neurons=20, scale1=1, scale2=1, sfname='sims/2024-06-10/br 20 neurons dog 4.asdf', mu_c=0, sigma_c=0)\n",
      "[....]\n",
      "params(count=6, noise1=1.2000000000000002, noise2=1.2000000000000002, blur1=-1, blur2=-1, number_of_neurons=20, scale1=1, scale2=1, sfname='sims/2024-06-10/br 20 neurons dog 6.asdf', mu_c=0, sigma_c=0)\n",
      "params(count=7, noise1=1.4000000000000001, noise2=1.4000000000000001, blur1=-1, blur2=-1, number_of_neurons=20, scale1=1, scale2=1, sfname='sims/2024-06-10/br 20 neurons dog 7.asdf', mu_c=0, sigma_c=0)\n",
      "params(count=8, noise1=1.6, noise2=1.6, blur1=-1, blur2=-1, number_of_neurons=20, scale1=1, scale2=1, sfname='sims/2024-06-10/br 20 neurons dog 8.asdf', mu_c=0, sigma_c=0)\n",
      "params(count=9, noise1=1.8, noise2=1.8, blur1=-1, blur2=-1, number_of_neurons=20, scale1=1, scale2=1, sfname='sims/2024-06-10/br 20 neurons dog 9.asdf', mu_c=0, sigma_c=0)\n",
      "params(count=10, noise1=2.0, noise2=2.0, blur1=-1, blur2=-1, number_of_neurons=20, scale1=1, scale2=1, sfname='sims/2024-06-10/br 20 neurons dog 10.asdf', mu_c=0, sigma_c=0)\n",
      "11\n",
      "3\n"
     ]
    }
   ],
   "source": [
    "from collections import namedtuple\n",
    "params = namedtuple('params', \n",
    "                    ['count', 'noise1','noise2',\n",
    "                     'blur1','blur2','number_of_neurons',\n",
    "                     'scale1','scale2',\n",
    "                     'sfname','mu_c','sigma_c'])\n",
    "all_params=[]\n",
    "count=0\n",
    "\n",
    "number_of_neurons=20\n",
    "noise_mat=linspace(0,2,11)\n",
    "sigma_c=0\n",
    "\n",
    "for noise_count,noise in enumerate(noise_mat):\n",
    "    all_params.append(params(count=count,\n",
    "\n",
    "         noise1=noise,\n",
    "         noise2=noise,\n",
    "\n",
    "         blur1=-1,\n",
    "         blur2=-1,\n",
    "         scale1=1,\n",
    "         scale2=1,\n",
    "         mu_c=0,\n",
    "         sigma_c=0,\n",
    "         number_of_neurons=number_of_neurons,\n",
    "\n",
    "        sfname=f'{base}/br %d neurons dog %d.asdf' % \n",
    "                 (number_of_neurons,noise_count),\n",
    "                ))\n",
    "        \n",
    "    count+=1\n",
    "        \n",
    "for a in all_params[:5]:\n",
    "    print(a)\n",
    "print(\"[....]\")\n",
    "for a in all_params[-5:]:\n",
    "    print(a)\n",
    "\n",
    "print(len(all_params))\n",
    "\n",
    "\n",
    "do_params=make_do_params(all_params)\n",
    "print(len(do_params))\n",
    "func=run_one_rs"
   ]
  },
  {
   "cell_type": "code",
   "execution_count": 20,
   "id": "3522c6ca-bf4b-4070-b768-b7985bf2cd6b",
   "metadata": {},
   "outputs": [
    {
     "data": {
      "application/vnd.jupyter.widget-view+json": {
       "model_id": "1a50b08b6da84d6c8006be394c0fe0b1",
       "version_major": 2,
       "version_minor": 0
      },
      "text/plain": [
       "  0%|          | 0/11 [00:00<?, ?it/s]"
      ]
     },
     "metadata": {},
     "output_type": "display_data"
    },
    {
     "name": "stdout",
     "output_type": "stream",
     "text": [
      "sims/2024-06-10/br 20 neurons dog 0.asdf\n",
      "sims/2024-06-10/br 20 neurons dog 1.asdf\n",
      "sims/2024-06-10/br 20 neurons dog 2.asdf\n",
      "sims/2024-06-10/br 20 neurons dog 3.asdf\n",
      "sims/2024-06-10/br 20 neurons dog 4.asdf\n",
      "sims/2024-06-10/br 20 neurons dog 5.asdf\n",
      "sims/2024-06-10/br 20 neurons dog 6.asdf\n",
      "sims/2024-06-10/br 20 neurons dog 7.asdf\n",
      "sims/2024-06-10/br 20 neurons dog 8.asdf\n",
      "sims/2024-06-10/br 20 neurons dog 9.asdf\n",
      "sims/2024-06-10/br 20 neurons dog 10.asdf\n"
     ]
    }
   ],
   "source": [
    "### premake the images\n",
    "for params in tqdm(all_params):\n",
    "    result=func.remote(params,run=False,overwrite=True)\n",
    "    sfname=ray.get(result)\n",
    "    print(sfname)"
   ]
  },
  {
   "cell_type": "code",
   "execution_count": 21,
   "id": "39c3db5d-b00a-4df8-94b0-15f095839a6c",
   "metadata": {},
   "outputs": [],
   "source": [
    "results = [func.remote(p) for p in do_params]\n",
    "sfnames=ray.get(results)"
   ]
  },
  {
   "cell_type": "code",
   "execution_count": null,
   "id": "387b3096-1e28-492a-914b-43d4c8298cd1",
   "metadata": {},
   "outputs": [],
   "source": []
  },
  {
   "cell_type": "code",
   "execution_count": null,
   "id": "12c3f6ef-c9ca-42ff-88ba-f14ff3597ac0",
   "metadata": {},
   "outputs": [],
   "source": []
  },
  {
   "cell_type": "code",
   "execution_count": null,
   "id": "beb6e47a-2d31-4396-aa99-de65a539dd71",
   "metadata": {},
   "outputs": [],
   "source": []
  }
 ],
 "metadata": {
  "kernelspec": {
   "display_name": "Python 3 (ipykernel)",
   "language": "python",
   "name": "python3"
  },
  "language_info": {
   "codemirror_mode": {
    "name": "ipython",
    "version": 3
   },
   "file_extension": ".py",
   "mimetype": "text/x-python",
   "name": "python",
   "nbconvert_exporter": "python",
   "pygments_lexer": "ipython3",
   "version": "3.12.6"
  }
 },
 "nbformat": 4,
 "nbformat_minor": 5
}
