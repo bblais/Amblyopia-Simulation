{
 "cells": [
  {
   "cell_type": "code",
   "execution_count": 1,
   "id": "43a4e765-282a-48bc-bcd6-d058253d9203",
   "metadata": {},
   "outputs": [],
   "source": [
    "%matplotlib inline\n",
    "from pylab import *\n",
    "from mpl_toolkits.axes_grid1 import make_axes_locatable"
   ]
  },
  {
   "cell_type": "code",
   "execution_count": 2,
   "id": "c184f822-0a78-47db-97d4-f66da172f950",
   "metadata": {},
   "outputs": [
    {
     "name": "stdout",
     "output_type": "stream",
     "text": [
      "Splikes version  0.1.2\n",
      "Plasticnet version  0.1.9\n",
      "macOS-10.16-x86_64-i386-64bit\n"
     ]
    }
   ],
   "source": [
    "from treatment_sims_2023_02_21 import *"
   ]
  },
  {
   "cell_type": "code",
   "execution_count": 3,
   "id": "77cf5734-9f58-4f08-9d60-296e8b2f93d8",
   "metadata": {},
   "outputs": [],
   "source": [
    "def savefig(base):\n",
    "    import matplotlib.pyplot as plt\n",
    "    for fname in [f'Manuscript/resources/{base}.png',f'Manuscript/resources/{base}.svg']:\n",
    "        print(fname)\n",
    "        plt.savefig(fname, bbox_inches='tight')"
   ]
  },
  {
   "cell_type": "code",
   "execution_count": 4,
   "id": "6af3fc24-3cc9-46fe-af18-bdf1f073e7aa",
   "metadata": {},
   "outputs": [],
   "source": [
    "base='sims/2023-04-06'\n",
    "if not os.path.exists(base):\n",
    "    print(f\"mkdir {base}\")\n",
    "    os.mkdir(base)"
   ]
  },
  {
   "cell_type": "code",
   "execution_count": 5,
   "id": "2042b02e-2fe5-47cc-8549-39e83b6c3683",
   "metadata": {},
   "outputs": [],
   "source": [
    "rf_size=19\n",
    "eta=1e-6\n",
    "number_of_neurons=5\n",
    "number_of_processes=4\n",
    "mu_c_mat=[0,7.5]\n",
    "sigma_c_mat=[0,2]\n",
    "blur_mat=[0,2,4,6,8,10,12]\n",
    "open_eye_noise=0.1\n"
   ]
  },
  {
   "cell_type": "code",
   "execution_count": 6,
   "id": "d4160de5-963e-48fc-a6ef-c8096acb8eeb",
   "metadata": {},
   "outputs": [],
   "source": [
    "def run_one_continuous_fix_jitter(params,\n",
    "                                  overwrite=False,\n",
    "                                 run=True):\n",
    "    import plasticnet as pn\n",
    "    count,eta,noise,blur,mu_c,sigma_c,number_of_neurons,sfname=(params.count,params.eta,params.noise,params.blur,\n",
    "                        params.mu_c,params.sigma_c,params.number_of_neurons,params.sfname)\n",
    "    \n",
    "    if not overwrite and os.path.exists(sfname):\n",
    "        return sfname\n",
    "    \n",
    "    \n",
    "    deficit_base_sim=f'{base}/deficit {number_of_neurons} neurons {mu_c} mu_c {sigma_c} sigma_c {blur} blur.asdf'\n",
    "    \n",
    "    seq=pn.Sequence()\n",
    "    \n",
    "    seq+=fix_jitter(total_time=100*hour,\n",
    "             save_interval=20*minute,number_of_neurons=params.number_of_neurons,\n",
    "            mu_c=mu_c,sigma_c=sigma_c,\n",
    "             eta=eta,noise=noise)\n",
    "    seq_load(seq,deficit_base_sim)    \n",
    "\n",
    "    if run:\n",
    "        seq.run(display_hash=False)\n",
    "        pn.save(sfname,seq) \n",
    "    \n",
    "    return sfname\n",
    "\n",
    "\n",
    "def run_one_continuous_patch_jitter(params,\n",
    "                                    overwrite=False,\n",
    "                                 run=True):\n",
    "    import plasticnet as pn\n",
    "    count,eta,noise,blur,mu_c,sigma_c,number_of_neurons,sfname=(params.count,params.eta,params.noise,\n",
    "                        params.blur,\n",
    "                        params.mu_c,params.sigma_c,params.number_of_neurons,params.sfname)\n",
    "    \n",
    "    if not overwrite and os.path.exists(sfname):\n",
    "        return sfname\n",
    "\n",
    "    seq=pn.Sequence()\n",
    "    deficit_base_sim=f'{base}/deficit {number_of_neurons} neurons {mu_c} mu_c {sigma_c} sigma_c {blur} blur.asdf'\n",
    "    \n",
    "\n",
    "    seq+=patch_treatment_jitter(patch_noise=noise,\n",
    "               total_time=100*hour,number_of_neurons=params.number_of_neurons,\n",
    "            mu_c=mu_c,sigma_c=sigma_c,\n",
    "               eta=eta,\n",
    "               save_interval=20*minute)\n",
    "\n",
    "    seq_load(seq,deficit_base_sim)    \n",
    "\n",
    "    if run:\n",
    "        seq.run(display_hash=False)\n",
    "        pn.save(sfname,seq) \n",
    "    \n",
    "    return sfname\n",
    "            \n",
    "    \n",
    "def run_one_continuous_blur_jitter(params,\n",
    "                                    overwrite=False,\n",
    "                                 run=True):\n",
    "    import plasticnet as pn\n",
    "    count,eta,noise,blur,mu_c,sigma_c,number_of_neurons,sfname=(params.count,params.eta,params.noise,\n",
    "                        params.blur,\n",
    "                        params.mu_c,params.sigma_c,params.number_of_neurons,params.sfname)\n",
    "    \n",
    "    if not overwrite and os.path.exists(sfname):\n",
    "        return sfname\n",
    "    \n",
    "    deficit_base_sim=f'{base}/deficit {number_of_neurons} neurons {mu_c} mu_c {sigma_c} sigma_c {blur} blur.asdf'\n",
    "    \n",
    "    seq=pn.Sequence()\n",
    "    seq+=treatment_jitter(blur=blur,\n",
    "                   noise=0.1,\n",
    "                   noise2=noise,  # treated (strong-eye) noise\n",
    "                   total_time=1*hour,number_of_neurons=params.number_of_neurons,\n",
    "                    mu_c=mu_c,sigma_c=sigma_c,\n",
    "                   eta=eta,\n",
    "                   save_interval=20*minute)\n",
    "    \n",
    "    seq_load(seq,deficit_base_sim)    \n",
    "\n",
    "    if run:\n",
    "        seq.run(display_hash=False)\n",
    "        pn.save(sfname,seq) \n",
    "\n",
    "    return sfname\n",
    "        \n",
    "def run_one_continuous_mask_jitter(params,\n",
    "                                    overwrite=False,\n",
    "                                 run=True):\n",
    "    import plasticnet as pn\n",
    "    import os\n",
    "    \n",
    "    count,eta,blur,contrast,mask,f,mu_c,sigma_c,number_of_neurons,sfname=(params.count,params.eta,params.blur,params.contrast,params.mask,params.f,\n",
    "                                        params.mu_c,params.sigma_c,params.number_of_neurons,params.sfname)\n",
    "    \n",
    "    if not overwrite and os.path.exists(sfname):\n",
    "        return sfname\n",
    "\n",
    "    \n",
    "    seq=pn.Sequence()\n",
    "    deficit_base_sim=f'{base}/deficit {number_of_neurons} neurons {mu_c} mu_c {sigma_c} sigma_c {blur} blur.asdf'\n",
    "\n",
    "    assert os.path.exists(deficit_base_sim)\n",
    "    \n",
    "    \n",
    "    seq+=treatment_jitter(f=f,\n",
    "                   mask=mask,\n",
    "                   contrast=contrast,\n",
    "                   total_time=1*hour,\n",
    "                   eta=eta,\n",
    "                          number_of_neurons=number_of_neurons,\n",
    "                    mu_c=mu_c,sigma_c=sigma_c,\n",
    "                   save_interval=20*minute)\n",
    "    seq_load(seq,deficit_base_sim)    \n",
    "\n",
    "    if run:\n",
    "        seq.run(display_hash=False)\n",
    "        pn.save(sfname,seq) \n",
    "\n",
    "    \n",
    "    return sfname\n",
    "    \n",
    "    \n"
   ]
  },
  {
   "cell_type": "markdown",
   "id": "b61d7767-9f6e-4226-9980-2d22316747d8",
   "metadata": {},
   "source": [
    "## Test crash with Atropine"
   ]
  },
  {
   "cell_type": "code",
   "execution_count": 7,
   "id": "076d2479-71aa-4c64-b223-bc1e2311c1b2",
   "metadata": {},
   "outputs": [
    {
     "name": "stdout",
     "output_type": "stream",
     "text": [
      "params(count=0, eta=1e-06, noise=0.0, blur=0, number_of_neurons=5, sfname='sims/2023-04-06/atropine 5 neurons 0 mu_c 0 sigma_c 0 blur 0.0 noise.asdf', mu_c=0, sigma_c=0)\n",
      "params(count=1, eta=1e-06, noise=0.1, blur=0, number_of_neurons=5, sfname='sims/2023-04-06/atropine 5 neurons 0 mu_c 0 sigma_c 0 blur 0.1 noise.asdf', mu_c=0, sigma_c=0)\n",
      "params(count=2, eta=1e-06, noise=0.2, blur=0, number_of_neurons=5, sfname='sims/2023-04-06/atropine 5 neurons 0 mu_c 0 sigma_c 0 blur 0.2 noise.asdf', mu_c=0, sigma_c=0)\n",
      "params(count=3, eta=1e-06, noise=0.30000000000000004, blur=0, number_of_neurons=5, sfname='sims/2023-04-06/atropine 5 neurons 0 mu_c 0 sigma_c 0 blur 0.3 noise.asdf', mu_c=0, sigma_c=0)\n",
      "params(count=4, eta=1e-06, noise=0.4, blur=0, number_of_neurons=5, sfname='sims/2023-04-06/atropine 5 neurons 0 mu_c 0 sigma_c 0 blur 0.4 noise.asdf', mu_c=0, sigma_c=0)\n",
      "[....]\n",
      "params(count=149, eta=1e-06, noise=0.6000000000000001, blur=12, number_of_neurons=5, sfname='sims/2023-04-06/atropine 5 neurons 7.5 mu_c 2 sigma_c 12 blur 0.6 noise.asdf', mu_c=7.5, sigma_c=2)\n",
      "params(count=150, eta=1e-06, noise=0.7000000000000001, blur=12, number_of_neurons=5, sfname='sims/2023-04-06/atropine 5 neurons 7.5 mu_c 2 sigma_c 12 blur 0.7 noise.asdf', mu_c=7.5, sigma_c=2)\n",
      "params(count=151, eta=1e-06, noise=0.8, blur=12, number_of_neurons=5, sfname='sims/2023-04-06/atropine 5 neurons 7.5 mu_c 2 sigma_c 12 blur 0.8 noise.asdf', mu_c=7.5, sigma_c=2)\n",
      "params(count=152, eta=1e-06, noise=0.9, blur=12, number_of_neurons=5, sfname='sims/2023-04-06/atropine 5 neurons 7.5 mu_c 2 sigma_c 12 blur 0.9 noise.asdf', mu_c=7.5, sigma_c=2)\n",
      "params(count=153, eta=1e-06, noise=1.0, blur=12, number_of_neurons=5, sfname='sims/2023-04-06/atropine 5 neurons 7.5 mu_c 2 sigma_c 12 blur 1.0 noise.asdf', mu_c=7.5, sigma_c=2)\n",
      "0\n"
     ]
    }
   ],
   "source": [
    "func=run_one_continuous_blur_jitter\n",
    "\n",
    "noise_mat=linspace(0,1,11)\n",
    "\n",
    "from collections import namedtuple\n",
    "\n",
    "params = namedtuple('params', ['count', 'eta','noise','blur','number_of_neurons','sfname','mu_c','sigma_c'])\n",
    "all_params=[]\n",
    "count=0\n",
    "\n",
    "\n",
    "for mu_c,sigma_c in zip(mu_c_mat,sigma_c_mat):\n",
    "    for blur_count,blur in enumerate(blur_mat):\n",
    "        for noise_count,closed_eye_noise in enumerate(noise_mat):\n",
    "            all_params.append(params(count=count,\n",
    "                         eta=eta,\n",
    "                         noise=closed_eye_noise,\n",
    "                             blur=blur,\n",
    "                         number_of_neurons=number_of_neurons,\n",
    "             sfname=f'{base}/atropine {number_of_neurons} neurons {mu_c} mu_c {sigma_c} sigma_c {blur} blur {closed_eye_noise:.1f} noise.asdf',\n",
    "                        mu_c=mu_c,sigma_c=sigma_c))\n",
    "\n",
    "            count+=1\n",
    "\n",
    "            \n",
    "for a in all_params[:5]:\n",
    "    print(a)\n",
    "print(\"[....]\")\n",
    "for a in all_params[-5:]:\n",
    "    print(a)\n",
    "\n",
    "do_params=make_do_params(all_params)\n",
    "print(len(do_params))"
   ]
  },
  {
   "cell_type": "code",
   "execution_count": 8,
   "id": "7dedb090-78ab-45e4-b538-f00339491d22",
   "metadata": {},
   "outputs": [
    {
     "name": "stdout",
     "output_type": "stream",
     "text": [
      "run_one_continuous_blur_jitter\n",
      "contrast,noise,noise2,rf_size,eta,f,mu_c,sigma_c,mu_r,sigma_r,number_of_neurons,total_time,save_interval,mask,blur 1 0.1 0.0 19 1e-06 30 0 0 0 0 5 3600 1200 None 0\n",
      "[.] Sequence Time Elapsed...2.82 s\n",
      "CPU times: user 3.3 s, sys: 609 ms, total: 3.9 s\n",
      "Wall time: 3.92 s\n"
     ]
    },
    {
     "data": {
      "text/plain": [
       "'sims/2023-04-06/atropine 5 neurons 0 mu_c 0 sigma_c 0 blur 0.0 noise.asdf'"
      ]
     },
     "execution_count": 8,
     "metadata": {},
     "output_type": "execute_result"
    }
   ],
   "source": [
    "%%time\n",
    "print(func.__name__)\n",
    "func(all_params[0],overwrite=True)"
   ]
  },
  {
   "cell_type": "markdown",
   "id": "e1728812-ce49-48ee-8a5b-0a923e96db99",
   "metadata": {},
   "source": [
    "## Contrast mask"
   ]
  },
  {
   "cell_type": "code",
   "execution_count": 9,
   "id": "9da54a9f-bdab-46fe-9480-5cef8221d227",
   "metadata": {},
   "outputs": [
    {
     "name": "stdout",
     "output_type": "stream",
     "text": [
      "params(count=0, eta=1e-06, blur=0, contrast=0.0, f=10.0, mask=0, number_of_neurons=5, sfname='sims/2023-04-06/contrast mask 5 neurons 0 mu_c 0 sigma_c 0 blur 0.0 contrast 0 mask 10.0 f.asdf', mu_c=0, sigma_c=0)\n",
      "params(count=1, eta=1e-06, blur=0, contrast=0.0, f=10.0, mask=1, number_of_neurons=5, sfname='sims/2023-04-06/contrast mask 5 neurons 0 mu_c 0 sigma_c 0 blur 0.0 contrast 1 mask 10.0 f.asdf', mu_c=0, sigma_c=0)\n",
      "params(count=1, eta=1e-06, blur=0, contrast=0.0, f=30.0, mask=1, number_of_neurons=5, sfname='sims/2023-04-06/contrast mask 5 neurons 0 mu_c 0 sigma_c 0 blur 0.0 contrast 1 mask 30.0 f.asdf', mu_c=0, sigma_c=0)\n",
      "params(count=1, eta=1e-06, blur=0, contrast=0.0, f=50.0, mask=1, number_of_neurons=5, sfname='sims/2023-04-06/contrast mask 5 neurons 0 mu_c 0 sigma_c 0 blur 0.0 contrast 1 mask 50.0 f.asdf', mu_c=0, sigma_c=0)\n",
      "params(count=1, eta=1e-06, blur=0, contrast=0.0, f=70.0, mask=1, number_of_neurons=5, sfname='sims/2023-04-06/contrast mask 5 neurons 0 mu_c 0 sigma_c 0 blur 0.0 contrast 1 mask 70.0 f.asdf', mu_c=0, sigma_c=0)\n",
      "[....]\n",
      "params(count=167, eta=1e-06, blur=12, contrast=1.0, f=10.0, mask=1, number_of_neurons=5, sfname='sims/2023-04-06/contrast mask 5 neurons 7.5 mu_c 2 sigma_c 12 blur 1.0 contrast 1 mask 10.0 f.asdf', mu_c=7.5, sigma_c=2)\n",
      "params(count=167, eta=1e-06, blur=12, contrast=1.0, f=30.0, mask=1, number_of_neurons=5, sfname='sims/2023-04-06/contrast mask 5 neurons 7.5 mu_c 2 sigma_c 12 blur 1.0 contrast 1 mask 30.0 f.asdf', mu_c=7.5, sigma_c=2)\n",
      "params(count=167, eta=1e-06, blur=12, contrast=1.0, f=50.0, mask=1, number_of_neurons=5, sfname='sims/2023-04-06/contrast mask 5 neurons 7.5 mu_c 2 sigma_c 12 blur 1.0 contrast 1 mask 50.0 f.asdf', mu_c=7.5, sigma_c=2)\n",
      "params(count=167, eta=1e-06, blur=12, contrast=1.0, f=70.0, mask=1, number_of_neurons=5, sfname='sims/2023-04-06/contrast mask 5 neurons 7.5 mu_c 2 sigma_c 12 blur 1.0 contrast 1 mask 70.0 f.asdf', mu_c=7.5, sigma_c=2)\n",
      "params(count=167, eta=1e-06, blur=12, contrast=1.0, f=90.0, mask=1, number_of_neurons=5, sfname='sims/2023-04-06/contrast mask 5 neurons 7.5 mu_c 2 sigma_c 12 blur 1.0 contrast 1 mask 90.0 f.asdf', mu_c=7.5, sigma_c=2)\n",
      "504\n"
     ]
    }
   ],
   "source": [
    "func=run_one_continuous_mask_jitter\n",
    "\n",
    "contrast_mat=linspace(0,1,6)  # linspace(0,1,11)\n",
    "mask_mat=array([0,1])\n",
    "f_mat=array([10.,30,50,70,90])\n",
    "\n",
    "from collections import namedtuple\n",
    "\n",
    "\n",
    "params = namedtuple('params', ['count', 'eta','blur','contrast','f','mask','number_of_neurons','sfname','mu_c','sigma_c'])\n",
    "all_params=[]\n",
    "count=0\n",
    "\n",
    "\n",
    "for mu_c,sigma_c in zip(mu_c_mat,sigma_c_mat):\n",
    "    for blur_count,blur in enumerate(blur_mat):  # only the deficit\n",
    "        for contrast_count,contrast in enumerate(contrast_mat):\n",
    "            for mask in [0,1]:\n",
    "                if mask:\n",
    "                    for fc,f in enumerate(f_mat):\n",
    "                        all_params.append(params(count=count,\n",
    "                                     eta=eta,\n",
    "                                         blur=blur,\n",
    "                                                 contrast=contrast,\n",
    "                                                 f=f,\n",
    "                                                 mask=mask,\n",
    "                                     number_of_neurons=number_of_neurons,\n",
    "                         sfname=f'{base}/contrast mask {number_of_neurons} neurons {mu_c} mu_c {sigma_c} sigma_c {blur} blur {contrast:.1f} contrast {mask} mask {f} f.asdf',\n",
    "                                    mu_c=mu_c,sigma_c=sigma_c))\n",
    "\n",
    "                else:\n",
    "                    f=10.\n",
    "                    all_params.append(params(count=count,\n",
    "                                 eta=eta,\n",
    "                                     blur=blur,\n",
    "                                             contrast=contrast,\n",
    "                                             f=f,\n",
    "                                             mask=mask,\n",
    "                                 number_of_neurons=number_of_neurons,\n",
    "                     sfname=f'{base}/contrast mask {number_of_neurons} neurons {mu_c} mu_c {sigma_c} sigma_c {blur} blur {contrast:.1f} contrast {mask} mask {f} f.asdf',\n",
    "                                mu_c=mu_c,sigma_c=sigma_c))\n",
    "                    \n",
    "                        \n",
    "                count+=1\n",
    "                    \n",
    "\n",
    "for a in all_params[:5]:\n",
    "    print(a)\n",
    "print(\"[....]\")\n",
    "for a in all_params[-5:]:\n",
    "    print(a)\n",
    "\n",
    "do_params=make_do_params(all_params)\n",
    "print(len(do_params))"
   ]
  },
  {
   "cell_type": "code",
   "execution_count": 10,
   "id": "c2f6eaf4-78ef-41b6-922e-f1ebfe52337f",
   "metadata": {},
   "outputs": [
    {
     "data": {
      "text/plain": [
       "params(count=0, eta=1e-06, blur=0, contrast=0.0, f=10.0, mask=0, number_of_neurons=5, sfname='sims/2023-04-06/contrast mask 5 neurons 0 mu_c 0 sigma_c 0 blur 0.0 contrast 0 mask 10.0 f.asdf', mu_c=0, sigma_c=0)"
      ]
     },
     "execution_count": 10,
     "metadata": {},
     "output_type": "execute_result"
    }
   ],
   "source": [
    "all_params[0]"
   ]
  },
  {
   "cell_type": "code",
   "execution_count": 11,
   "id": "501a32fa-bce4-45c8-8918-74f079884b73",
   "metadata": {},
   "outputs": [
    {
     "data": {
      "text/plain": [
       "5"
      ]
     },
     "execution_count": 11,
     "metadata": {},
     "output_type": "execute_result"
    }
   ],
   "source": [
    "number_of_neurons"
   ]
  },
  {
   "cell_type": "code",
   "execution_count": 12,
   "id": "74ed6dd2-c3d6-4e52-be2c-7bea5ecbf4d2",
   "metadata": {},
   "outputs": [
    {
     "name": "stdout",
     "output_type": "stream",
     "text": [
      "run_one_continuous_mask_jitter\n",
      "contrast,noise,noise2,rf_size,eta,f,mu_c,sigma_c,mu_r,sigma_r,number_of_neurons,total_time,save_interval,mask,blur 0.0 0.1 0.1 19 1e-06 10.0 0 0 0 0 5 3600 1200 0 0\n",
      "[.] Sequence Time Elapsed...1.82 s\n",
      "CPU times: user 1.79 s, sys: 201 ms, total: 1.99 s\n",
      "Wall time: 1.99 s\n"
     ]
    },
    {
     "data": {
      "text/plain": [
       "'sims/2023-04-06/contrast mask 5 neurons 0 mu_c 0 sigma_c 0 blur 0.0 contrast 0 mask 10.0 f.asdf'"
      ]
     },
     "execution_count": 12,
     "metadata": {},
     "output_type": "execute_result"
    }
   ],
   "source": [
    "%%time\n",
    "print(func.__name__)\n",
    "func(all_params[0],overwrite=True)"
   ]
  },
  {
   "cell_type": "markdown",
   "id": "d590a387-2cad-4f12-98df-04f1e5e6dd79",
   "metadata": {},
   "source": [
    "forgetting number of neurons in the run_one function yields a crash -- I should assert that one away when I load a sequence"
   ]
  },
  {
   "cell_type": "code",
   "execution_count": null,
   "id": "86beec59-49a9-4385-8685-762515948320",
   "metadata": {},
   "outputs": [],
   "source": []
  }
 ],
 "metadata": {
  "kernelspec": {
   "display_name": "Python 3 (ipykernel)",
   "language": "python",
   "name": "python3"
  },
  "language_info": {
   "codemirror_mode": {
    "name": "ipython",
    "version": 3
   },
   "file_extension": ".py",
   "mimetype": "text/x-python",
   "name": "python",
   "nbconvert_exporter": "python",
   "pygments_lexer": "ipython3",
   "version": "3.9.13"
  }
 },
 "nbformat": 4,
 "nbformat_minor": 5
}
