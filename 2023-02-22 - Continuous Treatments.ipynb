{
 "cells": [
  {
   "cell_type": "code",
   "execution_count": 1,
   "id": "66cfe1c9-4f33-4c1b-a52e-7c9fcabf6f5e",
   "metadata": {},
   "outputs": [],
   "source": [
    "%matplotlib inline\n",
    "from pylab import *\n",
    "from mpl_toolkits.axes_grid1 import make_axes_locatable"
   ]
  },
  {
   "cell_type": "markdown",
   "id": "1c120417-6e5a-43b1-b68c-a55b717b866e",
   "metadata": {},
   "source": [
    "redoing it with eta=1e-6 instead of 2e-6"
   ]
  },
  {
   "cell_type": "code",
   "execution_count": 2,
   "id": "7065f1e9-a3a8-4b7e-b343-4392d630db4a",
   "metadata": {},
   "outputs": [
    {
     "name": "stdout",
     "output_type": "stream",
     "text": [
      "Splikes version  0.1.2\n",
      "Plasticnet version  0.1.9\n",
      "macOS-10.16-x86_64-i386-64bit\n"
     ]
    }
   ],
   "source": [
    "from treatment_sims_2023_02_21 import *"
   ]
  },
  {
   "cell_type": "code",
   "execution_count": 3,
   "id": "3599e68f-2a0e-405f-98ed-b6da493fa4ae",
   "metadata": {},
   "outputs": [],
   "source": [
    "def savefig(base):\n",
    "    import matplotlib.pyplot as plt\n",
    "    for fname in [f'Manuscript/resources/{base}.png',f'Manuscript/resources/{base}.svg']:\n",
    "        print(fname)\n",
    "        plt.savefig(fname, bbox_inches='tight')"
   ]
  },
  {
   "cell_type": "code",
   "execution_count": null,
   "id": "85a299df-d82e-4cac-ad18-68b6338d2665",
   "metadata": {},
   "outputs": [],
   "source": []
  },
  {
   "cell_type": "code",
   "execution_count": 4,
   "id": "79de52df-3cd3-4c47-a059-55ec7e2a2175",
   "metadata": {},
   "outputs": [],
   "source": [
    "base='sims/2023-02-22'\n",
    "if not os.path.exists(base):\n",
    "    print(f\"mkdir {base}\")\n",
    "    os.mkdir(base)"
   ]
  },
  {
   "cell_type": "code",
   "execution_count": 5,
   "id": "118f7053-5db5-49b1-9cd3-9cedfec96daa",
   "metadata": {},
   "outputs": [],
   "source": [
    "rf_size=19\n",
    "eta=1e-6\n",
    "blur=6\n",
    "number_of_neurons=20\n",
    "number_of_processes=4\n",
    "mu_c_mat=[0,7.5]\n",
    "sigma_c_mat=[0,2]"
   ]
  },
  {
   "cell_type": "markdown",
   "id": "1890693e-540d-4214-8400-5361c83dc030",
   "metadata": {},
   "source": [
    "## Make one deficit sim to base the others on"
   ]
  },
  {
   "cell_type": "code",
   "execution_count": 6,
   "id": "2a065617-8861-4af8-a06c-cb6c6dedf958",
   "metadata": {},
   "outputs": [
    {
     "name": "stdout",
     "output_type": "stream",
     "text": [
      "params(count=0, eta=1e-06, noise=0.1, blur=6, number_of_neurons=20, sfname='sims/2023-02-22/deficit 20 neurons 0 mu_c 0 sigma_c.asdf', mu_c=0, sigma_c=0)\n",
      "params(count=1, eta=1e-06, noise=0.1, blur=6, number_of_neurons=20, sfname='sims/2023-02-22/deficit 20 neurons 0 mu_c 2 sigma_c.asdf', mu_c=0, sigma_c=2)\n",
      "params(count=2, eta=1e-06, noise=0.1, blur=6, number_of_neurons=20, sfname='sims/2023-02-22/deficit 20 neurons 7.5 mu_c 0 sigma_c.asdf', mu_c=7.5, sigma_c=0)\n",
      "params(count=3, eta=1e-06, noise=0.1, blur=6, number_of_neurons=20, sfname='sims/2023-02-22/deficit 20 neurons 7.5 mu_c 2 sigma_c.asdf', mu_c=7.5, sigma_c=2)\n",
      "[....]\n",
      "params(count=0, eta=1e-06, noise=0.1, blur=6, number_of_neurons=20, sfname='sims/2023-02-22/deficit 20 neurons 0 mu_c 0 sigma_c.asdf', mu_c=0, sigma_c=0)\n",
      "params(count=1, eta=1e-06, noise=0.1, blur=6, number_of_neurons=20, sfname='sims/2023-02-22/deficit 20 neurons 0 mu_c 2 sigma_c.asdf', mu_c=0, sigma_c=2)\n",
      "params(count=2, eta=1e-06, noise=0.1, blur=6, number_of_neurons=20, sfname='sims/2023-02-22/deficit 20 neurons 7.5 mu_c 0 sigma_c.asdf', mu_c=7.5, sigma_c=0)\n",
      "params(count=3, eta=1e-06, noise=0.1, blur=6, number_of_neurons=20, sfname='sims/2023-02-22/deficit 20 neurons 7.5 mu_c 2 sigma_c.asdf', mu_c=7.5, sigma_c=2)\n"
     ]
    }
   ],
   "source": [
    "from collections import namedtuple\n",
    "params = namedtuple('params', ['count', 'eta','noise','blur','number_of_neurons','sfname','mu_c','sigma_c'])\n",
    "all_params=[]\n",
    "count=0\n",
    "eta_count=0\n",
    "noise_count=0\n",
    "open_eye_noise=0.1\n",
    "\n",
    "for mu_count,mu_c in enumerate(mu_c_mat):\n",
    "    for sigma_count,sigma_c in enumerate(sigma_c_mat):\n",
    "        all_params.append(params(count=count,\n",
    "                         eta=eta,\n",
    "                         noise=open_eye_noise,\n",
    "                         blur=blur,\n",
    "                         number_of_neurons=number_of_neurons,\n",
    "         sfname=f'{base}/deficit {number_of_neurons} neurons {mu_c} mu_c {sigma_c} sigma_c.asdf',\n",
    "                                mu_c=mu_c,sigma_c=sigma_c))\n",
    "\n",
    "        count+=1\n",
    "for a in all_params[:5]:\n",
    "    print(a)\n",
    "print(\"[....]\")\n",
    "for a in all_params[-5:]:\n",
    "    print(a)\n",
    "\n"
   ]
  },
  {
   "cell_type": "code",
   "execution_count": 7,
   "id": "1fb3fea6-ba14-437f-a657-51f4be4065e6",
   "metadata": {},
   "outputs": [],
   "source": [
    "real_time=11*60+ 30"
   ]
  },
  {
   "cell_type": "code",
   "execution_count": 8,
   "id": "2e129865-a239-47c3-abea-c5f3bf882d14",
   "metadata": {},
   "outputs": [
    {
     "name": "stdout",
     "output_type": "stream",
     "text": [
      "4\n",
      "11 m, 30.00 s\n"
     ]
    }
   ],
   "source": [
    "do_params=make_do_params(all_params)\n",
    "print(len(do_params))\n",
    "print(time2str(real_time*len(do_params)/number_of_processes))"
   ]
  },
  {
   "cell_type": "markdown",
   "id": "ce92f195-6a9f-44ca-838e-d23ab991156a",
   "metadata": {},
   "source": [
    "### premake the images"
   ]
  },
  {
   "cell_type": "code",
   "execution_count": 8,
   "id": "358af60f-23f1-4f8e-8954-0785f5b7629a",
   "metadata": {},
   "outputs": [],
   "source": [
    "def run_one_deficit(params,overwrite=False):\n",
    "    import plasticnet as pn\n",
    "    \n",
    "    count,eta,noise,blur,number_of_neurons,sfname,mu_c,sigma_c=(params.count,params.eta,params.noise,params.blur,\n",
    "                                        params.number_of_neurons,params.sfname,params.mu_c,params.sigma_c)\n",
    "    \n",
    "    \n",
    "    if not overwrite and os.path.exists(sfname):\n",
    "        return sfname\n",
    "    \n",
    "    seq=pn.Sequence()\n",
    "\n",
    "    t=16*day\n",
    "    ts=1*hour\n",
    "\n",
    "    seq+=blur_jitter_deficit(blur=[blur,-1],\n",
    "                                total_time=t,\n",
    "                                noise=noise,eta=eta,number_of_neurons=number_of_neurons,\n",
    "                                mu_c=mu_c,sigma_c=sigma_c,\n",
    "                                save_interval=ts)\n",
    "\n",
    "    seq.run(display_hash=False)\n",
    "    pn.save(sfname,seq) \n",
    "    \n",
    "    return sfname\n",
    "    \n",
    "    "
   ]
  },
  {
   "cell_type": "code",
   "execution_count": 18,
   "id": "ac96ef26-c3c6-479a-9a1c-fa6f4634d3b2",
   "metadata": {},
   "outputs": [
    {
     "data": {
      "application/vnd.jupyter.widget-view+json": {
       "model_id": "4e176d8e13664d4286058eb2877fc692",
       "version_major": 2,
       "version_minor": 0
      },
      "text/plain": [
       "  0%|          | 0/4 [00:00<?, ?it/s]"
      ]
     },
     "metadata": {},
     "output_type": "display_data"
    },
    {
     "name": "stdout",
     "output_type": "stream",
     "text": [
      "Using cache_images/cache_images_33487c39ae14fd4b2e1147c1b93a3055.asdf from cache.Using cache_images/cache_images_c2e0829f3e61ca9a4b271b0f7c2ee1f1.asdf from cache.Using cache_images/cache_images_33487c39ae14fd4b2e1147c1b93a3055.asdf from cache.Using cache_images/cache_images_c2e0829f3e61ca9a4b271b0f7c2ee1f1.asdf from cache.Using cache_images/cache_images_33487c39ae14fd4b2e1147c1b93a3055.asdf from cache.Using cache_images/cache_images_c2e0829f3e61ca9a4b271b0f7c2ee1f1.asdf from cache.Using cache_images/cache_images_33487c39ae14fd4b2e1147c1b93a3055.asdf from cache.Using cache_images/cache_images_c2e0829f3e61ca9a4b271b0f7c2ee1f1.asdf from cache."
     ]
    }
   ],
   "source": [
    "for params in tqdm(all_params):\n",
    "    run_one_deficit(params,overwrite=False)"
   ]
  },
  {
   "cell_type": "markdown",
   "id": "f068433a-5473-4b48-91ad-d402942dd173",
   "metadata": {},
   "source": [
    "### run the sims"
   ]
  },
  {
   "cell_type": "code",
   "execution_count": 10,
   "id": "e5fb343c-5956-4e7f-828d-7b8bd79bfaa5",
   "metadata": {},
   "outputs": [
    {
     "name": "stdout",
     "output_type": "stream",
     "text": [
      "Using cache_images/cache_images_33487c39ae14fd4b2e1147c1b93a3055.asdf from cache.Using cache_images/cache_images_33487c39ae14fd4b2e1147c1b93a3055.asdf from cache.Using cache_images/cache_images_33487c39ae14fd4b2e1147c1b93a3055.asdf from cache.Using cache_images/cache_images_33487c39ae14fd4b2e1147c1b93a3055.asdf from cache.Using cache_images/cache_images_c2e0829f3e61ca9a4b271b0f7c2ee1f1.asdf from cache.Using cache_images/cache_images_c2e0829f3e61ca9a4b271b0f7c2ee1f1.asdf from cache.Using cache_images/cache_images_c2e0829f3e61ca9a4b271b0f7c2ee1f1.asdf from cache.Using cache_images/cache_images_c2e0829f3e61ca9a4b271b0f7c2ee1f1.asdf from cache.[[[[.] Sequence Time Elapsed...9 m, 20.25 s.\n",
      "] Sequence Time Elapsed...9 m, 20.26 s\n",
      ".] Sequence Time Elapsed...9 m, 20.66 s\n",
      ".] Sequence Time Elapsed...9 m, 21.79 s\n",
      "['sims/2023-02-22/deficit 20 neurons 0 mu_c 0 sigma_c.asdf', 'sims/2023-02-22/deficit 20 neurons 0 mu_c 2 sigma_c.asdf', 'sims/2023-02-22/deficit 20 neurons 7.5 mu_c 0 sigma_c.asdf', 'sims/2023-02-22/deficit 20 neurons 7.5 mu_c 2 sigma_c.asdf']\n"
     ]
    }
   ],
   "source": [
    "if do_params:\n",
    "    pool = Pool(processes=number_of_processes)\n",
    "    result = pool.map_async(run_one_deficit, do_params)\n",
    "    print(result.get())"
   ]
  },
  {
   "cell_type": "markdown",
   "id": "172591e0-d5d8-4b06-b0b3-43dbd2705292",
   "metadata": {},
   "source": [
    "## Optical fix\n",
    "\n",
    "This work is in this notebook: 2023-02-19 - Optical Fix.ipynb - except I think I used the wrong images. :-("
   ]
  },
  {
   "cell_type": "code",
   "execution_count": 9,
   "id": "ea5f8fab-64e1-4140-b5d6-84917f36319a",
   "metadata": {},
   "outputs": [],
   "source": [
    "def run_one_continuous_fix_jitter(params,\n",
    "                                  overwrite=False):\n",
    "    import plasticnet as pn\n",
    "    count,eta,noise,mu_c,sigma_c,number_of_neurons,sfname=(params.count,params.eta,params.noise,\n",
    "                        params.mu_c,params.sigma_c,params.number_of_neurons,params.sfname)\n",
    "    \n",
    "    if not overwrite and os.path.exists(sfname):\n",
    "        return sfname\n",
    "    \n",
    "    \n",
    "    deficit_base_sim=f'sims/2023-02-22/deficit {number_of_neurons} neurons {mu_c} mu_c {sigma_c} sigma_c.asdf'\n",
    "\n",
    "    seq=pn.Sequence()\n",
    "    \n",
    "    seq+=fix_jitter(total_time=100*hour,\n",
    "             save_interval=20*minute,number_of_neurons=params.number_of_neurons,\n",
    "            mu_c=mu_c,sigma_c=sigma_c,\n",
    "             eta=eta,noise=noise)\n",
    "    seq_load(seq,deficit_base_sim)    \n",
    "\n",
    "    seq.run(display_hash=False)\n",
    "    pn.save(sfname,seq) \n",
    "    \n",
    "    return sfname\n",
    "    "
   ]
  },
  {
   "cell_type": "code",
   "execution_count": 10,
   "id": "b6f488db-6682-4252-815c-2f8a1632aac5",
   "metadata": {},
   "outputs": [
    {
     "name": "stdout",
     "output_type": "stream",
     "text": [
      "Skipping sims/2023-02-22/continuous fix 20 neurons noise 0.0.asdf...already exists\n",
      "Skipping sims/2023-02-22/continuous fix 20 neurons noise 0.1.asdf...already exists\n",
      "Skipping sims/2023-02-22/continuous fix 20 neurons noise 0.2.asdf...already exists\n",
      "Skipping sims/2023-02-22/continuous fix 20 neurons noise 0.3.asdf...already exists\n",
      "Skipping sims/2023-02-22/continuous fix 20 neurons noise 0.4.asdf...already exists\n",
      "Skipping sims/2023-02-22/continuous fix 20 neurons noise 0.5.asdf...already exists\n",
      "Skipping sims/2023-02-22/continuous fix 20 neurons noise 0.6.asdf...already exists\n",
      "Skipping sims/2023-02-22/continuous fix 20 neurons noise 0.7.asdf...already exists\n",
      "Skipping sims/2023-02-22/continuous fix 20 neurons noise 0.8.asdf...already exists\n",
      "Skipping sims/2023-02-22/continuous fix 20 neurons noise 0.9.asdf...already exists\n",
      "Skipping sims/2023-02-22/continuous fix 20 neurons noise 1.0.asdf...already exists\n",
      "0 sims\n",
      "[]\n"
     ]
    }
   ],
   "source": [
    "func=run_one_continuous_fix_jitter\n",
    "\n",
    "noise_mat=linspace(0,1,11)\n",
    "\n",
    "all_params=[]\n",
    "for n,noise in enumerate(noise_mat):\n",
    "    sfname=base+f'/continuous fix {number_of_neurons} neurons noise {noise:.1f}.asdf'\n",
    "    \n",
    "    p=Struct()\n",
    "    p.eta=eta\n",
    "    p.number_of_neurons=number_of_neurons\n",
    "    p.sfname=sfname\n",
    "    \n",
    "    p.noise=noise\n",
    "    p.mu_c=7.5\n",
    "    p.sigma_c=2\n",
    "    \n",
    "    all_params+=[p]\n",
    "\n",
    "all_params=to_named_tuple(all_params)  \n",
    "do_params=make_do_params(all_params,verbose=True)"
   ]
  },
  {
   "cell_type": "code",
   "execution_count": 13,
   "id": "ef178580-f23b-4a51-8a04-644bcb28ee82",
   "metadata": {},
   "outputs": [
    {
     "name": "stdout",
     "output_type": "stream",
     "text": [
      "Using cache_images/cache_images_c2e0829f3e61ca9a4b271b0f7c2ee1f1.asdf from cache.Using cache_images/cache_images_c2e0829f3e61ca9a4b271b0f7c2ee1f1.asdf from cache.Using cache_images/cache_images_c2e0829f3e61ca9a4b271b0f7c2ee1f1.asdf from cache.Using cache_images/cache_images_c2e0829f3e61ca9a4b271b0f7c2ee1f1.asdf from cache.[[[[.] Sequence Time Elapsed...1 m, 21.37 s\n",
      ".] Sequence Time Elapsed...1 m, 21.43 s\n",
      "..] ] Sequence Time Elapsed...1 m, 21.47 sSequence Time Elapsed...1 m, 21.47 s\n",
      "\n",
      "Using cache_images/cache_images_c2e0829f3e61ca9a4b271b0f7c2ee1f1.asdf from cache.Using cache_images/cache_images_c2e0829f3e61ca9a4b271b0f7c2ee1f1.asdf from cache.Using cache_images/cache_images_c2e0829f3e61ca9a4b271b0f7c2ee1f1.asdf from cache.Using cache_images/cache_images_c2e0829f3e61ca9a4b271b0f7c2ee1f1.asdf from cache.[[[[.] Sequence Time Elapsed...1 m, 20.02 s\n",
      ".] .Sequence Time Elapsed...1 m, 20.13 s] \n",
      "Sequence Time Elapsed...1 m, 20.12 s\n",
      ".] Sequence Time Elapsed...1 m, 20.24 s\n",
      "Using cache_images/cache_images_c2e0829f3e61ca9a4b271b0f7c2ee1f1.asdf from cache.Using cache_images/cache_images_c2e0829f3e61ca9a4b271b0f7c2ee1f1.asdf from cache.Using cache_images/cache_images_c2e0829f3e61ca9a4b271b0f7c2ee1f1.asdf from cache.[[[.] Sequence Time Elapsed...1 m, 17.88 s\n",
      ".] .Sequence Time Elapsed...1 m, 18.04 s] \n",
      "Sequence Time Elapsed...1 m, 18.01 s\n",
      "['sims/2023-02-22/continuous fix 20 neurons noise 0.0.asdf', 'sims/2023-02-22/continuous fix 20 neurons noise 0.1.asdf', 'sims/2023-02-22/continuous fix 20 neurons noise 0.2.asdf', 'sims/2023-02-22/continuous fix 20 neurons noise 0.3.asdf', 'sims/2023-02-22/continuous fix 20 neurons noise 0.4.asdf', 'sims/2023-02-22/continuous fix 20 neurons noise 0.5.asdf', 'sims/2023-02-22/continuous fix 20 neurons noise 0.6.asdf', 'sims/2023-02-22/continuous fix 20 neurons noise 0.7.asdf', 'sims/2023-02-22/continuous fix 20 neurons noise 0.8.asdf', 'sims/2023-02-22/continuous fix 20 neurons noise 0.9.asdf', 'sims/2023-02-22/continuous fix 20 neurons noise 1.0.asdf']\n"
     ]
    }
   ],
   "source": [
    "if do_params:\n",
    "    pool = Pool(processes=number_of_processes)\n",
    "    result = pool.map_async(func, do_params)\n",
    "    print(result.get())"
   ]
  },
  {
   "cell_type": "markdown",
   "id": "ea201706-5502-467f-bcab-9fdb66ef97e5",
   "metadata": {},
   "source": [
    "### Optical fix for the 4 different mu_c and sigma_c"
   ]
  },
  {
   "cell_type": "code",
   "execution_count": 11,
   "id": "7bb25c17-35da-490f-8da8-a66ebc4bc36a",
   "metadata": {},
   "outputs": [
    {
     "name": "stdout",
     "output_type": "stream",
     "text": [
      "44 sims\n",
      "[params(eta=1e-06, number_of_neurons=20, sfname='sims/2023-02-22/continuous fix 20 neurons 0 mu_c 0 sigma_c noise 0.0.asdf', noise=0.0, mu_c=0, sigma_c=0, count=0), params(eta=1e-06, number_of_neurons=20, sfname='sims/2023-02-22/continuous fix 20 neurons 0 mu_c 0 sigma_c noise 0.1.asdf', noise=0.1, mu_c=0, sigma_c=0, count=1), params(eta=1e-06, number_of_neurons=20, sfname='sims/2023-02-22/continuous fix 20 neurons 0 mu_c 0 sigma_c noise 0.2.asdf', noise=0.2, mu_c=0, sigma_c=0, count=2), params(eta=1e-06, number_of_neurons=20, sfname='sims/2023-02-22/continuous fix 20 neurons 0 mu_c 0 sigma_c noise 0.3.asdf', noise=0.30000000000000004, mu_c=0, sigma_c=0, count=3), params(eta=1e-06, number_of_neurons=20, sfname='sims/2023-02-22/continuous fix 20 neurons 0 mu_c 0 sigma_c noise 0.4.asdf', noise=0.4, mu_c=0, sigma_c=0, count=4)] ... [params(eta=1e-06, number_of_neurons=20, sfname='sims/2023-02-22/continuous fix 20 neurons 7.5 mu_c 2 sigma_c noise 0.6.asdf', noise=0.6000000000000001, mu_c=7.5, sigma_c=2, count=39), params(eta=1e-06, number_of_neurons=20, sfname='sims/2023-02-22/continuous fix 20 neurons 7.5 mu_c 2 sigma_c noise 0.7.asdf', noise=0.7000000000000001, mu_c=7.5, sigma_c=2, count=40), params(eta=1e-06, number_of_neurons=20, sfname='sims/2023-02-22/continuous fix 20 neurons 7.5 mu_c 2 sigma_c noise 0.8.asdf', noise=0.8, mu_c=7.5, sigma_c=2, count=41), params(eta=1e-06, number_of_neurons=20, sfname='sims/2023-02-22/continuous fix 20 neurons 7.5 mu_c 2 sigma_c noise 0.9.asdf', noise=0.9, mu_c=7.5, sigma_c=2, count=42), params(eta=1e-06, number_of_neurons=20, sfname='sims/2023-02-22/continuous fix 20 neurons 7.5 mu_c 2 sigma_c noise 1.0.asdf', noise=1.0, mu_c=7.5, sigma_c=2, count=43)]\n"
     ]
    }
   ],
   "source": [
    "noise_mat=linspace(0,1,11)\n",
    "all_params=[]\n",
    "for mu_count,mu_c in enumerate(mu_c_mat):\n",
    "    for sigma_count,sigma_c in enumerate(sigma_c_mat):\n",
    "        func=run_one_continuous_fix_jitter\n",
    "\n",
    "\n",
    "        for n,noise in enumerate(noise_mat):\n",
    "            sfname=base+f'/continuous fix {number_of_neurons} neurons {mu_c} mu_c {sigma_c} sigma_c noise {noise:.1f}.asdf'\n",
    "\n",
    "            p=Struct()\n",
    "            p.eta=eta\n",
    "            p.number_of_neurons=number_of_neurons\n",
    "            p.sfname=sfname\n",
    "\n",
    "            p.noise=noise\n",
    "            p.mu_c=mu_c\n",
    "            p.sigma_c=sigma_c\n",
    "\n",
    "            all_params+=[p]\n",
    "\n",
    "all_params=to_named_tuple(all_params)  \n",
    "do_params=make_do_params(all_params,verbose=True)"
   ]
  },
  {
   "cell_type": "code",
   "execution_count": 12,
   "id": "58dc1927-cdc1-4378-97d3-fdd4735be058",
   "metadata": {},
   "outputs": [
    {
     "name": "stdout",
     "output_type": "stream",
     "text": [
      "Using cache_images/cache_images_c2e0829f3e61ca9a4b271b0f7c2ee1f1.asdf from cache.Using cache_images/cache_images_c2e0829f3e61ca9a4b271b0f7c2ee1f1.asdf from cache.Using cache_images/cache_images_c2e0829f3e61ca9a4b271b0f7c2ee1f1.asdf from cache.Using cache_images/cache_images_c2e0829f3e61ca9a4b271b0f7c2ee1f1.asdf from cache.[[[[.] .Sequence Time Elapsed...1 m, 20.78 s\n",
      "] Sequence Time Elapsed...1 m, 20.79 s\n",
      ".] Sequence Time Elapsed...1 m, 20.83 s\n",
      ".] Sequence Time Elapsed...1 m, 20.95 s\n",
      "Using cache_images/cache_images_c2e0829f3e61ca9a4b271b0f7c2ee1f1.asdf from cache.Using cache_images/cache_images_c2e0829f3e61ca9a4b271b0f7c2ee1f1.asdf from cache.Using cache_images/cache_images_c2e0829f3e61ca9a4b271b0f7c2ee1f1.asdf from cache.Using cache_images/cache_images_c2e0829f3e61ca9a4b271b0f7c2ee1f1.asdf from cache.[[[[.] Sequence Time Elapsed...1 m, 20.89 s\n",
      ".] Sequence Time Elapsed...1 m, 21.05 s\n",
      ".] Sequence Time Elapsed...1 m, 21.12 s\n",
      ".] Sequence Time Elapsed...1 m, 21.14 s\n",
      "Using cache_images/cache_images_c2e0829f3e61ca9a4b271b0f7c2ee1f1.asdf from cache.Using cache_images/cache_images_c2e0829f3e61ca9a4b271b0f7c2ee1f1.asdf from cache.Using cache_images/cache_images_c2e0829f3e61ca9a4b271b0f7c2ee1f1.asdf from cache.Using cache_images/cache_images_c2e0829f3e61ca9a4b271b0f7c2ee1f1.asdf from cache.[[[[.] Sequence Time Elapsed...1 m, 20.85 s\n",
      ".] Sequence Time Elapsed...1 m, 20.59 s\n",
      ".] Sequence Time Elapsed...1 m, 20.75 s\n",
      ".] Sequence Time Elapsed...1 m, 20.79 s\n",
      "Using cache_images/cache_images_c2e0829f3e61ca9a4b271b0f7c2ee1f1.asdf from cache.Using cache_images/cache_images_c2e0829f3e61ca9a4b271b0f7c2ee1f1.asdf from cache.Using cache_images/cache_images_c2e0829f3e61ca9a4b271b0f7c2ee1f1.asdf from cache.Using cache_images/cache_images_c2e0829f3e61ca9a4b271b0f7c2ee1f1.asdf from cache.[[[[.] Sequence Time Elapsed...1 m, 17.69 s\n",
      ".] Sequence Time Elapsed...1 m, 17.76 s\n",
      ".] Sequence Time Elapsed...1 m, 17.89 s\n",
      ".] Sequence Time Elapsed...1 m, 17.92 s\n",
      "Using cache_images/cache_images_c2e0829f3e61ca9a4b271b0f7c2ee1f1.asdf from cache.Using cache_images/cache_images_c2e0829f3e61ca9a4b271b0f7c2ee1f1.asdf from cache.Using cache_images/cache_images_c2e0829f3e61ca9a4b271b0f7c2ee1f1.asdf from cache.Using cache_images/cache_images_c2e0829f3e61ca9a4b271b0f7c2ee1f1.asdf from cache.[[[[.] Sequence Time Elapsed...1 m, 18.35 s\n",
      ".] Sequence Time Elapsed...1 m, 18.37 s\n",
      "..] ] Sequence Time Elapsed...1 m, 18.45 sSequence Time Elapsed...1 m, 18.46 s\n",
      "\n",
      "Using cache_images/cache_images_c2e0829f3e61ca9a4b271b0f7c2ee1f1.asdf from cache.Using cache_images/cache_images_c2e0829f3e61ca9a4b271b0f7c2ee1f1.asdf from cache.Using cache_images/cache_images_c2e0829f3e61ca9a4b271b0f7c2ee1f1.asdf from cache.Using cache_images/cache_images_c2e0829f3e61ca9a4b271b0f7c2ee1f1.asdf from cache.[[[[.] Sequence Time Elapsed...1 m, 17.58 s\n",
      ".] .Sequence Time Elapsed...1 m, 17.74 s] \n",
      "Sequence Time Elapsed...1 m, 17.75 s\n",
      ".] Sequence Time Elapsed...1 m, 17.86 s\n",
      "Using cache_images/cache_images_c2e0829f3e61ca9a4b271b0f7c2ee1f1.asdf from cache.Using cache_images/cache_images_c2e0829f3e61ca9a4b271b0f7c2ee1f1.asdf from cache.Using cache_images/cache_images_c2e0829f3e61ca9a4b271b0f7c2ee1f1.asdf from cache.Using cache_images/cache_images_c2e0829f3e61ca9a4b271b0f7c2ee1f1.asdf from cache.[[[[..] .] Sequence Time Elapsed...1 m, 17.20 s] Sequence Time Elapsed...1 m, 17.06 sSequence Time Elapsed...1 m, 17.18 s\n",
      "\n",
      "\n",
      ".] Sequence Time Elapsed...1 m, 17.32 s\n",
      "Using cache_images/cache_images_c2e0829f3e61ca9a4b271b0f7c2ee1f1.asdf from cache.Using cache_images/cache_images_c2e0829f3e61ca9a4b271b0f7c2ee1f1.asdf from cache.Using cache_images/cache_images_c2e0829f3e61ca9a4b271b0f7c2ee1f1.asdf from cache.Using cache_images/cache_images_c2e0829f3e61ca9a4b271b0f7c2ee1f1.asdf from cache.[[[[.] Sequence Time Elapsed...1 m, 17.43 s\n",
      ".] Sequence Time Elapsed...1 m, 17.13 s\n",
      ".] Sequence Time Elapsed...1 m, 17.15 s\n",
      ".] Sequence Time Elapsed...1 m, 17.19 s\n",
      "Using cache_images/cache_images_c2e0829f3e61ca9a4b271b0f7c2ee1f1.asdf from cache.Using cache_images/cache_images_c2e0829f3e61ca9a4b271b0f7c2ee1f1.asdf from cache.Using cache_images/cache_images_c2e0829f3e61ca9a4b271b0f7c2ee1f1.asdf from cache.Using cache_images/cache_images_c2e0829f3e61ca9a4b271b0f7c2ee1f1.asdf from cache.[[[[.] Sequence Time Elapsed...1 m, 17.95 s\n",
      ".] Sequence Time Elapsed...1 m, 17.71 s\n",
      ".] Sequence Time Elapsed...1 m, 17.72 s\n",
      ".] Sequence Time Elapsed...1 m, 17.94 s\n",
      "Using cache_images/cache_images_c2e0829f3e61ca9a4b271b0f7c2ee1f1.asdf from cache.Using cache_images/cache_images_c2e0829f3e61ca9a4b271b0f7c2ee1f1.asdf from cache.Using cache_images/cache_images_c2e0829f3e61ca9a4b271b0f7c2ee1f1.asdf from cache.[[[.] Sequence Time Elapsed...1 m, 17.23 s\n",
      ".] Sequence Time Elapsed...1 m, 17.15 s\n",
      ".] Sequence Time Elapsed...1 m, 17.41 s\n",
      "Using cache_images/cache_images_c2e0829f3e61ca9a4b271b0f7c2ee1f1.asdf from cache.Using cache_images/cache_images_c2e0829f3e61ca9a4b271b0f7c2ee1f1.asdf from cache.Using cache_images/cache_images_c2e0829f3e61ca9a4b271b0f7c2ee1f1.asdf from cache.[[[.] Sequence Time Elapsed...1 m, 19.22 s\n",
      ".] Sequence Time Elapsed...1 m, 19.39 s\n",
      ".] Sequence Time Elapsed...1 m, 19.59 s\n",
      "Using cache_images/cache_images_c2e0829f3e61ca9a4b271b0f7c2ee1f1.asdf from cache.Using cache_images/cache_images_c2e0829f3e61ca9a4b271b0f7c2ee1f1.asdf from cache.[[.] Sequence Time Elapsed...1 m, 17.44 s\n",
      ".] Sequence Time Elapsed...1 m, 17.57 s\n",
      "['sims/2023-02-22/continuous fix 20 neurons 0 mu_c 0 sigma_c noise 0.0.asdf', 'sims/2023-02-22/continuous fix 20 neurons 0 mu_c 0 sigma_c noise 0.1.asdf', 'sims/2023-02-22/continuous fix 20 neurons 0 mu_c 0 sigma_c noise 0.2.asdf', 'sims/2023-02-22/continuous fix 20 neurons 0 mu_c 0 sigma_c noise 0.3.asdf', 'sims/2023-02-22/continuous fix 20 neurons 0 mu_c 0 sigma_c noise 0.4.asdf', 'sims/2023-02-22/continuous fix 20 neurons 0 mu_c 0 sigma_c noise 0.5.asdf', 'sims/2023-02-22/continuous fix 20 neurons 0 mu_c 0 sigma_c noise 0.6.asdf', 'sims/2023-02-22/continuous fix 20 neurons 0 mu_c 0 sigma_c noise 0.7.asdf', 'sims/2023-02-22/continuous fix 20 neurons 0 mu_c 0 sigma_c noise 0.8.asdf', 'sims/2023-02-22/continuous fix 20 neurons 0 mu_c 0 sigma_c noise 0.9.asdf', 'sims/2023-02-22/continuous fix 20 neurons 0 mu_c 0 sigma_c noise 1.0.asdf', 'sims/2023-02-22/continuous fix 20 neurons 0 mu_c 2 sigma_c noise 0.0.asdf', 'sims/2023-02-22/continuous fix 20 neurons 0 mu_c 2 sigma_c noise 0.1.asdf', 'sims/2023-02-22/continuous fix 20 neurons 0 mu_c 2 sigma_c noise 0.2.asdf', 'sims/2023-02-22/continuous fix 20 neurons 0 mu_c 2 sigma_c noise 0.3.asdf', 'sims/2023-02-22/continuous fix 20 neurons 0 mu_c 2 sigma_c noise 0.4.asdf', 'sims/2023-02-22/continuous fix 20 neurons 0 mu_c 2 sigma_c noise 0.5.asdf', 'sims/2023-02-22/continuous fix 20 neurons 0 mu_c 2 sigma_c noise 0.6.asdf', 'sims/2023-02-22/continuous fix 20 neurons 0 mu_c 2 sigma_c noise 0.7.asdf', 'sims/2023-02-22/continuous fix 20 neurons 0 mu_c 2 sigma_c noise 0.8.asdf', 'sims/2023-02-22/continuous fix 20 neurons 0 mu_c 2 sigma_c noise 0.9.asdf', 'sims/2023-02-22/continuous fix 20 neurons 0 mu_c 2 sigma_c noise 1.0.asdf', 'sims/2023-02-22/continuous fix 20 neurons 7.5 mu_c 0 sigma_c noise 0.0.asdf', 'sims/2023-02-22/continuous fix 20 neurons 7.5 mu_c 0 sigma_c noise 0.1.asdf', 'sims/2023-02-22/continuous fix 20 neurons 7.5 mu_c 0 sigma_c noise 0.2.asdf', 'sims/2023-02-22/continuous fix 20 neurons 7.5 mu_c 0 sigma_c noise 0.3.asdf', 'sims/2023-02-22/continuous fix 20 neurons 7.5 mu_c 0 sigma_c noise 0.4.asdf', 'sims/2023-02-22/continuous fix 20 neurons 7.5 mu_c 0 sigma_c noise 0.5.asdf', 'sims/2023-02-22/continuous fix 20 neurons 7.5 mu_c 0 sigma_c noise 0.6.asdf', 'sims/2023-02-22/continuous fix 20 neurons 7.5 mu_c 0 sigma_c noise 0.7.asdf', 'sims/2023-02-22/continuous fix 20 neurons 7.5 mu_c 0 sigma_c noise 0.8.asdf', 'sims/2023-02-22/continuous fix 20 neurons 7.5 mu_c 0 sigma_c noise 0.9.asdf', 'sims/2023-02-22/continuous fix 20 neurons 7.5 mu_c 0 sigma_c noise 1.0.asdf', 'sims/2023-02-22/continuous fix 20 neurons 7.5 mu_c 2 sigma_c noise 0.0.asdf', 'sims/2023-02-22/continuous fix 20 neurons 7.5 mu_c 2 sigma_c noise 0.1.asdf', 'sims/2023-02-22/continuous fix 20 neurons 7.5 mu_c 2 sigma_c noise 0.2.asdf', 'sims/2023-02-22/continuous fix 20 neurons 7.5 mu_c 2 sigma_c noise 0.3.asdf', 'sims/2023-02-22/continuous fix 20 neurons 7.5 mu_c 2 sigma_c noise 0.4.asdf', 'sims/2023-02-22/continuous fix 20 neurons 7.5 mu_c 2 sigma_c noise 0.5.asdf', 'sims/2023-02-22/continuous fix 20 neurons 7.5 mu_c 2 sigma_c noise 0.6.asdf', 'sims/2023-02-22/continuous fix 20 neurons 7.5 mu_c 2 sigma_c noise 0.7.asdf', 'sims/2023-02-22/continuous fix 20 neurons 7.5 mu_c 2 sigma_c noise 0.8.asdf', 'sims/2023-02-22/continuous fix 20 neurons 7.5 mu_c 2 sigma_c noise 0.9.asdf', 'sims/2023-02-22/continuous fix 20 neurons 7.5 mu_c 2 sigma_c noise 1.0.asdf']\n"
     ]
    }
   ],
   "source": [
    "if do_params:\n",
    "    pool = Pool(processes=number_of_processes)\n",
    "    result = pool.map_async(func, do_params)\n",
    "    print(result.get())"
   ]
  },
  {
   "cell_type": "code",
   "execution_count": null,
   "id": "1283436c-29fd-4e42-a76d-249a93d92f45",
   "metadata": {},
   "outputs": [],
   "source": []
  },
  {
   "cell_type": "code",
   "execution_count": null,
   "id": "9d2f3dcd-55a3-4af5-8fe5-1d2a4386f46f",
   "metadata": {},
   "outputs": [],
   "source": []
  },
  {
   "cell_type": "markdown",
   "id": "f8dcaa9b-0898-43aa-8f44-5809cb89aa1c",
   "metadata": {},
   "source": [
    "## Patch"
   ]
  },
  {
   "cell_type": "code",
   "execution_count": 14,
   "id": "b1583e45-850b-47a3-b783-19139267fc33",
   "metadata": {},
   "outputs": [],
   "source": [
    "def run_one_continuous_patch_jitter(params,\n",
    "                                  deficit_base_sim='sims/2023-02-21/deficit 20 neurons 7.5 mu_c 2 sigma_c.asdf',\n",
    "                                  overwrite=False):\n",
    "    import plasticnet as pn\n",
    "    count,eta,noise,mu_c,sigma_c,number_of_neurons,sfname=(params.count,params.eta,params.noise,\n",
    "                        params.mu_c,params.sigma_c,params.number_of_neurons,params.sfname)\n",
    "    \n",
    "    if not overwrite and os.path.exists(sfname):\n",
    "        return sfname\n",
    "\n",
    "    seq=pn.Sequence()\n",
    "\n",
    "    seq+=patch_treatment_jitter(patch_noise=noise,\n",
    "               total_time=100*hour,number_of_neurons=params.number_of_neurons,\n",
    "            mu_c=mu_c,sigma_c=sigma_c,\n",
    "               eta=eta,\n",
    "               save_interval=20*minute)\n",
    "\n",
    "    seq_load(seq,deficit_base_sim)    \n",
    "\n",
    "    seq.run(display_hash=False)\n",
    "    pn.save(sfname,seq) \n",
    "    \n",
    "    return sfname\n",
    "            \n",
    "    "
   ]
  },
  {
   "cell_type": "code",
   "execution_count": 15,
   "id": "149a30de-37cb-4d72-9c92-a1167640b5b7",
   "metadata": {},
   "outputs": [
    {
     "name": "stdout",
     "output_type": "stream",
     "text": [
      "21 sims\n",
      "[params(eta=1e-06, number_of_neurons=20, sfname='sims/2023-02-22/continuous patch 20 neurons noise 0.0.asdf', noise=0.0, mu_c=7.5, sigma_c=2, count=0), params(eta=1e-06, number_of_neurons=20, sfname='sims/2023-02-22/continuous patch 20 neurons noise 0.1.asdf', noise=0.05, mu_c=7.5, sigma_c=2, count=1), params(eta=1e-06, number_of_neurons=20, sfname='sims/2023-02-22/continuous patch 20 neurons noise 0.1.asdf', noise=0.1, mu_c=7.5, sigma_c=2, count=2), params(eta=1e-06, number_of_neurons=20, sfname='sims/2023-02-22/continuous patch 20 neurons noise 0.2.asdf', noise=0.15000000000000002, mu_c=7.5, sigma_c=2, count=3), params(eta=1e-06, number_of_neurons=20, sfname='sims/2023-02-22/continuous patch 20 neurons noise 0.2.asdf', noise=0.2, mu_c=7.5, sigma_c=2, count=4)] ... [params(eta=1e-06, number_of_neurons=20, sfname='sims/2023-02-22/continuous patch 20 neurons noise 0.8.asdf', noise=0.8, mu_c=7.5, sigma_c=2, count=16), params(eta=1e-06, number_of_neurons=20, sfname='sims/2023-02-22/continuous patch 20 neurons noise 0.9.asdf', noise=0.8500000000000001, mu_c=7.5, sigma_c=2, count=17), params(eta=1e-06, number_of_neurons=20, sfname='sims/2023-02-22/continuous patch 20 neurons noise 0.9.asdf', noise=0.9, mu_c=7.5, sigma_c=2, count=18), params(eta=1e-06, number_of_neurons=20, sfname='sims/2023-02-22/continuous patch 20 neurons noise 1.0.asdf', noise=0.9500000000000001, mu_c=7.5, sigma_c=2, count=19), params(eta=1e-06, number_of_neurons=20, sfname='sims/2023-02-22/continuous patch 20 neurons noise 1.0.asdf', noise=1.0, mu_c=7.5, sigma_c=2, count=20)]\n"
     ]
    }
   ],
   "source": [
    "func=run_one_continuous_patch_jitter\n",
    "\n",
    "closed_eye_noise_mat=linspace(0,1,21)\n",
    "\n",
    "all_params=[]\n",
    "for n,noise in enumerate(closed_eye_noise_mat):\n",
    "    sfname=base+f'/continuous patch {number_of_neurons} neurons noise {noise:.1f}.asdf'\n",
    "    \n",
    "    p=Struct()\n",
    "    p.eta=eta\n",
    "    p.number_of_neurons=number_of_neurons\n",
    "    p.sfname=sfname\n",
    "    \n",
    "    p.noise=noise\n",
    "    p.mu_c=7.5\n",
    "    p.sigma_c=2\n",
    "    \n",
    "    all_params+=[p]\n",
    "\n",
    "all_params=to_named_tuple(all_params)  \n",
    "do_params=make_do_params(all_params,verbose=True)"
   ]
  },
  {
   "cell_type": "code",
   "execution_count": 16,
   "id": "dc06d23d-cbd5-44b5-aed8-9096c7977ee7",
   "metadata": {},
   "outputs": [
    {
     "name": "stdout",
     "output_type": "stream",
     "text": [
      "Using cache_images/cache_images_c2e0829f3e61ca9a4b271b0f7c2ee1f1.asdf from cache.Using cache_images/cache_images_c2e0829f3e61ca9a4b271b0f7c2ee1f1.asdf from cache.Using cache_images/cache_images_c2e0829f3e61ca9a4b271b0f7c2ee1f1.asdf from cache.Using cache_images/cache_images_c2e0829f3e61ca9a4b271b0f7c2ee1f1.asdf from cache.[[[[.] Sequence Time Elapsed...2 m, 53.00 s\n",
      "..] Sequence Time Elapsed...2 m, 53.05 s] Sequence Time Elapsed...2 m, 53.06 s\n",
      "\n",
      ".] Sequence Time Elapsed...2 m, 53.17 s\n",
      "Using cache_images/cache_images_c2e0829f3e61ca9a4b271b0f7c2ee1f1.asdf from cache.Using cache_images/cache_images_c2e0829f3e61ca9a4b271b0f7c2ee1f1.asdf from cache.Using cache_images/cache_images_c2e0829f3e61ca9a4b271b0f7c2ee1f1.asdf from cache.Using cache_images/cache_images_c2e0829f3e61ca9a4b271b0f7c2ee1f1.asdf from cache.[[[[.] Sequence Time Elapsed...2 m, 49.48 s\n",
      ".] Sequence Time Elapsed...2 m, 49.35 s\n",
      ".] Sequence Time Elapsed...2 m, 49.59 s\n",
      ".] Sequence Time Elapsed...2 m, 49.62 s\n",
      "Using cache_images/cache_images_c2e0829f3e61ca9a4b271b0f7c2ee1f1.asdf from cache.Using cache_images/cache_images_c2e0829f3e61ca9a4b271b0f7c2ee1f1.asdf from cache.Using cache_images/cache_images_c2e0829f3e61ca9a4b271b0f7c2ee1f1.asdf from cache.Using cache_images/cache_images_c2e0829f3e61ca9a4b271b0f7c2ee1f1.asdf from cache.[[[[.] Sequence Time Elapsed...2 m, 52.87 s\n",
      ".] Sequence Time Elapsed...2 m, 52.88 s\n",
      ".] Sequence Time Elapsed...2 m, 52.83 s\n",
      ".] Sequence Time Elapsed...2 m, 53.18 s\n",
      "Using cache_images/cache_images_c2e0829f3e61ca9a4b271b0f7c2ee1f1.asdf from cache.Using cache_images/cache_images_c2e0829f3e61ca9a4b271b0f7c2ee1f1.asdf from cache.Using cache_images/cache_images_c2e0829f3e61ca9a4b271b0f7c2ee1f1.asdf from cache.[[[Using cache_images/cache_images_c2e0829f3e61ca9a4b271b0f7c2ee1f1.asdf from cache.[.] Sequence Time Elapsed...2 m, 53.14 s\n",
      ".] Sequence Time Elapsed...2 m, 53.19 s\n",
      ".] Sequence Time Elapsed...2 m, 53.25 s\n",
      ".] Sequence Time Elapsed...2 m, 53.30 s\n",
      "Using cache_images/cache_images_c2e0829f3e61ca9a4b271b0f7c2ee1f1.asdf from cache.Using cache_images/cache_images_c2e0829f3e61ca9a4b271b0f7c2ee1f1.asdf from cache.[[.] Sequence Time Elapsed...2 m, 27.03 s\n",
      ".] Sequence Time Elapsed...2 m, 27.16 s\n",
      "['sims/2023-02-22/continuous patch 20 neurons noise 0.0.asdf', 'sims/2023-02-22/continuous patch 20 neurons noise 0.1.asdf', 'sims/2023-02-22/continuous patch 20 neurons noise 0.1.asdf', 'sims/2023-02-22/continuous patch 20 neurons noise 0.2.asdf', 'sims/2023-02-22/continuous patch 20 neurons noise 0.2.asdf', 'sims/2023-02-22/continuous patch 20 neurons noise 0.2.asdf', 'sims/2023-02-22/continuous patch 20 neurons noise 0.3.asdf', 'sims/2023-02-22/continuous patch 20 neurons noise 0.4.asdf', 'sims/2023-02-22/continuous patch 20 neurons noise 0.4.asdf', 'sims/2023-02-22/continuous patch 20 neurons noise 0.5.asdf', 'sims/2023-02-22/continuous patch 20 neurons noise 0.5.asdf', 'sims/2023-02-22/continuous patch 20 neurons noise 0.6.asdf', 'sims/2023-02-22/continuous patch 20 neurons noise 0.6.asdf', 'sims/2023-02-22/continuous patch 20 neurons noise 0.7.asdf', 'sims/2023-02-22/continuous patch 20 neurons noise 0.7.asdf', 'sims/2023-02-22/continuous patch 20 neurons noise 0.8.asdf', 'sims/2023-02-22/continuous patch 20 neurons noise 0.8.asdf', 'sims/2023-02-22/continuous patch 20 neurons noise 0.9.asdf', 'sims/2023-02-22/continuous patch 20 neurons noise 0.9.asdf', 'sims/2023-02-22/continuous patch 20 neurons noise 1.0.asdf', 'sims/2023-02-22/continuous patch 20 neurons noise 1.0.asdf']\n"
     ]
    }
   ],
   "source": [
    "if do_params:\n",
    "    pool = Pool(processes=number_of_processes)\n",
    "    result = pool.map_async(func, do_params)\n",
    "    print(result.get())"
   ]
  },
  {
   "cell_type": "markdown",
   "id": "46129913-5a4e-42d3-a487-86de1f415b46",
   "metadata": {},
   "source": [
    "## Atropine"
   ]
  },
  {
   "cell_type": "code",
   "execution_count": 17,
   "id": "e2cf7c85-868a-4eef-b62e-1b4e2aade182",
   "metadata": {},
   "outputs": [],
   "source": [
    "def run_one_continuous_blur_jitter(params,\n",
    "                                  deficit_base_sim='sims/2023-02-21/deficit 20 neurons 7.5 mu_c 2 sigma_c.asdf',\n",
    "                                   overwrite=False):\n",
    "    import plasticnet as pn\n",
    "    count,blur,eta,noise,mu_c,sigma_c,number_of_neurons,sfname=(params.count,params.blur,params.eta,params.noise,\n",
    "                                        params.mu_c,params.sigma_c,params.number_of_neurons,params.sfname)\n",
    "    \n",
    "    if not overwrite and os.path.exists(sfname):\n",
    "        return sfname\n",
    "    \n",
    "    \n",
    "    seq=pn.Sequence()\n",
    "    seq+=treatment_jitter(blur=blur,\n",
    "                   noise=0.1,\n",
    "                   noise2=noise,  # treated (strong-eye) noise\n",
    "                   total_time=100*hour,number_of_neurons=params.number_of_neurons,\n",
    "                    mu_c=mu_c,sigma_c=sigma_c,\n",
    "                   eta=eta,\n",
    "                   save_interval=20*minute)\n",
    "    \n",
    "    seq_load(seq,deficit_base_sim)    \n",
    "\n",
    "    seq.run(display_hash=False)\n",
    "    pn.save(sfname,seq) \n",
    "    \n",
    "    return sfname\n",
    "    "
   ]
  },
  {
   "cell_type": "code",
   "execution_count": 18,
   "id": "0e648ae0-501d-496d-8c51-7741888959ad",
   "metadata": {},
   "outputs": [
    {
     "name": "stdout",
     "output_type": "stream",
     "text": [
      "231 sims\n",
      "[params(eta=1e-06, number_of_neurons=20, sfname='sims/2023-02-22/continuous atropine 20 neurons noise 0.0 blur 0.0.asdf', noise=0.0, blur=0.0, mu_c=7.5, sigma_c=2, count=0), params(eta=1e-06, number_of_neurons=20, sfname='sims/2023-02-22/continuous atropine 20 neurons noise 0.1 blur 0.0.asdf', noise=0.1, blur=0.0, mu_c=7.5, sigma_c=2, count=1), params(eta=1e-06, number_of_neurons=20, sfname='sims/2023-02-22/continuous atropine 20 neurons noise 0.2 blur 0.0.asdf', noise=0.2, blur=0.0, mu_c=7.5, sigma_c=2, count=2), params(eta=1e-06, number_of_neurons=20, sfname='sims/2023-02-22/continuous atropine 20 neurons noise 0.3 blur 0.0.asdf', noise=0.30000000000000004, blur=0.0, mu_c=7.5, sigma_c=2, count=3), params(eta=1e-06, number_of_neurons=20, sfname='sims/2023-02-22/continuous atropine 20 neurons noise 0.4 blur 0.0.asdf', noise=0.4, blur=0.0, mu_c=7.5, sigma_c=2, count=4)] ... [params(eta=1e-06, number_of_neurons=20, sfname='sims/2023-02-22/continuous atropine 20 neurons noise 0.6 blur 6.0.asdf', noise=0.6000000000000001, blur=6.0, mu_c=7.5, sigma_c=2, count=226), params(eta=1e-06, number_of_neurons=20, sfname='sims/2023-02-22/continuous atropine 20 neurons noise 0.7 blur 6.0.asdf', noise=0.7000000000000001, blur=6.0, mu_c=7.5, sigma_c=2, count=227), params(eta=1e-06, number_of_neurons=20, sfname='sims/2023-02-22/continuous atropine 20 neurons noise 0.8 blur 6.0.asdf', noise=0.8, blur=6.0, mu_c=7.5, sigma_c=2, count=228), params(eta=1e-06, number_of_neurons=20, sfname='sims/2023-02-22/continuous atropine 20 neurons noise 0.9 blur 6.0.asdf', noise=0.9, blur=6.0, mu_c=7.5, sigma_c=2, count=229), params(eta=1e-06, number_of_neurons=20, sfname='sims/2023-02-22/continuous atropine 20 neurons noise 1.0 blur 6.0.asdf', noise=1.0, blur=6.0, mu_c=7.5, sigma_c=2, count=230)]\n"
     ]
    }
   ],
   "source": [
    "func=run_one_continuous_blur_jitter\n",
    "\n",
    "\n",
    "atropine_blur_mat=linspace(0,6,21)\n",
    "closed_eye_noise_mat=linspace(0,1,11)\n",
    "\n",
    "all_params=[]\n",
    "for b,blur in enumerate(atropine_blur_mat):\n",
    "    for n,noise in enumerate(closed_eye_noise_mat):\n",
    "        sfname=base+f'/continuous atropine {number_of_neurons} neurons noise {noise:.1f} blur {blur:0.1f}.asdf'\n",
    "\n",
    "        p=Struct()\n",
    "        p.eta=eta\n",
    "        p.number_of_neurons=number_of_neurons\n",
    "        p.sfname=sfname\n",
    "\n",
    "        p.noise=noise\n",
    "        p.blur=blur\n",
    "        p.mu_c=7.5\n",
    "        p.sigma_c=2\n",
    "\n",
    "        all_params+=[p]\n",
    "\n",
    "all_params=to_named_tuple(all_params)  \n",
    "do_params=make_do_params(all_params,verbose=True)"
   ]
  },
  {
   "cell_type": "code",
   "execution_count": null,
   "id": "7be85faa-f00b-4a1a-a059-3962e6a24b12",
   "metadata": {},
   "outputs": [],
   "source": [
    "if do_params:\n",
    "    pool = Pool(processes=number_of_processes)\n",
    "    result = pool.map_async(func, do_params)\n",
    "    print(result.get())"
   ]
  },
  {
   "cell_type": "markdown",
   "id": "e0d70dcb-cf7f-477f-b1f8-765410b088cf",
   "metadata": {},
   "source": [
    "## Contrast"
   ]
  },
  {
   "cell_type": "code",
   "execution_count": 19,
   "id": "76df4cd1-8599-4862-a275-83889a3f2cea",
   "metadata": {},
   "outputs": [],
   "source": [
    "def run_one_continuous_mask_jitter(params,\n",
    "                                  deficit_base_sim='sims/2023-02-21/deficit 20 neurons 7.5 mu_c 2 sigma_c.asdf',\n",
    "                                   overwrite=False):\n",
    "    import plasticnet as pn\n",
    "    count,eta,contrast,mask,f,mu_c,sigma_c,number_of_neurons,sfname=(params.count,params.eta,params.contrast,params.mask,params.f,\n",
    "                                        params.mu_c,params.sigma_c,params.number_of_neurons,params.sfname)\n",
    "    \n",
    "    if not overwrite and os.path.exists(sfname):\n",
    "        return sfname\n",
    "\n",
    "    \n",
    "    seq=pn.Sequence()\n",
    "\n",
    "    seq+=treatment_jitter(f=f,\n",
    "                   mask=mask,\n",
    "                   contrast=contrast,\n",
    "                   total_time=100*hour,\n",
    "                   eta=eta,\n",
    "                    mu_c=mu_c,sigma_c=sigma_c,\n",
    "                   save_interval=20*minute)\n",
    "    seq_load(seq,deficit_base_sim)    \n",
    "\n",
    "    seq.run(display_hash=False)\n",
    "    pn.save(sfname,seq) \n",
    "\n",
    "    \n",
    "    return sfname\n",
    "    \n",
    "    \n"
   ]
  },
  {
   "cell_type": "code",
   "execution_count": 20,
   "id": "3f137798-a184-46b8-8be1-2fde4e3a4536",
   "metadata": {},
   "outputs": [
    {
     "name": "stdout",
     "output_type": "stream",
     "text": [
      "ERROR! Session/line number was not unique in database. History logging moved to new session 4897\n",
      "11 sims\n",
      "[params(eta=1e-06, number_of_neurons=20, sfname='sims/2023-02-22/continuous contrast 20 neurons contrast 0.0.asdf', contrast=0.0, mask=0, f=10.0, mu_c=7.5, sigma_c=2, count=0), params(eta=1e-06, number_of_neurons=20, sfname='sims/2023-02-22/continuous contrast 20 neurons contrast 0.1.asdf', contrast=0.1, mask=0, f=10.0, mu_c=7.5, sigma_c=2, count=1), params(eta=1e-06, number_of_neurons=20, sfname='sims/2023-02-22/continuous contrast 20 neurons contrast 0.2.asdf', contrast=0.2, mask=0, f=10.0, mu_c=7.5, sigma_c=2, count=2), params(eta=1e-06, number_of_neurons=20, sfname='sims/2023-02-22/continuous contrast 20 neurons contrast 0.3.asdf', contrast=0.30000000000000004, mask=0, f=10.0, mu_c=7.5, sigma_c=2, count=3), params(eta=1e-06, number_of_neurons=20, sfname='sims/2023-02-22/continuous contrast 20 neurons contrast 0.4.asdf', contrast=0.4, mask=0, f=10.0, mu_c=7.5, sigma_c=2, count=4), params(eta=1e-06, number_of_neurons=20, sfname='sims/2023-02-22/continuous contrast 20 neurons contrast 0.5.asdf', contrast=0.5, mask=0, f=10.0, mu_c=7.5, sigma_c=2, count=5), params(eta=1e-06, number_of_neurons=20, sfname='sims/2023-02-22/continuous contrast 20 neurons contrast 0.6.asdf', contrast=0.6000000000000001, mask=0, f=10.0, mu_c=7.5, sigma_c=2, count=6), params(eta=1e-06, number_of_neurons=20, sfname='sims/2023-02-22/continuous contrast 20 neurons contrast 0.7.asdf', contrast=0.7000000000000001, mask=0, f=10.0, mu_c=7.5, sigma_c=2, count=7), params(eta=1e-06, number_of_neurons=20, sfname='sims/2023-02-22/continuous contrast 20 neurons contrast 0.8.asdf', contrast=0.8, mask=0, f=10.0, mu_c=7.5, sigma_c=2, count=8), params(eta=1e-06, number_of_neurons=20, sfname='sims/2023-02-22/continuous contrast 20 neurons contrast 0.9.asdf', contrast=0.9, mask=0, f=10.0, mu_c=7.5, sigma_c=2, count=9), params(eta=1e-06, number_of_neurons=20, sfname='sims/2023-02-22/continuous contrast 20 neurons contrast 1.0.asdf', contrast=1.0, mask=0, f=10.0, mu_c=7.5, sigma_c=2, count=10)]\n"
     ]
    }
   ],
   "source": [
    "func=run_one_continuous_mask_jitter\n",
    "\n",
    "\n",
    "contrast_mat=linspace(0,1,11)\n",
    "mask_mat=array([0,1])\n",
    "f_mat=array([10,30,50,70,90])\n",
    "\n",
    "\n",
    "all_params=[]\n",
    "for c,contrast in enumerate(contrast_mat):\n",
    "    sfname=base+f'/continuous contrast {number_of_neurons} neurons contrast {contrast:.1f}.asdf'\n",
    "\n",
    "    p=Struct()\n",
    "    p.eta=eta\n",
    "    p.number_of_neurons=number_of_neurons\n",
    "    p.sfname=sfname\n",
    "\n",
    "    p.contrast=contrast\n",
    "    p.mask=0\n",
    "    p.f=10. # not used when mask=0\n",
    "    p.mu_c=7.5\n",
    "    p.sigma_c=2\n",
    "\n",
    "    all_params+=[p]\n",
    "\n",
    "all_params=to_named_tuple(all_params)  \n",
    "do_params=make_do_params(all_params,verbose=True)"
   ]
  },
  {
   "cell_type": "code",
   "execution_count": 21,
   "id": "4616ff6c-a9f8-4a58-ba75-fbe28809577f",
   "metadata": {},
   "outputs": [
    {
     "name": "stdout",
     "output_type": "stream",
     "text": [
      "Using cache_images/cache_images_c2e0829f3e61ca9a4b271b0f7c2ee1f1.asdf from cache.Using cache_images/cache_images_c2e0829f3e61ca9a4b271b0f7c2ee1f1.asdf from cache.Using cache_images/cache_images_c2e0829f3e61ca9a4b271b0f7c2ee1f1.asdf from cache.Using cache_images/cache_images_c2e0829f3e61ca9a4b271b0f7c2ee1f1.asdf from cache.Using cache_images/cache_images_c2e0829f3e61ca9a4b271b0f7c2ee1f1.asdf from cache.Using cache_images/cache_images_c2e0829f3e61ca9a4b271b0f7c2ee1f1.asdf from cache.Using cache_images/cache_images_c2e0829f3e61ca9a4b271b0f7c2ee1f1.asdf from cache.Using cache_images/cache_images_c2e0829f3e61ca9a4b271b0f7c2ee1f1.asdf from cache."
     ]
    },
    {
     "name": "stderr",
     "output_type": "stream",
     "text": [
      "Process ForkPoolWorker-24:\n",
      "Process ForkPoolWorker-22:\n",
      "Process ForkPoolWorker-21:\n",
      "Process ForkPoolWorker-20:\n",
      "Process ForkPoolWorker-26:\n",
      "Process ForkPoolWorker-25:\n",
      "Process ForkPoolWorker-23:\n",
      "Process ForkPoolWorker-27:\n",
      "Traceback (most recent call last):\n",
      "Traceback (most recent call last):\n",
      "Traceback (most recent call last):\n",
      "Traceback (most recent call last):\n",
      "Traceback (most recent call last):\n",
      "Traceback (most recent call last):\n",
      "Traceback (most recent call last):\n",
      "Traceback (most recent call last):\n",
      "  File \"/Users/bblais/opt/anaconda3/lib/python3.9/site-packages/multiprocess/process.py\", line 315, in _bootstrap\n",
      "    self.run()\n",
      "  File \"/Users/bblais/opt/anaconda3/lib/python3.9/site-packages/multiprocess/process.py\", line 315, in _bootstrap\n",
      "    self.run()\n",
      "  File \"/Users/bblais/opt/anaconda3/lib/python3.9/site-packages/multiprocess/process.py\", line 315, in _bootstrap\n",
      "    self.run()\n",
      "  File \"/Users/bblais/opt/anaconda3/lib/python3.9/site-packages/multiprocess/process.py\", line 315, in _bootstrap\n",
      "    self.run()\n",
      "  File \"/Users/bblais/opt/anaconda3/lib/python3.9/site-packages/multiprocess/process.py\", line 315, in _bootstrap\n",
      "    self.run()\n",
      "  File \"/Users/bblais/opt/anaconda3/lib/python3.9/site-packages/multiprocess/process.py\", line 315, in _bootstrap\n",
      "    self.run()\n",
      "  File \"/Users/bblais/opt/anaconda3/lib/python3.9/site-packages/multiprocess/process.py\", line 315, in _bootstrap\n",
      "    self.run()\n",
      "  File \"/Users/bblais/opt/anaconda3/lib/python3.9/site-packages/multiprocess/process.py\", line 315, in _bootstrap\n",
      "    self.run()\n",
      "  File \"/Users/bblais/opt/anaconda3/lib/python3.9/site-packages/multiprocess/process.py\", line 108, in run\n",
      "    self._target(*self._args, **self._kwargs)\n",
      "  File \"/Users/bblais/opt/anaconda3/lib/python3.9/site-packages/multiprocess/process.py\", line 108, in run\n",
      "    self._target(*self._args, **self._kwargs)\n",
      "  File \"/Users/bblais/opt/anaconda3/lib/python3.9/site-packages/multiprocess/process.py\", line 108, in run\n",
      "    self._target(*self._args, **self._kwargs)\n",
      "  File \"/Users/bblais/opt/anaconda3/lib/python3.9/site-packages/multiprocess/process.py\", line 108, in run\n",
      "    self._target(*self._args, **self._kwargs)\n",
      "  File \"/Users/bblais/opt/anaconda3/lib/python3.9/site-packages/multiprocess/process.py\", line 108, in run\n",
      "    self._target(*self._args, **self._kwargs)\n",
      "  File \"/Users/bblais/opt/anaconda3/lib/python3.9/site-packages/multiprocess/process.py\", line 108, in run\n",
      "    self._target(*self._args, **self._kwargs)\n",
      "  File \"/Users/bblais/opt/anaconda3/lib/python3.9/site-packages/multiprocess/process.py\", line 108, in run\n",
      "    self._target(*self._args, **self._kwargs)\n",
      "  File \"/Users/bblais/opt/anaconda3/lib/python3.9/site-packages/multiprocess/process.py\", line 108, in run\n",
      "    self._target(*self._args, **self._kwargs)\n",
      "  File \"/Users/bblais/opt/anaconda3/lib/python3.9/site-packages/multiprocess/pool.py\", line 125, in worker\n",
      "    result = (True, func(*args, **kwds))\n",
      "  File \"/Users/bblais/opt/anaconda3/lib/python3.9/site-packages/multiprocess/pool.py\", line 125, in worker\n",
      "    result = (True, func(*args, **kwds))\n",
      "  File \"/Users/bblais/opt/anaconda3/lib/python3.9/site-packages/multiprocess/pool.py\", line 125, in worker\n",
      "    result = (True, func(*args, **kwds))\n",
      "  File \"/Users/bblais/opt/anaconda3/lib/python3.9/site-packages/multiprocess/pool.py\", line 125, in worker\n",
      "    result = (True, func(*args, **kwds))\n",
      "  File \"/Users/bblais/opt/anaconda3/lib/python3.9/site-packages/multiprocess/pool.py\", line 125, in worker\n",
      "    result = (True, func(*args, **kwds))\n",
      "  File \"/Users/bblais/opt/anaconda3/lib/python3.9/site-packages/multiprocess/pool.py\", line 125, in worker\n",
      "    result = (True, func(*args, **kwds))\n",
      "  File \"/Users/bblais/opt/anaconda3/lib/python3.9/site-packages/multiprocess/pool.py\", line 125, in worker\n",
      "    result = (True, func(*args, **kwds))\n",
      "  File \"/Users/bblais/opt/anaconda3/lib/python3.9/site-packages/multiprocess/pool.py\", line 125, in worker\n",
      "    result = (True, func(*args, **kwds))\n",
      "  File \"/Users/bblais/opt/anaconda3/lib/python3.9/site-packages/multiprocess/pool.py\", line 48, in mapstar\n",
      "    return list(map(*args))\n",
      "  File \"/Users/bblais/opt/anaconda3/lib/python3.9/site-packages/multiprocess/pool.py\", line 48, in mapstar\n",
      "    return list(map(*args))\n",
      "  File \"/Users/bblais/opt/anaconda3/lib/python3.9/site-packages/multiprocess/pool.py\", line 48, in mapstar\n",
      "    return list(map(*args))\n",
      "  File \"/Users/bblais/opt/anaconda3/lib/python3.9/site-packages/multiprocess/pool.py\", line 48, in mapstar\n",
      "    return list(map(*args))\n",
      "  File \"/Users/bblais/opt/anaconda3/lib/python3.9/site-packages/multiprocess/pool.py\", line 48, in mapstar\n",
      "    return list(map(*args))\n",
      "  File \"/Users/bblais/opt/anaconda3/lib/python3.9/site-packages/multiprocess/pool.py\", line 48, in mapstar\n",
      "    return list(map(*args))\n",
      "  File \"/Users/bblais/opt/anaconda3/lib/python3.9/site-packages/multiprocess/pool.py\", line 48, in mapstar\n",
      "    return list(map(*args))\n",
      "  File \"/Users/bblais/opt/anaconda3/lib/python3.9/site-packages/multiprocess/pool.py\", line 48, in mapstar\n",
      "    return list(map(*args))\n",
      "ERROR:root:Internal Python error in the inspect module.\n",
      "Below is the traceback from this internal error.\n",
      "\n"
     ]
    },
    {
     "name": "stdout",
     "output_type": "stream",
     "text": [
      "Traceback (most recent call last):\n",
      "  File \"/Users/bblais/opt/anaconda3/lib/python3.9/site-packages/IPython/core/interactiveshell.py\", line 3457, in run_code\n",
      "    exec(code_obj, self.user_global_ns, self.user_ns)\n",
      "  File \"/Users/bblais/tmp/ipykernel_16014/2246015690.py\", line 4, in <module>\n",
      "    print(result.get())\n",
      "  File \"/Users/bblais/opt/anaconda3/lib/python3.9/site-packages/multiprocess/pool.py\", line 765, in get\n",
      "    self.wait(timeout)\n",
      "  File \"/Users/bblais/opt/anaconda3/lib/python3.9/site-packages/multiprocess/pool.py\", line 762, in wait\n",
      "    self._event.wait(timeout)\n",
      "  File \"/Users/bblais/opt/anaconda3/lib/python3.9/threading.py\", line 581, in wait\n",
      "    signaled = self._cond.wait(timeout)\n",
      "  File \"/Users/bblais/opt/anaconda3/lib/python3.9/threading.py\", line 312, in wait\n",
      "    waiter.acquire()\n",
      "KeyboardInterrupt\n",
      "\n",
      "During handling of the above exception, another exception occurred:\n",
      "\n",
      "Traceback (most recent call last):\n",
      "  File \"/Users/bblais/opt/anaconda3/lib/python3.9/site-packages/IPython/core/interactiveshell.py\", line 2077, in showtraceback\n",
      "    stb = value._render_traceback_()\n",
      "AttributeError: 'KeyboardInterrupt' object has no attribute '_render_traceback_'\n",
      "\n",
      "During handling of the above exception, another exception occurred:\n",
      "\n",
      "Traceback (most recent call last):\n",
      "  File \"/Users/bblais/opt/anaconda3/lib/python3.9/site-packages/IPython/core/ultratb.py\", line 1101, in get_records\n",
      "    return _fixed_getinnerframes(etb, number_of_lines_of_context, tb_offset)\n",
      "  File \"/Users/bblais/opt/anaconda3/lib/python3.9/site-packages/IPython/core/ultratb.py\", line 248, in wrapped\n",
      "    return f(*args, **kwargs)\n",
      "  File \"/Users/bblais/opt/anaconda3/lib/python3.9/site-packages/IPython/core/ultratb.py\", line 281, in _fixed_getinnerframes\n",
      "    records = fix_frame_records_filenames(inspect.getinnerframes(etb, context))\n",
      "  File \"/Users/bblais/opt/anaconda3/lib/python3.9/inspect.py\", line 1543, in getinnerframes\n",
      "    frameinfo = (tb.tb_frame,) + getframeinfo(tb, context)\n",
      "  File \"/Users/bblais/opt/anaconda3/lib/python3.9/inspect.py\", line 1501, in getframeinfo\n",
      "    filename = getsourcefile(frame) or getfile(frame)\n",
      "  File \"/Users/bblais/opt/anaconda3/lib/python3.9/inspect.py\", line 709, in getsourcefile\n",
      "    if getattr(getmodule(object, filename), '__loader__', None) is not None:\n",
      "  File \"/Users/bblais/opt/anaconda3/lib/python3.9/inspect.py\", line 755, in getmodule\n",
      "    os.path.realpath(f)] = module.__name__\n",
      "  File \"/Users/bblais/opt/anaconda3/lib/python3.9/posixpath.py\", line 392, in realpath\n",
      "    path, ok = _joinrealpath(filename[:0], filename, {})\n",
      "  File \"/Users/bblais/opt/anaconda3/lib/python3.9/posixpath.py\", line 426, in _joinrealpath\n",
      "    if not islink(newpath):\n",
      "KeyboardInterrupt\n",
      "Using cache_images/cache_images_c2e0829f3e61ca9a4b271b0f7c2ee1f1.asdf from cache.Using cache_images/cache_images_c2e0829f3e61ca9a4b271b0f7c2ee1f1.asdf from cache.Using cache_images/cache_images_c2e0829f3e61ca9a4b271b0f7c2ee1f1.asdf from cache.Using cache_images/cache_images_c2e0829f3e61ca9a4b271b0f7c2ee1f1.asdf from cache.Using cache_images/cache_images_c2e0829f3e61ca9a4b271b0f7c2ee1f1.asdf from cache.Using cache_images/cache_images_c2e0829f3e61ca9a4b271b0f7c2ee1f1.asdf from cache.Using cache_images/cache_images_c2e0829f3e61ca9a4b271b0f7c2ee1f1.asdf from cache.Using cache_images/cache_images_c2e0829f3e61ca9a4b271b0f7c2ee1f1.asdf from cache."
     ]
    },
    {
     "ename": "TypeError",
     "evalue": "object of type 'NoneType' has no len()",
     "output_type": "error",
     "traceback": [
      "\u001b[0;31m---------------------------------------------------------------------------\u001b[0m",
      "\u001b[0;31mKeyboardInterrupt\u001b[0m                         Traceback (most recent call last)",
      "    \u001b[0;31m[... skipping hidden 1 frame]\u001b[0m\n",
      "\u001b[0;32m~/tmp/ipykernel_16014/2246015690.py\u001b[0m in \u001b[0;36m<module>\u001b[0;34m\u001b[0m\n\u001b[1;32m      3\u001b[0m     \u001b[0mresult\u001b[0m \u001b[0;34m=\u001b[0m \u001b[0mpool\u001b[0m\u001b[0;34m.\u001b[0m\u001b[0mmap_async\u001b[0m\u001b[0;34m(\u001b[0m\u001b[0mfunc\u001b[0m\u001b[0;34m,\u001b[0m \u001b[0mdo_params\u001b[0m\u001b[0;34m)\u001b[0m\u001b[0;34m\u001b[0m\u001b[0;34m\u001b[0m\u001b[0m\n\u001b[0;32m----> 4\u001b[0;31m     \u001b[0mprint\u001b[0m\u001b[0;34m(\u001b[0m\u001b[0mresult\u001b[0m\u001b[0;34m.\u001b[0m\u001b[0mget\u001b[0m\u001b[0;34m(\u001b[0m\u001b[0;34m)\u001b[0m\u001b[0;34m)\u001b[0m\u001b[0;34m\u001b[0m\u001b[0;34m\u001b[0m\u001b[0m\n\u001b[0m",
      "\u001b[0;32m~/opt/anaconda3/lib/python3.9/site-packages/multiprocess/pool.py\u001b[0m in \u001b[0;36mget\u001b[0;34m(self, timeout)\u001b[0m\n\u001b[1;32m    764\u001b[0m     \u001b[0;32mdef\u001b[0m \u001b[0mget\u001b[0m\u001b[0;34m(\u001b[0m\u001b[0mself\u001b[0m\u001b[0;34m,\u001b[0m \u001b[0mtimeout\u001b[0m\u001b[0;34m=\u001b[0m\u001b[0;32mNone\u001b[0m\u001b[0;34m)\u001b[0m\u001b[0;34m:\u001b[0m\u001b[0;34m\u001b[0m\u001b[0;34m\u001b[0m\u001b[0m\n\u001b[0;32m--> 765\u001b[0;31m         \u001b[0mself\u001b[0m\u001b[0;34m.\u001b[0m\u001b[0mwait\u001b[0m\u001b[0;34m(\u001b[0m\u001b[0mtimeout\u001b[0m\u001b[0;34m)\u001b[0m\u001b[0;34m\u001b[0m\u001b[0;34m\u001b[0m\u001b[0m\n\u001b[0m\u001b[1;32m    766\u001b[0m         \u001b[0;32mif\u001b[0m \u001b[0;32mnot\u001b[0m \u001b[0mself\u001b[0m\u001b[0;34m.\u001b[0m\u001b[0mready\u001b[0m\u001b[0;34m(\u001b[0m\u001b[0;34m)\u001b[0m\u001b[0;34m:\u001b[0m\u001b[0;34m\u001b[0m\u001b[0;34m\u001b[0m\u001b[0m\n",
      "\u001b[0;32m~/opt/anaconda3/lib/python3.9/site-packages/multiprocess/pool.py\u001b[0m in \u001b[0;36mwait\u001b[0;34m(self, timeout)\u001b[0m\n\u001b[1;32m    761\u001b[0m     \u001b[0;32mdef\u001b[0m \u001b[0mwait\u001b[0m\u001b[0;34m(\u001b[0m\u001b[0mself\u001b[0m\u001b[0;34m,\u001b[0m \u001b[0mtimeout\u001b[0m\u001b[0;34m=\u001b[0m\u001b[0;32mNone\u001b[0m\u001b[0;34m)\u001b[0m\u001b[0;34m:\u001b[0m\u001b[0;34m\u001b[0m\u001b[0;34m\u001b[0m\u001b[0m\n\u001b[0;32m--> 762\u001b[0;31m         \u001b[0mself\u001b[0m\u001b[0;34m.\u001b[0m\u001b[0m_event\u001b[0m\u001b[0;34m.\u001b[0m\u001b[0mwait\u001b[0m\u001b[0;34m(\u001b[0m\u001b[0mtimeout\u001b[0m\u001b[0;34m)\u001b[0m\u001b[0;34m\u001b[0m\u001b[0;34m\u001b[0m\u001b[0m\n\u001b[0m\u001b[1;32m    763\u001b[0m \u001b[0;34m\u001b[0m\u001b[0m\n",
      "\u001b[0;32m~/opt/anaconda3/lib/python3.9/threading.py\u001b[0m in \u001b[0;36mwait\u001b[0;34m(self, timeout)\u001b[0m\n\u001b[1;32m    580\u001b[0m             \u001b[0;32mif\u001b[0m \u001b[0;32mnot\u001b[0m \u001b[0msignaled\u001b[0m\u001b[0;34m:\u001b[0m\u001b[0;34m\u001b[0m\u001b[0;34m\u001b[0m\u001b[0m\n\u001b[0;32m--> 581\u001b[0;31m                 \u001b[0msignaled\u001b[0m \u001b[0;34m=\u001b[0m \u001b[0mself\u001b[0m\u001b[0;34m.\u001b[0m\u001b[0m_cond\u001b[0m\u001b[0;34m.\u001b[0m\u001b[0mwait\u001b[0m\u001b[0;34m(\u001b[0m\u001b[0mtimeout\u001b[0m\u001b[0;34m)\u001b[0m\u001b[0;34m\u001b[0m\u001b[0;34m\u001b[0m\u001b[0m\n\u001b[0m\u001b[1;32m    582\u001b[0m             \u001b[0;32mreturn\u001b[0m \u001b[0msignaled\u001b[0m\u001b[0;34m\u001b[0m\u001b[0;34m\u001b[0m\u001b[0m\n",
      "\u001b[0;32m~/opt/anaconda3/lib/python3.9/threading.py\u001b[0m in \u001b[0;36mwait\u001b[0;34m(self, timeout)\u001b[0m\n\u001b[1;32m    311\u001b[0m             \u001b[0;32mif\u001b[0m \u001b[0mtimeout\u001b[0m \u001b[0;32mis\u001b[0m \u001b[0;32mNone\u001b[0m\u001b[0;34m:\u001b[0m\u001b[0;34m\u001b[0m\u001b[0;34m\u001b[0m\u001b[0m\n\u001b[0;32m--> 312\u001b[0;31m                 \u001b[0mwaiter\u001b[0m\u001b[0;34m.\u001b[0m\u001b[0macquire\u001b[0m\u001b[0;34m(\u001b[0m\u001b[0;34m)\u001b[0m\u001b[0;34m\u001b[0m\u001b[0;34m\u001b[0m\u001b[0m\n\u001b[0m\u001b[1;32m    313\u001b[0m                 \u001b[0mgotit\u001b[0m \u001b[0;34m=\u001b[0m \u001b[0;32mTrue\u001b[0m\u001b[0;34m\u001b[0m\u001b[0;34m\u001b[0m\u001b[0m\n",
      "\u001b[0;31mKeyboardInterrupt\u001b[0m: ",
      "\nDuring handling of the above exception, another exception occurred:\n",
      "\u001b[0;31mAttributeError\u001b[0m                            Traceback (most recent call last)",
      "\u001b[0;32m~/opt/anaconda3/lib/python3.9/site-packages/IPython/core/interactiveshell.py\u001b[0m in \u001b[0;36mshowtraceback\u001b[0;34m(self, exc_tuple, filename, tb_offset, exception_only, running_compiled_code)\u001b[0m\n\u001b[1;32m   2076\u001b[0m                         \u001b[0;31m# in the engines. This should return a list of strings.\u001b[0m\u001b[0;34m\u001b[0m\u001b[0;34m\u001b[0m\u001b[0m\n\u001b[0;32m-> 2077\u001b[0;31m                         \u001b[0mstb\u001b[0m \u001b[0;34m=\u001b[0m \u001b[0mvalue\u001b[0m\u001b[0;34m.\u001b[0m\u001b[0m_render_traceback_\u001b[0m\u001b[0;34m(\u001b[0m\u001b[0;34m)\u001b[0m\u001b[0;34m\u001b[0m\u001b[0;34m\u001b[0m\u001b[0m\n\u001b[0m\u001b[1;32m   2078\u001b[0m                     \u001b[0;32mexcept\u001b[0m \u001b[0mException\u001b[0m\u001b[0;34m:\u001b[0m\u001b[0;34m\u001b[0m\u001b[0;34m\u001b[0m\u001b[0m\n",
      "\u001b[0;31mAttributeError\u001b[0m: 'KeyboardInterrupt' object has no attribute '_render_traceback_'",
      "\nDuring handling of the above exception, another exception occurred:\n",
      "\u001b[0;31mTypeError\u001b[0m                                 Traceback (most recent call last)",
      "    \u001b[0;31m[... skipping hidden 1 frame]\u001b[0m\n",
      "\u001b[0;32m~/opt/anaconda3/lib/python3.9/site-packages/IPython/core/interactiveshell.py\u001b[0m in \u001b[0;36mshowtraceback\u001b[0;34m(self, exc_tuple, filename, tb_offset, exception_only, running_compiled_code)\u001b[0m\n\u001b[1;32m   2077\u001b[0m                         \u001b[0mstb\u001b[0m \u001b[0;34m=\u001b[0m \u001b[0mvalue\u001b[0m\u001b[0;34m.\u001b[0m\u001b[0m_render_traceback_\u001b[0m\u001b[0;34m(\u001b[0m\u001b[0;34m)\u001b[0m\u001b[0;34m\u001b[0m\u001b[0;34m\u001b[0m\u001b[0m\n\u001b[1;32m   2078\u001b[0m                     \u001b[0;32mexcept\u001b[0m \u001b[0mException\u001b[0m\u001b[0;34m:\u001b[0m\u001b[0;34m\u001b[0m\u001b[0;34m\u001b[0m\u001b[0m\n\u001b[0;32m-> 2079\u001b[0;31m                         stb = self.InteractiveTB.structured_traceback(etype,\n\u001b[0m\u001b[1;32m   2080\u001b[0m                                             value, tb, tb_offset=tb_offset)\n\u001b[1;32m   2081\u001b[0m \u001b[0;34m\u001b[0m\u001b[0m\n",
      "\u001b[0;32m~/opt/anaconda3/lib/python3.9/site-packages/IPython/core/ultratb.py\u001b[0m in \u001b[0;36mstructured_traceback\u001b[0;34m(self, etype, value, tb, tb_offset, number_of_lines_of_context)\u001b[0m\n\u001b[1;32m   1365\u001b[0m         \u001b[0;32melse\u001b[0m\u001b[0;34m:\u001b[0m\u001b[0;34m\u001b[0m\u001b[0;34m\u001b[0m\u001b[0m\n\u001b[1;32m   1366\u001b[0m             \u001b[0mself\u001b[0m\u001b[0;34m.\u001b[0m\u001b[0mtb\u001b[0m \u001b[0;34m=\u001b[0m \u001b[0mtb\u001b[0m\u001b[0;34m\u001b[0m\u001b[0;34m\u001b[0m\u001b[0m\n\u001b[0;32m-> 1367\u001b[0;31m         return FormattedTB.structured_traceback(\n\u001b[0m\u001b[1;32m   1368\u001b[0m             self, etype, value, tb, tb_offset, number_of_lines_of_context)\n\u001b[1;32m   1369\u001b[0m \u001b[0;34m\u001b[0m\u001b[0m\n",
      "\u001b[0;32m~/opt/anaconda3/lib/python3.9/site-packages/IPython/core/ultratb.py\u001b[0m in \u001b[0;36mstructured_traceback\u001b[0;34m(self, etype, value, tb, tb_offset, number_of_lines_of_context)\u001b[0m\n\u001b[1;32m   1265\u001b[0m         \u001b[0;32mif\u001b[0m \u001b[0mmode\u001b[0m \u001b[0;32min\u001b[0m \u001b[0mself\u001b[0m\u001b[0;34m.\u001b[0m\u001b[0mverbose_modes\u001b[0m\u001b[0;34m:\u001b[0m\u001b[0;34m\u001b[0m\u001b[0;34m\u001b[0m\u001b[0m\n\u001b[1;32m   1266\u001b[0m             \u001b[0;31m# Verbose modes need a full traceback\u001b[0m\u001b[0;34m\u001b[0m\u001b[0;34m\u001b[0m\u001b[0m\n\u001b[0;32m-> 1267\u001b[0;31m             return VerboseTB.structured_traceback(\n\u001b[0m\u001b[1;32m   1268\u001b[0m                 \u001b[0mself\u001b[0m\u001b[0;34m,\u001b[0m \u001b[0metype\u001b[0m\u001b[0;34m,\u001b[0m \u001b[0mvalue\u001b[0m\u001b[0;34m,\u001b[0m \u001b[0mtb\u001b[0m\u001b[0;34m,\u001b[0m \u001b[0mtb_offset\u001b[0m\u001b[0;34m,\u001b[0m \u001b[0mnumber_of_lines_of_context\u001b[0m\u001b[0;34m\u001b[0m\u001b[0;34m\u001b[0m\u001b[0m\n\u001b[1;32m   1269\u001b[0m             )\n",
      "\u001b[0;32m~/opt/anaconda3/lib/python3.9/site-packages/IPython/core/ultratb.py\u001b[0m in \u001b[0;36mstructured_traceback\u001b[0;34m(self, etype, evalue, etb, tb_offset, number_of_lines_of_context)\u001b[0m\n\u001b[1;32m   1122\u001b[0m         \u001b[0;34m\"\"\"Return a nice text document describing the traceback.\"\"\"\u001b[0m\u001b[0;34m\u001b[0m\u001b[0;34m\u001b[0m\u001b[0m\n\u001b[1;32m   1123\u001b[0m \u001b[0;34m\u001b[0m\u001b[0m\n\u001b[0;32m-> 1124\u001b[0;31m         formatted_exception = self.format_exception_as_a_whole(etype, evalue, etb, number_of_lines_of_context,\n\u001b[0m\u001b[1;32m   1125\u001b[0m                                                                tb_offset)\n\u001b[1;32m   1126\u001b[0m \u001b[0;34m\u001b[0m\u001b[0m\n",
      "\u001b[0;32m~/opt/anaconda3/lib/python3.9/site-packages/IPython/core/ultratb.py\u001b[0m in \u001b[0;36mformat_exception_as_a_whole\u001b[0;34m(self, etype, evalue, etb, number_of_lines_of_context, tb_offset)\u001b[0m\n\u001b[1;32m   1080\u001b[0m \u001b[0;34m\u001b[0m\u001b[0m\n\u001b[1;32m   1081\u001b[0m \u001b[0;34m\u001b[0m\u001b[0m\n\u001b[0;32m-> 1082\u001b[0;31m         \u001b[0mlast_unique\u001b[0m\u001b[0;34m,\u001b[0m \u001b[0mrecursion_repeat\u001b[0m \u001b[0;34m=\u001b[0m \u001b[0mfind_recursion\u001b[0m\u001b[0;34m(\u001b[0m\u001b[0morig_etype\u001b[0m\u001b[0;34m,\u001b[0m \u001b[0mevalue\u001b[0m\u001b[0;34m,\u001b[0m \u001b[0mrecords\u001b[0m\u001b[0;34m)\u001b[0m\u001b[0;34m\u001b[0m\u001b[0;34m\u001b[0m\u001b[0m\n\u001b[0m\u001b[1;32m   1083\u001b[0m \u001b[0;34m\u001b[0m\u001b[0m\n\u001b[1;32m   1084\u001b[0m         \u001b[0mframes\u001b[0m \u001b[0;34m=\u001b[0m \u001b[0mself\u001b[0m\u001b[0;34m.\u001b[0m\u001b[0mformat_records\u001b[0m\u001b[0;34m(\u001b[0m\u001b[0mrecords\u001b[0m\u001b[0;34m,\u001b[0m \u001b[0mlast_unique\u001b[0m\u001b[0;34m,\u001b[0m \u001b[0mrecursion_repeat\u001b[0m\u001b[0;34m)\u001b[0m\u001b[0;34m\u001b[0m\u001b[0;34m\u001b[0m\u001b[0m\n",
      "\u001b[0;32m~/opt/anaconda3/lib/python3.9/site-packages/IPython/core/ultratb.py\u001b[0m in \u001b[0;36mfind_recursion\u001b[0;34m(etype, value, records)\u001b[0m\n\u001b[1;32m    380\u001b[0m     \u001b[0;31m# first frame (from in to out) that looks different.\u001b[0m\u001b[0;34m\u001b[0m\u001b[0;34m\u001b[0m\u001b[0m\n\u001b[1;32m    381\u001b[0m     \u001b[0;32mif\u001b[0m \u001b[0;32mnot\u001b[0m \u001b[0mis_recursion_error\u001b[0m\u001b[0;34m(\u001b[0m\u001b[0metype\u001b[0m\u001b[0;34m,\u001b[0m \u001b[0mvalue\u001b[0m\u001b[0;34m,\u001b[0m \u001b[0mrecords\u001b[0m\u001b[0;34m)\u001b[0m\u001b[0;34m:\u001b[0m\u001b[0;34m\u001b[0m\u001b[0;34m\u001b[0m\u001b[0m\n\u001b[0;32m--> 382\u001b[0;31m         \u001b[0;32mreturn\u001b[0m \u001b[0mlen\u001b[0m\u001b[0;34m(\u001b[0m\u001b[0mrecords\u001b[0m\u001b[0;34m)\u001b[0m\u001b[0;34m,\u001b[0m \u001b[0;36m0\u001b[0m\u001b[0;34m\u001b[0m\u001b[0;34m\u001b[0m\u001b[0m\n\u001b[0m\u001b[1;32m    383\u001b[0m \u001b[0;34m\u001b[0m\u001b[0m\n\u001b[1;32m    384\u001b[0m     \u001b[0;31m# Select filename, lineno, func_name to track frames with\u001b[0m\u001b[0;34m\u001b[0m\u001b[0;34m\u001b[0m\u001b[0m\n",
      "\u001b[0;31mTypeError\u001b[0m: object of type 'NoneType' has no len()"
     ]
    },
    {
     "name": "stdout",
     "output_type": "stream",
     "text": [
      "[[[[[[[["
     ]
    }
   ],
   "source": [
    "if do_params:\n",
    "    pool = Pool(processes=number_of_processes)\n",
    "    result = pool.map_async(func, do_params)\n",
    "    print(result.get())"
   ]
  },
  {
   "cell_type": "markdown",
   "id": "f73bbac5-427f-4341-87a0-9b690f1ca468",
   "metadata": {},
   "source": [
    "## Contrast with Mask"
   ]
  },
  {
   "cell_type": "code",
   "execution_count": null,
   "id": "9ab12417-0b51-4c6f-87c0-ebfdc14be68d",
   "metadata": {},
   "outputs": [],
   "source": [
    "func=run_one_continuous_mask_jitter\n",
    "\n",
    "\n",
    "contrast_mat=linspace(0,1,11)\n",
    "mask_mat=array([0,1])\n",
    "f_mat=array([10,30,50,70,90])\n",
    "\n",
    "\n",
    "all_params=[]\n",
    "for c,contrast in enumerate(contrast_mat):\n",
    "    for fi,f in enumerate(f_mat):\n",
    "        sfname=base+f'/continuous contrast {number_of_neurons} neurons contrast {contrast:.1f} mask f {f}.asdf'\n",
    "\n",
    "        p=Struct()\n",
    "        p.eta=eta\n",
    "        p.number_of_neurons=number_of_neurons\n",
    "        p.sfname=sfname\n",
    "\n",
    "        p.contrast=contrast\n",
    "        p.mask=1\n",
    "        p.f=f # not used when mask=0\n",
    "        p.mu_c=7.5\n",
    "        p.sigma_c=2\n",
    "\n",
    "        all_params+=[p]\n",
    "\n",
    "all_params=to_named_tuple(all_params)  \n",
    "do_params=make_do_params(all_params,verbose=True)"
   ]
  },
  {
   "cell_type": "code",
   "execution_count": null,
   "id": "ddcb93ea-d5d0-4526-a5fa-9b079becff4f",
   "metadata": {},
   "outputs": [],
   "source": [
    "if do_params:\n",
    "    pool = Pool(processes=number_of_processes)\n",
    "    result = pool.map_async(func, do_params)\n",
    "    print(result.get())"
   ]
  },
  {
   "cell_type": "code",
   "execution_count": null,
   "id": "c79b0033-0ef3-45ef-9cdc-573a2c6e91ee",
   "metadata": {},
   "outputs": [],
   "source": []
  }
 ],
 "metadata": {
  "kernelspec": {
   "display_name": "Python 3 (ipykernel)",
   "language": "python",
   "name": "python3"
  },
  "language_info": {
   "codemirror_mode": {
    "name": "ipython",
    "version": 3
   },
   "file_extension": ".py",
   "mimetype": "text/x-python",
   "name": "python",
   "nbconvert_exporter": "python",
   "pygments_lexer": "ipython3",
   "version": "3.9.13"
  }
 },
 "nbformat": 4,
 "nbformat_minor": 5
}
